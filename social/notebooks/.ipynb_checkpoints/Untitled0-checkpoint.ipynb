{
 "metadata": {
  "name": "",
  "signature": "sha256:bb5ac638fa1fd7136392d8c5f5d687c9ab461bb98bd66125b263d63c58847cdf"
 },
 "nbformat": 3,
 "nbformat_minor": 0,
 "worksheets": []
}