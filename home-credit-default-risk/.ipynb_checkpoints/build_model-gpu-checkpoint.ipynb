{
 "cells": [
  {
   "cell_type": "markdown",
   "metadata": {},
   "source": [
    "#### %env JOBLIB_TEMP_FOLDER=/vol2/tmp"
   ]
  },
  {
   "cell_type": "code",
   "execution_count": 570,
   "metadata": {},
   "outputs": [],
   "source": [
    "from sklearn.model_selection import cross_val_score, StratifiedKFold"
   ]
  },
  {
   "cell_type": "code",
   "execution_count": null,
   "metadata": {},
   "outputs": [],
   "source": []
  },
  {
   "cell_type": "code",
   "execution_count": 502,
   "metadata": {},
   "outputs": [],
   "source": [
    "import warnings"
   ]
  },
  {
   "cell_type": "code",
   "execution_count": 543,
   "metadata": {},
   "outputs": [
    {
     "data": {
      "text/plain": [
       "<module 'ml_classes' from '/projects/kaggle/home-credit-default-risk/ml_classes.py'>"
      ]
     },
     "execution_count": 543,
     "metadata": {},
     "output_type": "execute_result"
    }
   ],
   "source": [
    "reload(ml_classes)"
   ]
  },
  {
   "cell_type": "code",
   "execution_count": 544,
   "metadata": {},
   "outputs": [],
   "source": [
    "from ml_classes import Model, Dataset"
   ]
  },
  {
   "cell_type": "code",
   "execution_count": 505,
   "metadata": {},
   "outputs": [
    {
     "name": "stdout",
     "output_type": "stream",
     "text": [
      "...creating training matrix\n",
      "...creating test matrix\n"
     ]
    }
   ],
   "source": [
    "D1= Dataset(df, df_test)"
   ]
  },
  {
   "cell_type": "code",
   "execution_count": null,
   "metadata": {},
   "outputs": [],
   "source": [
    "m5 = Model('Initial LGBM', \n",
    "           '1 round of feature selection. looser outlier detection')\n",
    "m5.define_model(Pipeline([('outlier_detection', FunctionTransformer(func = lambda data: np.apply_along_axis(null_outliers , 0, data, **{'m':3}), validate=False)),\n",
    "                          ('clf', clf)]))\n",
    "m5.validate_model(X_reduced, y)"
   ]
  },
  {
   "cell_type": "code",
   "execution_count": 506,
   "metadata": {},
   "outputs": [],
   "source": [
    "init_params = {'boosting_type': 'gbdt',\n",
    "          'max_depth' : -1,\n",
    "          'objective': 'binary',\n",
    "          'learning_rate': 0.0212,\n",
    "          'reg_alpha': 0.8,\n",
    "          'reg_lambda': 0.4,\n",
    "          'subsample': 1,\n",
    "          'feature_fraction': 0.3,\n",
    "          'device_type': 'gpu',\n",
    "          'metric' : 'auc',\n",
    "          'random_state': 123,\n",
    "          'n_estimators': 1313, \n",
    "          'num_leaves': 40, \n",
    "          'max_bin': 255,\n",
    "          'min_data_in_leaf': 2400,\n",
    "          'min_data_in_bin': 5}\n",
    "\n",
    "D1.ae_train_model(LGBMClassifier(**init_params))"
   ]
  },
  {
   "cell_type": "code",
   "execution_count": null,
   "metadata": {},
   "outputs": [],
   "source": [
    "warnings.filterwarnings('ignore')\n",
    "D1.autoengineer_ratios(n_iter = 10000)"
   ]
  },
  {
   "cell_type": "code",
   "execution_count": null,
   "metadata": {},
   "outputs": [],
   "source": []
  },
  {
   "cell_type": "code",
   "execution_count": 524,
   "metadata": {},
   "outputs": [],
   "source": [
    "ratios = pd.DataFrame(D1.ae_discovery_ratios) \\\n",
    "    .sort_values(2, axis = 0, ascending = False) \\\n",
    "    .rename(columns = {0: 'num', 1: 'den', 2: 'improvement'})"
   ]
  },
  {
   "cell_type": "code",
   "execution_count": 540,
   "metadata": {},
   "outputs": [],
   "source": [
    "def create_ratios(X, ratios, thresh = 1.005):\n",
    "    ratios_selected = ratios.loc[ratios.improvement >= thresh]\n",
    "    print(str(len(ratios_selected)) + ' ratios created')\n",
    "    for x in ratios_selected.iterrows():\n",
    "        X[x[1][0] + '___' + x[1][1]] = X[x[1][0]] / X[x[1][1]]\n",
    "    return(X)\n",
    "    "
   ]
  },
  {
   "cell_type": "code",
   "execution_count": 548,
   "metadata": {},
   "outputs": [
    {
     "name": "stdout",
     "output_type": "stream",
     "text": [
      "4 ratios created\n"
     ]
    }
   ],
   "source": [
    "X2 = create_ratios(X_reduced, ratios, 1.01)"
   ]
  },
  {
   "cell_type": "code",
   "execution_count": 590,
   "metadata": {},
   "outputs": [],
   "source": [
    "imported_ratios = pd.read_csv('ratios_1.csv')"
   ]
  },
  {
   "cell_type": "code",
   "execution_count": null,
   "metadata": {},
   "outputs": [],
   "source": [
    "clf"
   ]
  },
  {
   "cell_type": "code",
   "execution_count": 597,
   "metadata": {},
   "outputs": [],
   "source": [
    "all_ratios = ratios.append(imported_ratios).sort_values('improvement', ascending = False)"
   ]
  },
  {
   "cell_type": "code",
   "execution_count": 598,
   "metadata": {},
   "outputs": [
    {
     "name": "stdout",
     "output_type": "stream",
     "text": [
      "8 ratios created\n"
     ]
    }
   ],
   "source": [
    "m6 = Model('Initial LGBM', \n",
    "           '1 round of feature selection. looser outlier detection')\n",
    "m6.define_model(Pipeline([('outlier_detection', FunctionTransformer(func = lambda data: np.apply_along_axis(null_outliers , 0, data, **{'m':3}), validate=False)),\n",
    "                          ('clf', clf)]))\n",
    "m6.validate_model(create_ratios(X_reduced, all_ratios, 1.008), y)"
   ]
  },
  {
   "cell_type": "code",
   "execution_count": 599,
   "metadata": {},
   "outputs": [
    {
     "data": {
      "text/plain": [
       "0.7910721334787747"
      ]
     },
     "execution_count": 599,
     "metadata": {},
     "output_type": "execute_result"
    }
   ],
   "source": [
    "# 1.008, all_ratios\n",
    "m6.validation_scores.mean()"
   ]
  },
  {
   "cell_type": "code",
   "execution_count": 634,
   "metadata": {},
   "outputs": [],
   "source": [
    "X_2 = X.copy()"
   ]
  },
  {
   "cell_type": "code",
   "execution_count": 635,
   "metadata": {},
   "outputs": [],
   "source": [
    "X_test_2 = X_test.copy()"
   ]
  },
  {
   "cell_type": "code",
   "execution_count": 637,
   "metadata": {},
   "outputs": [
    {
     "data": {
      "text/html": [
       "<div>\n",
       "<style scoped>\n",
       "    .dataframe tbody tr th:only-of-type {\n",
       "        vertical-align: middle;\n",
       "    }\n",
       "\n",
       "    .dataframe tbody tr th {\n",
       "        vertical-align: top;\n",
       "    }\n",
       "\n",
       "    .dataframe thead th {\n",
       "        text-align: right;\n",
       "    }\n",
       "</style>\n",
       "<table border=\"1\" class=\"dataframe\">\n",
       "  <thead>\n",
       "    <tr style=\"text-align: right;\">\n",
       "      <th></th>\n",
       "      <th>num</th>\n",
       "      <th>den</th>\n",
       "      <th>improvement</th>\n",
       "    </tr>\n",
       "  </thead>\n",
       "  <tbody>\n",
       "    <tr>\n",
       "      <th>68</th>\n",
       "      <td>AMT_ANNUITY</td>\n",
       "      <td>AMT_GOODS_PRICE</td>\n",
       "      <td>1.066480</td>\n",
       "    </tr>\n",
       "    <tr>\n",
       "      <th>139</th>\n",
       "      <td>AMT_GOODS_PRICE</td>\n",
       "      <td>AMT_ANNUITY</td>\n",
       "      <td>1.065714</td>\n",
       "    </tr>\n",
       "    <tr>\n",
       "      <th>0</th>\n",
       "      <td>NUM_INSTALMENT_NUMBER_mean</td>\n",
       "      <td>CNT_PAYMENT_max</td>\n",
       "      <td>1.019223</td>\n",
       "    </tr>\n",
       "    <tr>\n",
       "      <th>8</th>\n",
       "      <td>NUM_INSTALMENT_NUMBER_max</td>\n",
       "      <td>CNT_PAYMENT_max</td>\n",
       "      <td>1.013868</td>\n",
       "    </tr>\n",
       "    <tr>\n",
       "      <th>1</th>\n",
       "      <td>CNT_PAYMENT_mean</td>\n",
       "      <td>CNT_INSTALMENT_FUTURE_mean</td>\n",
       "      <td>1.013771</td>\n",
       "    </tr>\n",
       "    <tr>\n",
       "      <th>2</th>\n",
       "      <td>CNT_INSTALMENT_FUTURE_mean</td>\n",
       "      <td>CNT_INSTALMENT_FUTURE_max</td>\n",
       "      <td>1.013319</td>\n",
       "    </tr>\n",
       "    <tr>\n",
       "      <th>23</th>\n",
       "      <td>AMT_PAYMENT_mean</td>\n",
       "      <td>AMT_DRAWINGS_POS_CURRENT_max</td>\n",
       "      <td>1.010076</td>\n",
       "    </tr>\n",
       "    <tr>\n",
       "      <th>3</th>\n",
       "      <td>AMT_INSTALMENT_max</td>\n",
       "      <td>AMT_ANNUITY_mean</td>\n",
       "      <td>1.008313</td>\n",
       "    </tr>\n",
       "    <tr>\n",
       "      <th>4</th>\n",
       "      <td>DAYS_INSTALMENT_max</td>\n",
       "      <td>AMT_CREDIT_LIMIT_ACTUAL_mean</td>\n",
       "      <td>1.007680</td>\n",
       "    </tr>\n",
       "    <tr>\n",
       "      <th>186</th>\n",
       "      <td>CNT_PAYMENT</td>\n",
       "      <td>DAYS_FIRST_DUE_max</td>\n",
       "      <td>1.007655</td>\n",
       "    </tr>\n",
       "  </tbody>\n",
       "</table>\n",
       "</div>"
      ],
      "text/plain": [
       "                            num                           den  improvement\n",
       "68                  AMT_ANNUITY               AMT_GOODS_PRICE     1.066480\n",
       "139             AMT_GOODS_PRICE                   AMT_ANNUITY     1.065714\n",
       "0    NUM_INSTALMENT_NUMBER_mean               CNT_PAYMENT_max     1.019223\n",
       "8     NUM_INSTALMENT_NUMBER_max               CNT_PAYMENT_max     1.013868\n",
       "1              CNT_PAYMENT_mean    CNT_INSTALMENT_FUTURE_mean     1.013771\n",
       "2    CNT_INSTALMENT_FUTURE_mean     CNT_INSTALMENT_FUTURE_max     1.013319\n",
       "23             AMT_PAYMENT_mean  AMT_DRAWINGS_POS_CURRENT_max     1.010076\n",
       "3            AMT_INSTALMENT_max              AMT_ANNUITY_mean     1.008313\n",
       "4           DAYS_INSTALMENT_max  AMT_CREDIT_LIMIT_ACTUAL_mean     1.007680\n",
       "186                 CNT_PAYMENT            DAYS_FIRST_DUE_max     1.007655"
      ]
     },
     "execution_count": 637,
     "metadata": {},
     "output_type": "execute_result"
    }
   ],
   "source": [
    "all_ratios.head(10)"
   ]
  },
  {
   "cell_type": "code",
   "execution_count": null,
   "metadata": {},
   "outputs": [],
   "source": [
    "X.AMT"
   ]
  },
  {
   "cell_type": "code",
   "execution_count": 660,
   "metadata": {},
   "outputs": [],
   "source": [
    "def transform(X, droplist):\n",
    "    X['AMT_CREDIT__AMT_ANNUITY'] = X.AMT_CREDIT/X.AMT_ANNUITY\n",
    "    X['DAYS_ENTRY_PAYMENT__DAYS_DECISION'] = X.DAYS_ENTRY_PAYMENT / X.DAYS_DECISION\n",
    "    X['AMT_ANNUITY__AMT_GOODS_PRICE'] = X.AMT_ANNUITY / X.AMT_GOODS_PRICE\n",
    "    X['NUM_INSTALMENT_NUMBER_mean__CNT_PAYMENT_max'] = X.NUM_INSTALMENT_NUMBER_mean / X.CNT_PAYMENT_max\n",
    "#    X['CNT_PAYMENT_mean__CNT_INSTALMENT_FUTURE_mean'] = X.CNT_PAYMENT_mean / X.CNT_INSTALMENT_FUTURE_mean\n",
    "#    X['AMT_INCOME_TOTAL__CNT_CHILDREN'] = X.AMT_INCOME_TOTAL/X.CNT_CHILDREN\n",
    "    X = X.drop(excluded_features, axis = 1)\n",
    "    return(X)"
   ]
  },
  {
   "cell_type": "code",
   "execution_count": null,
   "metadata": {},
   "outputs": [],
   "source": [
    "m5.validate_model(transform(X, excluded_features), y)"
   ]
  },
  {
   "cell_type": "code",
   "execution_count": null,
   "metadata": {},
   "outputs": [],
   "source": [
    "m5.validation_scores.mean()"
   ]
  },
  {
   "cell_type": "code",
   "execution_count": 653,
   "metadata": {},
   "outputs": [
    {
     "data": {
      "text/plain": [
       "0.7910516652513675"
      ]
     },
     "execution_count": 653,
     "metadata": {},
     "output_type": "execute_result"
    }
   ],
   "source": [
    "m5.validation_scores.mean()"
   ]
  },
  {
   "cell_type": "code",
   "execution_count": 658,
   "metadata": {},
   "outputs": [
    {
     "data": {
      "text/plain": [
       "LGBMClassifier(boosting_type='gbdt', class_weight=None, colsample_bytree=1.0,\n",
       "        device_type='gpu', feature_fraction=0.3, importance_type='split',\n",
       "        learning_rate=0.0212, max_bin=255, max_depth=-1, metric='auc',\n",
       "        min_child_samples=20, min_child_weight=0.001, min_data_in_bin=5,\n",
       "        min_data_in_leaf=2400, min_split_gain=0.0, n_estimators=1500,\n",
       "        n_jobs=-1, num_leaves=40, objective='binary', random_state=123,\n",
       "        reg_alpha=0.8, reg_lambda=0.4, silent=True, subsample=1,\n",
       "        subsample_for_bin=200000, subsample_freq=0)"
      ]
     },
     "execution_count": 658,
     "metadata": {},
     "output_type": "execute_result"
    }
   ],
   "source": [
    "m5.clf.named_steps.clf"
   ]
  },
  {
   "cell_type": "code",
   "execution_count": null,
   "metadata": {},
   "outputs": [],
   "source": [
    "m5.train(transform(X, excluded_features), y)"
   ]
  },
  {
   "cell_type": "code",
   "execution_count": null,
   "metadata": {},
   "outputs": [],
   "source": [
    "y_hat = [x[1] for x in m5.clf.predict_proba(transform(X_test, excluded_features))]\n",
    "submission = pd.DataFrame()\n",
    "submission['SK_ID_CURR'] = df_test.SK_ID_CURR\n",
    "submission['TARGET'] = pd.Series(y_hat)\n",
    "#submission.to_csv('/vol2/competitions/home-credit-default-risk/submissions/submission_10.csv', index = False)\n",
    "submission.to_csv('submission_15.csv', index = False)"
   ]
  },
  {
   "cell_type": "code",
   "execution_count": 600,
   "metadata": {},
   "outputs": [],
   "source": [
    "from sklearn.ensemble import RandomForestClassifier"
   ]
  },
  {
   "cell_type": "code",
   "execution_count": 622,
   "metadata": {},
   "outputs": [],
   "source": [
    "m7 = Model('RF', 'simple rf')\n",
    "m7.define_model(Pipeline([('outlier_detection', FunctionTransformer(func = lambda data: np.apply_along_axis(null_outliers, 0, data, **{'m':3}), validate = False)),\n",
    "                          ('impute', Imputer()),\n",
    "                          ('clf', RandomForestClassifier())]))"
   ]
  },
  {
   "cell_type": "code",
   "execution_count": null,
   "metadata": {},
   "outputs": [],
   "source": [
    "m7.validate_model(create_ratios(X_reduced, all_ratios, 1.008), y)"
   ]
  },
  {
   "cell_type": "code",
   "execution_count": 624,
   "metadata": {},
   "outputs": [],
   "source": [
    "rf_model = Pipeline([('impute', Imputer()),\n",
    "                     ('clf', RandomForestClassifier(n_jobs = 4, random_state=123))])\n",
    "\n",
    "gs_rf = GridSearchCV(rf_model, param_grid = {'clf__n_estimators': [10, 50, 100, 250]}, cv = kfold, scoring= 'roc_auc')"
   ]
  },
  {
   "cell_type": "code",
   "execution_count": 625,
   "metadata": {},
   "outputs": [
    {
     "name": "stdout",
     "output_type": "stream",
     "text": [
      "8 ratios created\n"
     ]
    },
    {
     "ename": "KeyboardInterrupt",
     "evalue": "",
     "output_type": "error",
     "traceback": [
      "\u001b[0;31m\u001b[0m",
      "\u001b[0;31mKeyboardInterrupt\u001b[0mTraceback (most recent call last)",
      "\u001b[0;32m<ipython-input-625-45c7e78fdc4c>\u001b[0m in \u001b[0;36m<module>\u001b[0;34m()\u001b[0m\n\u001b[0;32m----> 1\u001b[0;31m \u001b[0mgs_rf\u001b[0m\u001b[0;34m.\u001b[0m\u001b[0mfit\u001b[0m\u001b[0;34m(\u001b[0m\u001b[0mcreate_ratios\u001b[0m\u001b[0;34m(\u001b[0m\u001b[0mX_reduced\u001b[0m\u001b[0;34m,\u001b[0m \u001b[0mall_ratios\u001b[0m\u001b[0;34m,\u001b[0m \u001b[0;36m1.008\u001b[0m\u001b[0;34m)\u001b[0m\u001b[0;34m,\u001b[0m \u001b[0my\u001b[0m\u001b[0;34m)\u001b[0m\u001b[0;34m\u001b[0m\u001b[0m\n\u001b[0m",
      "\u001b[0;32m~/anaconda3/lib/python3.6/site-packages/sklearn/model_selection/_search.py\u001b[0m in \u001b[0;36mfit\u001b[0;34m(self, X, y, groups, **fit_params)\u001b[0m\n\u001b[1;32m    637\u001b[0m                                   error_score=self.error_score)\n\u001b[1;32m    638\u001b[0m           for parameters, (train, test) in product(candidate_params,\n\u001b[0;32m--> 639\u001b[0;31m                                                    cv.split(X, y, groups)))\n\u001b[0m\u001b[1;32m    640\u001b[0m \u001b[0;34m\u001b[0m\u001b[0m\n\u001b[1;32m    641\u001b[0m         \u001b[0;31m# if one choose to see train score, \"out\" will contain train score info\u001b[0m\u001b[0;34m\u001b[0m\u001b[0;34m\u001b[0m\u001b[0m\n",
      "\u001b[0;32m~/anaconda3/lib/python3.6/site-packages/sklearn/externals/joblib/parallel.py\u001b[0m in \u001b[0;36m__call__\u001b[0;34m(self, iterable)\u001b[0m\n\u001b[1;32m    777\u001b[0m             \u001b[0;31m# was dispatched. In particular this covers the edge\u001b[0m\u001b[0;34m\u001b[0m\u001b[0;34m\u001b[0m\u001b[0m\n\u001b[1;32m    778\u001b[0m             \u001b[0;31m# case of Parallel used with an exhausted iterator.\u001b[0m\u001b[0;34m\u001b[0m\u001b[0;34m\u001b[0m\u001b[0m\n\u001b[0;32m--> 779\u001b[0;31m             \u001b[0;32mwhile\u001b[0m \u001b[0mself\u001b[0m\u001b[0;34m.\u001b[0m\u001b[0mdispatch_one_batch\u001b[0m\u001b[0;34m(\u001b[0m\u001b[0miterator\u001b[0m\u001b[0;34m)\u001b[0m\u001b[0;34m:\u001b[0m\u001b[0;34m\u001b[0m\u001b[0m\n\u001b[0m\u001b[1;32m    780\u001b[0m                 \u001b[0mself\u001b[0m\u001b[0;34m.\u001b[0m\u001b[0m_iterating\u001b[0m \u001b[0;34m=\u001b[0m \u001b[0;32mTrue\u001b[0m\u001b[0;34m\u001b[0m\u001b[0m\n\u001b[1;32m    781\u001b[0m             \u001b[0;32melse\u001b[0m\u001b[0;34m:\u001b[0m\u001b[0;34m\u001b[0m\u001b[0m\n",
      "\u001b[0;32m~/anaconda3/lib/python3.6/site-packages/sklearn/externals/joblib/parallel.py\u001b[0m in \u001b[0;36mdispatch_one_batch\u001b[0;34m(self, iterator)\u001b[0m\n\u001b[1;32m    623\u001b[0m                 \u001b[0;32mreturn\u001b[0m \u001b[0;32mFalse\u001b[0m\u001b[0;34m\u001b[0m\u001b[0m\n\u001b[1;32m    624\u001b[0m             \u001b[0;32melse\u001b[0m\u001b[0;34m:\u001b[0m\u001b[0;34m\u001b[0m\u001b[0m\n\u001b[0;32m--> 625\u001b[0;31m                 \u001b[0mself\u001b[0m\u001b[0;34m.\u001b[0m\u001b[0m_dispatch\u001b[0m\u001b[0;34m(\u001b[0m\u001b[0mtasks\u001b[0m\u001b[0;34m)\u001b[0m\u001b[0;34m\u001b[0m\u001b[0m\n\u001b[0m\u001b[1;32m    626\u001b[0m                 \u001b[0;32mreturn\u001b[0m \u001b[0;32mTrue\u001b[0m\u001b[0;34m\u001b[0m\u001b[0m\n\u001b[1;32m    627\u001b[0m \u001b[0;34m\u001b[0m\u001b[0m\n",
      "\u001b[0;32m~/anaconda3/lib/python3.6/site-packages/sklearn/externals/joblib/parallel.py\u001b[0m in \u001b[0;36m_dispatch\u001b[0;34m(self, batch)\u001b[0m\n\u001b[1;32m    586\u001b[0m         \u001b[0mdispatch_timestamp\u001b[0m \u001b[0;34m=\u001b[0m \u001b[0mtime\u001b[0m\u001b[0;34m.\u001b[0m\u001b[0mtime\u001b[0m\u001b[0;34m(\u001b[0m\u001b[0;34m)\u001b[0m\u001b[0;34m\u001b[0m\u001b[0m\n\u001b[1;32m    587\u001b[0m         \u001b[0mcb\u001b[0m \u001b[0;34m=\u001b[0m \u001b[0mBatchCompletionCallBack\u001b[0m\u001b[0;34m(\u001b[0m\u001b[0mdispatch_timestamp\u001b[0m\u001b[0;34m,\u001b[0m \u001b[0mlen\u001b[0m\u001b[0;34m(\u001b[0m\u001b[0mbatch\u001b[0m\u001b[0;34m)\u001b[0m\u001b[0;34m,\u001b[0m \u001b[0mself\u001b[0m\u001b[0;34m)\u001b[0m\u001b[0;34m\u001b[0m\u001b[0m\n\u001b[0;32m--> 588\u001b[0;31m         \u001b[0mjob\u001b[0m \u001b[0;34m=\u001b[0m \u001b[0mself\u001b[0m\u001b[0;34m.\u001b[0m\u001b[0m_backend\u001b[0m\u001b[0;34m.\u001b[0m\u001b[0mapply_async\u001b[0m\u001b[0;34m(\u001b[0m\u001b[0mbatch\u001b[0m\u001b[0;34m,\u001b[0m \u001b[0mcallback\u001b[0m\u001b[0;34m=\u001b[0m\u001b[0mcb\u001b[0m\u001b[0;34m)\u001b[0m\u001b[0;34m\u001b[0m\u001b[0m\n\u001b[0m\u001b[1;32m    589\u001b[0m         \u001b[0mself\u001b[0m\u001b[0;34m.\u001b[0m\u001b[0m_jobs\u001b[0m\u001b[0;34m.\u001b[0m\u001b[0mappend\u001b[0m\u001b[0;34m(\u001b[0m\u001b[0mjob\u001b[0m\u001b[0;34m)\u001b[0m\u001b[0;34m\u001b[0m\u001b[0m\n\u001b[1;32m    590\u001b[0m \u001b[0;34m\u001b[0m\u001b[0m\n",
      "\u001b[0;32m~/anaconda3/lib/python3.6/site-packages/sklearn/externals/joblib/_parallel_backends.py\u001b[0m in \u001b[0;36mapply_async\u001b[0;34m(self, func, callback)\u001b[0m\n\u001b[1;32m    109\u001b[0m     \u001b[0;32mdef\u001b[0m \u001b[0mapply_async\u001b[0m\u001b[0;34m(\u001b[0m\u001b[0mself\u001b[0m\u001b[0;34m,\u001b[0m \u001b[0mfunc\u001b[0m\u001b[0;34m,\u001b[0m \u001b[0mcallback\u001b[0m\u001b[0;34m=\u001b[0m\u001b[0;32mNone\u001b[0m\u001b[0;34m)\u001b[0m\u001b[0;34m:\u001b[0m\u001b[0;34m\u001b[0m\u001b[0m\n\u001b[1;32m    110\u001b[0m         \u001b[0;34m\"\"\"Schedule a func to be run\"\"\"\u001b[0m\u001b[0;34m\u001b[0m\u001b[0m\n\u001b[0;32m--> 111\u001b[0;31m         \u001b[0mresult\u001b[0m \u001b[0;34m=\u001b[0m \u001b[0mImmediateResult\u001b[0m\u001b[0;34m(\u001b[0m\u001b[0mfunc\u001b[0m\u001b[0;34m)\u001b[0m\u001b[0;34m\u001b[0m\u001b[0m\n\u001b[0m\u001b[1;32m    112\u001b[0m         \u001b[0;32mif\u001b[0m \u001b[0mcallback\u001b[0m\u001b[0;34m:\u001b[0m\u001b[0;34m\u001b[0m\u001b[0m\n\u001b[1;32m    113\u001b[0m             \u001b[0mcallback\u001b[0m\u001b[0;34m(\u001b[0m\u001b[0mresult\u001b[0m\u001b[0;34m)\u001b[0m\u001b[0;34m\u001b[0m\u001b[0m\n",
      "\u001b[0;32m~/anaconda3/lib/python3.6/site-packages/sklearn/externals/joblib/_parallel_backends.py\u001b[0m in \u001b[0;36m__init__\u001b[0;34m(self, batch)\u001b[0m\n\u001b[1;32m    330\u001b[0m         \u001b[0;31m# Don't delay the application, to avoid keeping the input\u001b[0m\u001b[0;34m\u001b[0m\u001b[0;34m\u001b[0m\u001b[0m\n\u001b[1;32m    331\u001b[0m         \u001b[0;31m# arguments in memory\u001b[0m\u001b[0;34m\u001b[0m\u001b[0;34m\u001b[0m\u001b[0m\n\u001b[0;32m--> 332\u001b[0;31m         \u001b[0mself\u001b[0m\u001b[0;34m.\u001b[0m\u001b[0mresults\u001b[0m \u001b[0;34m=\u001b[0m \u001b[0mbatch\u001b[0m\u001b[0;34m(\u001b[0m\u001b[0;34m)\u001b[0m\u001b[0;34m\u001b[0m\u001b[0m\n\u001b[0m\u001b[1;32m    333\u001b[0m \u001b[0;34m\u001b[0m\u001b[0m\n\u001b[1;32m    334\u001b[0m     \u001b[0;32mdef\u001b[0m \u001b[0mget\u001b[0m\u001b[0;34m(\u001b[0m\u001b[0mself\u001b[0m\u001b[0;34m)\u001b[0m\u001b[0;34m:\u001b[0m\u001b[0;34m\u001b[0m\u001b[0m\n",
      "\u001b[0;32m~/anaconda3/lib/python3.6/site-packages/sklearn/externals/joblib/parallel.py\u001b[0m in \u001b[0;36m__call__\u001b[0;34m(self)\u001b[0m\n\u001b[1;32m    129\u001b[0m \u001b[0;34m\u001b[0m\u001b[0m\n\u001b[1;32m    130\u001b[0m     \u001b[0;32mdef\u001b[0m \u001b[0m__call__\u001b[0m\u001b[0;34m(\u001b[0m\u001b[0mself\u001b[0m\u001b[0;34m)\u001b[0m\u001b[0;34m:\u001b[0m\u001b[0;34m\u001b[0m\u001b[0m\n\u001b[0;32m--> 131\u001b[0;31m         \u001b[0;32mreturn\u001b[0m \u001b[0;34m[\u001b[0m\u001b[0mfunc\u001b[0m\u001b[0;34m(\u001b[0m\u001b[0;34m*\u001b[0m\u001b[0margs\u001b[0m\u001b[0;34m,\u001b[0m \u001b[0;34m**\u001b[0m\u001b[0mkwargs\u001b[0m\u001b[0;34m)\u001b[0m \u001b[0;32mfor\u001b[0m \u001b[0mfunc\u001b[0m\u001b[0;34m,\u001b[0m \u001b[0margs\u001b[0m\u001b[0;34m,\u001b[0m \u001b[0mkwargs\u001b[0m \u001b[0;32min\u001b[0m \u001b[0mself\u001b[0m\u001b[0;34m.\u001b[0m\u001b[0mitems\u001b[0m\u001b[0;34m]\u001b[0m\u001b[0;34m\u001b[0m\u001b[0m\n\u001b[0m\u001b[1;32m    132\u001b[0m \u001b[0;34m\u001b[0m\u001b[0m\n\u001b[1;32m    133\u001b[0m     \u001b[0;32mdef\u001b[0m \u001b[0m__len__\u001b[0m\u001b[0;34m(\u001b[0m\u001b[0mself\u001b[0m\u001b[0;34m)\u001b[0m\u001b[0;34m:\u001b[0m\u001b[0;34m\u001b[0m\u001b[0m\n",
      "\u001b[0;32m~/anaconda3/lib/python3.6/site-packages/sklearn/externals/joblib/parallel.py\u001b[0m in \u001b[0;36m<listcomp>\u001b[0;34m(.0)\u001b[0m\n\u001b[1;32m    129\u001b[0m \u001b[0;34m\u001b[0m\u001b[0m\n\u001b[1;32m    130\u001b[0m     \u001b[0;32mdef\u001b[0m \u001b[0m__call__\u001b[0m\u001b[0;34m(\u001b[0m\u001b[0mself\u001b[0m\u001b[0;34m)\u001b[0m\u001b[0;34m:\u001b[0m\u001b[0;34m\u001b[0m\u001b[0m\n\u001b[0;32m--> 131\u001b[0;31m         \u001b[0;32mreturn\u001b[0m \u001b[0;34m[\u001b[0m\u001b[0mfunc\u001b[0m\u001b[0;34m(\u001b[0m\u001b[0;34m*\u001b[0m\u001b[0margs\u001b[0m\u001b[0;34m,\u001b[0m \u001b[0;34m**\u001b[0m\u001b[0mkwargs\u001b[0m\u001b[0;34m)\u001b[0m \u001b[0;32mfor\u001b[0m \u001b[0mfunc\u001b[0m\u001b[0;34m,\u001b[0m \u001b[0margs\u001b[0m\u001b[0;34m,\u001b[0m \u001b[0mkwargs\u001b[0m \u001b[0;32min\u001b[0m \u001b[0mself\u001b[0m\u001b[0;34m.\u001b[0m\u001b[0mitems\u001b[0m\u001b[0;34m]\u001b[0m\u001b[0;34m\u001b[0m\u001b[0m\n\u001b[0m\u001b[1;32m    132\u001b[0m \u001b[0;34m\u001b[0m\u001b[0m\n\u001b[1;32m    133\u001b[0m     \u001b[0;32mdef\u001b[0m \u001b[0m__len__\u001b[0m\u001b[0;34m(\u001b[0m\u001b[0mself\u001b[0m\u001b[0;34m)\u001b[0m\u001b[0;34m:\u001b[0m\u001b[0;34m\u001b[0m\u001b[0m\n",
      "\u001b[0;32m~/anaconda3/lib/python3.6/site-packages/sklearn/model_selection/_validation.py\u001b[0m in \u001b[0;36m_fit_and_score\u001b[0;34m(estimator, X, y, scorer, train, test, verbose, parameters, fit_params, return_train_score, return_parameters, return_n_test_samples, return_times, error_score)\u001b[0m\n\u001b[1;32m    456\u001b[0m             \u001b[0mestimator\u001b[0m\u001b[0;34m.\u001b[0m\u001b[0mfit\u001b[0m\u001b[0;34m(\u001b[0m\u001b[0mX_train\u001b[0m\u001b[0;34m,\u001b[0m \u001b[0;34m**\u001b[0m\u001b[0mfit_params\u001b[0m\u001b[0;34m)\u001b[0m\u001b[0;34m\u001b[0m\u001b[0m\n\u001b[1;32m    457\u001b[0m         \u001b[0;32melse\u001b[0m\u001b[0;34m:\u001b[0m\u001b[0;34m\u001b[0m\u001b[0m\n\u001b[0;32m--> 458\u001b[0;31m             \u001b[0mestimator\u001b[0m\u001b[0;34m.\u001b[0m\u001b[0mfit\u001b[0m\u001b[0;34m(\u001b[0m\u001b[0mX_train\u001b[0m\u001b[0;34m,\u001b[0m \u001b[0my_train\u001b[0m\u001b[0;34m,\u001b[0m \u001b[0;34m**\u001b[0m\u001b[0mfit_params\u001b[0m\u001b[0;34m)\u001b[0m\u001b[0;34m\u001b[0m\u001b[0m\n\u001b[0m\u001b[1;32m    459\u001b[0m \u001b[0;34m\u001b[0m\u001b[0m\n\u001b[1;32m    460\u001b[0m     \u001b[0;32mexcept\u001b[0m \u001b[0mException\u001b[0m \u001b[0;32mas\u001b[0m \u001b[0me\u001b[0m\u001b[0;34m:\u001b[0m\u001b[0;34m\u001b[0m\u001b[0m\n",
      "\u001b[0;32m~/anaconda3/lib/python3.6/site-packages/sklearn/pipeline.py\u001b[0m in \u001b[0;36mfit\u001b[0;34m(self, X, y, **fit_params)\u001b[0m\n\u001b[1;32m    248\u001b[0m         \u001b[0mXt\u001b[0m\u001b[0;34m,\u001b[0m \u001b[0mfit_params\u001b[0m \u001b[0;34m=\u001b[0m \u001b[0mself\u001b[0m\u001b[0;34m.\u001b[0m\u001b[0m_fit\u001b[0m\u001b[0;34m(\u001b[0m\u001b[0mX\u001b[0m\u001b[0;34m,\u001b[0m \u001b[0my\u001b[0m\u001b[0;34m,\u001b[0m \u001b[0;34m**\u001b[0m\u001b[0mfit_params\u001b[0m\u001b[0;34m)\u001b[0m\u001b[0;34m\u001b[0m\u001b[0m\n\u001b[1;32m    249\u001b[0m         \u001b[0;32mif\u001b[0m \u001b[0mself\u001b[0m\u001b[0;34m.\u001b[0m\u001b[0m_final_estimator\u001b[0m \u001b[0;32mis\u001b[0m \u001b[0;32mnot\u001b[0m \u001b[0;32mNone\u001b[0m\u001b[0;34m:\u001b[0m\u001b[0;34m\u001b[0m\u001b[0m\n\u001b[0;32m--> 250\u001b[0;31m             \u001b[0mself\u001b[0m\u001b[0;34m.\u001b[0m\u001b[0m_final_estimator\u001b[0m\u001b[0;34m.\u001b[0m\u001b[0mfit\u001b[0m\u001b[0;34m(\u001b[0m\u001b[0mXt\u001b[0m\u001b[0;34m,\u001b[0m \u001b[0my\u001b[0m\u001b[0;34m,\u001b[0m \u001b[0;34m**\u001b[0m\u001b[0mfit_params\u001b[0m\u001b[0;34m)\u001b[0m\u001b[0;34m\u001b[0m\u001b[0m\n\u001b[0m\u001b[1;32m    251\u001b[0m         \u001b[0;32mreturn\u001b[0m \u001b[0mself\u001b[0m\u001b[0;34m\u001b[0m\u001b[0m\n\u001b[1;32m    252\u001b[0m \u001b[0;34m\u001b[0m\u001b[0m\n",
      "\u001b[0;32m~/anaconda3/lib/python3.6/site-packages/sklearn/ensemble/forest.py\u001b[0m in \u001b[0;36mfit\u001b[0;34m(self, X, y, sample_weight)\u001b[0m\n\u001b[1;32m    326\u001b[0m                     \u001b[0mt\u001b[0m\u001b[0;34m,\u001b[0m \u001b[0mself\u001b[0m\u001b[0;34m,\u001b[0m \u001b[0mX\u001b[0m\u001b[0;34m,\u001b[0m \u001b[0my\u001b[0m\u001b[0;34m,\u001b[0m \u001b[0msample_weight\u001b[0m\u001b[0;34m,\u001b[0m \u001b[0mi\u001b[0m\u001b[0;34m,\u001b[0m \u001b[0mlen\u001b[0m\u001b[0;34m(\u001b[0m\u001b[0mtrees\u001b[0m\u001b[0;34m)\u001b[0m\u001b[0;34m,\u001b[0m\u001b[0;34m\u001b[0m\u001b[0m\n\u001b[1;32m    327\u001b[0m                     verbose=self.verbose, class_weight=self.class_weight)\n\u001b[0;32m--> 328\u001b[0;31m                 for i, t in enumerate(trees))\n\u001b[0m\u001b[1;32m    329\u001b[0m \u001b[0;34m\u001b[0m\u001b[0m\n\u001b[1;32m    330\u001b[0m             \u001b[0;31m# Collect newly grown trees\u001b[0m\u001b[0;34m\u001b[0m\u001b[0;34m\u001b[0m\u001b[0m\n",
      "\u001b[0;32m~/anaconda3/lib/python3.6/site-packages/sklearn/externals/joblib/parallel.py\u001b[0m in \u001b[0;36m__call__\u001b[0;34m(self, iterable)\u001b[0m\n\u001b[1;32m    787\u001b[0m                 \u001b[0;31m# consumption.\u001b[0m\u001b[0;34m\u001b[0m\u001b[0;34m\u001b[0m\u001b[0m\n\u001b[1;32m    788\u001b[0m                 \u001b[0mself\u001b[0m\u001b[0;34m.\u001b[0m\u001b[0m_iterating\u001b[0m \u001b[0;34m=\u001b[0m \u001b[0;32mFalse\u001b[0m\u001b[0;34m\u001b[0m\u001b[0m\n\u001b[0;32m--> 789\u001b[0;31m             \u001b[0mself\u001b[0m\u001b[0;34m.\u001b[0m\u001b[0mretrieve\u001b[0m\u001b[0;34m(\u001b[0m\u001b[0;34m)\u001b[0m\u001b[0;34m\u001b[0m\u001b[0m\n\u001b[0m\u001b[1;32m    790\u001b[0m             \u001b[0;31m# Make sure that we get a last message telling us we are done\u001b[0m\u001b[0;34m\u001b[0m\u001b[0;34m\u001b[0m\u001b[0m\n\u001b[1;32m    791\u001b[0m             \u001b[0melapsed_time\u001b[0m \u001b[0;34m=\u001b[0m \u001b[0mtime\u001b[0m\u001b[0;34m.\u001b[0m\u001b[0mtime\u001b[0m\u001b[0;34m(\u001b[0m\u001b[0;34m)\u001b[0m \u001b[0;34m-\u001b[0m \u001b[0mself\u001b[0m\u001b[0;34m.\u001b[0m\u001b[0m_start_time\u001b[0m\u001b[0;34m\u001b[0m\u001b[0m\n",
      "\u001b[0;32m~/anaconda3/lib/python3.6/site-packages/sklearn/externals/joblib/parallel.py\u001b[0m in \u001b[0;36mretrieve\u001b[0;34m(self)\u001b[0m\n\u001b[1;32m    697\u001b[0m             \u001b[0;32mtry\u001b[0m\u001b[0;34m:\u001b[0m\u001b[0;34m\u001b[0m\u001b[0m\n\u001b[1;32m    698\u001b[0m                 \u001b[0;32mif\u001b[0m \u001b[0mgetattr\u001b[0m\u001b[0;34m(\u001b[0m\u001b[0mself\u001b[0m\u001b[0;34m.\u001b[0m\u001b[0m_backend\u001b[0m\u001b[0;34m,\u001b[0m \u001b[0;34m'supports_timeout'\u001b[0m\u001b[0;34m,\u001b[0m \u001b[0;32mFalse\u001b[0m\u001b[0;34m)\u001b[0m\u001b[0;34m:\u001b[0m\u001b[0;34m\u001b[0m\u001b[0m\n\u001b[0;32m--> 699\u001b[0;31m                     \u001b[0mself\u001b[0m\u001b[0;34m.\u001b[0m\u001b[0m_output\u001b[0m\u001b[0;34m.\u001b[0m\u001b[0mextend\u001b[0m\u001b[0;34m(\u001b[0m\u001b[0mjob\u001b[0m\u001b[0;34m.\u001b[0m\u001b[0mget\u001b[0m\u001b[0;34m(\u001b[0m\u001b[0mtimeout\u001b[0m\u001b[0;34m=\u001b[0m\u001b[0mself\u001b[0m\u001b[0;34m.\u001b[0m\u001b[0mtimeout\u001b[0m\u001b[0;34m)\u001b[0m\u001b[0;34m)\u001b[0m\u001b[0;34m\u001b[0m\u001b[0m\n\u001b[0m\u001b[1;32m    700\u001b[0m                 \u001b[0;32melse\u001b[0m\u001b[0;34m:\u001b[0m\u001b[0;34m\u001b[0m\u001b[0m\n\u001b[1;32m    701\u001b[0m                     \u001b[0mself\u001b[0m\u001b[0;34m.\u001b[0m\u001b[0m_output\u001b[0m\u001b[0;34m.\u001b[0m\u001b[0mextend\u001b[0m\u001b[0;34m(\u001b[0m\u001b[0mjob\u001b[0m\u001b[0;34m.\u001b[0m\u001b[0mget\u001b[0m\u001b[0;34m(\u001b[0m\u001b[0;34m)\u001b[0m\u001b[0;34m)\u001b[0m\u001b[0;34m\u001b[0m\u001b[0m\n",
      "\u001b[0;32m~/anaconda3/lib/python3.6/multiprocessing/pool.py\u001b[0m in \u001b[0;36mget\u001b[0;34m(self, timeout)\u001b[0m\n\u001b[1;32m    636\u001b[0m \u001b[0;34m\u001b[0m\u001b[0m\n\u001b[1;32m    637\u001b[0m     \u001b[0;32mdef\u001b[0m \u001b[0mget\u001b[0m\u001b[0;34m(\u001b[0m\u001b[0mself\u001b[0m\u001b[0;34m,\u001b[0m \u001b[0mtimeout\u001b[0m\u001b[0;34m=\u001b[0m\u001b[0;32mNone\u001b[0m\u001b[0;34m)\u001b[0m\u001b[0;34m:\u001b[0m\u001b[0;34m\u001b[0m\u001b[0m\n\u001b[0;32m--> 638\u001b[0;31m         \u001b[0mself\u001b[0m\u001b[0;34m.\u001b[0m\u001b[0mwait\u001b[0m\u001b[0;34m(\u001b[0m\u001b[0mtimeout\u001b[0m\u001b[0;34m)\u001b[0m\u001b[0;34m\u001b[0m\u001b[0m\n\u001b[0m\u001b[1;32m    639\u001b[0m         \u001b[0;32mif\u001b[0m \u001b[0;32mnot\u001b[0m \u001b[0mself\u001b[0m\u001b[0;34m.\u001b[0m\u001b[0mready\u001b[0m\u001b[0;34m(\u001b[0m\u001b[0;34m)\u001b[0m\u001b[0;34m:\u001b[0m\u001b[0;34m\u001b[0m\u001b[0m\n\u001b[1;32m    640\u001b[0m             \u001b[0;32mraise\u001b[0m \u001b[0mTimeoutError\u001b[0m\u001b[0;34m\u001b[0m\u001b[0m\n",
      "\u001b[0;32m~/anaconda3/lib/python3.6/multiprocessing/pool.py\u001b[0m in \u001b[0;36mwait\u001b[0;34m(self, timeout)\u001b[0m\n\u001b[1;32m    633\u001b[0m \u001b[0;34m\u001b[0m\u001b[0m\n\u001b[1;32m    634\u001b[0m     \u001b[0;32mdef\u001b[0m \u001b[0mwait\u001b[0m\u001b[0;34m(\u001b[0m\u001b[0mself\u001b[0m\u001b[0;34m,\u001b[0m \u001b[0mtimeout\u001b[0m\u001b[0;34m=\u001b[0m\u001b[0;32mNone\u001b[0m\u001b[0;34m)\u001b[0m\u001b[0;34m:\u001b[0m\u001b[0;34m\u001b[0m\u001b[0m\n\u001b[0;32m--> 635\u001b[0;31m         \u001b[0mself\u001b[0m\u001b[0;34m.\u001b[0m\u001b[0m_event\u001b[0m\u001b[0;34m.\u001b[0m\u001b[0mwait\u001b[0m\u001b[0;34m(\u001b[0m\u001b[0mtimeout\u001b[0m\u001b[0;34m)\u001b[0m\u001b[0;34m\u001b[0m\u001b[0m\n\u001b[0m\u001b[1;32m    636\u001b[0m \u001b[0;34m\u001b[0m\u001b[0m\n\u001b[1;32m    637\u001b[0m     \u001b[0;32mdef\u001b[0m \u001b[0mget\u001b[0m\u001b[0;34m(\u001b[0m\u001b[0mself\u001b[0m\u001b[0;34m,\u001b[0m \u001b[0mtimeout\u001b[0m\u001b[0;34m=\u001b[0m\u001b[0;32mNone\u001b[0m\u001b[0;34m)\u001b[0m\u001b[0;34m:\u001b[0m\u001b[0;34m\u001b[0m\u001b[0m\n",
      "\u001b[0;32m~/anaconda3/lib/python3.6/threading.py\u001b[0m in \u001b[0;36mwait\u001b[0;34m(self, timeout)\u001b[0m\n\u001b[1;32m    549\u001b[0m             \u001b[0msignaled\u001b[0m \u001b[0;34m=\u001b[0m \u001b[0mself\u001b[0m\u001b[0;34m.\u001b[0m\u001b[0m_flag\u001b[0m\u001b[0;34m\u001b[0m\u001b[0m\n\u001b[1;32m    550\u001b[0m             \u001b[0;32mif\u001b[0m \u001b[0;32mnot\u001b[0m \u001b[0msignaled\u001b[0m\u001b[0;34m:\u001b[0m\u001b[0;34m\u001b[0m\u001b[0m\n\u001b[0;32m--> 551\u001b[0;31m                 \u001b[0msignaled\u001b[0m \u001b[0;34m=\u001b[0m \u001b[0mself\u001b[0m\u001b[0;34m.\u001b[0m\u001b[0m_cond\u001b[0m\u001b[0;34m.\u001b[0m\u001b[0mwait\u001b[0m\u001b[0;34m(\u001b[0m\u001b[0mtimeout\u001b[0m\u001b[0;34m)\u001b[0m\u001b[0;34m\u001b[0m\u001b[0m\n\u001b[0m\u001b[1;32m    552\u001b[0m             \u001b[0;32mreturn\u001b[0m \u001b[0msignaled\u001b[0m\u001b[0;34m\u001b[0m\u001b[0m\n\u001b[1;32m    553\u001b[0m \u001b[0;34m\u001b[0m\u001b[0m\n",
      "\u001b[0;32m~/anaconda3/lib/python3.6/threading.py\u001b[0m in \u001b[0;36mwait\u001b[0;34m(self, timeout)\u001b[0m\n\u001b[1;32m    293\u001b[0m         \u001b[0;32mtry\u001b[0m\u001b[0;34m:\u001b[0m    \u001b[0;31m# restore state no matter what (e.g., KeyboardInterrupt)\u001b[0m\u001b[0;34m\u001b[0m\u001b[0m\n\u001b[1;32m    294\u001b[0m             \u001b[0;32mif\u001b[0m \u001b[0mtimeout\u001b[0m \u001b[0;32mis\u001b[0m \u001b[0;32mNone\u001b[0m\u001b[0;34m:\u001b[0m\u001b[0;34m\u001b[0m\u001b[0m\n\u001b[0;32m--> 295\u001b[0;31m                 \u001b[0mwaiter\u001b[0m\u001b[0;34m.\u001b[0m\u001b[0macquire\u001b[0m\u001b[0;34m(\u001b[0m\u001b[0;34m)\u001b[0m\u001b[0;34m\u001b[0m\u001b[0m\n\u001b[0m\u001b[1;32m    296\u001b[0m                 \u001b[0mgotit\u001b[0m \u001b[0;34m=\u001b[0m \u001b[0;32mTrue\u001b[0m\u001b[0;34m\u001b[0m\u001b[0m\n\u001b[1;32m    297\u001b[0m             \u001b[0;32melse\u001b[0m\u001b[0;34m:\u001b[0m\u001b[0;34m\u001b[0m\u001b[0m\n",
      "\u001b[0;31mKeyboardInterrupt\u001b[0m: "
     ]
    }
   ],
   "source": [
    "gs_rf.fit(create_ratios(X_reduced, all_ratios, 1.008), y)"
   ]
  },
  {
   "cell_type": "code",
   "execution_count": null,
   "metadata": {},
   "outputs": [],
   "source": [
    "gs_rf.cv_results_.get('mean_test_score')"
   ]
  },
  {
   "cell_type": "code",
   "execution_count": null,
   "metadata": {},
   "outputs": [],
   "source": [
    "from ml_extend import StackingClassifier"
   ]
  },
  {
   "cell_type": "code",
   "execution_count": null,
   "metadata": {},
   "outputs": [],
   "source": [
    "m_stacked = StackingClassifier(classifiers = [m1, m2, m3, m4, m5],\n",
    "                               meta_classifier = LogisticRegression(),\n",
    "                               use_probas = True)\n",
    "m_stacked_score = cross_val_score(m_stacked, X = X, y = y, scoring = 'roc_auc', cv = kfold)"
   ]
  },
  {
   "cell_type": "code",
   "execution_count": 556,
   "metadata": {},
   "outputs": [
    {
     "data": {
      "text/plain": [
       "0.7910240732468311"
      ]
     },
     "execution_count": 556,
     "metadata": {},
     "output_type": "execute_result"
    }
   ],
   "source": [
    "m6.validation_scores.mean()"
   ]
  },
  {
   "cell_type": "code",
   "execution_count": 550,
   "metadata": {},
   "outputs": [
    {
     "data": {
      "text/plain": [
       "0.7910141426440085"
      ]
     },
     "execution_count": 550,
     "metadata": {},
     "output_type": "execute_result"
    }
   ],
   "source": [
    "m6.validation_scores.mean()"
   ]
  },
  {
   "cell_type": "code",
   "execution_count": 547,
   "metadata": {},
   "outputs": [
    {
     "data": {
      "text/plain": [
       "0.7909585804725525"
      ]
     },
     "execution_count": 547,
     "metadata": {},
     "output_type": "execute_result"
    }
   ],
   "source": [
    "m6.validation_scores.mean()"
   ]
  },
  {
   "cell_type": "code",
   "execution_count": 583,
   "metadata": {},
   "outputs": [],
   "source": [
    "with open('excluded_features.txt', 'w') as f:\n",
    "    f.write(\"%s\\n\" % excluded_features)"
   ]
  },
  {
   "cell_type": "code",
   "execution_count": 579,
   "metadata": {},
   "outputs": [
    {
     "data": {
      "text/plain": [
       "Index(['NAME_CONTRACT_TYPE', 'CODE_GENDER', 'FLAG_OWN_CAR', 'FLAG_OWN_REALTY',\n",
       "       'CNT_CHILDREN', 'AMT_INCOME_TOTAL', 'AMT_CREDIT', 'AMT_ANNUITY',\n",
       "       'AMT_GOODS_PRICE', 'NAME_TYPE_SUITE',\n",
       "       ...\n",
       "       'AMT_PAYMENT___SK_DPD_mean', 'DAYS_DECISION___DAYS_ENTRY_PAYMENT_mean',\n",
       "       'AMT_ANNUITY_1___AMT_ANNUITY_mean',\n",
       "       'AMT_BALANCE_max___DAYS_LAST_DUE_mean',\n",
       "       'DAYS_LAST_DUE_mean___AMT_RECIVABLE_max',\n",
       "       'AMT_GOODS_PRICE_mean___AMT_PAYMENT_max',\n",
       "       'DAYS_LAST_DUE_mean___DAYS_LAST_DUE_1ST_VERSION_max',\n",
       "       'AMT_ANNUITY_mean___AMT_CREDIT_max',\n",
       "       'AMT_PAYMENT_CURRENT_mean___AMT_ANNUITY_1',\n",
       "       'DAYS_FIRST_DUE_max___DAYS_LAST_DUE_mean'],\n",
       "      dtype='object', length=496)"
      ]
     },
     "execution_count": 579,
     "metadata": {},
     "output_type": "execute_result"
    }
   ],
   "source": [
    "X_reduced.columns"
   ]
  },
  {
   "cell_type": "code",
   "execution_count": 571,
   "metadata": {},
   "outputs": [],
   "source": [
    "init_params = {'boosting_type': 'gbdt',\n",
    "      'max_depth' : -1,\n",
    "      'objective': 'binary',\n",
    "      'learning_rate': 0.0212,\n",
    "      'reg_alpha': 0.8,\n",
    "      'reg_lambda': 0.4,\n",
    "      'subsample': 1,\n",
    "      'feature_fraction': 0.3,\n",
    "      'device_type': 'gpu',\n",
    "      'metric' : 'auc',\n",
    "      'random_state': 123,\n",
    "      'n_estimators': 1313, \n",
    "      'num_leaves': 40, \n",
    "      'max_bin': 255,\n",
    "      'min_data_in_leaf': 2400,\n",
    "      'min_data_in_bin': 5}\n",
    "    \n",
    "def fn(learning_rate, reg_alpha, reg_lambda, subsample, \n",
    "       feature_fraction, n_estimators, num_leaves, max_bin, \n",
    "       min_data_in_leaf, min_data_in_bin, outlier_detection_scalar):\n",
    "\n",
    "    kfold_bo = StratifiedKFold(n_splits=3, random_state=123)\n",
    "    #lr = Pipeline([('impute', Imputer()), ('lr', LogisticRegression(C = C))])\n",
    "    gbm = LGBMClassifier(**init_params)\n",
    "    gbm.set_params(learning_rate = learning_rate)\n",
    "    gbm.set_params(reg_alpha = reg_alpha)\n",
    "    gbm.set_params(reg_lambda = reg_lambda)\n",
    "    gbm.set_params(subsample = subsample)\n",
    "    gbm.set_params(feature_fraction = feature_fraction)\n",
    "    gbm.set_params(n_estimators = int(n_estimators))\n",
    "    gbm.set_params(num_leaves = int(num_leaves))\n",
    "    gbm.set_params(max_bin = int(max_bin))\n",
    "    gbm.set_params(min_data_in_leaf = int(min_data_in_leaf))\n",
    "    gbm.set_params(min_data_in_bin = int(min_data_in_bin))\n",
    "\n",
    "    model = Pipeline([('outlier_detection', FunctionTransformer(func = lambda data: np.apply_along_axis(null_outliers , 0, data, **{'m':outlier_detection_scalar}), validate=False)),\n",
    "                          ('clf', gbm)])\n",
    "    \n",
    "    scores = cross_val_score(model, X2, y = y, \n",
    "                             scoring = 'roc_auc', cv = kfold_bo)\n",
    "    \n",
    "    scores_mean = scores.mean()\n",
    "\n",
    "    return(scores_mean)"
   ]
  },
  {
   "cell_type": "code",
   "execution_count": 576,
   "metadata": {},
   "outputs": [],
   "source": [
    "from bayes_opt import BayesianOptimization\n",
    "bo = BayesianOptimization(f = fn, \n",
    "                          pbounds= {'learning_rate' : (0, 0.1),\n",
    "                                    'reg_alpha': (0,1),\n",
    "                                    'reg_lambda': (0,1),\n",
    "                                    'subsample': (0,1),\n",
    "                                    'feature_fraction': (0,1),\n",
    "                                    'n_estimators': (500, 5000),\n",
    "                                    'num_leaves': (10,100),\n",
    "                                    'max_bin': (50,255),\n",
    "                                    'min_data_in_leaf': (500, 5000),\n",
    "                                    'min_data_in_bin': (5, 100),\n",
    "                                    'outlier_detection_scalar': (1.5, 5)},\n",
    "                          random_state = 123)"
   ]
  },
  {
   "cell_type": "code",
   "execution_count": null,
   "metadata": {},
   "outputs": [
    {
     "name": "stdout",
     "output_type": "stream",
     "text": [
      "\u001b[31mInitialization\u001b[0m\n",
      "\u001b[94m---------------------------------------------------------------------------------------------------------------------------------------------------------------------------------------------------------------------------------\u001b[0m\n",
      " Step |   Time |      Value |   feature_fraction |   learning_rate |   max_bin |   min_data_in_bin |   min_data_in_leaf |   n_estimators |   num_leaves |   outlier_detection_scalar |   reg_alpha |   reg_lambda |   subsample | \n",
      "    1 | 08m51s | \u001b[35m   0.77812\u001b[0m | \u001b[32m            0.6344\u001b[0m | \u001b[32m         0.0696\u001b[0m | \u001b[32m 114.0136\u001b[0m | \u001b[32m          28.7933\u001b[0m | \u001b[32m         3307.7883\u001b[0m | \u001b[32m     1953.3151\u001b[0m | \u001b[32m     18.2894\u001b[0m | \u001b[32m                    1.9222\u001b[0m | \u001b[32m     0.4231\u001b[0m | \u001b[32m      0.3432\u001b[0m | \u001b[32m     0.7380\u001b[0m | \n",
      "    2 | 17m50s | \u001b[35m   0.78266\u001b[0m | \u001b[32m            0.8494\u001b[0m | \u001b[32m         0.0286\u001b[0m | \u001b[32m 137.4020\u001b[0m | \u001b[32m          50.8883\u001b[0m | \u001b[32m         1020.2828\u001b[0m | \u001b[32m     2128.0490\u001b[0m | \u001b[32m     49.0331\u001b[0m | \u001b[32m                    4.3922\u001b[0m | \u001b[32m     0.9808\u001b[0m | \u001b[32m      0.7290\u001b[0m | \u001b[32m     0.1825\u001b[0m | \n",
      "    3 | 15m46s | \u001b[35m   0.78710\u001b[0m | \u001b[32m            0.7245\u001b[0m | \u001b[32m         0.0227\u001b[0m | \u001b[32m 233.1448\u001b[0m | \u001b[32m          98.6282\u001b[0m | \u001b[32m         1927.7847\u001b[0m | \u001b[32m     1527.1845\u001b[0m | \u001b[32m     48.7776\u001b[0m | \u001b[32m                    3.6107\u001b[0m | \u001b[32m     0.6848\u001b[0m | \u001b[32m      0.4386\u001b[0m | \u001b[32m     0.1755\u001b[0m | \n",
      "    4 | 19m11s |    0.77403 |             0.6110 |          0.0551 |  243.5528 |           54.3511 |          2366.7180 |      1821.7132 |      54.4317 |                     3.4077 |      0.4809 |       0.0597 |      0.5316 | \n",
      "    5 | 25m40s |    0.76552 |             0.7224 |          0.0719 |  152.8765 |           63.2250 |          4398.3912 |      3339.3926 |      48.3247 |                     2.6997 |      0.3921 |       0.3980 |      0.5318 | \n",
      "\u001b[31mBayesian Optimization\u001b[0m\n",
      "\u001b[94m---------------------------------------------------------------------------------------------------------------------------------------------------------------------------------------------------------------------------------\u001b[0m\n",
      " Step |   Time |      Value |   feature_fraction |   learning_rate |   max_bin |   min_data_in_bin |   min_data_in_leaf |   n_estimators |   num_leaves |   outlier_detection_scalar |   reg_alpha |   reg_lambda |   subsample | \n",
      "    6 | 04m12s |    0.78689 |             0.2139 |          0.0470 |  195.5630 |           21.3388 |          4990.9808 |       523.8157 |      60.5650 |                     2.9723 |      0.9293 |       0.6788 |      0.5882 | \n",
      "    7 | 04m46s |    0.78464 |             0.1305 |          0.0252 |  130.1565 |           23.0455 |           516.3993 |       518.9263 |      52.7684 |                     2.3524 |      0.0795 |       0.0653 |      0.6943 | \n",
      "    8 | 36m04s |    0.78506 |             0.1140 |          0.0143 |   78.5431 |           56.0898 |           504.8300 |      4989.8155 |      65.2248 |                     4.0730 |      0.6065 |       0.0856 |      0.5288 | \n",
      "    9 | 15m24s |    0.78578 |             0.3325 |          0.0330 |   74.0380 |           33.8197 |          4998.3804 |      4993.6626 |      10.2375 |                     2.6701 |      0.6849 |       0.1646 |      0.5548 | \n",
      "   10 | 34m54s |    0.75670 |             0.5634 |          0.0925 |   56.0356 |           93.1247 |          2986.9568 |      4993.8910 |      46.5329 |                     3.7367 |      0.9753 |       0.6950 |      0.9997 | \n",
      "   11 | 04m32s |    0.78144 |             0.2196 |          0.0869 |   53.9864 |           83.9770 |          2964.3911 |       574.3897 |      95.6102 |                     4.1107 |      0.4869 |       0.8065 |      0.4349 | \n",
      "   12 | 11m05s |    0.77691 |             0.4234 |          0.0655 |   50.0623 |           91.1627 |          4987.1067 |      1960.1011 |      99.2736 |                     4.6590 |      0.0004 |       0.1440 |      0.4860 | \n",
      "   13 | 13m49s |    0.76998 |             0.6857 |          0.0924 |  212.4944 |           96.0708 |           516.4130 |      3933.6041 |      15.6655 |                     3.7420 |      0.8558 |       0.6249 |      0.0282 | \n",
      "   14 | 03m06s |    0.78572 |             0.4787 |          0.0791 |   92.5993 |           12.4028 |          1808.4574 |       588.5828 |      14.7188 |                     3.5678 |      0.9246 |       0.4591 |      0.3356 | \n",
      "   15 | 04m11s |    0.74375 |             0.9152 |          0.0025 |  241.6922 |           96.5364 |          4206.1125 |       769.5157 |      10.9714 |                     2.9980 |      0.6628 |       0.3659 |      0.5598 | \n",
      "   16 | 10m52s |    0.76694 |             0.9758 |          0.0966 |   51.7747 |           99.5746 |          1900.8290 |      3607.8115 |      12.5982 |                     1.6015 |      0.9280 |       0.4509 |      0.6217 | \n",
      "   17 | 04m41s |    0.78306 |             0.5471 |          0.0447 |   65.0099 |           96.5034 |           512.0638 |      1243.5296 |      16.9541 |                     1.7733 |      0.9209 |       0.7501 |      0.4754 | \n",
      "   18 | 58m02s |    0.77597 |             0.1693 |          0.0180 |  253.8476 |           50.6276 |          1436.7354 |      4951.4216 |      93.4184 |                     1.8112 |      0.4613 |       0.9194 |      0.2621 | \n",
      "   19 | 03m35s |    0.78657 |             0.7735 |          0.0847 |   72.9905 |           95.2559 |          4960.5772 |       531.2610 |      15.7395 |                     3.5542 |      0.8243 |       0.2891 |      0.4397 | \n",
      "   20 | 23m06s | \u001b[35m   0.78791\u001b[0m | \u001b[32m            0.3947\u001b[0m | \u001b[32m         0.0099\u001b[0m | \u001b[32m  56.4624\u001b[0m | \u001b[32m          32.7511\u001b[0m | \u001b[32m         4977.5929\u001b[0m | \u001b[32m     4092.1835\u001b[0m | \u001b[32m     99.9003\u001b[0m | \u001b[32m                    2.7832\u001b[0m | \u001b[32m     0.4346\u001b[0m | \u001b[32m      0.1932\u001b[0m | \u001b[32m     0.1067\u001b[0m | \n",
      "   21 | 10m34s |    0.78026 |             0.4206 |          0.0473 |   69.0002 |           89.2603 |          1174.0921 |       804.2666 |      99.8964 |                     2.7199 |      0.3033 |       0.6857 |      0.0434 | \n",
      "   22 | 17m39s |    0.77105 |             0.7921 |          0.0766 |  251.8590 |           16.3343 |           661.2882 |      1181.2273 |      93.5801 |                     4.2314 |      0.9399 |       0.6436 |      0.0511 | \n",
      "   23 | 21m26s |    0.77645 |             0.4434 |          0.0017 |   50.2268 |           10.6731 |          1462.3664 |      4886.2964 |      17.9503 |                     2.1166 |      0.5582 |       0.3693 |      0.4131 | \n",
      "   24 | 19m57s |    0.78705 |             0.7191 |          0.0220 |  254.6050 |           94.9662 |          4981.5762 |      4284.3560 |      14.8074 |                     3.2022 |      0.8368 |       0.3046 |      0.4844 | \n",
      "   25 | 42m51s |    0.77652 |             0.8712 |          0.0242 |  226.6383 |           12.1610 |          4327.4112 |      4973.1950 |      93.9437 |                     1.9660 |      0.5792 |       0.4589 |      0.8094 | \n",
      "   26 | 05m39s |    0.78276 |             0.7491 |          0.0807 |   54.7809 |           11.4126 |          1737.2936 |      1560.1925 |      12.9646 |                     2.9066 |      0.3518 |       0.9962 |      0.3773 | \n"
     ]
    }
   ],
   "source": [
    "bo.maximize(init_points = 5, n_iter = 100, kappa = 5)"
   ]
  },
  {
   "cell_type": "code",
   "execution_count": 578,
   "metadata": {},
   "outputs": [
    {
     "name": "stdout",
     "output_type": "stream",
     "text": [
      "\u001b[31mBayesian Optimization\u001b[0m\n",
      "\u001b[94m---------------------------------------------------------------------------------------------------------------------------------------------------------------------------------------------------------------------------------\u001b[0m\n",
      " Step |   Time |      Value |   feature_fraction |   learning_rate |   max_bin |   min_data_in_bin |   min_data_in_leaf |   n_estimators |   num_leaves |   outlier_detection_scalar |   reg_alpha |   reg_lambda |   subsample | \n",
      "   29 | 38m25s |    0.76736 |             0.9406 |          0.0547 |  239.7333 |           96.6568 |          4991.1816 |      4890.4846 |      92.5515 |                     3.2767 |      0.7679 |       0.2321 |      0.1163 | \n",
      "   30 | 20m26s |    0.77504 |             0.5262 |          0.0610 |  252.0128 |            7.0325 |          3304.0685 |      3914.0835 |      19.2358 |                     3.9970 |      0.6019 |       0.0079 |      0.0440 | \n",
      "   31 | 08m27s | \u001b[35m   0.78820\u001b[0m | \u001b[32m            0.6210\u001b[0m | \u001b[32m         0.0239\u001b[0m | \u001b[32m  63.2404\u001b[0m | \u001b[32m           7.2522\u001b[0m | \u001b[32m         4969.6398\u001b[0m | \u001b[32m     1283.9146\u001b[0m | \u001b[32m     32.0129\u001b[0m | \u001b[32m                    4.2191\u001b[0m | \u001b[32m     0.1459\u001b[0m | \u001b[32m      0.8464\u001b[0m | \u001b[32m     0.7029\u001b[0m | \n",
      "   32 | 26m43s |    0.77148 |             0.5361 |          0.0519 |   83.7831 |           80.8674 |           506.4863 |      2591.0526 |      97.1497 |                     3.5746 |      0.6171 |       0.7664 |      0.1081 | \n",
      "   33 | 03m50s |    0.78583 |             0.4521 |          0.0419 |  236.2340 |           91.0541 |           515.7383 |       566.7103 |      13.1589 |                     4.5825 |      0.8962 |       0.9910 |      0.9004 | \n",
      "   34 | 17m12s |    0.78674 |             0.2398 |          0.0063 |   73.0016 |           83.3845 |          4266.1006 |      4463.2384 |      12.1001 |                     4.3070 |      0.5146 |       0.6621 |      0.8205 | \n",
      "   35 | 04m43s |    0.78304 |             0.8095 |          0.0960 |   50.4719 |           15.9251 |          4829.3816 |       501.6194 |      94.1233 |                     4.8588 |      0.9616 |       0.8129 |      0.8072 | \n",
      "   36 | 05m31s |    0.78453 |             0.3072 |          0.0730 |   57.1486 |           93.4094 |          2600.1048 |      1163.1970 |      17.4130 |                     2.6663 |      0.6545 |       0.9026 |      0.5336 | \n",
      "   37 | 12m38s |    0.76730 |             0.2726 |          0.0939 |   61.1419 |           96.3873 |          3069.2158 |      2871.7494 |      22.1310 |                     2.0812 |      0.5420 |       0.9756 |      0.7909 | \n",
      "   38 | 07m37s |    0.78622 |             0.8945 |          0.0191 |  221.0579 |           97.3290 |          2367.3864 |       504.8647 |      98.7616 |                     4.6555 |      0.0078 |       0.6675 |      0.5532 | \n",
      "   39 | 18m06s |    0.78426 |             0.8170 |          0.0320 |  100.0330 |            7.6083 |          4776.8633 |      4426.0288 |      13.7487 |                     3.7350 |      0.1523 |       0.2265 |      0.1571 | \n",
      "   40 | 12m55s |    0.78521 |             0.3583 |          0.0369 |  253.4975 |            8.2691 |          1220.7694 |      2972.9847 |      12.9956 |                     2.2257 |      0.7377 |       0.9156 |      0.6185 | \n",
      "   41 | 20m41s |    0.77641 |             0.1286 |          0.0426 |   53.1931 |           99.6015 |          1046.4739 |      4967.5039 |      24.5127 |                     2.1716 |      0.9543 |       0.8000 |      0.1836 | \n",
      "   42 | 63m28s |    0.76460 |             0.2200 |          0.0682 |  251.3720 |            6.9885 |           937.1214 |      4446.1635 |      97.2532 |                     2.6337 |      0.2357 |       0.5739 |      0.9804 | \n",
      "   43 | 23m35s |    0.76897 |             0.8884 |          0.0613 |   61.2300 |           83.9789 |          4995.3477 |      3369.5268 |      26.7802 |                     1.9290 |      0.1088 |       0.2139 |      0.6573 | \n",
      "   44 | 08m14s |    0.78097 |             0.4719 |          0.0148 |  243.1816 |           98.8892 |          4981.7448 |      1003.1461 |      96.9008 |                     1.5100 |      0.2995 |       0.0087 |      0.0648 | \n",
      "   45 | 28m08s |    0.76446 |             0.6133 |          0.0773 |   57.8016 |           99.3179 |          1695.3122 |      2552.2186 |      95.0340 |                     2.9855 |      0.2995 |       0.2821 |      0.4168 | \n",
      "   46 | 12m15s |    0.78805 |             0.2053 |          0.0171 |  247.7763 |           91.0608 |          4009.9813 |      2283.4773 |      12.0888 |                     3.0961 |      0.2406 |       0.8544 |      0.1187 | \n",
      "   47 | 06m51s |    0.78459 |             0.4130 |          0.0185 |  250.8248 |           11.5758 |          2683.1444 |       848.8473 |      15.6617 |                     3.0184 |      0.9827 |       0.3081 |      0.6342 | \n",
      "   48 | 09m17s |    0.78054 |             0.3868 |          0.0687 |  251.2529 |           79.0153 |           506.4347 |      2201.3485 |      11.0033 |                     1.7414 |      0.9642 |       0.5558 |      0.5130 | \n",
      "   49 | 18m20s |    0.78189 |             0.6311 |          0.0472 |  252.1080 |           87.7373 |          1930.2809 |      4526.7888 |      12.8839 |                     3.7889 |      0.2399 |       0.5555 |      0.2006 | \n",
      "   50 | 28m59s |    0.76245 |             0.6583 |          0.0999 |  251.8584 |           24.4815 |          3481.8517 |      2781.3920 |      96.1810 |                     2.9209 |      0.9437 |       0.2511 |      0.4114 | \n",
      "   51 | 28m38s |    0.78492 |             0.6989 |          0.0033 |  254.2742 |           24.6029 |          3747.0989 |      4957.4266 |      15.4193 |                     2.5847 |      0.2090 |       0.0254 |      0.5002 | \n",
      "   52 | 14m38s |    0.77852 |             0.4959 |          0.0625 |  254.4985 |           99.7613 |          2351.7253 |      3189.5364 |      13.6129 |                     1.9306 |      0.7559 |       0.8257 |      0.3419 | \n",
      "   53 | 11m00s |    0.78731 |             0.6853 |          0.0423 |  242.7799 |           72.3821 |          4987.4300 |      1707.4892 |      16.2803 |                     4.5350 |      0.2437 |       0.9246 |      0.4776 | \n",
      "   54 | 04m17s |    0.78615 |             0.9277 |          0.0826 |  219.7634 |           20.0205 |           964.8376 |       513.5459 |      12.2104 |                     4.6321 |      0.1848 |       0.6742 |      0.8785 | \n",
      "   55 | 26m22s |    0.76111 |             0.6956 |          0.0801 |   78.4954 |           95.8227 |          4147.2932 |      4998.2530 |      21.1513 |                     1.8555 |      0.0844 |       0.0549 |      0.4241 | \n",
      "   56 | 16m40s |    0.78444 |             0.1539 |          0.0466 |  254.9113 |           25.8960 |          4193.6145 |      4120.4613 |      13.8274 |                     4.1547 |      0.5429 |       0.4046 |      0.9574 | \n"
     ]
    },
    {
     "ename": "KeyboardInterrupt",
     "evalue": "",
     "output_type": "error",
     "traceback": [
      "\u001b[0;31m\u001b[0m",
      "\u001b[0;31mKeyboardInterrupt\u001b[0mTraceback (most recent call last)",
      "\u001b[0;32m<ipython-input-578-eb8577ad1400>\u001b[0m in \u001b[0;36m<module>\u001b[0;34m()\u001b[0m\n\u001b[0;32m----> 1\u001b[0;31m \u001b[0mbo\u001b[0m\u001b[0;34m.\u001b[0m\u001b[0mmaximize\u001b[0m\u001b[0;34m(\u001b[0m\u001b[0minit_points\u001b[0m \u001b[0;34m=\u001b[0m \u001b[0;36m5\u001b[0m\u001b[0;34m,\u001b[0m \u001b[0mn_iter\u001b[0m \u001b[0;34m=\u001b[0m \u001b[0;36m100\u001b[0m\u001b[0;34m,\u001b[0m \u001b[0mkappa\u001b[0m \u001b[0;34m=\u001b[0m \u001b[0;36m5\u001b[0m\u001b[0;34m)\u001b[0m\u001b[0;34m\u001b[0m\u001b[0m\n\u001b[0m",
      "\u001b[0;32m~/anaconda3/lib/python3.6/site-packages/bayes_opt/bayesian_optimization.py\u001b[0m in \u001b[0;36mmaximize\u001b[0;34m(self, init_points, n_iter, acq, kappa, xi, **gp_params)\u001b[0m\n\u001b[1;32m    277\u001b[0m \u001b[0;34m\u001b[0m\u001b[0m\n\u001b[1;32m    278\u001b[0m             \u001b[0;31m# Append most recently generated values to X and Y arrays\u001b[0m\u001b[0;34m\u001b[0m\u001b[0;34m\u001b[0m\u001b[0m\n\u001b[0;32m--> 279\u001b[0;31m             \u001b[0my\u001b[0m \u001b[0;34m=\u001b[0m \u001b[0mself\u001b[0m\u001b[0;34m.\u001b[0m\u001b[0mspace\u001b[0m\u001b[0;34m.\u001b[0m\u001b[0mobserve_point\u001b[0m\u001b[0;34m(\u001b[0m\u001b[0mx_max\u001b[0m\u001b[0;34m)\u001b[0m\u001b[0;34m\u001b[0m\u001b[0m\n\u001b[0m\u001b[1;32m    280\u001b[0m             \u001b[0;32mif\u001b[0m \u001b[0mself\u001b[0m\u001b[0;34m.\u001b[0m\u001b[0mverbose\u001b[0m\u001b[0;34m:\u001b[0m\u001b[0;34m\u001b[0m\u001b[0m\n\u001b[1;32m    281\u001b[0m                 \u001b[0mself\u001b[0m\u001b[0;34m.\u001b[0m\u001b[0mplog\u001b[0m\u001b[0;34m.\u001b[0m\u001b[0mprint_step\u001b[0m\u001b[0;34m(\u001b[0m\u001b[0mx_max\u001b[0m\u001b[0;34m,\u001b[0m \u001b[0my\u001b[0m\u001b[0;34m,\u001b[0m \u001b[0mpwarning\u001b[0m\u001b[0;34m)\u001b[0m\u001b[0;34m\u001b[0m\u001b[0m\n",
      "\u001b[0;32m~/anaconda3/lib/python3.6/site-packages/bayes_opt/target_space.py\u001b[0m in \u001b[0;36mobserve_point\u001b[0;34m(self, x)\u001b[0m\n\u001b[1;32m    137\u001b[0m             \u001b[0;31m# measure the target function\u001b[0m\u001b[0;34m\u001b[0m\u001b[0;34m\u001b[0m\u001b[0m\n\u001b[1;32m    138\u001b[0m             \u001b[0mparams\u001b[0m \u001b[0;34m=\u001b[0m \u001b[0mdict\u001b[0m\u001b[0;34m(\u001b[0m\u001b[0mzip\u001b[0m\u001b[0;34m(\u001b[0m\u001b[0mself\u001b[0m\u001b[0;34m.\u001b[0m\u001b[0mkeys\u001b[0m\u001b[0;34m,\u001b[0m \u001b[0mx\u001b[0m\u001b[0;34m)\u001b[0m\u001b[0;34m)\u001b[0m\u001b[0;34m\u001b[0m\u001b[0m\n\u001b[0;32m--> 139\u001b[0;31m             \u001b[0my\u001b[0m \u001b[0;34m=\u001b[0m \u001b[0mself\u001b[0m\u001b[0;34m.\u001b[0m\u001b[0mtarget_func\u001b[0m\u001b[0;34m(\u001b[0m\u001b[0;34m**\u001b[0m\u001b[0mparams\u001b[0m\u001b[0;34m)\u001b[0m\u001b[0;34m\u001b[0m\u001b[0m\n\u001b[0m\u001b[1;32m    140\u001b[0m             \u001b[0mself\u001b[0m\u001b[0;34m.\u001b[0m\u001b[0madd_observation\u001b[0m\u001b[0;34m(\u001b[0m\u001b[0mx\u001b[0m\u001b[0;34m,\u001b[0m \u001b[0my\u001b[0m\u001b[0;34m)\u001b[0m\u001b[0;34m\u001b[0m\u001b[0m\n\u001b[1;32m    141\u001b[0m         \u001b[0;32mreturn\u001b[0m \u001b[0my\u001b[0m\u001b[0;34m\u001b[0m\u001b[0m\n",
      "\u001b[0;32m<ipython-input-571-0963da9a4d7c>\u001b[0m in \u001b[0;36mfn\u001b[0;34m(learning_rate, reg_alpha, reg_lambda, subsample, feature_fraction, n_estimators, num_leaves, max_bin, min_data_in_leaf, min_data_in_bin, outlier_detection_scalar)\u001b[0m\n\u001b[1;32m     38\u001b[0m \u001b[0;34m\u001b[0m\u001b[0m\n\u001b[1;32m     39\u001b[0m     scores = cross_val_score(model, X2, y = y, \n\u001b[0;32m---> 40\u001b[0;31m                              scoring = 'roc_auc', cv = kfold_bo)\n\u001b[0m\u001b[1;32m     41\u001b[0m \u001b[0;34m\u001b[0m\u001b[0m\n\u001b[1;32m     42\u001b[0m     \u001b[0mscores_mean\u001b[0m \u001b[0;34m=\u001b[0m \u001b[0mscores\u001b[0m\u001b[0;34m.\u001b[0m\u001b[0mmean\u001b[0m\u001b[0;34m(\u001b[0m\u001b[0;34m)\u001b[0m\u001b[0;34m\u001b[0m\u001b[0m\n",
      "\u001b[0;32m~/anaconda3/lib/python3.6/site-packages/sklearn/model_selection/_validation.py\u001b[0m in \u001b[0;36mcross_val_score\u001b[0;34m(estimator, X, y, groups, scoring, cv, n_jobs, verbose, fit_params, pre_dispatch)\u001b[0m\n\u001b[1;32m    340\u001b[0m                                 \u001b[0mn_jobs\u001b[0m\u001b[0;34m=\u001b[0m\u001b[0mn_jobs\u001b[0m\u001b[0;34m,\u001b[0m \u001b[0mverbose\u001b[0m\u001b[0;34m=\u001b[0m\u001b[0mverbose\u001b[0m\u001b[0;34m,\u001b[0m\u001b[0;34m\u001b[0m\u001b[0m\n\u001b[1;32m    341\u001b[0m                                 \u001b[0mfit_params\u001b[0m\u001b[0;34m=\u001b[0m\u001b[0mfit_params\u001b[0m\u001b[0;34m,\u001b[0m\u001b[0;34m\u001b[0m\u001b[0m\n\u001b[0;32m--> 342\u001b[0;31m                                 pre_dispatch=pre_dispatch)\n\u001b[0m\u001b[1;32m    343\u001b[0m     \u001b[0;32mreturn\u001b[0m \u001b[0mcv_results\u001b[0m\u001b[0;34m[\u001b[0m\u001b[0;34m'test_score'\u001b[0m\u001b[0;34m]\u001b[0m\u001b[0;34m\u001b[0m\u001b[0m\n\u001b[1;32m    344\u001b[0m \u001b[0;34m\u001b[0m\u001b[0m\n",
      "\u001b[0;32m~/anaconda3/lib/python3.6/site-packages/sklearn/model_selection/_validation.py\u001b[0m in \u001b[0;36mcross_validate\u001b[0;34m(estimator, X, y, groups, scoring, cv, n_jobs, verbose, fit_params, pre_dispatch, return_train_score)\u001b[0m\n\u001b[1;32m    204\u001b[0m             \u001b[0mfit_params\u001b[0m\u001b[0;34m,\u001b[0m \u001b[0mreturn_train_score\u001b[0m\u001b[0;34m=\u001b[0m\u001b[0mreturn_train_score\u001b[0m\u001b[0;34m,\u001b[0m\u001b[0;34m\u001b[0m\u001b[0m\n\u001b[1;32m    205\u001b[0m             return_times=True)\n\u001b[0;32m--> 206\u001b[0;31m         for train, test in cv.split(X, y, groups))\n\u001b[0m\u001b[1;32m    207\u001b[0m \u001b[0;34m\u001b[0m\u001b[0m\n\u001b[1;32m    208\u001b[0m     \u001b[0;32mif\u001b[0m \u001b[0mreturn_train_score\u001b[0m\u001b[0;34m:\u001b[0m\u001b[0;34m\u001b[0m\u001b[0m\n",
      "\u001b[0;32m~/anaconda3/lib/python3.6/site-packages/sklearn/externals/joblib/parallel.py\u001b[0m in \u001b[0;36m__call__\u001b[0;34m(self, iterable)\u001b[0m\n\u001b[1;32m    777\u001b[0m             \u001b[0;31m# was dispatched. In particular this covers the edge\u001b[0m\u001b[0;34m\u001b[0m\u001b[0;34m\u001b[0m\u001b[0m\n\u001b[1;32m    778\u001b[0m             \u001b[0;31m# case of Parallel used with an exhausted iterator.\u001b[0m\u001b[0;34m\u001b[0m\u001b[0;34m\u001b[0m\u001b[0m\n\u001b[0;32m--> 779\u001b[0;31m             \u001b[0;32mwhile\u001b[0m \u001b[0mself\u001b[0m\u001b[0;34m.\u001b[0m\u001b[0mdispatch_one_batch\u001b[0m\u001b[0;34m(\u001b[0m\u001b[0miterator\u001b[0m\u001b[0;34m)\u001b[0m\u001b[0;34m:\u001b[0m\u001b[0;34m\u001b[0m\u001b[0m\n\u001b[0m\u001b[1;32m    780\u001b[0m                 \u001b[0mself\u001b[0m\u001b[0;34m.\u001b[0m\u001b[0m_iterating\u001b[0m \u001b[0;34m=\u001b[0m \u001b[0;32mTrue\u001b[0m\u001b[0;34m\u001b[0m\u001b[0m\n\u001b[1;32m    781\u001b[0m             \u001b[0;32melse\u001b[0m\u001b[0;34m:\u001b[0m\u001b[0;34m\u001b[0m\u001b[0m\n",
      "\u001b[0;32m~/anaconda3/lib/python3.6/site-packages/sklearn/externals/joblib/parallel.py\u001b[0m in \u001b[0;36mdispatch_one_batch\u001b[0;34m(self, iterator)\u001b[0m\n\u001b[1;32m    623\u001b[0m                 \u001b[0;32mreturn\u001b[0m \u001b[0;32mFalse\u001b[0m\u001b[0;34m\u001b[0m\u001b[0m\n\u001b[1;32m    624\u001b[0m             \u001b[0;32melse\u001b[0m\u001b[0;34m:\u001b[0m\u001b[0;34m\u001b[0m\u001b[0m\n\u001b[0;32m--> 625\u001b[0;31m                 \u001b[0mself\u001b[0m\u001b[0;34m.\u001b[0m\u001b[0m_dispatch\u001b[0m\u001b[0;34m(\u001b[0m\u001b[0mtasks\u001b[0m\u001b[0;34m)\u001b[0m\u001b[0;34m\u001b[0m\u001b[0m\n\u001b[0m\u001b[1;32m    626\u001b[0m                 \u001b[0;32mreturn\u001b[0m \u001b[0;32mTrue\u001b[0m\u001b[0;34m\u001b[0m\u001b[0m\n\u001b[1;32m    627\u001b[0m \u001b[0;34m\u001b[0m\u001b[0m\n",
      "\u001b[0;32m~/anaconda3/lib/python3.6/site-packages/sklearn/externals/joblib/parallel.py\u001b[0m in \u001b[0;36m_dispatch\u001b[0;34m(self, batch)\u001b[0m\n\u001b[1;32m    586\u001b[0m         \u001b[0mdispatch_timestamp\u001b[0m \u001b[0;34m=\u001b[0m \u001b[0mtime\u001b[0m\u001b[0;34m.\u001b[0m\u001b[0mtime\u001b[0m\u001b[0;34m(\u001b[0m\u001b[0;34m)\u001b[0m\u001b[0;34m\u001b[0m\u001b[0m\n\u001b[1;32m    587\u001b[0m         \u001b[0mcb\u001b[0m \u001b[0;34m=\u001b[0m \u001b[0mBatchCompletionCallBack\u001b[0m\u001b[0;34m(\u001b[0m\u001b[0mdispatch_timestamp\u001b[0m\u001b[0;34m,\u001b[0m \u001b[0mlen\u001b[0m\u001b[0;34m(\u001b[0m\u001b[0mbatch\u001b[0m\u001b[0;34m)\u001b[0m\u001b[0;34m,\u001b[0m \u001b[0mself\u001b[0m\u001b[0;34m)\u001b[0m\u001b[0;34m\u001b[0m\u001b[0m\n\u001b[0;32m--> 588\u001b[0;31m         \u001b[0mjob\u001b[0m \u001b[0;34m=\u001b[0m \u001b[0mself\u001b[0m\u001b[0;34m.\u001b[0m\u001b[0m_backend\u001b[0m\u001b[0;34m.\u001b[0m\u001b[0mapply_async\u001b[0m\u001b[0;34m(\u001b[0m\u001b[0mbatch\u001b[0m\u001b[0;34m,\u001b[0m \u001b[0mcallback\u001b[0m\u001b[0;34m=\u001b[0m\u001b[0mcb\u001b[0m\u001b[0;34m)\u001b[0m\u001b[0;34m\u001b[0m\u001b[0m\n\u001b[0m\u001b[1;32m    589\u001b[0m         \u001b[0mself\u001b[0m\u001b[0;34m.\u001b[0m\u001b[0m_jobs\u001b[0m\u001b[0;34m.\u001b[0m\u001b[0mappend\u001b[0m\u001b[0;34m(\u001b[0m\u001b[0mjob\u001b[0m\u001b[0;34m)\u001b[0m\u001b[0;34m\u001b[0m\u001b[0m\n\u001b[1;32m    590\u001b[0m \u001b[0;34m\u001b[0m\u001b[0m\n",
      "\u001b[0;32m~/anaconda3/lib/python3.6/site-packages/sklearn/externals/joblib/_parallel_backends.py\u001b[0m in \u001b[0;36mapply_async\u001b[0;34m(self, func, callback)\u001b[0m\n\u001b[1;32m    109\u001b[0m     \u001b[0;32mdef\u001b[0m \u001b[0mapply_async\u001b[0m\u001b[0;34m(\u001b[0m\u001b[0mself\u001b[0m\u001b[0;34m,\u001b[0m \u001b[0mfunc\u001b[0m\u001b[0;34m,\u001b[0m \u001b[0mcallback\u001b[0m\u001b[0;34m=\u001b[0m\u001b[0;32mNone\u001b[0m\u001b[0;34m)\u001b[0m\u001b[0;34m:\u001b[0m\u001b[0;34m\u001b[0m\u001b[0m\n\u001b[1;32m    110\u001b[0m         \u001b[0;34m\"\"\"Schedule a func to be run\"\"\"\u001b[0m\u001b[0;34m\u001b[0m\u001b[0m\n\u001b[0;32m--> 111\u001b[0;31m         \u001b[0mresult\u001b[0m \u001b[0;34m=\u001b[0m \u001b[0mImmediateResult\u001b[0m\u001b[0;34m(\u001b[0m\u001b[0mfunc\u001b[0m\u001b[0;34m)\u001b[0m\u001b[0;34m\u001b[0m\u001b[0m\n\u001b[0m\u001b[1;32m    112\u001b[0m         \u001b[0;32mif\u001b[0m \u001b[0mcallback\u001b[0m\u001b[0;34m:\u001b[0m\u001b[0;34m\u001b[0m\u001b[0m\n\u001b[1;32m    113\u001b[0m             \u001b[0mcallback\u001b[0m\u001b[0;34m(\u001b[0m\u001b[0mresult\u001b[0m\u001b[0;34m)\u001b[0m\u001b[0;34m\u001b[0m\u001b[0m\n",
      "\u001b[0;32m~/anaconda3/lib/python3.6/site-packages/sklearn/externals/joblib/_parallel_backends.py\u001b[0m in \u001b[0;36m__init__\u001b[0;34m(self, batch)\u001b[0m\n\u001b[1;32m    330\u001b[0m         \u001b[0;31m# Don't delay the application, to avoid keeping the input\u001b[0m\u001b[0;34m\u001b[0m\u001b[0;34m\u001b[0m\u001b[0m\n\u001b[1;32m    331\u001b[0m         \u001b[0;31m# arguments in memory\u001b[0m\u001b[0;34m\u001b[0m\u001b[0;34m\u001b[0m\u001b[0m\n\u001b[0;32m--> 332\u001b[0;31m         \u001b[0mself\u001b[0m\u001b[0;34m.\u001b[0m\u001b[0mresults\u001b[0m \u001b[0;34m=\u001b[0m \u001b[0mbatch\u001b[0m\u001b[0;34m(\u001b[0m\u001b[0;34m)\u001b[0m\u001b[0;34m\u001b[0m\u001b[0m\n\u001b[0m\u001b[1;32m    333\u001b[0m \u001b[0;34m\u001b[0m\u001b[0m\n\u001b[1;32m    334\u001b[0m     \u001b[0;32mdef\u001b[0m \u001b[0mget\u001b[0m\u001b[0;34m(\u001b[0m\u001b[0mself\u001b[0m\u001b[0;34m)\u001b[0m\u001b[0;34m:\u001b[0m\u001b[0;34m\u001b[0m\u001b[0m\n",
      "\u001b[0;32m~/anaconda3/lib/python3.6/site-packages/sklearn/externals/joblib/parallel.py\u001b[0m in \u001b[0;36m__call__\u001b[0;34m(self)\u001b[0m\n\u001b[1;32m    129\u001b[0m \u001b[0;34m\u001b[0m\u001b[0m\n\u001b[1;32m    130\u001b[0m     \u001b[0;32mdef\u001b[0m \u001b[0m__call__\u001b[0m\u001b[0;34m(\u001b[0m\u001b[0mself\u001b[0m\u001b[0;34m)\u001b[0m\u001b[0;34m:\u001b[0m\u001b[0;34m\u001b[0m\u001b[0m\n\u001b[0;32m--> 131\u001b[0;31m         \u001b[0;32mreturn\u001b[0m \u001b[0;34m[\u001b[0m\u001b[0mfunc\u001b[0m\u001b[0;34m(\u001b[0m\u001b[0;34m*\u001b[0m\u001b[0margs\u001b[0m\u001b[0;34m,\u001b[0m \u001b[0;34m**\u001b[0m\u001b[0mkwargs\u001b[0m\u001b[0;34m)\u001b[0m \u001b[0;32mfor\u001b[0m \u001b[0mfunc\u001b[0m\u001b[0;34m,\u001b[0m \u001b[0margs\u001b[0m\u001b[0;34m,\u001b[0m \u001b[0mkwargs\u001b[0m \u001b[0;32min\u001b[0m \u001b[0mself\u001b[0m\u001b[0;34m.\u001b[0m\u001b[0mitems\u001b[0m\u001b[0;34m]\u001b[0m\u001b[0;34m\u001b[0m\u001b[0m\n\u001b[0m\u001b[1;32m    132\u001b[0m \u001b[0;34m\u001b[0m\u001b[0m\n\u001b[1;32m    133\u001b[0m     \u001b[0;32mdef\u001b[0m \u001b[0m__len__\u001b[0m\u001b[0;34m(\u001b[0m\u001b[0mself\u001b[0m\u001b[0;34m)\u001b[0m\u001b[0;34m:\u001b[0m\u001b[0;34m\u001b[0m\u001b[0m\n",
      "\u001b[0;32m~/anaconda3/lib/python3.6/site-packages/sklearn/externals/joblib/parallel.py\u001b[0m in \u001b[0;36m<listcomp>\u001b[0;34m(.0)\u001b[0m\n\u001b[1;32m    129\u001b[0m \u001b[0;34m\u001b[0m\u001b[0m\n\u001b[1;32m    130\u001b[0m     \u001b[0;32mdef\u001b[0m \u001b[0m__call__\u001b[0m\u001b[0;34m(\u001b[0m\u001b[0mself\u001b[0m\u001b[0;34m)\u001b[0m\u001b[0;34m:\u001b[0m\u001b[0;34m\u001b[0m\u001b[0m\n\u001b[0;32m--> 131\u001b[0;31m         \u001b[0;32mreturn\u001b[0m \u001b[0;34m[\u001b[0m\u001b[0mfunc\u001b[0m\u001b[0;34m(\u001b[0m\u001b[0;34m*\u001b[0m\u001b[0margs\u001b[0m\u001b[0;34m,\u001b[0m \u001b[0;34m**\u001b[0m\u001b[0mkwargs\u001b[0m\u001b[0;34m)\u001b[0m \u001b[0;32mfor\u001b[0m \u001b[0mfunc\u001b[0m\u001b[0;34m,\u001b[0m \u001b[0margs\u001b[0m\u001b[0;34m,\u001b[0m \u001b[0mkwargs\u001b[0m \u001b[0;32min\u001b[0m \u001b[0mself\u001b[0m\u001b[0;34m.\u001b[0m\u001b[0mitems\u001b[0m\u001b[0;34m]\u001b[0m\u001b[0;34m\u001b[0m\u001b[0m\n\u001b[0m\u001b[1;32m    132\u001b[0m \u001b[0;34m\u001b[0m\u001b[0m\n\u001b[1;32m    133\u001b[0m     \u001b[0;32mdef\u001b[0m \u001b[0m__len__\u001b[0m\u001b[0;34m(\u001b[0m\u001b[0mself\u001b[0m\u001b[0;34m)\u001b[0m\u001b[0;34m:\u001b[0m\u001b[0;34m\u001b[0m\u001b[0m\n",
      "\u001b[0;32m~/anaconda3/lib/python3.6/site-packages/sklearn/model_selection/_validation.py\u001b[0m in \u001b[0;36m_fit_and_score\u001b[0;34m(estimator, X, y, scorer, train, test, verbose, parameters, fit_params, return_train_score, return_parameters, return_n_test_samples, return_times, error_score)\u001b[0m\n\u001b[1;32m    456\u001b[0m             \u001b[0mestimator\u001b[0m\u001b[0;34m.\u001b[0m\u001b[0mfit\u001b[0m\u001b[0;34m(\u001b[0m\u001b[0mX_train\u001b[0m\u001b[0;34m,\u001b[0m \u001b[0;34m**\u001b[0m\u001b[0mfit_params\u001b[0m\u001b[0;34m)\u001b[0m\u001b[0;34m\u001b[0m\u001b[0m\n\u001b[1;32m    457\u001b[0m         \u001b[0;32melse\u001b[0m\u001b[0;34m:\u001b[0m\u001b[0;34m\u001b[0m\u001b[0m\n\u001b[0;32m--> 458\u001b[0;31m             \u001b[0mestimator\u001b[0m\u001b[0;34m.\u001b[0m\u001b[0mfit\u001b[0m\u001b[0;34m(\u001b[0m\u001b[0mX_train\u001b[0m\u001b[0;34m,\u001b[0m \u001b[0my_train\u001b[0m\u001b[0;34m,\u001b[0m \u001b[0;34m**\u001b[0m\u001b[0mfit_params\u001b[0m\u001b[0;34m)\u001b[0m\u001b[0;34m\u001b[0m\u001b[0m\n\u001b[0m\u001b[1;32m    459\u001b[0m \u001b[0;34m\u001b[0m\u001b[0m\n\u001b[1;32m    460\u001b[0m     \u001b[0;32mexcept\u001b[0m \u001b[0mException\u001b[0m \u001b[0;32mas\u001b[0m \u001b[0me\u001b[0m\u001b[0;34m:\u001b[0m\u001b[0;34m\u001b[0m\u001b[0m\n",
      "\u001b[0;32m~/anaconda3/lib/python3.6/site-packages/sklearn/pipeline.py\u001b[0m in \u001b[0;36mfit\u001b[0;34m(self, X, y, **fit_params)\u001b[0m\n\u001b[1;32m    248\u001b[0m         \u001b[0mXt\u001b[0m\u001b[0;34m,\u001b[0m \u001b[0mfit_params\u001b[0m \u001b[0;34m=\u001b[0m \u001b[0mself\u001b[0m\u001b[0;34m.\u001b[0m\u001b[0m_fit\u001b[0m\u001b[0;34m(\u001b[0m\u001b[0mX\u001b[0m\u001b[0;34m,\u001b[0m \u001b[0my\u001b[0m\u001b[0;34m,\u001b[0m \u001b[0;34m**\u001b[0m\u001b[0mfit_params\u001b[0m\u001b[0;34m)\u001b[0m\u001b[0;34m\u001b[0m\u001b[0m\n\u001b[1;32m    249\u001b[0m         \u001b[0;32mif\u001b[0m \u001b[0mself\u001b[0m\u001b[0;34m.\u001b[0m\u001b[0m_final_estimator\u001b[0m \u001b[0;32mis\u001b[0m \u001b[0;32mnot\u001b[0m \u001b[0;32mNone\u001b[0m\u001b[0;34m:\u001b[0m\u001b[0;34m\u001b[0m\u001b[0m\n\u001b[0;32m--> 250\u001b[0;31m             \u001b[0mself\u001b[0m\u001b[0;34m.\u001b[0m\u001b[0m_final_estimator\u001b[0m\u001b[0;34m.\u001b[0m\u001b[0mfit\u001b[0m\u001b[0;34m(\u001b[0m\u001b[0mXt\u001b[0m\u001b[0;34m,\u001b[0m \u001b[0my\u001b[0m\u001b[0;34m,\u001b[0m \u001b[0;34m**\u001b[0m\u001b[0mfit_params\u001b[0m\u001b[0;34m)\u001b[0m\u001b[0;34m\u001b[0m\u001b[0m\n\u001b[0m\u001b[1;32m    251\u001b[0m         \u001b[0;32mreturn\u001b[0m \u001b[0mself\u001b[0m\u001b[0;34m\u001b[0m\u001b[0m\n\u001b[1;32m    252\u001b[0m \u001b[0;34m\u001b[0m\u001b[0m\n",
      "\u001b[0;32m~/anaconda3/lib/python3.6/site-packages/lightgbm/sklearn.py\u001b[0m in \u001b[0;36mfit\u001b[0;34m(self, X, y, sample_weight, init_score, eval_set, eval_names, eval_sample_weight, eval_class_weight, eval_init_score, eval_metric, early_stopping_rounds, verbose, feature_name, categorical_feature, callbacks)\u001b[0m\n\u001b[1;32m    698\u001b[0m                                         \u001b[0mverbose\u001b[0m\u001b[0;34m=\u001b[0m\u001b[0mverbose\u001b[0m\u001b[0;34m,\u001b[0m \u001b[0mfeature_name\u001b[0m\u001b[0;34m=\u001b[0m\u001b[0mfeature_name\u001b[0m\u001b[0;34m,\u001b[0m\u001b[0;34m\u001b[0m\u001b[0m\n\u001b[1;32m    699\u001b[0m                                         \u001b[0mcategorical_feature\u001b[0m\u001b[0;34m=\u001b[0m\u001b[0mcategorical_feature\u001b[0m\u001b[0;34m,\u001b[0m\u001b[0;34m\u001b[0m\u001b[0m\n\u001b[0;32m--> 700\u001b[0;31m                                         callbacks=callbacks)\n\u001b[0m\u001b[1;32m    701\u001b[0m         \u001b[0;32mreturn\u001b[0m \u001b[0mself\u001b[0m\u001b[0;34m\u001b[0m\u001b[0m\n\u001b[1;32m    702\u001b[0m \u001b[0;34m\u001b[0m\u001b[0m\n",
      "\u001b[0;32m~/anaconda3/lib/python3.6/site-packages/lightgbm/sklearn.py\u001b[0m in \u001b[0;36mfit\u001b[0;34m(self, X, y, sample_weight, init_score, group, eval_set, eval_names, eval_sample_weight, eval_class_weight, eval_init_score, eval_group, eval_metric, early_stopping_rounds, verbose, feature_name, categorical_feature, callbacks)\u001b[0m\n\u001b[1;32m    475\u001b[0m                               \u001b[0mverbose_eval\u001b[0m\u001b[0;34m=\u001b[0m\u001b[0mverbose\u001b[0m\u001b[0;34m,\u001b[0m \u001b[0mfeature_name\u001b[0m\u001b[0;34m=\u001b[0m\u001b[0mfeature_name\u001b[0m\u001b[0;34m,\u001b[0m\u001b[0;34m\u001b[0m\u001b[0m\n\u001b[1;32m    476\u001b[0m                               \u001b[0mcategorical_feature\u001b[0m\u001b[0;34m=\u001b[0m\u001b[0mcategorical_feature\u001b[0m\u001b[0;34m,\u001b[0m\u001b[0;34m\u001b[0m\u001b[0m\n\u001b[0;32m--> 477\u001b[0;31m                               callbacks=callbacks)\n\u001b[0m\u001b[1;32m    478\u001b[0m \u001b[0;34m\u001b[0m\u001b[0m\n\u001b[1;32m    479\u001b[0m         \u001b[0;32mif\u001b[0m \u001b[0mevals_result\u001b[0m\u001b[0;34m:\u001b[0m\u001b[0;34m\u001b[0m\u001b[0m\n",
      "\u001b[0;32m~/anaconda3/lib/python3.6/site-packages/lightgbm/engine.py\u001b[0m in \u001b[0;36mtrain\u001b[0;34m(params, train_set, num_boost_round, valid_sets, valid_names, fobj, feval, init_model, feature_name, categorical_feature, early_stopping_rounds, evals_result, verbose_eval, learning_rates, keep_training_booster, callbacks)\u001b[0m\n\u001b[1;32m    205\u001b[0m                                     evaluation_result_list=None))\n\u001b[1;32m    206\u001b[0m \u001b[0;34m\u001b[0m\u001b[0m\n\u001b[0;32m--> 207\u001b[0;31m         \u001b[0mbooster\u001b[0m\u001b[0;34m.\u001b[0m\u001b[0mupdate\u001b[0m\u001b[0;34m(\u001b[0m\u001b[0mfobj\u001b[0m\u001b[0;34m=\u001b[0m\u001b[0mfobj\u001b[0m\u001b[0;34m)\u001b[0m\u001b[0;34m\u001b[0m\u001b[0m\n\u001b[0m\u001b[1;32m    208\u001b[0m \u001b[0;34m\u001b[0m\u001b[0m\n\u001b[1;32m    209\u001b[0m         \u001b[0mevaluation_result_list\u001b[0m \u001b[0;34m=\u001b[0m \u001b[0;34m[\u001b[0m\u001b[0;34m]\u001b[0m\u001b[0;34m\u001b[0m\u001b[0m\n",
      "\u001b[0;32m~/anaconda3/lib/python3.6/site-packages/lightgbm/basic.py\u001b[0m in \u001b[0;36mupdate\u001b[0;34m(self, train_set, fobj)\u001b[0m\n\u001b[1;32m   1570\u001b[0m             _safe_call(_LIB.LGBM_BoosterUpdateOneIter(\n\u001b[1;32m   1571\u001b[0m                 \u001b[0mself\u001b[0m\u001b[0;34m.\u001b[0m\u001b[0mhandle\u001b[0m\u001b[0;34m,\u001b[0m\u001b[0;34m\u001b[0m\u001b[0m\n\u001b[0;32m-> 1572\u001b[0;31m                 ctypes.byref(is_finished)))\n\u001b[0m\u001b[1;32m   1573\u001b[0m             \u001b[0mself\u001b[0m\u001b[0;34m.\u001b[0m\u001b[0m__is_predicted_cur_iter\u001b[0m \u001b[0;34m=\u001b[0m \u001b[0;34m[\u001b[0m\u001b[0;32mFalse\u001b[0m \u001b[0;32mfor\u001b[0m \u001b[0m_\u001b[0m \u001b[0;32min\u001b[0m \u001b[0mrange_\u001b[0m\u001b[0;34m(\u001b[0m\u001b[0mself\u001b[0m\u001b[0;34m.\u001b[0m\u001b[0m__num_dataset\u001b[0m\u001b[0;34m)\u001b[0m\u001b[0;34m]\u001b[0m\u001b[0;34m\u001b[0m\u001b[0m\n\u001b[1;32m   1574\u001b[0m             \u001b[0;32mreturn\u001b[0m \u001b[0mis_finished\u001b[0m\u001b[0;34m.\u001b[0m\u001b[0mvalue\u001b[0m \u001b[0;34m==\u001b[0m \u001b[0;36m1\u001b[0m\u001b[0;34m\u001b[0m\u001b[0m\n",
      "\u001b[0;31mKeyboardInterrupt\u001b[0m: "
     ]
    }
   ],
   "source": [
    "bo.maximize(init_points = 5, n_iter = 100, kappa = 5)"
   ]
  },
  {
   "cell_type": "code",
   "execution_count": null,
   "metadata": {},
   "outputs": [],
   "source": []
  },
  {
   "cell_type": "code",
   "execution_count": 379,
   "metadata": {},
   "outputs": [
    {
     "data": {
      "text/plain": [
       "Index(['SK_ID_CURR', 'NAME_CONTRACT_TYPE', 'CODE_GENDER', 'FLAG_OWN_CAR',\n",
       "       'FLAG_OWN_REALTY', 'CNT_CHILDREN', 'AMT_INCOME_TOTAL', 'AMT_CREDIT',\n",
       "       'AMT_ANNUITY', 'AMT_GOODS_PRICE',\n",
       "       ...\n",
       "       'CREDIT_TYPE_Loan for business development',\n",
       "       'CREDIT_TYPE_Loan for purchase of shares (margin lending)',\n",
       "       'CREDIT_TYPE_Loan for the purchase of equipment',\n",
       "       'CREDIT_TYPE_Loan for working capital replenishment',\n",
       "       'CREDIT_TYPE_Microloan', 'CREDIT_TYPE_Mobile operator loan',\n",
       "       'CREDIT_TYPE_Mortgage', 'CREDIT_TYPE_Real estate loan',\n",
       "       'CREDIT_TYPE_Unknown type of loan', 'CREDIT_TYPE_nan'],\n",
       "      dtype='object', length=919)"
      ]
     },
     "execution_count": 379,
     "metadata": {},
     "output_type": "execute_result"
    }
   ],
   "source": [
    "df_test.columns"
   ]
  },
  {
   "cell_type": "code",
   "execution_count": 423,
   "metadata": {},
   "outputs": [
    {
     "data": {
      "text/plain": [
       "<module 'ml_classes' from '/projects/kaggle/home-credit-default-risk/ml_classes.py'>"
      ]
     },
     "execution_count": 423,
     "metadata": {},
     "output_type": "execute_result"
    }
   ],
   "source": []
  },
  {
   "cell_type": "code",
   "execution_count": 136,
   "metadata": {},
   "outputs": [],
   "source": [
    "from xgboost.sklearn import XGBClassifier\n",
    "from sklearn.model_selection import cross_val_score\n",
    "from sklearn.model_selection import StratifiedKFold\n",
    "from sklearn.linear_model import LogisticRegression\n",
    "from sklearn.neighbors import KNeighborsClassifier\n",
    "from sklearn.model_selection import GridSearchCV\n",
    "from sklearn.ensemble import AdaBoostClassifier\n",
    "from sklearn.pipeline import Pipeline\n",
    "from sklearn.preprocessing import Imputer\n",
    "from sklearn.preprocessing import LabelEncoder\n",
    "from sklearn.metrics import roc_auc_score"
   ]
  },
  {
   "cell_type": "code",
   "execution_count": 137,
   "metadata": {},
   "outputs": [],
   "source": [
    "import utils\n",
    "from importlib import reload\n",
    "from json import load\n",
    "import os\n",
    "import pandas as pd\n",
    "import numpy as np"
   ]
  },
  {
   "cell_type": "code",
   "execution_count": 138,
   "metadata": {},
   "outputs": [],
   "source": [
    "from pprint import pprint\n",
    "from pprint import pformat"
   ]
  },
  {
   "cell_type": "code",
   "execution_count": 139,
   "metadata": {},
   "outputs": [],
   "source": [
    "kfold = StratifiedKFold(n_splits=5, random_state=123)"
   ]
  },
  {
   "cell_type": "code",
   "execution_count": 140,
   "metadata": {},
   "outputs": [
    {
     "data": {
      "text/plain": [
       "<module 'utils' from '/projects/kaggle/home-credit-default-risk/utils.py'>"
      ]
     },
     "execution_count": 140,
     "metadata": {},
     "output_type": "execute_result"
    }
   ],
   "source": [
    "reload(utils)"
   ]
  },
  {
   "cell_type": "code",
   "execution_count": 141,
   "metadata": {},
   "outputs": [
    {
     "name": "stdout",
     "output_type": "stream",
     "text": [
      "Loading training applications\n",
      "Loading previous_application.csv.zip\n",
      "Loading credit_card_balance.csv.zip\n",
      "Loading installments_payments.csv.zip\n",
      "Loading POS_CASH_balance.csv.zip\n",
      "Loading bureau.csv.zip\n",
      "CPU times: user 1min 55s, sys: 17.1 s, total: 2min 12s\n",
      "Wall time: 2min 11s\n"
     ]
    }
   ],
   "source": [
    "%%time\n",
    "# Load dataframe\n",
    "df = utils.load_data(train = True,\n",
    "                     supp_dict = {'previous_application.csv.zip' : 'max',\n",
    "                                  'credit_card_balance.csv.zip' : 'mean',\n",
    "                                  'installments_payments.csv.zip' : 'min',\n",
    "                                  'POS_CASH_balance.csv.zip' : 'mean',\n",
    "                                  'bureau.csv.zip' : 'max'\n",
    "                                 })"
   ]
  },
  {
   "cell_type": "code",
   "execution_count": 142,
   "metadata": {},
   "outputs": [
    {
     "name": "stderr",
     "output_type": "stream",
     "text": [
      "/root/anaconda3/lib/python3.6/site-packages/pandas/core/indexing.py:543: SettingWithCopyWarning: \n",
      "A value is trying to be set on a copy of a slice from a DataFrame.\n",
      "Try using .loc[row_indexer,col_indexer] = value instead\n",
      "\n",
      "See the caveats in the documentation: http://pandas.pydata.org/pandas-docs/stable/indexing.html#indexing-view-versus-copy\n",
      "  self.obj[item] = s\n"
     ]
    },
    {
     "name": "stdout",
     "output_type": "stream",
     "text": [
      "CPU times: user 15.3 s, sys: 2.89 s, total: 18.2 s\n",
      "Wall time: 14.8 s\n"
     ]
    }
   ],
   "source": [
    "%%time\n",
    "# Create design matrix\n",
    "features = [x for x in df.columns if x != 'TARGET' and x != 'SK_ID_CURR']\n",
    "X,y = utils.get_design_matrix_lbl(df, features, train_test_split = False, train_sample = 0.75, convert_categorical = True)"
   ]
  },
  {
   "cell_type": "code",
   "execution_count": 166,
   "metadata": {},
   "outputs": [],
   "source": [
    "categorical_columns = list(df.columns[df.dtypes == object])\n",
    "categorical_feature = 'name:' + ','.join(categorical_columns)\n",
    "\n",
    "from lightgbm import LGBMClassifier\n",
    "\n",
    "params = {'boosting_type': 'gbdt',\n",
    "          'max_depth' : -1,\n",
    "          'objective': 'binary',\n",
    "          'learning_rate': 0.0212,\n",
    "          'reg_alpha': 0.8,\n",
    "          'reg_lambda': 0.4,\n",
    "          'subsample': 1,\n",
    "          'feature_fraction': 0.3,\n",
    "          'device_type': 'gpu',\n",
    "          'metric' : 'auc',\n",
    "          'random_state': 123,\n",
    "          'n_estimators': 1313, \n",
    "          'num_leaves': 40, \n",
    "          'max_bin': 255,\n",
    "          'min_data_in_leaf': 2400,\n",
    "          'min_data_in_bin': 5}\n",
    "\n",
    "clf = LGBMClassifier(**params)"
   ]
  },
  {
   "cell_type": "code",
   "execution_count": 167,
   "metadata": {},
   "outputs": [
    {
     "data": {
      "text/plain": [
       "True"
      ]
     },
     "execution_count": 167,
     "metadata": {},
     "output_type": "execute_result"
    }
   ],
   "source": [
    "type(clf) == lightgbm.sklearn.LGBMClassifier"
   ]
  },
  {
   "cell_type": "code",
   "execution_count": 175,
   "metadata": {},
   "outputs": [],
   "source": [
    "m = Model('0', 'basic lgbm')\n",
    "m.define_model(clf)\n",
    "m.set_categorical_features = categorical_columns\n",
    "m.validate_model(X,y)\n"
   ]
  },
  {
   "cell_type": "code",
   "execution_count": 178,
   "metadata": {},
   "outputs": [
    {
     "name": "stderr",
     "output_type": "stream",
     "text": [
      "/root/anaconda3/lib/python3.6/site-packages/lightgbm/basic.py:1088: UserWarning: categorical_feature in Dataset is overridden. New categorical_feature is ['CODE_GENDER', 'EMERGENCYSTATE_MODE', 'FLAG_OWN_CAR', 'FLAG_OWN_REALTY', 'FONDKAPREMONT_MODE', 'HOUSETYPE_MODE', 'NAME_CONTRACT_TYPE', 'NAME_EDUCATION_TYPE', 'NAME_FAMILY_STATUS', 'NAME_HOUSING_TYPE', 'NAME_INCOME_TYPE', 'NAME_TYPE_SUITE', 'OCCUPATION_TYPE', 'ORGANIZATION_TYPE', 'WALLSMATERIAL_MODE', 'WEEKDAY_APPR_PROCESS_START']\n",
      "  warnings.warn('categorical_feature in Dataset is overridden. New categorical_feature is {}'.format(sorted(list(categorical_feature))))\n"
     ]
    },
    {
     "data": {
      "text/plain": [
       "LGBMClassifier(boosting_type='gbdt', class_weight=None, colsample_bytree=1.0,\n",
       "        device_type='gpu', feature_fraction=0.3, importance_type='split',\n",
       "        learning_rate=0.0212, max_bin=255, max_depth=-1, metric='auc',\n",
       "        min_child_samples=20, min_child_weight=0.001, min_data_in_bin=5,\n",
       "        min_data_in_leaf=2400, min_split_gain=0.0, n_estimators=1313,\n",
       "        n_jobs=-1, num_leaves=40, objective='binary', random_state=123,\n",
       "        reg_alpha=0.8, reg_lambda=0.4, silent=True, subsample=1,\n",
       "        subsample_for_bin=200000, subsample_freq=0)"
      ]
     },
     "execution_count": 178,
     "metadata": {},
     "output_type": "execute_result"
    }
   ],
   "source": [
    "m.clf.fit(X,y, categorical_feature= categorical_columns)"
   ]
  },
  {
   "cell_type": "code",
   "execution_count": 258,
   "metadata": {},
   "outputs": [],
   "source": [
    "from sklearn.preprocessing import FunctionTransformer\n",
    "def clean_columns(data, m = 3):\n",
    "    return np.apply_along_axis(null_outliers , 0, data, **{'m':m})\n",
    "\n",
    "def null_outliers(x, m):\n",
    "    z = (x - np.nanmean(x))/np.nanstd(x)\n",
    "    outliers = abs(z) > m\n",
    "    x[abs(z) > m] = np.nan\n",
    "    return x\n",
    "\n",
    "pipe_clean_columns = FunctionTransformer(func = clean_columns, validate= False)"
   ]
  },
  {
   "cell_type": "code",
   "execution_count": 184,
   "metadata": {},
   "outputs": [
    {
     "name": "stderr",
     "output_type": "stream",
     "text": [
      "/root/anaconda3/lib/python3.6/site-packages/ipykernel_launcher.py:7: RuntimeWarning: invalid value encountered in greater\n",
      "  import sys\n",
      "/root/anaconda3/lib/python3.6/site-packages/ipykernel_launcher.py:8: RuntimeWarning: invalid value encountered in greater\n",
      "  \n",
      "/root/anaconda3/lib/python3.6/site-packages/ipykernel_launcher.py:6: RuntimeWarning: invalid value encountered in true_divide\n",
      "  \n",
      "/root/anaconda3/lib/python3.6/site-packages/ipykernel_launcher.py:7: RuntimeWarning: invalid value encountered in greater\n",
      "  import sys\n",
      "/root/anaconda3/lib/python3.6/site-packages/ipykernel_launcher.py:8: RuntimeWarning: invalid value encountered in greater\n",
      "  \n",
      "/root/anaconda3/lib/python3.6/site-packages/ipykernel_launcher.py:6: RuntimeWarning: invalid value encountered in true_divide\n",
      "  \n",
      "/root/anaconda3/lib/python3.6/site-packages/ipykernel_launcher.py:7: RuntimeWarning: invalid value encountered in greater\n",
      "  import sys\n",
      "/root/anaconda3/lib/python3.6/site-packages/ipykernel_launcher.py:8: RuntimeWarning: invalid value encountered in greater\n",
      "  \n",
      "/root/anaconda3/lib/python3.6/site-packages/ipykernel_launcher.py:6: RuntimeWarning: invalid value encountered in true_divide\n",
      "  \n",
      "/root/anaconda3/lib/python3.6/site-packages/ipykernel_launcher.py:7: RuntimeWarning: invalid value encountered in greater\n",
      "  import sys\n",
      "/root/anaconda3/lib/python3.6/site-packages/ipykernel_launcher.py:8: RuntimeWarning: invalid value encountered in greater\n",
      "  \n",
      "/root/anaconda3/lib/python3.6/site-packages/ipykernel_launcher.py:6: RuntimeWarning: invalid value encountered in true_divide\n",
      "  \n",
      "/root/anaconda3/lib/python3.6/site-packages/ipykernel_launcher.py:7: RuntimeWarning: invalid value encountered in greater\n",
      "  import sys\n",
      "/root/anaconda3/lib/python3.6/site-packages/ipykernel_launcher.py:8: RuntimeWarning: invalid value encountered in greater\n",
      "  \n",
      "/root/anaconda3/lib/python3.6/site-packages/ipykernel_launcher.py:6: RuntimeWarning: invalid value encountered in true_divide\n",
      "  \n",
      "/root/anaconda3/lib/python3.6/site-packages/ipykernel_launcher.py:7: RuntimeWarning: invalid value encountered in greater\n",
      "  import sys\n",
      "/root/anaconda3/lib/python3.6/site-packages/ipykernel_launcher.py:8: RuntimeWarning: invalid value encountered in greater\n",
      "  \n",
      "/root/anaconda3/lib/python3.6/site-packages/ipykernel_launcher.py:6: RuntimeWarning: invalid value encountered in true_divide\n",
      "  \n",
      "/root/anaconda3/lib/python3.6/site-packages/ipykernel_launcher.py:7: RuntimeWarning: invalid value encountered in greater\n",
      "  import sys\n",
      "/root/anaconda3/lib/python3.6/site-packages/ipykernel_launcher.py:8: RuntimeWarning: invalid value encountered in greater\n",
      "  \n",
      "/root/anaconda3/lib/python3.6/site-packages/ipykernel_launcher.py:6: RuntimeWarning: invalid value encountered in true_divide\n",
      "  \n",
      "/root/anaconda3/lib/python3.6/site-packages/ipykernel_launcher.py:7: RuntimeWarning: invalid value encountered in greater\n",
      "  import sys\n",
      "/root/anaconda3/lib/python3.6/site-packages/ipykernel_launcher.py:8: RuntimeWarning: invalid value encountered in greater\n",
      "  \n",
      "/root/anaconda3/lib/python3.6/site-packages/ipykernel_launcher.py:6: RuntimeWarning: invalid value encountered in true_divide\n",
      "  \n",
      "/root/anaconda3/lib/python3.6/site-packages/ipykernel_launcher.py:7: RuntimeWarning: invalid value encountered in greater\n",
      "  import sys\n",
      "/root/anaconda3/lib/python3.6/site-packages/ipykernel_launcher.py:8: RuntimeWarning: invalid value encountered in greater\n",
      "  \n",
      "/root/anaconda3/lib/python3.6/site-packages/ipykernel_launcher.py:6: RuntimeWarning: invalid value encountered in true_divide\n",
      "  \n",
      "/root/anaconda3/lib/python3.6/site-packages/ipykernel_launcher.py:7: RuntimeWarning: invalid value encountered in greater\n",
      "  import sys\n",
      "/root/anaconda3/lib/python3.6/site-packages/ipykernel_launcher.py:8: RuntimeWarning: invalid value encountered in greater\n",
      "  \n",
      "/root/anaconda3/lib/python3.6/site-packages/ipykernel_launcher.py:6: RuntimeWarning: invalid value encountered in true_divide\n",
      "  \n"
     ]
    }
   ],
   "source": [
    "m2 = Model('1', 'basic lgbm with outlier cleaning')\n",
    "m2.define_model(Pipeline([('outlier_detection', pipe_clean_columns),\n",
    "                          ('clf', clf)]))\n",
    "m2.set_categorical_features = categorical_columns\n",
    "m2.validate_model(X,y)"
   ]
  },
  {
   "cell_type": "code",
   "execution_count": 225,
   "metadata": {},
   "outputs": [],
   "source": [
    "X_reduced = X.drop(axis = 1, columns= excluded_features)"
   ]
  },
  {
   "cell_type": "code",
   "execution_count": null,
   "metadata": {},
   "outputs": [],
   "source": [
    "m3 = Model('1', 'basic lgbm with outlier cleaning')\n",
    "m3.define_model(Pipeline([('outlier_detection', pipe_clean_columns),\n",
    "                          ('clf', clf)]))\n",
    "m3.set_categorical_featureas = categorical_columns\n",
    "m3.validate_model(X_reduced,y)\n"
   ]
  },
  {
   "cell_type": "code",
   "execution_count": 228,
   "metadata": {},
   "outputs": [
    {
     "data": {
      "text/plain": [
       "array([0.78710069, 0.78931836, 0.78391131, 0.78761337, 0.78892879])"
      ]
     },
     "execution_count": 228,
     "metadata": {},
     "output_type": "execute_result"
    }
   ],
   "source": [
    "m3.validation_scores"
   ]
  },
  {
   "cell_type": "code",
   "execution_count": 229,
   "metadata": {},
   "outputs": [
    {
     "name": "stderr",
     "output_type": "stream",
     "text": [
      "/root/anaconda3/lib/python3.6/site-packages/ipykernel_launcher.py:7: RuntimeWarning: invalid value encountered in greater\n",
      "  import sys\n",
      "/root/anaconda3/lib/python3.6/site-packages/ipykernel_launcher.py:8: RuntimeWarning: invalid value encountered in greater\n",
      "  \n"
     ]
    },
    {
     "data": {
      "text/plain": [
       "Pipeline(memory=None,\n",
       "     steps=[('outlier_detection', FunctionTransformer(accept_sparse=False,\n",
       "          func=<function clean_columns at 0x7f052b4cee18>,\n",
       "          inv_kw_args=None, inverse_func=None, kw_args=None,\n",
       "          pass_y='deprecated', validate=False)), ('clf', LGBMClassifier(boosting_type='gbdt', class_weight=Non...0.8, reg_lambda=0.4, silent=True, subsample=1,\n",
       "        subsample_for_bin=200000, subsample_freq=0))])"
      ]
     },
     "execution_count": 229,
     "metadata": {},
     "output_type": "execute_result"
    }
   ],
   "source": [
    "m3.clf.fit(X_reduced, y)"
   ]
  },
  {
   "cell_type": "code",
   "execution_count": 187,
   "metadata": {},
   "outputs": [
    {
     "data": {
      "text/plain": [
       "0.7872275400428221"
      ]
     },
     "execution_count": 187,
     "metadata": {},
     "output_type": "execute_result"
    }
   ],
   "source": [
    "m2.validation_scores.mean()"
   ]
  },
  {
   "cell_type": "code",
   "execution_count": 363,
   "metadata": {},
   "outputs": [],
   "source": [
    "X_reduced['AMT_CREDIT__AMT_ANNUITY'] = X_reduced.AMT_CREDIT/X_reduced.AMT_ANNUITY"
   ]
  },
  {
   "cell_type": "code",
   "execution_count": 364,
   "metadata": {},
   "outputs": [],
   "source": [
    "X_reduced['DAYS_ENTRY_PAYMENT__DAYS_DECISION'] = X_reduced.DAYS_ENTRY_PAYMENT / X_reduced.DAYS_DECISION"
   ]
  },
  {
   "cell_type": "code",
   "execution_count": 375,
   "metadata": {},
   "outputs": [],
   "source": [
    "X_test_reduced['AMT_CREDIT__AMT_ANNUITY'] = X_test_reduced.AMT_CREDIT/X_test_reduced.AMT_ANNUITY\n",
    "X_test_reduced['DAYS_ENTRY_PAYMENT__DAYS_DECISION'] = X_test_reduced.DAYS_ENTRY_PAYMENT / X_test_reduced.DAYS_DECISION"
   ]
  },
  {
   "cell_type": "code",
   "execution_count": 365,
   "metadata": {},
   "outputs": [
    {
     "name": "stderr",
     "output_type": "stream",
     "text": [
      "/root/anaconda3/lib/python3.6/site-packages/ipykernel_launcher.py:7: RuntimeWarning: invalid value encountered in greater\n",
      "  import sys\n",
      "/root/anaconda3/lib/python3.6/site-packages/ipykernel_launcher.py:8: RuntimeWarning: invalid value encountered in greater\n",
      "  \n",
      "/root/anaconda3/lib/python3.6/site-packages/ipykernel_launcher.py:7: RuntimeWarning: invalid value encountered in greater\n",
      "  import sys\n",
      "/root/anaconda3/lib/python3.6/site-packages/ipykernel_launcher.py:8: RuntimeWarning: invalid value encountered in greater\n",
      "  \n",
      "/root/anaconda3/lib/python3.6/site-packages/ipykernel_launcher.py:7: RuntimeWarning: invalid value encountered in greater\n",
      "  import sys\n",
      "/root/anaconda3/lib/python3.6/site-packages/ipykernel_launcher.py:8: RuntimeWarning: invalid value encountered in greater\n",
      "  \n",
      "/root/anaconda3/lib/python3.6/site-packages/ipykernel_launcher.py:7: RuntimeWarning: invalid value encountered in greater\n",
      "  import sys\n",
      "/root/anaconda3/lib/python3.6/site-packages/ipykernel_launcher.py:8: RuntimeWarning: invalid value encountered in greater\n",
      "  \n",
      "/root/anaconda3/lib/python3.6/site-packages/ipykernel_launcher.py:7: RuntimeWarning: invalid value encountered in greater\n",
      "  import sys\n",
      "/root/anaconda3/lib/python3.6/site-packages/ipykernel_launcher.py:8: RuntimeWarning: invalid value encountered in greater\n",
      "  \n",
      "/root/anaconda3/lib/python3.6/site-packages/ipykernel_launcher.py:7: RuntimeWarning: invalid value encountered in greater\n",
      "  import sys\n",
      "/root/anaconda3/lib/python3.6/site-packages/ipykernel_launcher.py:8: RuntimeWarning: invalid value encountered in greater\n",
      "  \n",
      "/root/anaconda3/lib/python3.6/site-packages/ipykernel_launcher.py:7: RuntimeWarning: invalid value encountered in greater\n",
      "  import sys\n",
      "/root/anaconda3/lib/python3.6/site-packages/ipykernel_launcher.py:8: RuntimeWarning: invalid value encountered in greater\n",
      "  \n",
      "/root/anaconda3/lib/python3.6/site-packages/ipykernel_launcher.py:7: RuntimeWarning: invalid value encountered in greater\n",
      "  import sys\n",
      "/root/anaconda3/lib/python3.6/site-packages/ipykernel_launcher.py:8: RuntimeWarning: invalid value encountered in greater\n",
      "  \n",
      "/root/anaconda3/lib/python3.6/site-packages/ipykernel_launcher.py:7: RuntimeWarning: invalid value encountered in greater\n",
      "  import sys\n",
      "/root/anaconda3/lib/python3.6/site-packages/ipykernel_launcher.py:8: RuntimeWarning: invalid value encountered in greater\n",
      "  \n",
      "/root/anaconda3/lib/python3.6/site-packages/ipykernel_launcher.py:7: RuntimeWarning: invalid value encountered in greater\n",
      "  import sys\n",
      "/root/anaconda3/lib/python3.6/site-packages/ipykernel_launcher.py:8: RuntimeWarning: invalid value encountered in greater\n",
      "  \n"
     ]
    }
   ],
   "source": [
    "m5 = Model('5', '1 round of feature selection. looser outlier detection')\n",
    "m5.define_model(Pipeline([('outlier_detection', FunctionTransformer(func = lambda data: np.apply_along_axis(null_outliers , 0, data, **{'m':3}), validate=False)),\n",
    "                          ('clf', clf)]))\n",
    "m5.validate_model(X_reduced, y)"
   ]
  },
  {
   "cell_type": "code",
   "execution_count": 369,
   "metadata": {},
   "outputs": [
    {
     "name": "stderr",
     "output_type": "stream",
     "text": [
      "/root/anaconda3/lib/python3.6/site-packages/ipykernel_launcher.py:7: RuntimeWarning: invalid value encountered in greater\n",
      "  import sys\n",
      "/root/anaconda3/lib/python3.6/site-packages/ipykernel_launcher.py:8: RuntimeWarning: invalid value encountered in greater\n",
      "  \n"
     ]
    }
   ],
   "source": [
    "m5.train(X_reduced, y)"
   ]
  },
  {
   "cell_type": "code",
   "execution_count": 278,
   "metadata": {},
   "outputs": [
    {
     "data": {
      "text/plain": [
       "{'clf__n_estimators': 1500}"
      ]
     },
     "execution_count": 278,
     "metadata": {},
     "output_type": "execute_result"
    }
   ],
   "source": [
    "m5.best_params"
   ]
  },
  {
   "cell_type": "code",
   "execution_count": 279,
   "metadata": {},
   "outputs": [
    {
     "data": {
      "text/plain": [
       "0.7879072462531936"
      ]
     },
     "execution_count": 279,
     "metadata": {},
     "output_type": "execute_result"
    }
   ],
   "source": [
    "m5.best_score"
   ]
  },
  {
   "cell_type": "code",
   "execution_count": 384,
   "metadata": {},
   "outputs": [
    {
     "data": {
      "text/plain": [
       "{76: 'AMT_ANNUITY_5',\n",
       " 214: 'CODE_GENDER',\n",
       " 77: 'PRODUCT_COMBINATION_Cash X-Sell: middle_mean',\n",
       " 35: 'AMT_CREDIT_LIMIT_ACTUAL',\n",
       " 41: 'AMT_DRAWINGS_POS_CURRENT_mean',\n",
       " 368: 'AMT_INCOME_TOTAL',\n",
       " 716: 'AMT_CREDIT',\n",
       " 782: 'AMT_ANNUITY',\n",
       " 664: 'DAYS_CREDIT_max',\n",
       " 28: 'NAME_TYPE_SUITE_Other_B_mean',\n",
       " 101: 'BASEMENTAREA_MODE',\n",
       " 128: 'NAME_EDUCATION_TYPE',\n",
       " 284: 'NAME_FAMILY_STATUS',\n",
       " 45: 'CREDIT_DAY_OVERDUE_max',\n",
       " 475: 'REGION_POPULATION_RELATIVE',\n",
       " 890: 'DAYS_BIRTH',\n",
       " 578: 'DAYS_EMPLOYED',\n",
       " 536: 'DAYS_REGISTRATION',\n",
       " 588: 'DAYS_ID_PUBLISH',\n",
       " 297: 'OWN_CAR_AGE',\n",
       " 14: 'NAME_TYPE_SUITE_nan',\n",
       " 119: 'NAME_PORTFOLIO_Cash_mean',\n",
       " 52: 'AMT_INST_MIN_REGULARITY_mean',\n",
       " 247: 'OCCUPATION_TYPE',\n",
       " 63: 'SK_DPD_DEF_max_4',\n",
       " 71: 'REGION_RATING_CLIENT',\n",
       " 109: 'NAME_SELLER_INDUSTRY_Consumer electronics_mean',\n",
       " 178: 'WEEKDAY_APPR_PROCESS_START',\n",
       " 226: 'HOUR_APPR_PROCESS_START',\n",
       " 8: 'CREDIT_ACTIVE_Sold_mean',\n",
       " 9: 'CREDIT_ACTIVE_Active_max',\n",
       " 78: 'REG_CITY_NOT_LIVE_CITY',\n",
       " 7: 'CNT_INSTALMENT_FUTURE',\n",
       " 36: 'AMT_CREDIT_LIMIT_ACTUAL_max',\n",
       " 388: 'ORGANIZATION_TYPE',\n",
       " 842: 'EXT_SOURCE_1',\n",
       " 844: 'EXT_SOURCE_2',\n",
       " 882: 'EXT_SOURCE_3',\n",
       " 141: 'APARTMENTS_AVG',\n",
       " 110: 'HOUR_APPR_PROCESS_START_1',\n",
       " 132: 'AMT_CREDIT_SUM_DEBT',\n",
       " 51: 'YEARS_BUILD_AVG',\n",
       " 67: 'AMT_TOTAL_RECEIVABLE_mean',\n",
       " 39: 'ELEVATORS_AVG',\n",
       " 85: 'ENTRANCES_AVG',\n",
       " 66: 'CNT_DRAWINGS_ATM_CURRENT_max',\n",
       " 151: 'CNT_INSTALMENT_max',\n",
       " 58: 'NAME_GOODS_CATEGORY_Mobile_mean',\n",
       " 117: 'NAME_PRODUCT_TYPE_XNA_mean',\n",
       " 42: 'NONLIVINGAPARTMENTS_AVG',\n",
       " 100: 'PRODUCT_COMBINATION_POS household with interest_mean',\n",
       " 116: 'OBS_30_CNT_SOCIAL_CIRCLE',\n",
       " 137: 'YEARS_BEGINEXPLUATATION_MODE',\n",
       " 68: 'AMT_RECIVABLE_mean',\n",
       " 59: 'AMT_PAYMENT_CURRENT',\n",
       " 30: 'FLOORSMAX_MODE',\n",
       " 44: 'CREDIT_TYPE_Microloan_mean',\n",
       " 46: 'WALLSMATERIAL_MODE',\n",
       " 112: 'LIVINGAREA_MODE',\n",
       " 16: 'CREDIT_TYPE_Consumer credit',\n",
       " 86: 'CHANNEL_TYPE_Stone_mean',\n",
       " 135: 'WEEKDAY_APPR_PROCESS_START_TUESDAY_mean',\n",
       " 99: 'BASEMENTAREA_MEDI',\n",
       " 133: 'AMT_APPLICATION',\n",
       " 57: 'NAME_CONTRACT_STATUS_Signed_mean_4',\n",
       " 93: 'COMMONAREA_MEDI',\n",
       " 56: 'AMT_RECIVABLE_max',\n",
       " 27: 'SK_DPD_mean',\n",
       " 113: 'AMT_PAYMENT_TOTAL_CURRENT_mean',\n",
       " 60: 'AMT_PAYMENT_TOTAL_CURRENT_max',\n",
       " 24: 'NAME_SELLER_INDUSTRY_Consumer electronics_max',\n",
       " 0: 'NAME_YIELD_GROUP_low_normal',\n",
       " 218: 'DAYS_INSTALMENT',\n",
       " 5: 'NAME_CONTRACT_STATUS_Completed_max_4',\n",
       " 115: 'NUM_INSTALMENT_VERSION_max',\n",
       " 134: 'OBS_60_CNT_SOCIAL_CIRCLE',\n",
       " 55: 'CREDIT_TYPE_Car loan_mean',\n",
       " 470: 'DAYS_LAST_PHONE_CHANGE',\n",
       " 106: 'FLAG_DOCUMENT_3',\n",
       " 13: 'PRODUCT_COMBINATION_POS household with interest_max',\n",
       " 4: 'CREDIT_TYPE_Car loan_max',\n",
       " 15: 'PRODUCT_COMBINATION_Cash Street: high_max',\n",
       " 79: 'PRODUCT_COMBINATION_Cash X-Sell: high_mean',\n",
       " 108: 'NAME_PRODUCT_TYPE_x-sell_mean',\n",
       " 411: 'AMT_ANNUITY_mean',\n",
       " 275: 'AMT_APPLICATION_mean',\n",
       " 272: 'DAYS_LAST_DUE_1ST_VERSION_mean',\n",
       " 304: 'AMT_DOWN_PAYMENT_mean',\n",
       " 273: 'AMT_GOODS_PRICE_mean',\n",
       " 274: 'HOUR_APPR_PROCESS_START_mean',\n",
       " 302: 'RATE_DOWN_PAYMENT_mean',\n",
       " 266: 'DAYS_DECISION_mean',\n",
       " 278: 'SELLERPLACE_AREA_mean',\n",
       " 508: 'CNT_PAYMENT_mean',\n",
       " 285: 'DAYS_FIRST_DUE_mean',\n",
       " 291: 'DAYS_LAST_DUE_mean',\n",
       " 209: 'DAYS_TERMINATION_mean',\n",
       " 131: 'CNT_DRAWINGS_CURRENT_max',\n",
       " 276: 'DAYS_ENDDATE_FACT_mean',\n",
       " 162: 'WEEKDAY_APPR_PROCESS_START_THURSDAY_mean',\n",
       " 231: 'AMT_CREDIT_max',\n",
       " 416: 'AMT_DOWN_PAYMENT_max',\n",
       " 198: 'AMT_GOODS_PRICE_max',\n",
       " 225: 'HOUR_APPR_PROCESS_START_max',\n",
       " 346: 'RATE_DOWN_PAYMENT_max',\n",
       " 393: 'DAYS_DECISION_max',\n",
       " 296: 'SELLERPLACE_AREA_max',\n",
       " 256: 'DAYS_FIRST_DUE_max',\n",
       " 386: 'DAYS_LAST_DUE_1ST_VERSION_max',\n",
       " 125: 'WEEKDAY_APPR_PROCESS_START_MONDAY_mean',\n",
       " 84: 'DAYS_TERMINATION_max',\n",
       " 11: 'PRODUCT_COMBINATION_POS mobile with interest_max',\n",
       " 307: 'DAYS_CREDIT_UPDATE_mean',\n",
       " 190: 'AMT_CREDIT_1',\n",
       " 325: 'AMT_GOODS_PRICE_1',\n",
       " 158: 'RATE_DOWN_PAYMENT',\n",
       " 183: 'CREDIT_ACTIVE_Closed_mean',\n",
       " 83: 'PRODUCT_COMBINATION_Cash Street: low_mean',\n",
       " 168: 'DAYS_FIRST_DUE',\n",
       " 236: 'MONTHS_BALANCE_max_4',\n",
       " 251: 'DAYS_LAST_DUE',\n",
       " 177: 'WEEKDAY_APPR_PROCESS_START_FRIDAY_mean',\n",
       " 82: 'PRODUCT_COMBINATION_POS mobile with interest_mean',\n",
       " 87: 'NAME_CONTRACT_STATUS_Canceled_mean',\n",
       " 139: 'CHANNEL_TYPE_Country-wide_mean',\n",
       " 90: 'NAME_YIELD_GROUP_XNA_mean',\n",
       " 103: 'WEEKDAY_APPR_PROCESS_START_WEDNESDAY_mean',\n",
       " 17: 'CREDIT_TYPE_Microloan_max',\n",
       " 3: 'CREDIT_ACTIVE_Closed',\n",
       " 187: 'NAME_CONTRACT_STATUS_Approved_mean',\n",
       " 215: 'NAME_CONTRACT_STATUS_Refused_mean',\n",
       " 122: 'NAME_PAYMENT_TYPE_Cash through the bank_mean',\n",
       " 107: 'NAME_CLIENT_TYPE_Refreshed_mean',\n",
       " 22: 'NAME_CONTRACT_STATUS_Active',\n",
       " 189: 'CODE_REJECT_REASON_XAP_mean',\n",
       " 120: 'NAME_TYPE_SUITE_Family_mean',\n",
       " 192: 'NAME_TYPE_SUITE_nan_mean',\n",
       " 159: 'NAME_CLIENT_TYPE_New_mean',\n",
       " 118: 'NAME_CLIENT_TYPE_Repeater_mean',\n",
       " 19: 'NAME_GOODS_CATEGORY_Furniture_max',\n",
       " 54: 'AMT_DRAWINGS_CURRENT_max',\n",
       " 38: 'AMT_INST_MIN_REGULARITY_max',\n",
       " 2: 'PRODUCT_COMBINATION_POS industry with interest',\n",
       " 81: 'CNT_DRAWINGS_POS_CURRENT_max',\n",
       " 74: 'CREDIT_TYPE_Mortgage_mean',\n",
       " 104: 'AMT_DRAWINGS_CURRENT_mean',\n",
       " 33: 'SK_DPD_DEF_mean',\n",
       " 62: 'CHANNEL_TYPE_Contact center_mean',\n",
       " 121: 'CHANNEL_TYPE_Credit and cash offices_mean',\n",
       " 18: 'NAME_CONTRACT_STATUS_Active_mean',\n",
       " 255: 'NAME_YIELD_GROUP_high_mean',\n",
       " 96: 'NAME_YIELD_GROUP_low_action_mean',\n",
       " 196: 'AMT_CREDIT_SUM_LIMIT_max',\n",
       " 142: 'SK_DPD_DEF_mean_4',\n",
       " 43: 'PRODUCT_COMBINATION_POS household without interest_mean',\n",
       " 48: 'PRODUCT_COMBINATION_Cash Street: high_mean',\n",
       " 70: 'PRODUCT_COMBINATION_POS industry with interest_mean',\n",
       " 10: 'AMT_CREDIT_SUM_OVERDUE_max',\n",
       " 1: 'CREDIT_TYPE_Consumer credit_max',\n",
       " 6: 'AMT_CREDIT_SUM_OVERDUE_mean',\n",
       " 31: 'NAME_CONTRACT_STATUS_Refused_max',\n",
       " 21: 'AMT_TOTAL_RECEIVABLE',\n",
       " 23: 'CREDIT_TYPE_Credit card_max',\n",
       " 75: 'AMT_BALANCE_mean',\n",
       " 160: 'AMT_CREDIT_LIMIT_ACTUAL_mean',\n",
       " 80: 'AMT_DRAWINGS_ATM_CURRENT_mean',\n",
       " 123: 'AMT_PAYMENT_CURRENT_mean',\n",
       " 102: 'AMT_RECEIVABLE_PRINCIPAL_mean',\n",
       " 144: 'CNT_DRAWINGS_ATM_CURRENT_mean',\n",
       " 73: 'AMT_PAYMENT_CURRENT_max',\n",
       " 65: 'AMT_DRAWINGS_ATM_CURRENT_max',\n",
       " 47: 'AMT_RECEIVABLE_PRINCIPAL_max',\n",
       " 61: 'SK_DPD_max_4',\n",
       " 290: 'NUM_INSTALMENT_VERSION_mean',\n",
       " 407: 'NUM_INSTALMENT_NUMBER_mean',\n",
       " 181: 'DAYS_INSTALMENT_mean',\n",
       " 206: 'DAYS_ENTRY_PAYMENT_mean',\n",
       " 301: 'AMT_INSTALMENT_mean',\n",
       " 458: 'AMT_PAYMENT_mean',\n",
       " 362: 'NUM_INSTALMENT_NUMBER_max',\n",
       " 479: 'DAYS_INSTALMENT_max',\n",
       " 616: 'DAYS_ENTRY_PAYMENT_max',\n",
       " 373: 'AMT_INSTALMENT_max',\n",
       " 311: 'AMT_PAYMENT_max',\n",
       " 173: 'DAYS_ENTRY_PAYMENT',\n",
       " 330: 'AMT_INSTALMENT',\n",
       " 691: 'DAYS_CREDIT_ENDDATE_max',\n",
       " 263: 'MONTHS_BALANCE_mean_4',\n",
       " 259: 'DAYS_ENDDATE_FACT',\n",
       " 516: 'CNT_INSTALMENT_FUTURE_mean',\n",
       " 138: 'SK_DPD_mean_4',\n",
       " 180: 'CNT_INSTALMENT_FUTURE_max',\n",
       " 208: 'MONTHS_BALANCE_4',\n",
       " 148: 'CNT_INSTALMENT',\n",
       " 306: 'NAME_CONTRACT_STATUS_Active_mean_4',\n",
       " 271: 'NAME_CONTRACT_STATUS_Completed_mean_4',\n",
       " 265: 'SK_ID_BUREAU_mean',\n",
       " 436: 'DAYS_CREDIT_mean',\n",
       " 348: 'DAYS_CREDIT_ENDDATE_mean',\n",
       " 334: 'AMT_CREDIT_MAX_OVERDUE_mean',\n",
       " 414: 'AMT_CREDIT_SUM_mean',\n",
       " 488: 'AMT_CREDIT_SUM_DEBT_mean',\n",
       " 140: 'AMT_CREDIT_SUM_LIMIT_mean',\n",
       " 171: 'AMT_ANNUITY_mean_5',\n",
       " 326: 'SK_ID_BUREAU_max',\n",
       " 510: 'DAYS_ENDDATE_FACT_max',\n",
       " 331: 'AMT_CREDIT_MAX_OVERDUE_max',\n",
       " 527: 'AMT_CREDIT_SUM_max',\n",
       " 462: 'AMT_CREDIT_SUM_DEBT_max',\n",
       " 360: 'DAYS_CREDIT_UPDATE_max',\n",
       " 129: 'AMT_ANNUITY_max_5',\n",
       " 286: 'SK_ID_BUREAU',\n",
       " 339: 'DAYS_CREDIT',\n",
       " 351: 'DAYS_CREDIT_ENDDATE',\n",
       " 447: 'AMT_CREDIT_SUM',\n",
       " 244: 'DAYS_CREDIT_UPDATE',\n",
       " 212: 'CREDIT_ACTIVE_Active_mean',\n",
       " 155: 'CREDIT_TYPE_Consumer credit_mean',\n",
       " 210: 'CREDIT_TYPE_Credit card_mean',\n",
       " 25: 'CREDIT_TYPE_Mortgage_max',\n",
       " 1710: 'AMT_CREDIT__AMT_ANNUITY',\n",
       " 352: 'DAYS_ENTRY_PAYMENT__DAYS_DECISION'}"
      ]
     },
     "execution_count": 384,
     "metadata": {},
     "output_type": "execute_result"
    }
   ],
   "source": [
    "dict(zip(m5.clf.named_steps.clf.feature_importances_, X_reduced.columns))"
   ]
  },
  {
   "cell_type": "code",
   "execution_count": 266,
   "metadata": {},
   "outputs": [
    {
     "data": {
      "text/plain": [
       "0.7876295119003531"
      ]
     },
     "execution_count": 266,
     "metadata": {},
     "output_type": "execute_result"
    }
   ],
   "source": [
    "m5.validation_scores.mean()"
   ]
  },
  {
   "cell_type": "code",
   "execution_count": 280,
   "metadata": {},
   "outputs": [],
   "source": [
    "params = {'boosting_type': 'gbdt',\n",
    "          'max_depth' : -1,\n",
    "          'objective': 'binary',\n",
    "          'learning_rate': 0.0212,\n",
    "          'reg_alpha': 0.8,\n",
    "          'reg_lambda': 0.4,\n",
    "          'subsample': 1,\n",
    "          'feature_fraction': 0.3,\n",
    "          'device_type': 'gpu',\n",
    "          'metric' : 'auc',\n",
    "          'random_state': 123,\n",
    "          'n_estimators': 1500, \n",
    "          'num_leaves': 40, \n",
    "          'max_bin': 255,\n",
    "          'min_data_in_leaf': 2400,\n",
    "          'min_data_in_bin': 5}\n",
    "\n",
    "clf = LGBMClassifier(**params)"
   ]
  },
  {
   "cell_type": "code",
   "execution_count": 281,
   "metadata": {},
   "outputs": [],
   "source": [
    "m8 = Model('5', '1 round of feature selection. looser outlier detection')\n",
    "m8.define_model(Pipeline([('outlier_detection', FunctionTransformer(func = lambda data: np.apply_along_axis(null_outliers , 0, data, **{'m':5}), validate=False)),\n",
    "                          ('clf', clf)]))\n",
    "#m8.set_categorical_features = categorical_columns\n",
    "#m8.validate_model(X_reduced, y)"
   ]
  },
  {
   "cell_type": "code",
   "execution_count": null,
   "metadata": {},
   "outputs": [],
   "source": [
    "m8.tune_model(X_reduced, y, param_grid={'clf__learning_rate': [0.01, 0.015, 0.02, 0.0212, 0.025, 0.03, 0.04, 0.05]})"
   ]
  },
  {
   "cell_type": "code",
   "execution_count": 288,
   "metadata": {},
   "outputs": [
    {
     "data": {
      "text/plain": [
       "Pipeline(memory=None,\n",
       "     steps=[('outlier_detection', FunctionTransformer(accept_sparse=False,\n",
       "          func=<function <lambda> at 0x7f04d97f7488>, inv_kw_args=None,\n",
       "          inverse_func=None, kw_args=None, pass_y='deprecated',\n",
       "          validate=False)), ('clf', LGBMClassifier(boosting_type='gbdt', class_weight=None, co...0.8, reg_lambda=0.4, silent=True, subsample=1,\n",
       "        subsample_for_bin=200000, subsample_freq=0))])"
      ]
     },
     "execution_count": 288,
     "metadata": {},
     "output_type": "execute_result"
    }
   ],
   "source": [
    "m8.best_estimator"
   ]
  },
  {
   "cell_type": "code",
   "execution_count": null,
   "metadata": {},
   "outputs": [],
   "source": [
    "m8.cv_results"
   ]
  },
  {
   "cell_type": "code",
   "execution_count": 293,
   "metadata": {},
   "outputs": [],
   "source": [
    "importance_weights = m8.best_estimator.named_steps.clf.feature_importances_\n",
    "importance_weights = importance_weights / importance_weights.sum()"
   ]
  },
  {
   "cell_type": "code",
   "execution_count": 385,
   "metadata": {},
   "outputs": [],
   "source": [
    "# Initialize search.\n",
    "np.random.seed(123)\n",
    "score_improvement = {}\n"
   ]
  },
  {
   "cell_type": "code",
   "execution_count": null,
   "metadata": {},
   "outputs": [],
   "source": [
    "# Keep searching\n",
    "for i in range(1000):\n",
    "    random_vars = list(np.random.choice(X_reduced.columns, size =2, p = importance_weights, replace= False))\n",
    "    print(random_vars)\n",
    "    \n",
    "    X_tmp = X_reduced.loc[:, random_vars ]\n",
    "    X_tmp['_DIV_'.join(random_vars)] = X_tmp.iloc[:,0] / (X_tmp.iloc[:,1] + 1)\n",
    "\n",
    "    init_score = cross_val_score(XGBClassifier(n_jobs = 4), X_tmp.loc[:,random_vars], y, scoring = 'roc_auc', cv = 5)\n",
    "    extended_score = cross_val_score(XGBClassifier(n_jobs = 4), X_tmp, y, scoring = 'roc_auc', cv = 5)\n",
    "\n",
    "    improvement = extended_score.mean()/init_score.mean()\n",
    "    \n",
    "    score_improvement[(random_vars[0], random_vars[1])] = improvement\n",
    "    print(improvement)\n"
   ]
  },
  {
   "cell_type": "code",
   "execution_count": 394,
   "metadata": {},
   "outputs": [],
   "source": [
    "importance_wts = m5.clf.named_steps.clf.feature_importances_\n",
    "importance_wts = importance_wts / importance_wts.sum()\n",
    "\n",
    "\n",
    "\n"
   ]
  },
  {
   "cell_type": "code",
   "execution_count": 402,
   "metadata": {},
   "outputs": [],
   "source": []
  },
  {
   "cell_type": "code",
   "execution_count": 396,
   "metadata": {},
   "outputs": [
    {
     "name": "stdout",
     "output_type": "stream",
     "text": [
      "['AMT_CREDIT__AMT_ANNUITY', 'DAYS_ENTRY_PAYMENT_max']\n"
     ]
    },
    {
     "name": "stderr",
     "output_type": "stream",
     "text": [
      "/root/anaconda3/lib/python3.6/site-packages/lightgbm/basic.py:187: UserWarning: Usage subset(sliced data) of np.ndarray is not recommended due to it will double the peak memory cost in LightGBM.\n",
      "  warnings.warn(\"Usage subset(sliced data) of np.ndarray is not recommended due to it will double the peak memory cost in LightGBM.\")\n",
      "/root/anaconda3/lib/python3.6/site-packages/lightgbm/basic.py:187: UserWarning: Usage subset(sliced data) of np.ndarray is not recommended due to it will double the peak memory cost in LightGBM.\n",
      "  warnings.warn(\"Usage subset(sliced data) of np.ndarray is not recommended due to it will double the peak memory cost in LightGBM.\")\n",
      "/root/anaconda3/lib/python3.6/site-packages/lightgbm/basic.py:187: UserWarning: Usage subset(sliced data) of np.ndarray is not recommended due to it will double the peak memory cost in LightGBM.\n",
      "  warnings.warn(\"Usage subset(sliced data) of np.ndarray is not recommended due to it will double the peak memory cost in LightGBM.\")\n",
      "/root/anaconda3/lib/python3.6/site-packages/lightgbm/basic.py:187: UserWarning: Usage subset(sliced data) of np.ndarray is not recommended due to it will double the peak memory cost in LightGBM.\n",
      "  warnings.warn(\"Usage subset(sliced data) of np.ndarray is not recommended due to it will double the peak memory cost in LightGBM.\")\n",
      "/root/anaconda3/lib/python3.6/site-packages/lightgbm/basic.py:187: UserWarning: Usage subset(sliced data) of np.ndarray is not recommended due to it will double the peak memory cost in LightGBM.\n",
      "  warnings.warn(\"Usage subset(sliced data) of np.ndarray is not recommended due to it will double the peak memory cost in LightGBM.\")\n",
      "/root/anaconda3/lib/python3.6/site-packages/lightgbm/basic.py:187: UserWarning: Usage subset(sliced data) of np.ndarray is not recommended due to it will double the peak memory cost in LightGBM.\n",
      "  warnings.warn(\"Usage subset(sliced data) of np.ndarray is not recommended due to it will double the peak memory cost in LightGBM.\")\n",
      "/root/anaconda3/lib/python3.6/site-packages/lightgbm/basic.py:187: UserWarning: Usage subset(sliced data) of np.ndarray is not recommended due to it will double the peak memory cost in LightGBM.\n",
      "  warnings.warn(\"Usage subset(sliced data) of np.ndarray is not recommended due to it will double the peak memory cost in LightGBM.\")\n",
      "/root/anaconda3/lib/python3.6/site-packages/lightgbm/basic.py:187: UserWarning: Usage subset(sliced data) of np.ndarray is not recommended due to it will double the peak memory cost in LightGBM.\n",
      "  warnings.warn(\"Usage subset(sliced data) of np.ndarray is not recommended due to it will double the peak memory cost in LightGBM.\")\n",
      "/root/anaconda3/lib/python3.6/site-packages/lightgbm/basic.py:187: UserWarning: Usage subset(sliced data) of np.ndarray is not recommended due to it will double the peak memory cost in LightGBM.\n",
      "  warnings.warn(\"Usage subset(sliced data) of np.ndarray is not recommended due to it will double the peak memory cost in LightGBM.\")\n",
      "/root/anaconda3/lib/python3.6/site-packages/lightgbm/basic.py:187: UserWarning: Usage subset(sliced data) of np.ndarray is not recommended due to it will double the peak memory cost in LightGBM.\n",
      "  warnings.warn(\"Usage subset(sliced data) of np.ndarray is not recommended due to it will double the peak memory cost in LightGBM.\")\n",
      "/root/anaconda3/lib/python3.6/site-packages/lightgbm/basic.py:187: UserWarning: Usage subset(sliced data) of np.ndarray is not recommended due to it will double the peak memory cost in LightGBM.\n",
      "  warnings.warn(\"Usage subset(sliced data) of np.ndarray is not recommended due to it will double the peak memory cost in LightGBM.\")\n",
      "/root/anaconda3/lib/python3.6/site-packages/lightgbm/basic.py:187: UserWarning: Usage subset(sliced data) of np.ndarray is not recommended due to it will double the peak memory cost in LightGBM.\n",
      "  warnings.warn(\"Usage subset(sliced data) of np.ndarray is not recommended due to it will double the peak memory cost in LightGBM.\")\n",
      "/root/anaconda3/lib/python3.6/site-packages/lightgbm/basic.py:187: UserWarning: Usage subset(sliced data) of np.ndarray is not recommended due to it will double the peak memory cost in LightGBM.\n",
      "  warnings.warn(\"Usage subset(sliced data) of np.ndarray is not recommended due to it will double the peak memory cost in LightGBM.\")\n",
      "/root/anaconda3/lib/python3.6/site-packages/lightgbm/basic.py:187: UserWarning: Usage subset(sliced data) of np.ndarray is not recommended due to it will double the peak memory cost in LightGBM.\n",
      "  warnings.warn(\"Usage subset(sliced data) of np.ndarray is not recommended due to it will double the peak memory cost in LightGBM.\")\n",
      "/root/anaconda3/lib/python3.6/site-packages/lightgbm/basic.py:187: UserWarning: Usage subset(sliced data) of np.ndarray is not recommended due to it will double the peak memory cost in LightGBM.\n",
      "  warnings.warn(\"Usage subset(sliced data) of np.ndarray is not recommended due to it will double the peak memory cost in LightGBM.\")\n"
     ]
    },
    {
     "data": {
      "text/plain": [
       "GridSearchCV(cv=StratifiedKFold(n_splits=5, random_state=123, shuffle=False),\n",
       "       error_score='raise',\n",
       "       estimator=Pipeline(memory=None,\n",
       "     steps=[('selector', FunctionTransformer(accept_sparse=False,\n",
       "          func=<function fn_column_selector at 0x7f04d8c1bbf8>,\n",
       "          inv_kw_args=None, inverse_func=None, kw_args=None,\n",
       "          pass_y='deprecated', validate=False)), ('clf', LGBMClassifier(boosting_type='gbdt', class_weight=None, c...0.8, reg_lambda=0.4, silent=True, subsample=1,\n",
       "        subsample_for_bin=200000, subsample_freq=0))]),\n",
       "       fit_params=None, iid=True, n_jobs=1,\n",
       "       param_grid={'selector__kw_args': [{'k': 1}, {'k': 2}]},\n",
       "       pre_dispatch='2*n_jobs', refit=True, return_train_score='warn',\n",
       "       scoring='roc_auc', verbose=0)"
      ]
     },
     "execution_count": 396,
     "metadata": {},
     "output_type": "execute_result"
    }
   ],
   "source": [
    "\n",
    "# Keep searching\n",
    "random_vars = list(np.random.choice(X_reduced.columns, size =2, p = importance_wts, replace= False))\n",
    "print(random_vars)\n",
    "\n",
    "X_tmp = X_reduced.loc[:, random_vars ]\n",
    "X_tmp['_DIV_'.join(random_vars)] = X_tmp.iloc[:,0] / (X_tmp.iloc[:,1] + 1)\n",
    "\n",
    "gs = GridSearchCV(estimator = model,\n",
    "                  param_grid = {'selector__kw_args': [{'k':1},{'k':2}]},\n",
    "                  scoring = 'roc_auc',\n",
    "                  cv = kfold)\n",
    "gs.fit(X_tmp.values, y)\n",
    "perf_1,perf_2 = gs.cv_results_.get('mean_test_score')\n",
    "\n",
    "#init_score = cross_val_score(XGBClassifier(n_jobs = 4), X_tmp.loc[:,random_vars], y, scoring = 'roc_auc', cv = 5)\n",
    "#extended_score = cross_val_score(XGBClassifier(n_jobs = 4), X_tmp, y, scoring = 'roc_auc', cv = 5)"
   ]
  },
  {
   "cell_type": "code",
   "execution_count": null,
   "metadata": {},
   "outputs": [],
   "source": [
    "\n",
    "improvement = extended_score.mean()/init_score.mean()\n",
    "\n",
    "score_improvement[(random_vars[0], random_vars[1])] = improvement\n",
    "print(improvement)\n"
   ]
  },
  {
   "cell_type": "code",
   "execution_count": 313,
   "metadata": {},
   "outputs": [],
   "source": [
    "X_reduced_engineered = X_reduced.copy()"
   ]
  },
  {
   "cell_type": "code",
   "execution_count": 316,
   "metadata": {},
   "outputs": [],
   "source": [
    "engineered_features = score_improvement_df[score_improvement_df.improvement > 1.003]"
   ]
  },
  {
   "cell_type": "code",
   "execution_count": 327,
   "metadata": {},
   "outputs": [],
   "source": [
    "for x in engineered_features.iterrows():\n",
    "    X_reduced_engineered[x[1][0] + '___' + x[1][1]] = X_reduced_engineered[x[1][0]] / X_reduced_engineered[x[1][1]]"
   ]
  },
  {
   "cell_type": "code",
   "execution_count": 330,
   "metadata": {},
   "outputs": [],
   "source": [
    "m5_engineered = m5"
   ]
  },
  {
   "cell_type": "code",
   "execution_count": 332,
   "metadata": {},
   "outputs": [
    {
     "name": "stderr",
     "output_type": "stream",
     "text": [
      "/root/anaconda3/lib/python3.6/site-packages/ipykernel_launcher.py:7: RuntimeWarning: invalid value encountered in greater\n",
      "  import sys\n",
      "/root/anaconda3/lib/python3.6/site-packages/ipykernel_launcher.py:8: RuntimeWarning: invalid value encountered in greater\n",
      "  \n",
      "/root/anaconda3/lib/python3.6/site-packages/numpy/core/_methods.py:32: RuntimeWarning: invalid value encountered in reduce\n",
      "  return umr_sum(a, axis, dtype, out, keepdims)\n",
      "/root/anaconda3/lib/python3.6/site-packages/ipykernel_launcher.py:6: RuntimeWarning: invalid value encountered in subtract\n",
      "  \n",
      "/root/anaconda3/lib/python3.6/site-packages/numpy/lib/nanfunctions.py:1315: RuntimeWarning: invalid value encountered in subtract\n",
      "  np.subtract(arr, avg, out=arr, casting='unsafe')\n"
     ]
    },
    {
     "data": {
      "text/plain": [
       "Pipeline(memory=None,\n",
       "     steps=[('outlier_detection', FunctionTransformer(accept_sparse=False,\n",
       "          func=<function <lambda> at 0x7f04d7bd8bf8>, inv_kw_args=None,\n",
       "          inverse_func=None, kw_args=None, pass_y='deprecated',\n",
       "          validate=False)), ('clf', LGBMClassifier(boosting_type='gbdt', class_weight=None, co...0.8, reg_lambda=0.4, silent=True, subsample=1,\n",
       "        subsample_for_bin=200000, subsample_freq=0))])"
      ]
     },
     "execution_count": 332,
     "metadata": {},
     "output_type": "execute_result"
    }
   ],
   "source": [
    "m5_engineered.clf.fit(X_reduced_engineered, y)"
   ]
  },
  {
   "cell_type": "code",
   "execution_count": 305,
   "metadata": {},
   "outputs": [],
   "source": [
    "score_improvement_df = pd.DataFrame([(k[0], k[1], score_improvement.get(k)) for k in score_improvement.keys()],\n",
    "                                    columns = ['X1', 'X2', 'improvement'])"
   ]
  },
  {
   "cell_type": "code",
   "execution_count": 308,
   "metadata": {},
   "outputs": [],
   "source": [
    "tmp = score_improvement_df.pivot(index = 'X1', columns = 'X2', values = 'improvement')"
   ]
  },
  {
   "cell_type": "code",
   "execution_count": 311,
   "metadata": {},
   "outputs": [
    {
     "data": {
      "text/html": [
       "<div>\n",
       "<style scoped>\n",
       "    .dataframe tbody tr th:only-of-type {\n",
       "        vertical-align: middle;\n",
       "    }\n",
       "\n",
       "    .dataframe tbody tr th {\n",
       "        vertical-align: top;\n",
       "    }\n",
       "\n",
       "    .dataframe thead th {\n",
       "        text-align: right;\n",
       "    }\n",
       "</style>\n",
       "<table border=\"1\" class=\"dataframe\">\n",
       "  <thead>\n",
       "    <tr style=\"text-align: right;\">\n",
       "      <th></th>\n",
       "      <th>X1</th>\n",
       "      <th>X2</th>\n",
       "      <th>improvement</th>\n",
       "    </tr>\n",
       "  </thead>\n",
       "  <tbody>\n",
       "    <tr>\n",
       "      <th>1760</th>\n",
       "      <td>AMT_CREDIT</td>\n",
       "      <td>AMT_ANNUITY</td>\n",
       "      <td>1.109674</td>\n",
       "    </tr>\n",
       "    <tr>\n",
       "      <th>822</th>\n",
       "      <td>DAYS_ENTRY_PAYMENT</td>\n",
       "      <td>DAYS_DECISION</td>\n",
       "      <td>1.009212</td>\n",
       "    </tr>\n",
       "    <tr>\n",
       "      <th>1267</th>\n",
       "      <td>AMT_PAYMENT_mean</td>\n",
       "      <td>AMT_INSTALMENT</td>\n",
       "      <td>1.007617</td>\n",
       "    </tr>\n",
       "    <tr>\n",
       "      <th>239</th>\n",
       "      <td>DAYS_INSTALMENT</td>\n",
       "      <td>DAYS_ENTRY_PAYMENT_mean</td>\n",
       "      <td>1.007196</td>\n",
       "    </tr>\n",
       "    <tr>\n",
       "      <th>7</th>\n",
       "      <td>DAYS_DECISION_max</td>\n",
       "      <td>DAYS_ENTRY_PAYMENT</td>\n",
       "      <td>1.005703</td>\n",
       "    </tr>\n",
       "    <tr>\n",
       "      <th>1714</th>\n",
       "      <td>DAYS_ENTRY_PAYMENT</td>\n",
       "      <td>DAYS_INSTALMENT_mean</td>\n",
       "      <td>1.005443</td>\n",
       "    </tr>\n",
       "    <tr>\n",
       "      <th>1321</th>\n",
       "      <td>AMT_PAYMENT_mean</td>\n",
       "      <td>AMT_ANNUITY_1</td>\n",
       "      <td>1.005213</td>\n",
       "    </tr>\n",
       "    <tr>\n",
       "      <th>1221</th>\n",
       "      <td>DAYS_ENTRY_PAYMENT_mean</td>\n",
       "      <td>DAYS_LAST_PHONE_CHANGE</td>\n",
       "      <td>1.005073</td>\n",
       "    </tr>\n",
       "    <tr>\n",
       "      <th>1205</th>\n",
       "      <td>NAME_PRODUCT_TYPE_x-sell_mean</td>\n",
       "      <td>AMT_CREDIT_SUM_DEBT_mean</td>\n",
       "      <td>1.003527</td>\n",
       "    </tr>\n",
       "    <tr>\n",
       "      <th>41</th>\n",
       "      <td>AMT_CREDIT_SUM_DEBT_max</td>\n",
       "      <td>AMT_CREDIT_SUM_mean</td>\n",
       "      <td>1.003449</td>\n",
       "    </tr>\n",
       "    <tr>\n",
       "      <th>975</th>\n",
       "      <td>DAYS_INSTALMENT</td>\n",
       "      <td>DAYS_LAST_PHONE_CHANGE</td>\n",
       "      <td>1.003332</td>\n",
       "    </tr>\n",
       "    <tr>\n",
       "      <th>342</th>\n",
       "      <td>CNT_PAYMENT_mean</td>\n",
       "      <td>CNT_INSTALMENT_FUTURE_mean</td>\n",
       "      <td>1.003329</td>\n",
       "    </tr>\n",
       "    <tr>\n",
       "      <th>117</th>\n",
       "      <td>AMT_CREDIT_mean</td>\n",
       "      <td>AMT_ANNUITY_5</td>\n",
       "      <td>1.003284</td>\n",
       "    </tr>\n",
       "    <tr>\n",
       "      <th>1518</th>\n",
       "      <td>DAYS_DECISION_max</td>\n",
       "      <td>DAYS_DECISION_mean</td>\n",
       "      <td>1.003248</td>\n",
       "    </tr>\n",
       "    <tr>\n",
       "      <th>436</th>\n",
       "      <td>MONTHS_BALANCE_mean_4</td>\n",
       "      <td>DAYS_ENTRY_PAYMENT_max</td>\n",
       "      <td>1.003084</td>\n",
       "    </tr>\n",
       "    <tr>\n",
       "      <th>1028</th>\n",
       "      <td>AMT_GOODS_PRICE_1</td>\n",
       "      <td>AMT_DOWN_PAYMENT_mean</td>\n",
       "      <td>1.002744</td>\n",
       "    </tr>\n",
       "    <tr>\n",
       "      <th>407</th>\n",
       "      <td>DAYS_CREDIT_UPDATE_mean</td>\n",
       "      <td>DAYS_CREDIT_UPDATE</td>\n",
       "      <td>1.002615</td>\n",
       "    </tr>\n",
       "    <tr>\n",
       "      <th>1161</th>\n",
       "      <td>NUM_INSTALMENT_NUMBER_mean</td>\n",
       "      <td>CNT_DRAWINGS_ATM_CURRENT_mean</td>\n",
       "      <td>1.002526</td>\n",
       "    </tr>\n",
       "    <tr>\n",
       "      <th>1051</th>\n",
       "      <td>AMT_INSTALMENT_max</td>\n",
       "      <td>AMT_CREDIT_LIMIT_ACTUAL_max</td>\n",
       "      <td>1.002461</td>\n",
       "    </tr>\n",
       "    <tr>\n",
       "      <th>1701</th>\n",
       "      <td>AMT_ANNUITY</td>\n",
       "      <td>RATE_DOWN_PAYMENT</td>\n",
       "      <td>1.002222</td>\n",
       "    </tr>\n",
       "    <tr>\n",
       "      <th>1528</th>\n",
       "      <td>AMT_CREDIT_SUM_mean</td>\n",
       "      <td>AMT_CREDIT_SUM</td>\n",
       "      <td>1.002134</td>\n",
       "    </tr>\n",
       "    <tr>\n",
       "      <th>124</th>\n",
       "      <td>HOUR_APPR_PROCESS_START_1</td>\n",
       "      <td>DAYS_ENTRY_PAYMENT_max</td>\n",
       "      <td>1.002105</td>\n",
       "    </tr>\n",
       "    <tr>\n",
       "      <th>203</th>\n",
       "      <td>AMT_ANNUITY</td>\n",
       "      <td>DAYS_FIRST_DRAWING_mean</td>\n",
       "      <td>1.002085</td>\n",
       "    </tr>\n",
       "    <tr>\n",
       "      <th>1043</th>\n",
       "      <td>DAYS_INSTALMENT</td>\n",
       "      <td>DAYS_DECISION_max</td>\n",
       "      <td>1.002043</td>\n",
       "    </tr>\n",
       "    <tr>\n",
       "      <th>669</th>\n",
       "      <td>FLOORSMIN_MODE</td>\n",
       "      <td>BASEMENTAREA_MEDI</td>\n",
       "      <td>1.001953</td>\n",
       "    </tr>\n",
       "    <tr>\n",
       "      <th>1571</th>\n",
       "      <td>DAYS_TERMINATION</td>\n",
       "      <td>DAYS_INSTALMENT_max</td>\n",
       "      <td>1.001925</td>\n",
       "    </tr>\n",
       "    <tr>\n",
       "      <th>500</th>\n",
       "      <td>NAME_YIELD_GROUP_middle_mean</td>\n",
       "      <td>DAYS_REGISTRATION</td>\n",
       "      <td>1.001909</td>\n",
       "    </tr>\n",
       "    <tr>\n",
       "      <th>1323</th>\n",
       "      <td>AMT_PAYMENT_CURRENT_mean</td>\n",
       "      <td>AMT_DRAWINGS_OTHER_CURRENT_max</td>\n",
       "      <td>1.001900</td>\n",
       "    </tr>\n",
       "    <tr>\n",
       "      <th>16</th>\n",
       "      <td>AMT_ANNUITY_1</td>\n",
       "      <td>AMT_GOODS_PRICE_mean</td>\n",
       "      <td>1.001896</td>\n",
       "    </tr>\n",
       "    <tr>\n",
       "      <th>616</th>\n",
       "      <td>DAYS_ENTRY_PAYMENT_max</td>\n",
       "      <td>NAME_GOODS_CATEGORY_Furniture_mean</td>\n",
       "      <td>1.001839</td>\n",
       "    </tr>\n",
       "    <tr>\n",
       "      <th>...</th>\n",
       "      <td>...</td>\n",
       "      <td>...</td>\n",
       "      <td>...</td>\n",
       "    </tr>\n",
       "    <tr>\n",
       "      <th>954</th>\n",
       "      <td>DAYS_ENTRY_PAYMENT_max</td>\n",
       "      <td>NAME_SELLER_INDUSTRY_XNA_mean</td>\n",
       "      <td>0.997219</td>\n",
       "    </tr>\n",
       "    <tr>\n",
       "      <th>745</th>\n",
       "      <td>NAME_GOODS_CATEGORY_Computers_mean</td>\n",
       "      <td>SK_ID_BUREAU_max</td>\n",
       "      <td>0.997142</td>\n",
       "    </tr>\n",
       "    <tr>\n",
       "      <th>1198</th>\n",
       "      <td>REGION_POPULATION_RELATIVE</td>\n",
       "      <td>SK_DPD_DEF_mean</td>\n",
       "      <td>0.997119</td>\n",
       "    </tr>\n",
       "    <tr>\n",
       "      <th>453</th>\n",
       "      <td>SK_ID_BUREAU_max</td>\n",
       "      <td>NUM_INSTALMENT_NUMBER_max</td>\n",
       "      <td>0.997115</td>\n",
       "    </tr>\n",
       "    <tr>\n",
       "      <th>1931</th>\n",
       "      <td>NAME_CONTRACT_STATUS_Active_mean_4</td>\n",
       "      <td>WEEKDAY_APPR_PROCESS_START</td>\n",
       "      <td>0.997114</td>\n",
       "    </tr>\n",
       "    <tr>\n",
       "      <th>593</th>\n",
       "      <td>SK_ID_BUREAU_max</td>\n",
       "      <td>CREDIT_TYPE_Credit card_mean</td>\n",
       "      <td>0.996987</td>\n",
       "    </tr>\n",
       "    <tr>\n",
       "      <th>1784</th>\n",
       "      <td>AMT_APPLICATION_mean</td>\n",
       "      <td>AMT_CREDIT</td>\n",
       "      <td>0.996980</td>\n",
       "    </tr>\n",
       "    <tr>\n",
       "      <th>638</th>\n",
       "      <td>REGION_POPULATION_RELATIVE</td>\n",
       "      <td>DAYS_DECISION_max</td>\n",
       "      <td>0.996969</td>\n",
       "    </tr>\n",
       "    <tr>\n",
       "      <th>366</th>\n",
       "      <td>CNT_INSTALMENT_FUTURE_mean</td>\n",
       "      <td>AMT_PAYMENT_TOTAL_CURRENT_mean</td>\n",
       "      <td>0.996930</td>\n",
       "    </tr>\n",
       "    <tr>\n",
       "      <th>1606</th>\n",
       "      <td>SK_ID_BUREAU_mean</td>\n",
       "      <td>AMT_CREDIT_SUM</td>\n",
       "      <td>0.996894</td>\n",
       "    </tr>\n",
       "    <tr>\n",
       "      <th>1677</th>\n",
       "      <td>AMT_CREDIT</td>\n",
       "      <td>NUM_INSTALMENT_NUMBER_max</td>\n",
       "      <td>0.996882</td>\n",
       "    </tr>\n",
       "    <tr>\n",
       "      <th>899</th>\n",
       "      <td>OWN_CAR_AGE</td>\n",
       "      <td>NAME_CONTRACT_STATUS_Completed_mean_4</td>\n",
       "      <td>0.996846</td>\n",
       "    </tr>\n",
       "    <tr>\n",
       "      <th>333</th>\n",
       "      <td>SELLERPLACE_AREA_mean</td>\n",
       "      <td>AMT_APPLICATION_max</td>\n",
       "      <td>0.996742</td>\n",
       "    </tr>\n",
       "    <tr>\n",
       "      <th>1477</th>\n",
       "      <td>CHANNEL_TYPE_Country-wide_mean</td>\n",
       "      <td>AMT_CREDIT_1</td>\n",
       "      <td>0.996729</td>\n",
       "    </tr>\n",
       "    <tr>\n",
       "      <th>556</th>\n",
       "      <td>AMT_CREDIT_max</td>\n",
       "      <td>AMT_ANNUITY</td>\n",
       "      <td>0.996726</td>\n",
       "    </tr>\n",
       "    <tr>\n",
       "      <th>1406</th>\n",
       "      <td>AMT_GOODS_PRICE_1</td>\n",
       "      <td>AMT_CREDIT</td>\n",
       "      <td>0.996709</td>\n",
       "    </tr>\n",
       "    <tr>\n",
       "      <th>676</th>\n",
       "      <td>WEEKDAY_APPR_PROCESS_START</td>\n",
       "      <td>NAME_CONTRACT_STATUS_Completed_mean_4</td>\n",
       "      <td>0.996644</td>\n",
       "    </tr>\n",
       "    <tr>\n",
       "      <th>1249</th>\n",
       "      <td>AMT_ANNUITY</td>\n",
       "      <td>BASEMENTAREA_MODE</td>\n",
       "      <td>0.996574</td>\n",
       "    </tr>\n",
       "    <tr>\n",
       "      <th>701</th>\n",
       "      <td>AMT_ANNUITY</td>\n",
       "      <td>NAME_CONTRACT_STATUS_Completed_mean_4</td>\n",
       "      <td>0.996563</td>\n",
       "    </tr>\n",
       "    <tr>\n",
       "      <th>303</th>\n",
       "      <td>AMT_CREDIT_SUM</td>\n",
       "      <td>AMT_ANNUITY</td>\n",
       "      <td>0.996537</td>\n",
       "    </tr>\n",
       "    <tr>\n",
       "      <th>338</th>\n",
       "      <td>OBS_30_CNT_SOCIAL_CIRCLE</td>\n",
       "      <td>SK_ID_BUREAU</td>\n",
       "      <td>0.996502</td>\n",
       "    </tr>\n",
       "    <tr>\n",
       "      <th>718</th>\n",
       "      <td>CNT_CHILDREN</td>\n",
       "      <td>AMT_ANNUITY</td>\n",
       "      <td>0.996409</td>\n",
       "    </tr>\n",
       "    <tr>\n",
       "      <th>1179</th>\n",
       "      <td>DAYS_DECISION_max</td>\n",
       "      <td>AMT_CREDIT_max</td>\n",
       "      <td>0.996386</td>\n",
       "    </tr>\n",
       "    <tr>\n",
       "      <th>655</th>\n",
       "      <td>AMT_APPLICATION_max</td>\n",
       "      <td>SK_ID_BUREAU</td>\n",
       "      <td>0.996100</td>\n",
       "    </tr>\n",
       "    <tr>\n",
       "      <th>546</th>\n",
       "      <td>NAME_YIELD_GROUP_middle_mean</td>\n",
       "      <td>AMT_APPLICATION_mean</td>\n",
       "      <td>0.996097</td>\n",
       "    </tr>\n",
       "    <tr>\n",
       "      <th>1081</th>\n",
       "      <td>REGION_POPULATION_RELATIVE</td>\n",
       "      <td>AMT_GOODS_PRICE_mean</td>\n",
       "      <td>0.996092</td>\n",
       "    </tr>\n",
       "    <tr>\n",
       "      <th>236</th>\n",
       "      <td>CNT_DRAWINGS_ATM_CURRENT_max</td>\n",
       "      <td>AMT_ANNUITY</td>\n",
       "      <td>0.995905</td>\n",
       "    </tr>\n",
       "    <tr>\n",
       "      <th>1780</th>\n",
       "      <td>SK_ID_BUREAU_mean</td>\n",
       "      <td>NAME_PORTFOLIO_Cash_mean</td>\n",
       "      <td>0.995840</td>\n",
       "    </tr>\n",
       "    <tr>\n",
       "      <th>226</th>\n",
       "      <td>AMT_INCOME_TOTAL</td>\n",
       "      <td>AMT_CREDIT</td>\n",
       "      <td>0.995079</td>\n",
       "    </tr>\n",
       "    <tr>\n",
       "      <th>968</th>\n",
       "      <td>WEEKDAY_APPR_PROCESS_START</td>\n",
       "      <td>AMT_ANNUITY</td>\n",
       "      <td>0.994353</td>\n",
       "    </tr>\n",
       "  </tbody>\n",
       "</table>\n",
       "<p>1936 rows × 3 columns</p>\n",
       "</div>"
      ],
      "text/plain": [
       "                                      X1  \\\n",
       "1760                          AMT_CREDIT   \n",
       "822                   DAYS_ENTRY_PAYMENT   \n",
       "1267                    AMT_PAYMENT_mean   \n",
       "239                      DAYS_INSTALMENT   \n",
       "7                      DAYS_DECISION_max   \n",
       "1714                  DAYS_ENTRY_PAYMENT   \n",
       "1321                    AMT_PAYMENT_mean   \n",
       "1221             DAYS_ENTRY_PAYMENT_mean   \n",
       "1205       NAME_PRODUCT_TYPE_x-sell_mean   \n",
       "41               AMT_CREDIT_SUM_DEBT_max   \n",
       "975                      DAYS_INSTALMENT   \n",
       "342                     CNT_PAYMENT_mean   \n",
       "117                      AMT_CREDIT_mean   \n",
       "1518                   DAYS_DECISION_max   \n",
       "436                MONTHS_BALANCE_mean_4   \n",
       "1028                   AMT_GOODS_PRICE_1   \n",
       "407              DAYS_CREDIT_UPDATE_mean   \n",
       "1161          NUM_INSTALMENT_NUMBER_mean   \n",
       "1051                  AMT_INSTALMENT_max   \n",
       "1701                         AMT_ANNUITY   \n",
       "1528                 AMT_CREDIT_SUM_mean   \n",
       "124            HOUR_APPR_PROCESS_START_1   \n",
       "203                          AMT_ANNUITY   \n",
       "1043                     DAYS_INSTALMENT   \n",
       "669                       FLOORSMIN_MODE   \n",
       "1571                    DAYS_TERMINATION   \n",
       "500         NAME_YIELD_GROUP_middle_mean   \n",
       "1323            AMT_PAYMENT_CURRENT_mean   \n",
       "16                         AMT_ANNUITY_1   \n",
       "616               DAYS_ENTRY_PAYMENT_max   \n",
       "...                                  ...   \n",
       "954               DAYS_ENTRY_PAYMENT_max   \n",
       "745   NAME_GOODS_CATEGORY_Computers_mean   \n",
       "1198          REGION_POPULATION_RELATIVE   \n",
       "453                     SK_ID_BUREAU_max   \n",
       "1931  NAME_CONTRACT_STATUS_Active_mean_4   \n",
       "593                     SK_ID_BUREAU_max   \n",
       "1784                AMT_APPLICATION_mean   \n",
       "638           REGION_POPULATION_RELATIVE   \n",
       "366           CNT_INSTALMENT_FUTURE_mean   \n",
       "1606                   SK_ID_BUREAU_mean   \n",
       "1677                          AMT_CREDIT   \n",
       "899                          OWN_CAR_AGE   \n",
       "333                SELLERPLACE_AREA_mean   \n",
       "1477      CHANNEL_TYPE_Country-wide_mean   \n",
       "556                       AMT_CREDIT_max   \n",
       "1406                   AMT_GOODS_PRICE_1   \n",
       "676           WEEKDAY_APPR_PROCESS_START   \n",
       "1249                         AMT_ANNUITY   \n",
       "701                          AMT_ANNUITY   \n",
       "303                       AMT_CREDIT_SUM   \n",
       "338             OBS_30_CNT_SOCIAL_CIRCLE   \n",
       "718                         CNT_CHILDREN   \n",
       "1179                   DAYS_DECISION_max   \n",
       "655                  AMT_APPLICATION_max   \n",
       "546         NAME_YIELD_GROUP_middle_mean   \n",
       "1081          REGION_POPULATION_RELATIVE   \n",
       "236         CNT_DRAWINGS_ATM_CURRENT_max   \n",
       "1780                   SK_ID_BUREAU_mean   \n",
       "226                     AMT_INCOME_TOTAL   \n",
       "968           WEEKDAY_APPR_PROCESS_START   \n",
       "\n",
       "                                         X2  improvement  \n",
       "1760                            AMT_ANNUITY     1.109674  \n",
       "822                           DAYS_DECISION     1.009212  \n",
       "1267                         AMT_INSTALMENT     1.007617  \n",
       "239                 DAYS_ENTRY_PAYMENT_mean     1.007196  \n",
       "7                        DAYS_ENTRY_PAYMENT     1.005703  \n",
       "1714                   DAYS_INSTALMENT_mean     1.005443  \n",
       "1321                          AMT_ANNUITY_1     1.005213  \n",
       "1221                 DAYS_LAST_PHONE_CHANGE     1.005073  \n",
       "1205               AMT_CREDIT_SUM_DEBT_mean     1.003527  \n",
       "41                      AMT_CREDIT_SUM_mean     1.003449  \n",
       "975                  DAYS_LAST_PHONE_CHANGE     1.003332  \n",
       "342              CNT_INSTALMENT_FUTURE_mean     1.003329  \n",
       "117                           AMT_ANNUITY_5     1.003284  \n",
       "1518                     DAYS_DECISION_mean     1.003248  \n",
       "436                  DAYS_ENTRY_PAYMENT_max     1.003084  \n",
       "1028                  AMT_DOWN_PAYMENT_mean     1.002744  \n",
       "407                      DAYS_CREDIT_UPDATE     1.002615  \n",
       "1161          CNT_DRAWINGS_ATM_CURRENT_mean     1.002526  \n",
       "1051            AMT_CREDIT_LIMIT_ACTUAL_max     1.002461  \n",
       "1701                      RATE_DOWN_PAYMENT     1.002222  \n",
       "1528                         AMT_CREDIT_SUM     1.002134  \n",
       "124                  DAYS_ENTRY_PAYMENT_max     1.002105  \n",
       "203                 DAYS_FIRST_DRAWING_mean     1.002085  \n",
       "1043                      DAYS_DECISION_max     1.002043  \n",
       "669                       BASEMENTAREA_MEDI     1.001953  \n",
       "1571                    DAYS_INSTALMENT_max     1.001925  \n",
       "500                       DAYS_REGISTRATION     1.001909  \n",
       "1323         AMT_DRAWINGS_OTHER_CURRENT_max     1.001900  \n",
       "16                     AMT_GOODS_PRICE_mean     1.001896  \n",
       "616      NAME_GOODS_CATEGORY_Furniture_mean     1.001839  \n",
       "...                                     ...          ...  \n",
       "954           NAME_SELLER_INDUSTRY_XNA_mean     0.997219  \n",
       "745                        SK_ID_BUREAU_max     0.997142  \n",
       "1198                        SK_DPD_DEF_mean     0.997119  \n",
       "453               NUM_INSTALMENT_NUMBER_max     0.997115  \n",
       "1931             WEEKDAY_APPR_PROCESS_START     0.997114  \n",
       "593            CREDIT_TYPE_Credit card_mean     0.996987  \n",
       "1784                             AMT_CREDIT     0.996980  \n",
       "638                       DAYS_DECISION_max     0.996969  \n",
       "366          AMT_PAYMENT_TOTAL_CURRENT_mean     0.996930  \n",
       "1606                         AMT_CREDIT_SUM     0.996894  \n",
       "1677              NUM_INSTALMENT_NUMBER_max     0.996882  \n",
       "899   NAME_CONTRACT_STATUS_Completed_mean_4     0.996846  \n",
       "333                     AMT_APPLICATION_max     0.996742  \n",
       "1477                           AMT_CREDIT_1     0.996729  \n",
       "556                             AMT_ANNUITY     0.996726  \n",
       "1406                             AMT_CREDIT     0.996709  \n",
       "676   NAME_CONTRACT_STATUS_Completed_mean_4     0.996644  \n",
       "1249                      BASEMENTAREA_MODE     0.996574  \n",
       "701   NAME_CONTRACT_STATUS_Completed_mean_4     0.996563  \n",
       "303                             AMT_ANNUITY     0.996537  \n",
       "338                            SK_ID_BUREAU     0.996502  \n",
       "718                             AMT_ANNUITY     0.996409  \n",
       "1179                         AMT_CREDIT_max     0.996386  \n",
       "655                            SK_ID_BUREAU     0.996100  \n",
       "546                    AMT_APPLICATION_mean     0.996097  \n",
       "1081                   AMT_GOODS_PRICE_mean     0.996092  \n",
       "236                             AMT_ANNUITY     0.995905  \n",
       "1780               NAME_PORTFOLIO_Cash_mean     0.995840  \n",
       "226                              AMT_CREDIT     0.995079  \n",
       "968                             AMT_ANNUITY     0.994353  \n",
       "\n",
       "[1936 rows x 3 columns]"
      ]
     },
     "execution_count": 311,
     "metadata": {},
     "output_type": "execute_result"
    }
   ],
   "source": [
    "score_improvement_df.sort_values('improvement', axis = 0, ascending = False)"
   ]
  },
  {
   "cell_type": "code",
   "execution_count": 304,
   "metadata": {},
   "outputs": [
    {
     "data": {
      "text/html": [
       "<div>\n",
       "<style scoped>\n",
       "    .dataframe tbody tr th:only-of-type {\n",
       "        vertical-align: middle;\n",
       "    }\n",
       "\n",
       "    .dataframe tbody tr th {\n",
       "        vertical-align: top;\n",
       "    }\n",
       "\n",
       "    .dataframe thead th {\n",
       "        text-align: right;\n",
       "    }\n",
       "</style>\n",
       "<table border=\"1\" class=\"dataframe\">\n",
       "  <thead>\n",
       "    <tr style=\"text-align: right;\">\n",
       "      <th></th>\n",
       "      <th>0</th>\n",
       "      <th>1</th>\n",
       "      <th>2</th>\n",
       "    </tr>\n",
       "  </thead>\n",
       "  <tbody>\n",
       "    <tr>\n",
       "      <th>0</th>\n",
       "      <td>NUM_INSTALMENT_NUMBER_max</td>\n",
       "      <td>AMT_REQ_CREDIT_BUREAU_YEAR</td>\n",
       "      <td>0.999035</td>\n",
       "    </tr>\n",
       "    <tr>\n",
       "      <th>1</th>\n",
       "      <td>YEARS_BEGINEXPLUATATION_MODE</td>\n",
       "      <td>CHANNEL_TYPE_Stone_mean</td>\n",
       "      <td>1.000066</td>\n",
       "    </tr>\n",
       "    <tr>\n",
       "      <th>2</th>\n",
       "      <td>AMT_INSTALMENT_max</td>\n",
       "      <td>NFLAG_INSURED_ON_APPROVAL_max</td>\n",
       "      <td>0.998585</td>\n",
       "    </tr>\n",
       "    <tr>\n",
       "      <th>3</th>\n",
       "      <td>AMT_ANNUITY_5</td>\n",
       "      <td>AMT_PAYMENT_mean</td>\n",
       "      <td>1.000107</td>\n",
       "    </tr>\n",
       "    <tr>\n",
       "      <th>4</th>\n",
       "      <td>WEEKDAY_APPR_PROCESS_START_THURSDAY_mean</td>\n",
       "      <td>RATE_DOWN_PAYMENT_max</td>\n",
       "      <td>1.000331</td>\n",
       "    </tr>\n",
       "    <tr>\n",
       "      <th>5</th>\n",
       "      <td>DAYS_FIRST_DUE_mean</td>\n",
       "      <td>AMT_PAYMENT_max</td>\n",
       "      <td>0.999861</td>\n",
       "    </tr>\n",
       "    <tr>\n",
       "      <th>6</th>\n",
       "      <td>AMT_GOODS_PRICE_1</td>\n",
       "      <td>AMT_GOODS_PRICE</td>\n",
       "      <td>0.998823</td>\n",
       "    </tr>\n",
       "    <tr>\n",
       "      <th>7</th>\n",
       "      <td>DAYS_DECISION_max</td>\n",
       "      <td>DAYS_ENTRY_PAYMENT</td>\n",
       "      <td>1.005703</td>\n",
       "    </tr>\n",
       "    <tr>\n",
       "      <th>8</th>\n",
       "      <td>EXT_SOURCE_2</td>\n",
       "      <td>NAME_PRODUCT_TYPE_XNA_mean</td>\n",
       "      <td>0.999346</td>\n",
       "    </tr>\n",
       "    <tr>\n",
       "      <th>9</th>\n",
       "      <td>NAME_GOODS_CATEGORY_XNA_mean</td>\n",
       "      <td>AMT_BALANCE_max</td>\n",
       "      <td>0.999593</td>\n",
       "    </tr>\n",
       "    <tr>\n",
       "      <th>10</th>\n",
       "      <td>AMT_CREDIT_SUM_DEBT_mean</td>\n",
       "      <td>AMT_INSTALMENT_max</td>\n",
       "      <td>1.000159</td>\n",
       "    </tr>\n",
       "    <tr>\n",
       "      <th>11</th>\n",
       "      <td>AMT_DRAWINGS_ATM_CURRENT_mean</td>\n",
       "      <td>AMT_INSTALMENT_max</td>\n",
       "      <td>1.000501</td>\n",
       "    </tr>\n",
       "    <tr>\n",
       "      <th>12</th>\n",
       "      <td>RATE_DOWN_PAYMENT_mean</td>\n",
       "      <td>NFLAG_INSURED_ON_APPROVAL_mean</td>\n",
       "      <td>0.997759</td>\n",
       "    </tr>\n",
       "    <tr>\n",
       "      <th>13</th>\n",
       "      <td>COMMONAREA_MODE</td>\n",
       "      <td>AMT_ANNUITY_mean</td>\n",
       "      <td>0.999930</td>\n",
       "    </tr>\n",
       "    <tr>\n",
       "      <th>14</th>\n",
       "      <td>CNT_INSTALMENT_MATURE_CUM_mean</td>\n",
       "      <td>DAYS_BIRTH</td>\n",
       "      <td>0.999716</td>\n",
       "    </tr>\n",
       "    <tr>\n",
       "      <th>15</th>\n",
       "      <td>AMT_CREDIT_1</td>\n",
       "      <td>NAME_CONTRACT_STATUS_Refused_mean</td>\n",
       "      <td>1.000678</td>\n",
       "    </tr>\n",
       "    <tr>\n",
       "      <th>16</th>\n",
       "      <td>AMT_ANNUITY_1</td>\n",
       "      <td>AMT_GOODS_PRICE_mean</td>\n",
       "      <td>1.001896</td>\n",
       "    </tr>\n",
       "    <tr>\n",
       "      <th>17</th>\n",
       "      <td>AMT_ANNUITY_1</td>\n",
       "      <td>DAYS_CREDIT_ENDDATE_max</td>\n",
       "      <td>0.999592</td>\n",
       "    </tr>\n",
       "    <tr>\n",
       "      <th>18</th>\n",
       "      <td>SK_ID_BUREAU</td>\n",
       "      <td>CODE_REJECT_REASON_HC_mean</td>\n",
       "      <td>0.999388</td>\n",
       "    </tr>\n",
       "    <tr>\n",
       "      <th>19</th>\n",
       "      <td>AMT_TOTAL_RECEIVABLE_mean</td>\n",
       "      <td>DAYS_ID_PUBLISH</td>\n",
       "      <td>1.000186</td>\n",
       "    </tr>\n",
       "    <tr>\n",
       "      <th>20</th>\n",
       "      <td>HOUR_APPR_PROCESS_START_mean</td>\n",
       "      <td>DAYS_LAST_DUE_1ST_VERSION_max</td>\n",
       "      <td>0.998718</td>\n",
       "    </tr>\n",
       "    <tr>\n",
       "      <th>21</th>\n",
       "      <td>AMT_ANNUITY_mean_5</td>\n",
       "      <td>LANDAREA_MEDI</td>\n",
       "      <td>0.999819</td>\n",
       "    </tr>\n",
       "    <tr>\n",
       "      <th>22</th>\n",
       "      <td>WEEKDAY_APPR_PROCESS_START_TUESDAY_mean</td>\n",
       "      <td>CREDIT_ACTIVE_Closed_mean</td>\n",
       "      <td>0.999336</td>\n",
       "    </tr>\n",
       "    <tr>\n",
       "      <th>23</th>\n",
       "      <td>NAME_CLIENT_TYPE_New_mean</td>\n",
       "      <td>AMT_DRAWINGS_CURRENT_mean</td>\n",
       "      <td>1.000645</td>\n",
       "    </tr>\n",
       "    <tr>\n",
       "      <th>24</th>\n",
       "      <td>DAYS_ID_PUBLISH</td>\n",
       "      <td>DAYS_CREDIT_ENDDATE_mean</td>\n",
       "      <td>0.999161</td>\n",
       "    </tr>\n",
       "    <tr>\n",
       "      <th>25</th>\n",
       "      <td>PRODUCT_COMBINATION_POS industry with interest...</td>\n",
       "      <td>CHANNEL_TYPE_Contact center_mean</td>\n",
       "      <td>1.000033</td>\n",
       "    </tr>\n",
       "    <tr>\n",
       "      <th>26</th>\n",
       "      <td>DAYS_FIRST_DRAWING_mean</td>\n",
       "      <td>AMT_DOWN_PAYMENT_mean</td>\n",
       "      <td>1.000990</td>\n",
       "    </tr>\n",
       "    <tr>\n",
       "      <th>27</th>\n",
       "      <td>DAYS_LAST_DUE_1ST_VERSION_max</td>\n",
       "      <td>AMT_INSTALMENT_mean</td>\n",
       "      <td>0.999574</td>\n",
       "    </tr>\n",
       "    <tr>\n",
       "      <th>28</th>\n",
       "      <td>DAYS_CREDIT_max</td>\n",
       "      <td>NAME_TYPE_SUITE_Unaccompanied_mean</td>\n",
       "      <td>0.999742</td>\n",
       "    </tr>\n",
       "    <tr>\n",
       "      <th>29</th>\n",
       "      <td>NUM_INSTALMENT_NUMBER_mean</td>\n",
       "      <td>PRODUCT_COMBINATION_POS industry with interest...</td>\n",
       "      <td>1.000090</td>\n",
       "    </tr>\n",
       "    <tr>\n",
       "      <th>...</th>\n",
       "      <td>...</td>\n",
       "      <td>...</td>\n",
       "      <td>...</td>\n",
       "    </tr>\n",
       "    <tr>\n",
       "      <th>1906</th>\n",
       "      <td>NAME_PORTFOLIO_POS_mean</td>\n",
       "      <td>LIVINGAREA_MODE</td>\n",
       "      <td>1.000234</td>\n",
       "    </tr>\n",
       "    <tr>\n",
       "      <th>1907</th>\n",
       "      <td>EXT_SOURCE_1</td>\n",
       "      <td>AMT_CREDIT_MAX_OVERDUE</td>\n",
       "      <td>1.000161</td>\n",
       "    </tr>\n",
       "    <tr>\n",
       "      <th>1908</th>\n",
       "      <td>CNT_DRAWINGS_CURRENT_max</td>\n",
       "      <td>YEARS_BEGINEXPLUATATION_MODE</td>\n",
       "      <td>1.000326</td>\n",
       "    </tr>\n",
       "    <tr>\n",
       "      <th>1909</th>\n",
       "      <td>DAYS_ID_PUBLISH</td>\n",
       "      <td>DAYS_CREDIT_UPDATE_max</td>\n",
       "      <td>0.999614</td>\n",
       "    </tr>\n",
       "    <tr>\n",
       "      <th>1910</th>\n",
       "      <td>FLAG_DOCUMENT_16</td>\n",
       "      <td>EXT_SOURCE_3</td>\n",
       "      <td>1.000188</td>\n",
       "    </tr>\n",
       "    <tr>\n",
       "      <th>1911</th>\n",
       "      <td>AMT_CREDIT_SUM_DEBT_max</td>\n",
       "      <td>EXT_SOURCE_1</td>\n",
       "      <td>1.000420</td>\n",
       "    </tr>\n",
       "    <tr>\n",
       "      <th>1912</th>\n",
       "      <td>AMT_APPLICATION_mean</td>\n",
       "      <td>EXT_SOURCE_2</td>\n",
       "      <td>0.999823</td>\n",
       "    </tr>\n",
       "    <tr>\n",
       "      <th>1913</th>\n",
       "      <td>AMT_CREDIT</td>\n",
       "      <td>EXT_SOURCE_2</td>\n",
       "      <td>0.999031</td>\n",
       "    </tr>\n",
       "    <tr>\n",
       "      <th>1914</th>\n",
       "      <td>DAYS_FIRST_DUE</td>\n",
       "      <td>NAME_GOODS_CATEGORY_Photo / Cinema Equipment_mean</td>\n",
       "      <td>0.999625</td>\n",
       "    </tr>\n",
       "    <tr>\n",
       "      <th>1915</th>\n",
       "      <td>EXT_SOURCE_1</td>\n",
       "      <td>DAYS_ENTRY_PAYMENT_max</td>\n",
       "      <td>1.000043</td>\n",
       "    </tr>\n",
       "    <tr>\n",
       "      <th>1916</th>\n",
       "      <td>NAME_PORTFOLIO_POS_mean</td>\n",
       "      <td>PRODUCT_COMBINATION_Cash Street: low_max</td>\n",
       "      <td>1.000106</td>\n",
       "    </tr>\n",
       "    <tr>\n",
       "      <th>1917</th>\n",
       "      <td>RATE_DOWN_PAYMENT_mean</td>\n",
       "      <td>EXT_SOURCE_3</td>\n",
       "      <td>0.999800</td>\n",
       "    </tr>\n",
       "    <tr>\n",
       "      <th>1918</th>\n",
       "      <td>CNT_INSTALMENT</td>\n",
       "      <td>DAYS_LAST_DUE_mean</td>\n",
       "      <td>0.998770</td>\n",
       "    </tr>\n",
       "    <tr>\n",
       "      <th>1919</th>\n",
       "      <td>NAME_CLIENT_TYPE_Refreshed_mean</td>\n",
       "      <td>AMT_INSTALMENT</td>\n",
       "      <td>0.999980</td>\n",
       "    </tr>\n",
       "    <tr>\n",
       "      <th>1920</th>\n",
       "      <td>DAYS_CREDIT_max</td>\n",
       "      <td>DAYS_DECISION</td>\n",
       "      <td>0.999957</td>\n",
       "    </tr>\n",
       "    <tr>\n",
       "      <th>1921</th>\n",
       "      <td>AMT_CREDIT_SUM</td>\n",
       "      <td>NAME_GOODS_CATEGORY_Consumer Electronics_mean</td>\n",
       "      <td>0.999007</td>\n",
       "    </tr>\n",
       "    <tr>\n",
       "      <th>1922</th>\n",
       "      <td>MONTHS_BALANCE_4</td>\n",
       "      <td>REGION_POPULATION_RELATIVE</td>\n",
       "      <td>0.998525</td>\n",
       "    </tr>\n",
       "    <tr>\n",
       "      <th>1923</th>\n",
       "      <td>DAYS_EMPLOYED</td>\n",
       "      <td>AMT_DRAWINGS_POS_CURRENT_mean</td>\n",
       "      <td>0.999240</td>\n",
       "    </tr>\n",
       "    <tr>\n",
       "      <th>1924</th>\n",
       "      <td>HOUR_APPR_PROCESS_START_max</td>\n",
       "      <td>CNT_INSTALMENT_mean</td>\n",
       "      <td>0.998308</td>\n",
       "    </tr>\n",
       "    <tr>\n",
       "      <th>1925</th>\n",
       "      <td>NAME_YIELD_GROUP_middle_mean</td>\n",
       "      <td>AMT_PAYMENT_CURRENT_mean</td>\n",
       "      <td>1.000603</td>\n",
       "    </tr>\n",
       "    <tr>\n",
       "      <th>1926</th>\n",
       "      <td>EXT_SOURCE_1</td>\n",
       "      <td>NAME_SELLER_INDUSTRY_Clothing_mean</td>\n",
       "      <td>1.000505</td>\n",
       "    </tr>\n",
       "    <tr>\n",
       "      <th>1927</th>\n",
       "      <td>CHANNEL_TYPE_Contact center_mean</td>\n",
       "      <td>DAYS_ENTRY_PAYMENT</td>\n",
       "      <td>0.999175</td>\n",
       "    </tr>\n",
       "    <tr>\n",
       "      <th>1928</th>\n",
       "      <td>DAYS_INSTALMENT_max</td>\n",
       "      <td>AMT_RECIVABLE_mean</td>\n",
       "      <td>0.999063</td>\n",
       "    </tr>\n",
       "    <tr>\n",
       "      <th>1929</th>\n",
       "      <td>EXT_SOURCE_1</td>\n",
       "      <td>AMT_CREDIT_SUM</td>\n",
       "      <td>0.999642</td>\n",
       "    </tr>\n",
       "    <tr>\n",
       "      <th>1930</th>\n",
       "      <td>AMT_CREDIT_LIMIT_ACTUAL_mean</td>\n",
       "      <td>EXT_SOURCE_1</td>\n",
       "      <td>1.000439</td>\n",
       "    </tr>\n",
       "    <tr>\n",
       "      <th>1931</th>\n",
       "      <td>NAME_CONTRACT_STATUS_Active_mean_4</td>\n",
       "      <td>WEEKDAY_APPR_PROCESS_START</td>\n",
       "      <td>0.997114</td>\n",
       "    </tr>\n",
       "    <tr>\n",
       "      <th>1932</th>\n",
       "      <td>DAYS_LAST_PHONE_CHANGE</td>\n",
       "      <td>NAME_YIELD_GROUP_high_mean</td>\n",
       "      <td>0.999415</td>\n",
       "    </tr>\n",
       "    <tr>\n",
       "      <th>1933</th>\n",
       "      <td>ORGANIZATION_TYPE</td>\n",
       "      <td>DAYS_BIRTH</td>\n",
       "      <td>0.997939</td>\n",
       "    </tr>\n",
       "    <tr>\n",
       "      <th>1934</th>\n",
       "      <td>AMT_INSTALMENT_mean</td>\n",
       "      <td>AMT_ANNUITY</td>\n",
       "      <td>0.997761</td>\n",
       "    </tr>\n",
       "    <tr>\n",
       "      <th>1935</th>\n",
       "      <td>DAYS_LAST_DUE_1ST_VERSION_mean</td>\n",
       "      <td>YEARS_BUILD_MEDI</td>\n",
       "      <td>0.999435</td>\n",
       "    </tr>\n",
       "  </tbody>\n",
       "</table>\n",
       "<p>1936 rows × 3 columns</p>\n",
       "</div>"
      ],
      "text/plain": [
       "                                                      0  \\\n",
       "0                             NUM_INSTALMENT_NUMBER_max   \n",
       "1                          YEARS_BEGINEXPLUATATION_MODE   \n",
       "2                                    AMT_INSTALMENT_max   \n",
       "3                                         AMT_ANNUITY_5   \n",
       "4              WEEKDAY_APPR_PROCESS_START_THURSDAY_mean   \n",
       "5                                   DAYS_FIRST_DUE_mean   \n",
       "6                                     AMT_GOODS_PRICE_1   \n",
       "7                                     DAYS_DECISION_max   \n",
       "8                                          EXT_SOURCE_2   \n",
       "9                          NAME_GOODS_CATEGORY_XNA_mean   \n",
       "10                             AMT_CREDIT_SUM_DEBT_mean   \n",
       "11                        AMT_DRAWINGS_ATM_CURRENT_mean   \n",
       "12                               RATE_DOWN_PAYMENT_mean   \n",
       "13                                      COMMONAREA_MODE   \n",
       "14                       CNT_INSTALMENT_MATURE_CUM_mean   \n",
       "15                                         AMT_CREDIT_1   \n",
       "16                                        AMT_ANNUITY_1   \n",
       "17                                        AMT_ANNUITY_1   \n",
       "18                                         SK_ID_BUREAU   \n",
       "19                            AMT_TOTAL_RECEIVABLE_mean   \n",
       "20                         HOUR_APPR_PROCESS_START_mean   \n",
       "21                                   AMT_ANNUITY_mean_5   \n",
       "22              WEEKDAY_APPR_PROCESS_START_TUESDAY_mean   \n",
       "23                            NAME_CLIENT_TYPE_New_mean   \n",
       "24                                      DAYS_ID_PUBLISH   \n",
       "25    PRODUCT_COMBINATION_POS industry with interest...   \n",
       "26                              DAYS_FIRST_DRAWING_mean   \n",
       "27                        DAYS_LAST_DUE_1ST_VERSION_max   \n",
       "28                                      DAYS_CREDIT_max   \n",
       "29                           NUM_INSTALMENT_NUMBER_mean   \n",
       "...                                                 ...   \n",
       "1906                            NAME_PORTFOLIO_POS_mean   \n",
       "1907                                       EXT_SOURCE_1   \n",
       "1908                           CNT_DRAWINGS_CURRENT_max   \n",
       "1909                                    DAYS_ID_PUBLISH   \n",
       "1910                                   FLAG_DOCUMENT_16   \n",
       "1911                            AMT_CREDIT_SUM_DEBT_max   \n",
       "1912                               AMT_APPLICATION_mean   \n",
       "1913                                         AMT_CREDIT   \n",
       "1914                                     DAYS_FIRST_DUE   \n",
       "1915                                       EXT_SOURCE_1   \n",
       "1916                            NAME_PORTFOLIO_POS_mean   \n",
       "1917                             RATE_DOWN_PAYMENT_mean   \n",
       "1918                                     CNT_INSTALMENT   \n",
       "1919                    NAME_CLIENT_TYPE_Refreshed_mean   \n",
       "1920                                    DAYS_CREDIT_max   \n",
       "1921                                     AMT_CREDIT_SUM   \n",
       "1922                                   MONTHS_BALANCE_4   \n",
       "1923                                      DAYS_EMPLOYED   \n",
       "1924                        HOUR_APPR_PROCESS_START_max   \n",
       "1925                       NAME_YIELD_GROUP_middle_mean   \n",
       "1926                                       EXT_SOURCE_1   \n",
       "1927                   CHANNEL_TYPE_Contact center_mean   \n",
       "1928                                DAYS_INSTALMENT_max   \n",
       "1929                                       EXT_SOURCE_1   \n",
       "1930                       AMT_CREDIT_LIMIT_ACTUAL_mean   \n",
       "1931                 NAME_CONTRACT_STATUS_Active_mean_4   \n",
       "1932                             DAYS_LAST_PHONE_CHANGE   \n",
       "1933                                  ORGANIZATION_TYPE   \n",
       "1934                                AMT_INSTALMENT_mean   \n",
       "1935                     DAYS_LAST_DUE_1ST_VERSION_mean   \n",
       "\n",
       "                                                      1         2  \n",
       "0                            AMT_REQ_CREDIT_BUREAU_YEAR  0.999035  \n",
       "1                               CHANNEL_TYPE_Stone_mean  1.000066  \n",
       "2                         NFLAG_INSURED_ON_APPROVAL_max  0.998585  \n",
       "3                                      AMT_PAYMENT_mean  1.000107  \n",
       "4                                 RATE_DOWN_PAYMENT_max  1.000331  \n",
       "5                                       AMT_PAYMENT_max  0.999861  \n",
       "6                                       AMT_GOODS_PRICE  0.998823  \n",
       "7                                    DAYS_ENTRY_PAYMENT  1.005703  \n",
       "8                            NAME_PRODUCT_TYPE_XNA_mean  0.999346  \n",
       "9                                       AMT_BALANCE_max  0.999593  \n",
       "10                                   AMT_INSTALMENT_max  1.000159  \n",
       "11                                   AMT_INSTALMENT_max  1.000501  \n",
       "12                       NFLAG_INSURED_ON_APPROVAL_mean  0.997759  \n",
       "13                                     AMT_ANNUITY_mean  0.999930  \n",
       "14                                           DAYS_BIRTH  0.999716  \n",
       "15                    NAME_CONTRACT_STATUS_Refused_mean  1.000678  \n",
       "16                                 AMT_GOODS_PRICE_mean  1.001896  \n",
       "17                              DAYS_CREDIT_ENDDATE_max  0.999592  \n",
       "18                           CODE_REJECT_REASON_HC_mean  0.999388  \n",
       "19                                      DAYS_ID_PUBLISH  1.000186  \n",
       "20                        DAYS_LAST_DUE_1ST_VERSION_max  0.998718  \n",
       "21                                        LANDAREA_MEDI  0.999819  \n",
       "22                            CREDIT_ACTIVE_Closed_mean  0.999336  \n",
       "23                            AMT_DRAWINGS_CURRENT_mean  1.000645  \n",
       "24                             DAYS_CREDIT_ENDDATE_mean  0.999161  \n",
       "25                     CHANNEL_TYPE_Contact center_mean  1.000033  \n",
       "26                                AMT_DOWN_PAYMENT_mean  1.000990  \n",
       "27                                  AMT_INSTALMENT_mean  0.999574  \n",
       "28                   NAME_TYPE_SUITE_Unaccompanied_mean  0.999742  \n",
       "29    PRODUCT_COMBINATION_POS industry with interest...  1.000090  \n",
       "...                                                 ...       ...  \n",
       "1906                                    LIVINGAREA_MODE  1.000234  \n",
       "1907                             AMT_CREDIT_MAX_OVERDUE  1.000161  \n",
       "1908                       YEARS_BEGINEXPLUATATION_MODE  1.000326  \n",
       "1909                             DAYS_CREDIT_UPDATE_max  0.999614  \n",
       "1910                                       EXT_SOURCE_3  1.000188  \n",
       "1911                                       EXT_SOURCE_1  1.000420  \n",
       "1912                                       EXT_SOURCE_2  0.999823  \n",
       "1913                                       EXT_SOURCE_2  0.999031  \n",
       "1914  NAME_GOODS_CATEGORY_Photo / Cinema Equipment_mean  0.999625  \n",
       "1915                             DAYS_ENTRY_PAYMENT_max  1.000043  \n",
       "1916           PRODUCT_COMBINATION_Cash Street: low_max  1.000106  \n",
       "1917                                       EXT_SOURCE_3  0.999800  \n",
       "1918                                 DAYS_LAST_DUE_mean  0.998770  \n",
       "1919                                     AMT_INSTALMENT  0.999980  \n",
       "1920                                      DAYS_DECISION  0.999957  \n",
       "1921      NAME_GOODS_CATEGORY_Consumer Electronics_mean  0.999007  \n",
       "1922                         REGION_POPULATION_RELATIVE  0.998525  \n",
       "1923                      AMT_DRAWINGS_POS_CURRENT_mean  0.999240  \n",
       "1924                                CNT_INSTALMENT_mean  0.998308  \n",
       "1925                           AMT_PAYMENT_CURRENT_mean  1.000603  \n",
       "1926                 NAME_SELLER_INDUSTRY_Clothing_mean  1.000505  \n",
       "1927                                 DAYS_ENTRY_PAYMENT  0.999175  \n",
       "1928                                 AMT_RECIVABLE_mean  0.999063  \n",
       "1929                                     AMT_CREDIT_SUM  0.999642  \n",
       "1930                                       EXT_SOURCE_1  1.000439  \n",
       "1931                         WEEKDAY_APPR_PROCESS_START  0.997114  \n",
       "1932                         NAME_YIELD_GROUP_high_mean  0.999415  \n",
       "1933                                         DAYS_BIRTH  0.997939  \n",
       "1934                                        AMT_ANNUITY  0.997761  \n",
       "1935                                   YEARS_BUILD_MEDI  0.999435  \n",
       "\n",
       "[1936 rows x 3 columns]"
      ]
     },
     "execution_count": 304,
     "metadata": {},
     "output_type": "execute_result"
    }
   ],
   "source": [
    "pd.DataFrame(score_improvement_list)"
   ]
  },
  {
   "cell_type": "code",
   "execution_count": 371,
   "metadata": {},
   "outputs": [
    {
     "data": {
      "text/plain": [
       "0.7904353355608281"
      ]
     },
     "execution_count": 371,
     "metadata": {},
     "output_type": "execute_result"
    }
   ],
   "source": [
    "m5.validation_scores.mean()"
   ]
  },
  {
   "cell_type": "code",
   "execution_count": 372,
   "metadata": {},
   "outputs": [
    {
     "data": {
      "text/plain": [
       "(479,)"
      ]
     },
     "execution_count": 372,
     "metadata": {},
     "output_type": "execute_result"
    }
   ],
   "source": [
    "X_reduced.columns.shape"
   ]
  },
  {
   "cell_type": "code",
   "execution_count": null,
   "metadata": {},
   "outputs": [],
   "source": [
    "m5.train(X_reduced, y)"
   ]
  },
  {
   "cell_type": "code",
   "execution_count": 348,
   "metadata": {},
   "outputs": [],
   "source": [
    "irrelevant_features = list(m5_engineered.clf.named_steps.clf.feature_importances_ <5)\n",
    "irrelevant_columns = X_reduced_engineered.columns[irrelevant_features]"
   ]
  },
  {
   "cell_type": "code",
   "execution_count": 350,
   "metadata": {},
   "outputs": [],
   "source": [
    "X_reduced_engineered_reduced = X_reduced_engineered.drop(irrelevant_columns, axis = 1)"
   ]
  },
  {
   "cell_type": "code",
   "execution_count": 351,
   "metadata": {},
   "outputs": [
    {
     "name": "stderr",
     "output_type": "stream",
     "text": [
      "/root/anaconda3/lib/python3.6/site-packages/ipykernel_launcher.py:7: RuntimeWarning: invalid value encountered in greater\n",
      "  import sys\n",
      "/root/anaconda3/lib/python3.6/site-packages/ipykernel_launcher.py:8: RuntimeWarning: invalid value encountered in greater\n",
      "  \n",
      "/root/anaconda3/lib/python3.6/site-packages/numpy/core/_methods.py:32: RuntimeWarning: invalid value encountered in reduce\n",
      "  return umr_sum(a, axis, dtype, out, keepdims)\n",
      "/root/anaconda3/lib/python3.6/site-packages/ipykernel_launcher.py:6: RuntimeWarning: invalid value encountered in subtract\n",
      "  \n",
      "/root/anaconda3/lib/python3.6/site-packages/numpy/lib/nanfunctions.py:1315: RuntimeWarning: invalid value encountered in subtract\n",
      "  np.subtract(arr, avg, out=arr, casting='unsafe')\n",
      "/root/anaconda3/lib/python3.6/site-packages/ipykernel_launcher.py:7: RuntimeWarning: invalid value encountered in greater\n",
      "  import sys\n",
      "/root/anaconda3/lib/python3.6/site-packages/ipykernel_launcher.py:8: RuntimeWarning: invalid value encountered in greater\n",
      "  \n",
      "/root/anaconda3/lib/python3.6/site-packages/numpy/core/_methods.py:32: RuntimeWarning: invalid value encountered in reduce\n",
      "  return umr_sum(a, axis, dtype, out, keepdims)\n",
      "/root/anaconda3/lib/python3.6/site-packages/ipykernel_launcher.py:6: RuntimeWarning: invalid value encountered in subtract\n",
      "  \n",
      "/root/anaconda3/lib/python3.6/site-packages/numpy/lib/nanfunctions.py:1315: RuntimeWarning: invalid value encountered in subtract\n",
      "  np.subtract(arr, avg, out=arr, casting='unsafe')\n",
      "/root/anaconda3/lib/python3.6/site-packages/ipykernel_launcher.py:7: RuntimeWarning: invalid value encountered in greater\n",
      "  import sys\n",
      "/root/anaconda3/lib/python3.6/site-packages/ipykernel_launcher.py:8: RuntimeWarning: invalid value encountered in greater\n",
      "  \n",
      "/root/anaconda3/lib/python3.6/site-packages/numpy/core/_methods.py:32: RuntimeWarning: invalid value encountered in reduce\n",
      "  return umr_sum(a, axis, dtype, out, keepdims)\n",
      "/root/anaconda3/lib/python3.6/site-packages/ipykernel_launcher.py:6: RuntimeWarning: invalid value encountered in subtract\n",
      "  \n",
      "/root/anaconda3/lib/python3.6/site-packages/numpy/lib/nanfunctions.py:1315: RuntimeWarning: invalid value encountered in subtract\n",
      "  np.subtract(arr, avg, out=arr, casting='unsafe')\n",
      "/root/anaconda3/lib/python3.6/site-packages/ipykernel_launcher.py:7: RuntimeWarning: invalid value encountered in greater\n",
      "  import sys\n",
      "/root/anaconda3/lib/python3.6/site-packages/ipykernel_launcher.py:8: RuntimeWarning: invalid value encountered in greater\n",
      "  \n",
      "/root/anaconda3/lib/python3.6/site-packages/numpy/core/_methods.py:32: RuntimeWarning: invalid value encountered in reduce\n",
      "  return umr_sum(a, axis, dtype, out, keepdims)\n",
      "/root/anaconda3/lib/python3.6/site-packages/ipykernel_launcher.py:6: RuntimeWarning: invalid value encountered in subtract\n",
      "  \n",
      "/root/anaconda3/lib/python3.6/site-packages/numpy/lib/nanfunctions.py:1315: RuntimeWarning: invalid value encountered in subtract\n",
      "  np.subtract(arr, avg, out=arr, casting='unsafe')\n",
      "/root/anaconda3/lib/python3.6/site-packages/ipykernel_launcher.py:7: RuntimeWarning: invalid value encountered in greater\n",
      "  import sys\n",
      "/root/anaconda3/lib/python3.6/site-packages/ipykernel_launcher.py:8: RuntimeWarning: invalid value encountered in greater\n",
      "  \n",
      "/root/anaconda3/lib/python3.6/site-packages/numpy/core/_methods.py:32: RuntimeWarning: invalid value encountered in reduce\n",
      "  return umr_sum(a, axis, dtype, out, keepdims)\n",
      "/root/anaconda3/lib/python3.6/site-packages/ipykernel_launcher.py:6: RuntimeWarning: invalid value encountered in subtract\n",
      "  \n",
      "/root/anaconda3/lib/python3.6/site-packages/numpy/lib/nanfunctions.py:1315: RuntimeWarning: invalid value encountered in subtract\n",
      "  np.subtract(arr, avg, out=arr, casting='unsafe')\n",
      "/root/anaconda3/lib/python3.6/site-packages/ipykernel_launcher.py:7: RuntimeWarning: invalid value encountered in greater\n",
      "  import sys\n",
      "/root/anaconda3/lib/python3.6/site-packages/ipykernel_launcher.py:8: RuntimeWarning: invalid value encountered in greater\n",
      "  \n",
      "/root/anaconda3/lib/python3.6/site-packages/numpy/core/_methods.py:32: RuntimeWarning: invalid value encountered in reduce\n",
      "  return umr_sum(a, axis, dtype, out, keepdims)\n",
      "/root/anaconda3/lib/python3.6/site-packages/ipykernel_launcher.py:6: RuntimeWarning: invalid value encountered in subtract\n",
      "  \n",
      "/root/anaconda3/lib/python3.6/site-packages/numpy/lib/nanfunctions.py:1315: RuntimeWarning: invalid value encountered in subtract\n",
      "  np.subtract(arr, avg, out=arr, casting='unsafe')\n",
      "/root/anaconda3/lib/python3.6/site-packages/ipykernel_launcher.py:7: RuntimeWarning: invalid value encountered in greater\n",
      "  import sys\n",
      "/root/anaconda3/lib/python3.6/site-packages/ipykernel_launcher.py:8: RuntimeWarning: invalid value encountered in greater\n",
      "  \n",
      "/root/anaconda3/lib/python3.6/site-packages/numpy/core/_methods.py:32: RuntimeWarning: invalid value encountered in reduce\n",
      "  return umr_sum(a, axis, dtype, out, keepdims)\n",
      "/root/anaconda3/lib/python3.6/site-packages/ipykernel_launcher.py:6: RuntimeWarning: invalid value encountered in subtract\n",
      "  \n",
      "/root/anaconda3/lib/python3.6/site-packages/numpy/lib/nanfunctions.py:1315: RuntimeWarning: invalid value encountered in subtract\n",
      "  np.subtract(arr, avg, out=arr, casting='unsafe')\n",
      "/root/anaconda3/lib/python3.6/site-packages/ipykernel_launcher.py:7: RuntimeWarning: invalid value encountered in greater\n",
      "  import sys\n",
      "/root/anaconda3/lib/python3.6/site-packages/ipykernel_launcher.py:8: RuntimeWarning: invalid value encountered in greater\n",
      "  \n",
      "/root/anaconda3/lib/python3.6/site-packages/numpy/core/_methods.py:32: RuntimeWarning: invalid value encountered in reduce\n",
      "  return umr_sum(a, axis, dtype, out, keepdims)\n",
      "/root/anaconda3/lib/python3.6/site-packages/ipykernel_launcher.py:6: RuntimeWarning: invalid value encountered in subtract\n",
      "  \n",
      "/root/anaconda3/lib/python3.6/site-packages/numpy/lib/nanfunctions.py:1315: RuntimeWarning: invalid value encountered in subtract\n",
      "  np.subtract(arr, avg, out=arr, casting='unsafe')\n",
      "/root/anaconda3/lib/python3.6/site-packages/ipykernel_launcher.py:7: RuntimeWarning: invalid value encountered in greater\n",
      "  import sys\n",
      "/root/anaconda3/lib/python3.6/site-packages/ipykernel_launcher.py:8: RuntimeWarning: invalid value encountered in greater\n",
      "  \n",
      "/root/anaconda3/lib/python3.6/site-packages/numpy/core/_methods.py:32: RuntimeWarning: invalid value encountered in reduce\n",
      "  return umr_sum(a, axis, dtype, out, keepdims)\n",
      "/root/anaconda3/lib/python3.6/site-packages/ipykernel_launcher.py:6: RuntimeWarning: invalid value encountered in subtract\n",
      "  \n",
      "/root/anaconda3/lib/python3.6/site-packages/numpy/lib/nanfunctions.py:1315: RuntimeWarning: invalid value encountered in subtract\n",
      "  np.subtract(arr, avg, out=arr, casting='unsafe')\n",
      "/root/anaconda3/lib/python3.6/site-packages/ipykernel_launcher.py:7: RuntimeWarning: invalid value encountered in greater\n",
      "  import sys\n",
      "/root/anaconda3/lib/python3.6/site-packages/ipykernel_launcher.py:8: RuntimeWarning: invalid value encountered in greater\n",
      "  \n",
      "/root/anaconda3/lib/python3.6/site-packages/numpy/core/_methods.py:32: RuntimeWarning: invalid value encountered in reduce\n",
      "  return umr_sum(a, axis, dtype, out, keepdims)\n",
      "/root/anaconda3/lib/python3.6/site-packages/ipykernel_launcher.py:6: RuntimeWarning: invalid value encountered in subtract\n",
      "  \n",
      "/root/anaconda3/lib/python3.6/site-packages/numpy/lib/nanfunctions.py:1315: RuntimeWarning: invalid value encountered in subtract\n",
      "  np.subtract(arr, avg, out=arr, casting='unsafe')\n"
     ]
    }
   ],
   "source": [
    "m5_engineered.validate_model(X_reduced_engineered_reduced, y)"
   ]
  },
  {
   "cell_type": "code",
   "execution_count": 271,
   "metadata": {},
   "outputs": [
    {
     "name": "stderr",
     "output_type": "stream",
     "text": [
      "/root/anaconda3/lib/python3.6/site-packages/ipykernel_launcher.py:7: RuntimeWarning: invalid value encountered in greater\n",
      "  import sys\n",
      "/root/anaconda3/lib/python3.6/site-packages/ipykernel_launcher.py:8: RuntimeWarning: invalid value encountered in greater\n",
      "  \n",
      "/root/anaconda3/lib/python3.6/site-packages/ipykernel_launcher.py:7: RuntimeWarning: invalid value encountered in greater\n",
      "  import sys\n",
      "/root/anaconda3/lib/python3.6/site-packages/ipykernel_launcher.py:8: RuntimeWarning: invalid value encountered in greater\n",
      "  \n",
      "/root/anaconda3/lib/python3.6/site-packages/ipykernel_launcher.py:7: RuntimeWarning: invalid value encountered in greater\n",
      "  import sys\n",
      "/root/anaconda3/lib/python3.6/site-packages/ipykernel_launcher.py:8: RuntimeWarning: invalid value encountered in greater\n",
      "  \n",
      "/root/anaconda3/lib/python3.6/site-packages/ipykernel_launcher.py:7: RuntimeWarning: invalid value encountered in greater\n",
      "  import sys\n",
      "/root/anaconda3/lib/python3.6/site-packages/ipykernel_launcher.py:8: RuntimeWarning: invalid value encountered in greater\n",
      "  \n",
      "/root/anaconda3/lib/python3.6/site-packages/ipykernel_launcher.py:7: RuntimeWarning: invalid value encountered in greater\n",
      "  import sys\n",
      "/root/anaconda3/lib/python3.6/site-packages/ipykernel_launcher.py:8: RuntimeWarning: invalid value encountered in greater\n",
      "  \n",
      "/root/anaconda3/lib/python3.6/site-packages/ipykernel_launcher.py:7: RuntimeWarning: invalid value encountered in greater\n",
      "  import sys\n",
      "/root/anaconda3/lib/python3.6/site-packages/ipykernel_launcher.py:8: RuntimeWarning: invalid value encountered in greater\n",
      "  \n",
      "/root/anaconda3/lib/python3.6/site-packages/ipykernel_launcher.py:7: RuntimeWarning: invalid value encountered in greater\n",
      "  import sys\n",
      "/root/anaconda3/lib/python3.6/site-packages/ipykernel_launcher.py:8: RuntimeWarning: invalid value encountered in greater\n",
      "  \n",
      "/root/anaconda3/lib/python3.6/site-packages/ipykernel_launcher.py:7: RuntimeWarning: invalid value encountered in greater\n",
      "  import sys\n",
      "/root/anaconda3/lib/python3.6/site-packages/ipykernel_launcher.py:8: RuntimeWarning: invalid value encountered in greater\n",
      "  \n",
      "/root/anaconda3/lib/python3.6/site-packages/ipykernel_launcher.py:7: RuntimeWarning: invalid value encountered in greater\n",
      "  import sys\n",
      "/root/anaconda3/lib/python3.6/site-packages/ipykernel_launcher.py:8: RuntimeWarning: invalid value encountered in greater\n",
      "  \n",
      "/root/anaconda3/lib/python3.6/site-packages/ipykernel_launcher.py:7: RuntimeWarning: invalid value encountered in greater\n",
      "  import sys\n",
      "/root/anaconda3/lib/python3.6/site-packages/ipykernel_launcher.py:8: RuntimeWarning: invalid value encountered in greater\n",
      "  \n"
     ]
    }
   ],
   "source": [
    "m7 = Model('5', '1 round of feature selection. looser outlier detection')\n",
    "m7.define_model(Pipeline([('outlier_detection', FunctionTransformer(func = lambda data: np.apply_along_axis(null_outliers , 0, data, **{'m':4}), validate=False)),\n",
    "                          ('clf', clf)]))\n",
    "m7.set_categorical_features = categorical_columns\n",
    "m7.validate_model(X_reduced, y)"
   ]
  },
  {
   "cell_type": "code",
   "execution_count": 273,
   "metadata": {},
   "outputs": [
    {
     "data": {
      "text/plain": [
       "0.787462186164429"
      ]
     },
     "execution_count": 273,
     "metadata": {},
     "output_type": "execute_result"
    }
   ],
   "source": [
    "m7.validation_scores.mean()"
   ]
  },
  {
   "cell_type": "code",
   "execution_count": 274,
   "metadata": {},
   "outputs": [
    {
     "data": {
      "text/plain": [
       "0.7876295119003531"
      ]
     },
     "execution_count": 274,
     "metadata": {},
     "output_type": "execute_result"
    }
   ],
   "source": [
    "m5.validation_scores.mean()"
   ]
  },
  {
   "cell_type": "code",
   "execution_count": null,
   "metadata": {},
   "outputs": [],
   "source": [
    "m5.tune_model(X_reduced, y, param_grid = {'clf__n_estimators': [500, 750, 1000, 1313, 1500, 3000]})"
   ]
  },
  {
   "cell_type": "code",
   "execution_count": null,
   "metadata": {},
   "outputs": [],
   "source": [
    "m6 = Model('5', '1 round of feature selection. looser outlier detection')\n",
    "m6.define_model(Pipeline([('outlier_detection', FunctionTransformer(func = lambda data: np.apply_along_axis(null_outliers , 0, data, **{'m':2.5}), validate=False)),\n",
    "                          ('clf', clf)]))\n",
    "m6.set_categorical_features = categorical_columns\n",
    "m6.validate_model(X_reduced, y)"
   ]
  },
  {
   "cell_type": "code",
   "execution_count": 269,
   "metadata": {},
   "outputs": [
    {
     "data": {
      "text/plain": [
       "0.7867599759176575"
      ]
     },
     "execution_count": 269,
     "metadata": {},
     "output_type": "execute_result"
    }
   ],
   "source": [
    "m6.validation_scores.mean()"
   ]
  },
  {
   "cell_type": "code",
   "execution_count": 263,
   "metadata": {},
   "outputs": [
    {
     "name": "stderr",
     "output_type": "stream",
     "text": [
      "/root/anaconda3/lib/python3.6/site-packages/ipykernel_launcher.py:7: RuntimeWarning: invalid value encountered in greater\n",
      "  import sys\n",
      "/root/anaconda3/lib/python3.6/site-packages/ipykernel_launcher.py:8: RuntimeWarning: invalid value encountered in greater\n",
      "  \n"
     ]
    }
   ],
   "source": [
    "m5.train(X_reduced, y)"
   ]
  },
  {
   "cell_type": "code",
   "execution_count": 196,
   "metadata": {},
   "outputs": [
    {
     "data": {
      "text/plain": [
       "0.7878088434851533"
      ]
     },
     "execution_count": 196,
     "metadata": {},
     "output_type": "execute_result"
    }
   ],
   "source": [
    "m.validation_scores.mean()"
   ]
  },
  {
   "cell_type": "code",
   "execution_count": 201,
   "metadata": {},
   "outputs": [
    {
     "data": {
      "text/plain": [
       "Pipeline(memory=None,\n",
       "     steps=[('outlier_detection', FunctionTransformer(accept_sparse=False,\n",
       "          func=<function clean_columns at 0x7f052b4cee18>,\n",
       "          inv_kw_args=None, inverse_func=None, kw_args=None,\n",
       "          pass_y='deprecated', validate=False)), ('clf', LGBMClassifier(boosting_type='gbdt', class_weight=Non...0.8, reg_lambda=0.4, silent=True, subsample=1,\n",
       "        subsample_for_bin=200000, subsample_freq=0))])"
      ]
     },
     "execution_count": 201,
     "metadata": {},
     "output_type": "execute_result"
    }
   ],
   "source": [
    "m2.clf"
   ]
  },
  {
   "cell_type": "code",
   "execution_count": 209,
   "metadata": {},
   "outputs": [],
   "source": [
    "import seaborn as sb"
   ]
  },
  {
   "cell_type": "code",
   "execution_count": 210,
   "metadata": {},
   "outputs": [],
   "source": [
    "fi = pd.DataFrame({'imp': m2.clf.named_steps.clf.feature_importances_, 'feature' : X.columns})"
   ]
  },
  {
   "cell_type": "code",
   "execution_count": 223,
   "metadata": {},
   "outputs": [],
   "source": [
    "excluded_features = list(fi.loc[fi.imp == 0]['feature'])"
   ]
  },
  {
   "cell_type": "code",
   "execution_count": null,
   "metadata": {},
   "outputs": [],
   "source": [
    "excluded_features"
   ]
  },
  {
   "cell_type": "code",
   "execution_count": 233,
   "metadata": {},
   "outputs": [],
   "source": [
    "fi = pd.DataFrame({'imp': m3.clf.named_steps.clf.feature_importances_, 'feature' : X_reduced.columns})"
   ]
  },
  {
   "cell_type": "code",
   "execution_count": 215,
   "metadata": {},
   "outputs": [],
   "source": [
    "from matplotlib import pyplot as plt"
   ]
  },
  {
   "cell_type": "code",
   "execution_count": 236,
   "metadata": {},
   "outputs": [],
   "source": [
    "from sklearn.feature_selection import SelectFromModel"
   ]
  },
  {
   "cell_type": "code",
   "execution_count": 242,
   "metadata": {},
   "outputs": [
    {
     "data": {
      "text/plain": [
       "count    477.000000\n",
       "mean     107.352201\n",
       "std      145.597168\n",
       "min        0.000000\n",
       "25%       10.000000\n",
       "50%       56.000000\n",
       "75%      140.000000\n",
       "max      854.000000\n",
       "Name: imp, dtype: float64"
      ]
     },
     "execution_count": 242,
     "metadata": {},
     "output_type": "execute_result"
    }
   ],
   "source": [
    "fi.imp.describe()"
   ]
  },
  {
   "cell_type": "code",
   "execution_count": 243,
   "metadata": {},
   "outputs": [],
   "source": [
    "keep_features = list(fi[fi.imp >10]['feature'])"
   ]
  },
  {
   "cell_type": "code",
   "execution_count": 248,
   "metadata": {},
   "outputs": [],
   "source": [
    "X_reduced_2 = X_reduced.loc[:, keep_features]\n",
    "\n",
    "m4 = Model('4', 'basic lgbm with outlier cleaning with second round feature selection')\n",
    "m4.define_model(Pipeline([('outlier_detection', pipe_clean_columns),\n",
    "                          ('clf', clf)]))"
   ]
  },
  {
   "cell_type": "code",
   "execution_count": 250,
   "metadata": {},
   "outputs": [
    {
     "data": {
      "text/plain": [
       "(307511, 353)"
      ]
     },
     "execution_count": 250,
     "metadata": {},
     "output_type": "execute_result"
    }
   ],
   "source": [
    "X_reduced_2.shape"
   ]
  },
  {
   "cell_type": "code",
   "execution_count": 249,
   "metadata": {},
   "outputs": [
    {
     "name": "stderr",
     "output_type": "stream",
     "text": [
      "/root/anaconda3/lib/python3.6/site-packages/ipykernel_launcher.py:7: RuntimeWarning: invalid value encountered in greater\n",
      "  import sys\n",
      "/root/anaconda3/lib/python3.6/site-packages/ipykernel_launcher.py:8: RuntimeWarning: invalid value encountered in greater\n",
      "  \n"
     ]
    }
   ],
   "source": [
    "m4.train(X_reduced_2, y)"
   ]
  },
  {
   "cell_type": "code",
   "execution_count": null,
   "metadata": {},
   "outputs": [],
   "source": [
    "plt.subplots(figsize=(20,90))\n",
    "\n",
    "sb.barplot(x = 'imp', y = 'feature', data = fi.sort_values('imp', ascending = False))"
   ]
  },
  {
   "cell_type": "code",
   "execution_count": 202,
   "metadata": {},
   "outputs": [
    {
     "name": "stderr",
     "output_type": "stream",
     "text": [
      "/root/anaconda3/lib/python3.6/site-packages/ipykernel_launcher.py:7: RuntimeWarning: invalid value encountered in greater\n",
      "  import sys\n",
      "/root/anaconda3/lib/python3.6/site-packages/ipykernel_launcher.py:8: RuntimeWarning: invalid value encountered in greater\n",
      "  \n",
      "/root/anaconda3/lib/python3.6/site-packages/ipykernel_launcher.py:6: RuntimeWarning: invalid value encountered in true_divide\n",
      "  \n"
     ]
    },
    {
     "data": {
      "text/plain": [
       "Pipeline(memory=None,\n",
       "     steps=[('outlier_detection', FunctionTransformer(accept_sparse=False,\n",
       "          func=<function clean_columns at 0x7f052b4cee18>,\n",
       "          inv_kw_args=None, inverse_func=None, kw_args=None,\n",
       "          pass_y='deprecated', validate=False)), ('clf', LGBMClassifier(boosting_type='gbdt', class_weight=Non...0.8, reg_lambda=0.4, silent=True, subsample=1,\n",
       "        subsample_for_bin=200000, subsample_freq=0))])"
      ]
     },
     "execution_count": 202,
     "metadata": {},
     "output_type": "execute_result"
    }
   ],
   "source": [
    "m2.clf.fit(X, y)"
   ]
  },
  {
   "cell_type": "code",
   "execution_count": 180,
   "metadata": {},
   "outputs": [
    {
     "name": "stdout",
     "output_type": "stream",
     "text": [
      "Loading test applications\n",
      "Loading previous_application.csv.zip\n",
      "Loading credit_card_balance.csv.zip\n",
      "Loading installments_payments.csv.zip\n",
      "Loading POS_CASH_balance.csv.zip\n",
      "Loading bureau.csv.zip\n"
     ]
    },
    {
     "name": "stderr",
     "output_type": "stream",
     "text": [
      "/root/anaconda3/lib/python3.6/site-packages/pandas/core/indexing.py:543: SettingWithCopyWarning: \n",
      "A value is trying to be set on a copy of a slice from a DataFrame.\n",
      "Try using .loc[row_indexer,col_indexer] = value instead\n",
      "\n",
      "See the caveats in the documentation: http://pandas.pydata.org/pandas-docs/stable/indexing.html#indexing-view-versus-copy\n",
      "  self.obj[item] = s\n"
     ]
    },
    {
     "name": "stdout",
     "output_type": "stream",
     "text": [
      "CPU times: user 1min 49s, sys: 12.8 s, total: 2min 2s\n",
      "Wall time: 1min 46s\n"
     ]
    }
   ],
   "source": [
    "%%time\n",
    "# Load dataframe\n",
    "df_test = utils.load_data(train = False,\n",
    "                     supp_dict = {'previous_application.csv.zip' : 'max',\n",
    "                                  'credit_card_balance.csv.zip' : 'mean',\n",
    "                                  'installments_payments.csv.zip' : 'min',\n",
    "                                  'POS_CASH_balance.csv.zip' : 'mean',\n",
    "                                  'bureau.csv.zip' : 'max'\n",
    "                                 })\n",
    "\n",
    "# Create design matrix\n",
    "features = [x for x in df_test.columns if x != 'SK_ID_CURR']\n",
    "X_test = utils.get_design_matrix_lbl(df_test, features, train = False, train_test_split = False, train_sample = 0.75, convert_categorical = True)"
   ]
  },
  {
   "cell_type": "code",
   "execution_count": 374,
   "metadata": {},
   "outputs": [],
   "source": [
    "X_test_reduced = X_test.drop(axis = 1, columns = excluded_features)"
   ]
  },
  {
   "cell_type": "code",
   "execution_count": 251,
   "metadata": {},
   "outputs": [],
   "source": [
    "X_test_reduced_2 = X_test.loc[:, keep_features]"
   ]
  },
  {
   "cell_type": "code",
   "execution_count": 333,
   "metadata": {},
   "outputs": [],
   "source": [
    "X_test_reduced_engineered = X_test_reduced"
   ]
  },
  {
   "cell_type": "code",
   "execution_count": 334,
   "metadata": {},
   "outputs": [],
   "source": [
    "for x in engineered_features.iterrows():\n",
    "    X_test_reduced_engineered[x[1][0] + '___' + x[1][1]] = X_test_reduced_engineered[x[1][0]] / X_reduced_engineered[x[1][1]]"
   ]
  },
  {
   "cell_type": "code",
   "execution_count": 359,
   "metadata": {},
   "outputs": [
    {
     "name": "stderr",
     "output_type": "stream",
     "text": [
      "/root/anaconda3/lib/python3.6/site-packages/ipykernel_launcher.py:7: RuntimeWarning: invalid value encountered in greater\n",
      "  import sys\n",
      "/root/anaconda3/lib/python3.6/site-packages/ipykernel_launcher.py:8: RuntimeWarning: invalid value encountered in greater\n",
      "  \n",
      "/root/anaconda3/lib/python3.6/site-packages/numpy/core/_methods.py:32: RuntimeWarning: invalid value encountered in reduce\n",
      "  return umr_sum(a, axis, dtype, out, keepdims)\n",
      "/root/anaconda3/lib/python3.6/site-packages/ipykernel_launcher.py:6: RuntimeWarning: invalid value encountered in subtract\n",
      "  \n",
      "/root/anaconda3/lib/python3.6/site-packages/numpy/lib/nanfunctions.py:1315: RuntimeWarning: invalid value encountered in subtract\n",
      "  np.subtract(arr, avg, out=arr, casting='unsafe')\n"
     ]
    }
   ],
   "source": [
    "m5_engineered.train(X_reduced_engineered_reduced, y)"
   ]
  },
  {
   "cell_type": "code",
   "execution_count": 360,
   "metadata": {},
   "outputs": [],
   "source": [
    "X_test_reduced_engineered_reduced = X_test_reduced_engineered.drop(irrelevant_columns, axis = 1)"
   ]
  },
  {
   "cell_type": "code",
   "execution_count": 373,
   "metadata": {},
   "outputs": [
    {
     "data": {
      "text/plain": [
       "(48744, 494)"
      ]
     },
     "execution_count": 373,
     "metadata": {},
     "output_type": "execute_result"
    }
   ],
   "source": [
    "X_test_reduced.shape"
   ]
  },
  {
   "cell_type": "code",
   "execution_count": 376,
   "metadata": {},
   "outputs": [
    {
     "name": "stderr",
     "output_type": "stream",
     "text": [
      "/root/anaconda3/lib/python3.6/site-packages/ipykernel_launcher.py:7: RuntimeWarning: invalid value encountered in greater\n",
      "  import sys\n",
      "/root/anaconda3/lib/python3.6/site-packages/ipykernel_launcher.py:8: RuntimeWarning: invalid value encountered in greater\n",
      "  \n",
      "/root/anaconda3/lib/python3.6/site-packages/ipykernel_launcher.py:6: RuntimeWarning: invalid value encountered in true_divide\n",
      "  \n"
     ]
    }
   ],
   "source": [
    "y_hat = [x[1] for x in m5.clf.predict_proba(X_test_reduced)]\n",
    "submission = pd.DataFrame()\n",
    "submission['SK_ID_CURR'] = df_test.SK_ID_CURR\n",
    "submission['TARGET'] = pd.Series(y_hat)\n",
    "#submission.to_csv('/vol2/competitions/home-credit-default-risk/submissions/submission_10.csv', index = False)\n",
    "submission.to_csv('submission_13_reduced_with_engineered.csv', index = False)"
   ]
  },
  {
   "cell_type": "code",
   "execution_count": 176,
   "metadata": {},
   "outputs": [
    {
     "data": {
      "text/plain": [
       "array([0.78739158, 0.79033776, 0.78475571, 0.78801098, 0.78854818])"
      ]
     },
     "execution_count": 176,
     "metadata": {},
     "output_type": "execute_result"
    }
   ],
   "source": [
    "m.validation_scores"
   ]
  },
  {
   "cell_type": "code",
   "execution_count": 21,
   "metadata": {},
   "outputs": [],
   "source": [
    "params = {'boosting_type': 'gbdt',\n",
    "          'max_depth' : -1,\n",
    "          'objective': 'binary',\n",
    "          'learning_rate': 0.1,\n",
    "          'subsample': 1,\n",
    "          'colsample_bytree': 0.8,\n",
    "          'reg_alpha': 0,\n",
    "          'reg_lambda': 1,\n",
    "          'device_type': 'gpu',\n",
    "          'metric' : 'auc',\n",
    "          'random_state': 123}\n",
    "\n",
    "# Create parameters to search\n",
    "gridParams = {\n",
    "    'learning_rate': [0.005],\n",
    "    'n_estimators': [40],\n",
    "    'num_leaves': [6,8,12,16],\n",
    "    'boosting_type' : ['gbdt'],\n",
    "    'objective' : ['binary'],\n",
    "    'random_state' : [501], # Updated from 'seed'\n",
    "    'colsample_bytree' : [0.65, 0.66],\n",
    "    'subsample' : [0.7,0.75],\n",
    "    'reg_alpha' : [1,1.2],\n",
    "    'reg_lambda' : [1,1.2,1.4],\n",
    "    }\n"
   ]
  },
  {
   "cell_type": "code",
   "execution_count": 22,
   "metadata": {},
   "outputs": [],
   "source": [
    "from lightgbm import LGBMClassifier"
   ]
  },
  {
   "cell_type": "code",
   "execution_count": 23,
   "metadata": {},
   "outputs": [],
   "source": [
    "categorical_columns = list(df.columns[df.dtypes == object])\n",
    "categorical_feature = 'name:' + ','.join(categorical_columns)\n"
   ]
  },
  {
   "cell_type": "code",
   "execution_count": 24,
   "metadata": {},
   "outputs": [
    {
     "name": "stdout",
     "output_type": "stream",
     "text": [
      "CPU times: user 113 µs, sys: 26 µs, total: 139 µs\n",
      "Wall time: 150 µs\n"
     ]
    }
   ],
   "source": [
    "%%time\n",
    "# Initial Model - determine optimal number of runs (n_estimators) (4:20pm)\n",
    "\n",
    "params = {'boosting_type': 'gbdt',\n",
    "          'max_depth' : -1,\n",
    "          'objective': 'binary',\n",
    "          'learning_rate': 0.1,\n",
    "          'subsample': 1,\n",
    "          'colsample_bytree': 0.8,\n",
    "          'reg_alpha': 0,\n",
    "          'reg_lambda': 1,\n",
    "          'device_type': 'gpu',\n",
    "          'metric' : 'auc',\n",
    "          'max_bin': 63,\n",
    "          'categorical_feature':categorical_columns,\n",
    "          'random_state': 123}\n",
    "\n",
    "grid_params = {'n_estimators': [50, 100, 150, 200, 300, 400]}\n",
    "\n",
    "base_clf = LGBMClassifier(**params)\n",
    "\n",
    "gs = GridSearchCV(estimator = base_clf, param_grid= grid_params, \n",
    "                  scoring = 'roc_auc', cv = kfold)"
   ]
  },
  {
   "cell_type": "code",
   "execution_count": null,
   "metadata": {},
   "outputs": [],
   "source": []
  },
  {
   "cell_type": "code",
   "execution_count": null,
   "metadata": {},
   "outputs": [
    {
     "name": "stderr",
     "output_type": "stream",
     "text": [
      "/root/anaconda3/lib/python3.6/site-packages/lightgbm/basic.py:1088: UserWarning: categorical_feature in Dataset is overridden. New categorical_feature is ['CODE_GENDER', 'EMERGENCYSTATE_MODE', 'FLAG_OWN_CAR', 'FLAG_OWN_REALTY', 'FONDKAPREMONT_MODE', 'HOUSETYPE_MODE', 'NAME_CONTRACT_TYPE', 'NAME_EDUCATION_TYPE', 'NAME_FAMILY_STATUS', 'NAME_HOUSING_TYPE', 'NAME_INCOME_TYPE', 'NAME_TYPE_SUITE', 'OCCUPATION_TYPE', 'ORGANIZATION_TYPE', 'WALLSMATERIAL_MODE', 'WEEKDAY_APPR_PROCESS_START']\n",
      "  warnings.warn('categorical_feature in Dataset is overridden. New categorical_feature is {}'.format(sorted(list(categorical_feature))))\n",
      "/root/anaconda3/lib/python3.6/site-packages/lightgbm/basic.py:661: UserWarning: categorical_feature keyword has been found in `params` and will be ignored. Please use categorical_feature argument of the Dataset constructor to pass this parameter.\n",
      "  'Please use {0} argument of the Dataset constructor to pass this parameter.'.format(key))\n",
      "/root/anaconda3/lib/python3.6/site-packages/lightgbm/basic.py:681: UserWarning: categorical_feature in param dict is overridden.\n",
      "  warnings.warn('categorical_feature in param dict is overridden.')\n",
      "/root/anaconda3/lib/python3.6/site-packages/lightgbm/basic.py:1088: UserWarning: categorical_feature in Dataset is overridden. New categorical_feature is ['CODE_GENDER', 'EMERGENCYSTATE_MODE', 'FLAG_OWN_CAR', 'FLAG_OWN_REALTY', 'FONDKAPREMONT_MODE', 'HOUSETYPE_MODE', 'NAME_CONTRACT_TYPE', 'NAME_EDUCATION_TYPE', 'NAME_FAMILY_STATUS', 'NAME_HOUSING_TYPE', 'NAME_INCOME_TYPE', 'NAME_TYPE_SUITE', 'OCCUPATION_TYPE', 'ORGANIZATION_TYPE', 'WALLSMATERIAL_MODE', 'WEEKDAY_APPR_PROCESS_START']\n",
      "  warnings.warn('categorical_feature in Dataset is overridden. New categorical_feature is {}'.format(sorted(list(categorical_feature))))\n",
      "/root/anaconda3/lib/python3.6/site-packages/lightgbm/basic.py:661: UserWarning: categorical_feature keyword has been found in `params` and will be ignored. Please use categorical_feature argument of the Dataset constructor to pass this parameter.\n",
      "  'Please use {0} argument of the Dataset constructor to pass this parameter.'.format(key))\n",
      "/root/anaconda3/lib/python3.6/site-packages/lightgbm/basic.py:681: UserWarning: categorical_feature in param dict is overridden.\n",
      "  warnings.warn('categorical_feature in param dict is overridden.')\n",
      "/root/anaconda3/lib/python3.6/site-packages/lightgbm/basic.py:1088: UserWarning: categorical_feature in Dataset is overridden. New categorical_feature is ['CODE_GENDER', 'EMERGENCYSTATE_MODE', 'FLAG_OWN_CAR', 'FLAG_OWN_REALTY', 'FONDKAPREMONT_MODE', 'HOUSETYPE_MODE', 'NAME_CONTRACT_TYPE', 'NAME_EDUCATION_TYPE', 'NAME_FAMILY_STATUS', 'NAME_HOUSING_TYPE', 'NAME_INCOME_TYPE', 'NAME_TYPE_SUITE', 'OCCUPATION_TYPE', 'ORGANIZATION_TYPE', 'WALLSMATERIAL_MODE', 'WEEKDAY_APPR_PROCESS_START']\n",
      "  warnings.warn('categorical_feature in Dataset is overridden. New categorical_feature is {}'.format(sorted(list(categorical_feature))))\n",
      "/root/anaconda3/lib/python3.6/site-packages/lightgbm/basic.py:661: UserWarning: categorical_feature keyword has been found in `params` and will be ignored. Please use categorical_feature argument of the Dataset constructor to pass this parameter.\n",
      "  'Please use {0} argument of the Dataset constructor to pass this parameter.'.format(key))\n",
      "/root/anaconda3/lib/python3.6/site-packages/lightgbm/basic.py:681: UserWarning: categorical_feature in param dict is overridden.\n",
      "  warnings.warn('categorical_feature in param dict is overridden.')\n"
     ]
    }
   ],
   "source": [
    "%%time\n",
    "gs.fit(X,y, categorical_feature = categorical_columns)"
   ]
  },
  {
   "cell_type": "code",
   "execution_count": 27,
   "metadata": {},
   "outputs": [
    {
     "name": "stderr",
     "output_type": "stream",
     "text": [
      "/root/anaconda3/lib/python3.6/site-packages/sklearn/model_selection/_search.py:761: DeprecationWarning: The grid_scores_ attribute was deprecated in version 0.18 in favor of the more elaborate cv_results_ attribute. The grid_scores_ attribute will not be available from 0.20\n",
      "  DeprecationWarning)\n"
     ]
    },
    {
     "data": {
      "text/plain": [
       "[mean: 0.77214, std: 0.00294, params: {'n_estimators': 50},\n",
       " mean: 0.77943, std: 0.00208, params: {'n_estimators': 100},\n",
       " mean: 0.78025, std: 0.00185, params: {'n_estimators': 150},\n",
       " mean: 0.78044, std: 0.00189, params: {'n_estimators': 200},\n",
       " mean: 0.78019, std: 0.00196, params: {'n_estimators': 300},\n",
       " mean: 0.77970, std: 0.00204, params: {'n_estimators': 400}]"
      ]
     },
     "execution_count": 27,
     "metadata": {},
     "output_type": "execute_result"
    }
   ],
   "source": [
    "gs.grid_scores_"
   ]
  },
  {
   "cell_type": "code",
   "execution_count": 23,
   "metadata": {},
   "outputs": [
    {
     "name": "stderr",
     "output_type": "stream",
     "text": [
      "/root/anaconda3/lib/python3.6/site-packages/sklearn/model_selection/_search.py:761: DeprecationWarning: The grid_scores_ attribute was deprecated in version 0.18 in favor of the more elaborate cv_results_ attribute. The grid_scores_ attribute will not be available from 0.20\n",
      "  DeprecationWarning)\n"
     ]
    },
    {
     "data": {
      "text/plain": [
       "[mean: 0.78053, std: 0.00157, params: {'n_estimators': 100},\n",
       " mean: 0.78049, std: 0.00200, params: {'n_estimators': 500},\n",
       " mean: 0.77335, std: 0.00224, params: {'n_estimators': 1500},\n",
       " mean: 0.77084, std: 0.00282, params: {'n_estimators': 2000},\n",
       " mean: 0.76804, std: 0.00330, params: {'n_estimators': 2500}]"
      ]
     },
     "execution_count": 23,
     "metadata": {},
     "output_type": "execute_result"
    }
   ],
   "source": [
    "gs.grid_scores_"
   ]
  },
  {
   "cell_type": "code",
   "execution_count": 14,
   "metadata": {},
   "outputs": [
    {
     "name": "stdout",
     "output_type": "stream",
     "text": [
      "0.7679110524885774\n"
     ]
    }
   ],
   "source": [
    "score = roc_auc_score(y_test, y_hat)\n",
    "print(score)"
   ]
  },
  {
   "cell_type": "code",
   "execution_count": null,
   "metadata": {},
   "outputs": [],
   "source": [
    "# Fix n_estimators at 150"
   ]
  },
  {
   "cell_type": "code",
   "execution_count": 31,
   "metadata": {},
   "outputs": [
    {
     "name": "stdout",
     "output_type": "stream",
     "text": [
      "CPU times: user 126 µs, sys: 8 µs, total: 134 µs\n",
      "Wall time: 144 µs\n"
     ]
    }
   ],
   "source": [
    "%%time\n",
    "# Second Model - determine optimal number of runs (num_leaves) (4:20pm)\n",
    "\n",
    "params = {'boosting_type': 'gbdt',\n",
    "          'max_depth' : -1,\n",
    "          'objective': 'binary',\n",
    "          'learning_rate': 0.1,\n",
    "          'subsample': 1,\n",
    "          'colsample_bytree': 0.8,\n",
    "          'reg_alpha': 0,\n",
    "          'reg_lambda': 1,\n",
    "          'device_type': 'gpu',\n",
    "          'metric' : 'auc',\n",
    "          'max_bin': 63,\n",
    "          'random_state': 123,\n",
    "          'n_estimators': 150}\n",
    "\n",
    "grid_params = {'num_leaves': [5, 10, 15, 20, 25, 30, 35, 40]}\n",
    "\n",
    "base_clf = LGBMClassifier(**params)\n",
    "\n",
    "gs = GridSearchCV(estimator = base_clf, param_grid= grid_params, \n",
    "                  scoring = 'roc_auc', cv = kfold)"
   ]
  },
  {
   "cell_type": "code",
   "execution_count": 32,
   "metadata": {},
   "outputs": [
    {
     "name": "stdout",
     "output_type": "stream",
     "text": [
      "CPU times: user 55min 24s, sys: 6min 4s, total: 1h 1min 28s\n",
      "Wall time: 18min 39s\n"
     ]
    },
    {
     "name": "stderr",
     "output_type": "stream",
     "text": [
      "/root/anaconda3/lib/python3.6/site-packages/sklearn/model_selection/_search.py:761: DeprecationWarning: The grid_scores_ attribute was deprecated in version 0.18 in favor of the more elaborate cv_results_ attribute. The grid_scores_ attribute will not be available from 0.20\n",
      "  DeprecationWarning)\n"
     ]
    }
   ],
   "source": [
    "%%time\n",
    "gs.fit(X,y)\n",
    "gs.grid_scores_"
   ]
  },
  {
   "cell_type": "code",
   "execution_count": 33,
   "metadata": {},
   "outputs": [
    {
     "name": "stderr",
     "output_type": "stream",
     "text": [
      "/root/anaconda3/lib/python3.6/site-packages/sklearn/model_selection/_search.py:761: DeprecationWarning: The grid_scores_ attribute was deprecated in version 0.18 in favor of the more elaborate cv_results_ attribute. The grid_scores_ attribute will not be available from 0.20\n",
      "  DeprecationWarning)\n"
     ]
    },
    {
     "data": {
      "text/plain": [
       "[mean: 0.77310, std: 0.00274, params: {'num_leaves': 5},\n",
       " mean: 0.77948, std: 0.00231, params: {'num_leaves': 10},\n",
       " mean: 0.78065, std: 0.00208, params: {'num_leaves': 15},\n",
       " mean: 0.78102, std: 0.00225, params: {'num_leaves': 20},\n",
       " mean: 0.78134, std: 0.00225, params: {'num_leaves': 25},\n",
       " mean: 0.78160, std: 0.00217, params: {'num_leaves': 30},\n",
       " mean: 0.78127, std: 0.00183, params: {'num_leaves': 35},\n",
       " mean: 0.78069, std: 0.00242, params: {'num_leaves': 40}]"
      ]
     },
     "execution_count": 33,
     "metadata": {},
     "output_type": "execute_result"
    }
   ],
   "source": [
    "gs.grid_scores_\n",
    "# num_leaves: 30"
   ]
  },
  {
   "cell_type": "code",
   "execution_count": 54,
   "metadata": {},
   "outputs": [
    {
     "name": "stdout",
     "output_type": "stream",
     "text": [
      "CPU times: user 843 µs, sys: 71 µs, total: 914 µs\n",
      "Wall time: 928 µs\n"
     ]
    }
   ],
   "source": [
    "%%time\n",
    "# Third Model - determine optimal number of runs (num_leaves) (4:20pm)\n",
    "\n",
    "params = {'boosting_type': 'gbdt',\n",
    "          'max_depth' : -1,\n",
    "          'objective': 'binary',\n",
    "          'learning_rate': 0.1,\n",
    "          'subsample': 1,\n",
    "          'feature_fraction': 0.8,\n",
    "          'reg_alpha': 0,\n",
    "          'reg_lambda': 1,\n",
    "          'device_type': 'gpu',\n",
    "          'metric' : 'auc',\n",
    "          'max_bin': 63,\n",
    "          'random_state': 123,\n",
    "          'n_estimators': 150, \n",
    "          'num_leaves': 30}\n",
    "\n",
    "grid_params = {'min_data_in_leaf': [2500, 2600, 2700, 2800, 2900, 3000]}\n",
    "\n",
    "base_clf = LGBMClassifier(**params)\n",
    "\n",
    "gs = GridSearchCV(estimator = base_clf, param_grid= grid_params, \n",
    "                  scoring = 'roc_auc', cv = kfold, verbose = 1)"
   ]
  },
  {
   "cell_type": "code",
   "execution_count": 55,
   "metadata": {},
   "outputs": [
    {
     "name": "stdout",
     "output_type": "stream",
     "text": [
      "Fitting 5 folds for each of 6 candidates, totalling 30 fits\n"
     ]
    },
    {
     "name": "stderr",
     "output_type": "stream",
     "text": [
      "[Parallel(n_jobs=1)]: Done  30 out of  30 | elapsed: 16.7min finished\n"
     ]
    },
    {
     "name": "stdout",
     "output_type": "stream",
     "text": [
      "[mean: 0.78460, std: 0.00181, params: {'min_data_in_leaf': 2500}, mean: 0.78409, std: 0.00183, params: {'min_data_in_leaf': 2600}, mean: 0.78426, std: 0.00131, params: {'min_data_in_leaf': 2700}, mean: 0.78392, std: 0.00193, params: {'min_data_in_leaf': 2800}, mean: 0.78428, std: 0.00216, params: {'min_data_in_leaf': 2900}, mean: 0.78436, std: 0.00171, params: {'min_data_in_leaf': 3000}]\n",
      "CPU times: user 53min 13s, sys: 4min 42s, total: 57min 55s\n",
      "Wall time: 17min 15s\n"
     ]
    },
    {
     "name": "stderr",
     "output_type": "stream",
     "text": [
      "/root/anaconda3/lib/python3.6/site-packages/sklearn/model_selection/_search.py:761: DeprecationWarning: The grid_scores_ attribute was deprecated in version 0.18 in favor of the more elaborate cv_results_ attribute. The grid_scores_ attribute will not be available from 0.20\n",
      "  DeprecationWarning)\n"
     ]
    }
   ],
   "source": [
    "%%time\n",
    "gs.fit(X,y)\n",
    "gs.grid_scores_"
   ]
  },
  {
   "cell_type": "code",
   "execution_count": 56,
   "metadata": {},
   "outputs": [
    {
     "name": "stderr",
     "output_type": "stream",
     "text": [
      "/root/anaconda3/lib/python3.6/site-packages/sklearn/model_selection/_search.py:761: DeprecationWarning: The grid_scores_ attribute was deprecated in version 0.18 in favor of the more elaborate cv_results_ attribute. The grid_scores_ attribute will not be available from 0.20\n",
      "  DeprecationWarning)\n"
     ]
    },
    {
     "data": {
      "text/plain": [
       "[mean: 0.78460, std: 0.00181, params: {'min_data_in_leaf': 2500},\n",
       " mean: 0.78409, std: 0.00183, params: {'min_data_in_leaf': 2600},\n",
       " mean: 0.78426, std: 0.00131, params: {'min_data_in_leaf': 2700},\n",
       " mean: 0.78392, std: 0.00193, params: {'min_data_in_leaf': 2800},\n",
       " mean: 0.78428, std: 0.00216, params: {'min_data_in_leaf': 2900},\n",
       " mean: 0.78436, std: 0.00171, params: {'min_data_in_leaf': 3000}]"
      ]
     },
     "execution_count": 56,
     "metadata": {},
     "output_type": "execute_result"
    }
   ],
   "source": [
    "# 2500 min_data_in_leaf"
   ]
  },
  {
   "cell_type": "code",
   "execution_count": 131,
   "metadata": {},
   "outputs": [
    {
     "name": "stdout",
     "output_type": "stream",
     "text": [
      "CPU times: user 5.1 ms, sys: 375 µs, total: 5.48 ms\n",
      "Wall time: 8.98 ms\n"
     ]
    }
   ],
   "source": [
    "%%time\n",
    "# Fourth Model - determine optimal number of runs (subsample) (4:20pm)\n",
    "categorical_columns = list(df.columns[df.dtypes == object])\n",
    "categorical_feature = 'name:' + ','.join(categorical_columns)\n",
    "\n",
    "params = {'boosting_type': 'gbdt',\n",
    "          'max_depth' : -1,\n",
    "          'objective': 'binary',\n",
    "          'learning_rate': 0.1,\n",
    "          'reg_alpha': 0,\n",
    "          'reg_lambda': 1,\n",
    "          'subsample': 1,\n",
    "          'feature_fraction': 0.8,\n",
    "          'device_type': 'gpu',\n",
    "          'metric' : 'auc',\n",
    "          'random_state': 123,\n",
    "          'n_estimators': 150, \n",
    "          'num_leaves': 30, \n",
    "          'max_bin': 255,\n",
    "          'min_data_in_leaf': 2500,\n",
    "          'min_data_in_bin': 5}\n",
    "\n",
    "grid_params = {'n_estimators': [50, 150, 300, 750, 1000, 1500, 2000, 2500]}\n",
    "\n",
    "base_clf = LGBMClassifier(**params)\n",
    "\n",
    "gs = GridSearchCV(estimator = base_clf, param_grid= grid_params, \n",
    "                  scoring = 'roc_auc', cv = kfold, verbose = 2)"
   ]
  },
  {
   "cell_type": "code",
   "execution_count": null,
   "metadata": {},
   "outputs": [],
   "source": [
    "%%time\n",
    "gs.fit(X,y, categorical_feature = categorical_columns)\n",
    "gs.grid_scores_"
   ]
  },
  {
   "cell_type": "code",
   "execution_count": 131,
   "metadata": {},
   "outputs": [
    {
     "name": "stdout",
     "output_type": "stream",
     "text": [
      "CPU times: user 5.1 ms, sys: 375 µs, total: 5.48 ms\n",
      "Wall time: 8.98 ms\n"
     ]
    }
   ],
   "source": [
    "%%time\n",
    "# Fourth Model - determine optimal number of runs (subsample) (4:20pm)\n",
    "categorical_columns = list(df.columns[df.dtypes == object])\n",
    "categorical_feature = 'name:' + ','.join(categorical_columns)\n",
    "\n",
    "params = {'boosting_type': 'gbdt',\n",
    "          'max_depth' : -1,\n",
    "          'objective': 'binary',\n",
    "          'learning_rate': 0.1,\n",
    "          'reg_alpha': 0,\n",
    "          'reg_lambda': 1,\n",
    "          'subsample': 1,\n",
    "          'feature_fraction': 0.8,\n",
    "          'device_type': 'gpu',\n",
    "          'metric' : 'auc',\n",
    "          'random_state': 123,\n",
    "          'n_estimators': 150, \n",
    "          'num_leaves': 30, \n",
    "          'max_bin': 255,\n",
    "          'min_data_in_leaf': 2500,\n",
    "          'min_data_in_bin': 5}\n",
    "\n",
    "grid_params = {'n_estimators': [50, 150, 300, 750, 1000, 1500, 2000, 2500]}\n",
    "\n",
    "base_clf = LGBMClassifier(**params)\n",
    "\n",
    "gs = GridSearchCV(estimator = base_clf, param_grid= grid_params, \n",
    "                  scoring = 'roc_auc', cv = kfold, verbose = 2)"
   ]
  },
  {
   "cell_type": "code",
   "execution_count": null,
   "metadata": {},
   "outputs": [],
   "source": [
    "%%time\n",
    "gs.fit(X,y, categorical_feature = categorical_columns)"
   ]
  },
  {
   "cell_type": "code",
   "execution_count": 227,
   "metadata": {},
   "outputs": [
    {
     "name": "stderr",
     "output_type": "stream",
     "text": [
      "/root/anaconda3/lib/python3.6/site-packages/sklearn/model_selection/_search.py:761: DeprecationWarning: The grid_scores_ attribute was deprecated in version 0.18 in favor of the more elaborate cv_results_ attribute. The grid_scores_ attribute will not be available from 0.20\n",
      "  DeprecationWarning)\n"
     ]
    },
    {
     "data": {
      "text/plain": [
       "[mean: 0.77828, std: 0.00200, params: {'min_data_in_leaf': 50, 'num_leaves': 5},\n",
       " mean: 0.78206, std: 0.00214, params: {'min_data_in_leaf': 50, 'num_leaves': 10},\n",
       " mean: 0.78318, std: 0.00161, params: {'min_data_in_leaf': 50, 'num_leaves': 20},\n",
       " mean: 0.78304, std: 0.00211, params: {'min_data_in_leaf': 50, 'num_leaves': 30},\n",
       " mean: 0.78200, std: 0.00177, params: {'min_data_in_leaf': 50, 'num_leaves': 50},\n",
       " mean: 0.78065, std: 0.00228, params: {'min_data_in_leaf': 50, 'num_leaves': 75},\n",
       " mean: 0.77892, std: 0.00320, params: {'min_data_in_leaf': 50, 'num_leaves': 100},\n",
       " mean: 0.77882, std: 0.00233, params: {'min_data_in_leaf': 50, 'num_leaves': 125},\n",
       " mean: 0.77852, std: 0.00232, params: {'min_data_in_leaf': 150, 'num_leaves': 5},\n",
       " mean: 0.78291, std: 0.00169, params: {'min_data_in_leaf': 150, 'num_leaves': 10},\n",
       " mean: 0.78400, std: 0.00151, params: {'min_data_in_leaf': 150, 'num_leaves': 20},\n",
       " mean: 0.78340, std: 0.00210, params: {'min_data_in_leaf': 150, 'num_leaves': 30},\n",
       " mean: 0.78264, std: 0.00145, params: {'min_data_in_leaf': 150, 'num_leaves': 50},\n",
       " mean: 0.78092, std: 0.00199, params: {'min_data_in_leaf': 150, 'num_leaves': 75},\n",
       " mean: 0.77954, std: 0.00275, params: {'min_data_in_leaf': 150, 'num_leaves': 100},\n",
       " mean: 0.77820, std: 0.00252, params: {'min_data_in_leaf': 150, 'num_leaves': 125},\n",
       " mean: 0.77847, std: 0.00202, params: {'min_data_in_leaf': 300, 'num_leaves': 5},\n",
       " mean: 0.78257, std: 0.00193, params: {'min_data_in_leaf': 300, 'num_leaves': 10},\n",
       " mean: 0.78413, std: 0.00205, params: {'min_data_in_leaf': 300, 'num_leaves': 20},\n",
       " mean: 0.78444, std: 0.00139, params: {'min_data_in_leaf': 300, 'num_leaves': 30},\n",
       " mean: 0.78300, std: 0.00212, params: {'min_data_in_leaf': 300, 'num_leaves': 50},\n",
       " mean: 0.78150, std: 0.00160, params: {'min_data_in_leaf': 300, 'num_leaves': 75},\n",
       " mean: 0.77897, std: 0.00206, params: {'min_data_in_leaf': 300, 'num_leaves': 100},\n",
       " mean: 0.77952, std: 0.00174, params: {'min_data_in_leaf': 300, 'num_leaves': 125},\n",
       " mean: 0.77845, std: 0.00215, params: {'min_data_in_leaf': 500, 'num_leaves': 5},\n",
       " mean: 0.78255, std: 0.00194, params: {'min_data_in_leaf': 500, 'num_leaves': 10},\n",
       " mean: 0.78471, std: 0.00160, params: {'min_data_in_leaf': 500, 'num_leaves': 20},\n",
       " mean: 0.78357, std: 0.00141, params: {'min_data_in_leaf': 500, 'num_leaves': 30},\n",
       " mean: 0.78342, std: 0.00201, params: {'min_data_in_leaf': 500, 'num_leaves': 50},\n",
       " mean: 0.78250, std: 0.00181, params: {'min_data_in_leaf': 500, 'num_leaves': 75},\n",
       " mean: 0.78022, std: 0.00256, params: {'min_data_in_leaf': 500, 'num_leaves': 100},\n",
       " mean: 0.77931, std: 0.00206, params: {'min_data_in_leaf': 500, 'num_leaves': 125},\n",
       " mean: 0.77826, std: 0.00209, params: {'min_data_in_leaf': 1000, 'num_leaves': 5},\n",
       " mean: 0.78228, std: 0.00184, params: {'min_data_in_leaf': 1000, 'num_leaves': 10},\n",
       " mean: 0.78437, std: 0.00219, params: {'min_data_in_leaf': 1000, 'num_leaves': 20},\n",
       " mean: 0.78432, std: 0.00174, params: {'min_data_in_leaf': 1000, 'num_leaves': 30},\n",
       " mean: 0.78346, std: 0.00192, params: {'min_data_in_leaf': 1000, 'num_leaves': 50},\n",
       " mean: 0.78266, std: 0.00242, params: {'min_data_in_leaf': 1000, 'num_leaves': 75},\n",
       " mean: 0.78098, std: 0.00226, params: {'min_data_in_leaf': 1000, 'num_leaves': 100},\n",
       " mean: 0.77873, std: 0.00221, params: {'min_data_in_leaf': 1000, 'num_leaves': 125},\n",
       " mean: 0.77816, std: 0.00201, params: {'min_data_in_leaf': 1700, 'num_leaves': 5},\n",
       " mean: 0.78256, std: 0.00181, params: {'min_data_in_leaf': 1700, 'num_leaves': 10},\n",
       " mean: 0.78481, std: 0.00205, params: {'min_data_in_leaf': 1700, 'num_leaves': 20},\n",
       " mean: 0.78424, std: 0.00138, params: {'min_data_in_leaf': 1700, 'num_leaves': 30},\n",
       " mean: 0.78369, std: 0.00185, params: {'min_data_in_leaf': 1700, 'num_leaves': 50},\n",
       " mean: 0.78202, std: 0.00222, params: {'min_data_in_leaf': 1700, 'num_leaves': 75},\n",
       " mean: 0.78117, std: 0.00244, params: {'min_data_in_leaf': 1700, 'num_leaves': 100},\n",
       " mean: 0.78029, std: 0.00227, params: {'min_data_in_leaf': 1700, 'num_leaves': 125},\n",
       " mean: 0.77801, std: 0.00215, params: {'min_data_in_leaf': 2400, 'num_leaves': 5},\n",
       " mean: 0.78254, std: 0.00174, params: {'min_data_in_leaf': 2400, 'num_leaves': 10},\n",
       " mean: 0.78456, std: 0.00210, params: {'min_data_in_leaf': 2400, 'num_leaves': 20},\n",
       " mean: 0.78554, std: 0.00222, params: {'min_data_in_leaf': 2400, 'num_leaves': 30},\n",
       " mean: 0.78437, std: 0.00248, params: {'min_data_in_leaf': 2400, 'num_leaves': 50},\n",
       " mean: 0.78257, std: 0.00255, params: {'min_data_in_leaf': 2400, 'num_leaves': 75},\n",
       " mean: 0.78307, std: 0.00246, params: {'min_data_in_leaf': 2400, 'num_leaves': 100},\n",
       " mean: 0.78307, std: 0.00246, params: {'min_data_in_leaf': 2400, 'num_leaves': 125},\n",
       " mean: 0.77775, std: 0.00222, params: {'min_data_in_leaf': 3000, 'num_leaves': 5},\n",
       " mean: 0.78258, std: 0.00195, params: {'min_data_in_leaf': 3000, 'num_leaves': 10},\n",
       " mean: 0.78451, std: 0.00222, params: {'min_data_in_leaf': 3000, 'num_leaves': 20},\n",
       " mean: 0.78514, std: 0.00178, params: {'min_data_in_leaf': 3000, 'num_leaves': 30},\n",
       " mean: 0.78456, std: 0.00194, params: {'min_data_in_leaf': 3000, 'num_leaves': 50},\n",
       " mean: 0.78397, std: 0.00230, params: {'min_data_in_leaf': 3000, 'num_leaves': 75},\n",
       " mean: 0.78385, std: 0.00215, params: {'min_data_in_leaf': 3000, 'num_leaves': 100},\n",
       " mean: 0.78413, std: 0.00228, params: {'min_data_in_leaf': 3000, 'num_leaves': 125},\n",
       " mean: 0.77803, std: 0.00225, params: {'min_data_in_leaf': 3500, 'num_leaves': 5},\n",
       " mean: 0.78270, std: 0.00185, params: {'min_data_in_leaf': 3500, 'num_leaves': 10},\n",
       " mean: 0.78478, std: 0.00193, params: {'min_data_in_leaf': 3500, 'num_leaves': 20},\n",
       " mean: 0.78499, std: 0.00212, params: {'min_data_in_leaf': 3500, 'num_leaves': 30},\n",
       " mean: 0.78445, std: 0.00231, params: {'min_data_in_leaf': 3500, 'num_leaves': 50},\n",
       " mean: 0.78430, std: 0.00201, params: {'min_data_in_leaf': 3500, 'num_leaves': 75},\n",
       " mean: 0.78430, std: 0.00201, params: {'min_data_in_leaf': 3500, 'num_leaves': 100},\n",
       " mean: 0.78430, std: 0.00201, params: {'min_data_in_leaf': 3500, 'num_leaves': 125}]"
      ]
     },
     "execution_count": 227,
     "metadata": {},
     "output_type": "execute_result"
    }
   ],
   "source": [
    "gs.grid_scores_"
   ]
  },
  {
   "cell_type": "code",
   "execution_count": 298,
   "metadata": {},
   "outputs": [
    {
     "name": "stdout",
     "output_type": "stream",
     "text": [
      "CPU times: user 12.3 ms, sys: 30.7 ms, total: 43 ms\n",
      "Wall time: 143 ms\n"
     ]
    }
   ],
   "source": [
    "%%time\n",
    "# Fifth Model - determine optimal number of runs (subsample) (4:20pm)\n",
    "categorical_columns = list(df.columns[df.dtypes == object])\n",
    "categorical_feature = 'name:' + ','.join(categorical_columns)\n",
    "\n",
    "params = {'boosting_type': 'gbdt',\n",
    "          'max_depth' : -1,\n",
    "          'objective': 'binary',\n",
    "          'learning_rate': 0.03,\n",
    "          'reg_alpha': 0.8,\n",
    "          'reg_lambda': 0.4,\n",
    "          'subsample': 1,\n",
    "          'feature_fraction': 0.3,\n",
    "          'device_type': 'gpu',\n",
    "          'metric' : 'auc',\n",
    "          'random_state': 123,\n",
    "          'n_estimators': 1000, \n",
    "          'num_leaves': 40, \n",
    "          'max_bin': 255,\n",
    "          'min_data_in_leaf': 2400,\n",
    "          'min_data_in_bin': 5}\n",
    "\n",
    "#grid_params = {'reg_alpha': [0, 0.2, 0.4, 0.6, 0.8, 1],\n",
    "#               'reg_lambda': [0, 0.2, 0.4, 0.6, 0.8, 1]}\n",
    "\n",
    "#grid_params = {'feature_fraction': [0.1, 0.3, 0.5, 0.7, 0.9, 1],\n",
    "#               'subsample': [0.1, 0.3, 0.5, 0.7, 0.9, 1]}\n",
    "\n",
    "#grid_params = {'num_leaves': [5, 10, 15, 20, 25, 30, 35, 40, 45, 50],\n",
    "#               'min_data_in_leaf': [50, 150, 300, 500, 1000, 1700, 2400, 3000, 3500]}\n",
    "\n",
    "#grid_params = {'n_estimators' : [250, 285, 350, 500, 750, 1000, 1300, 1750, 2250], \n",
    "#               'learning_rate' : [0.01, 0.03, 0.05, 0.07, 0.085, 0.095, 0.1, 0.125]}\n",
    "# 0.03 and 1000\n",
    "base_clf = LGBMClassifier(**params)\n",
    "\n",
    "gs = GridSearchCV(estimator = base_clf, param_grid= grid_params, \n",
    "                  scoring = 'roc_auc', cv = kfold, verbose = 0)"
   ]
  },
  {
   "cell_type": "code",
   "execution_count": 20,
   "metadata": {},
   "outputs": [
    {
     "ename": "KeyboardInterrupt",
     "evalue": "",
     "output_type": "error",
     "traceback": [
      "\u001b[0;31m\u001b[0m",
      "\u001b[0;31mKeyboardInterrupt\u001b[0mTraceback (most recent call last)",
      "\u001b[0;32m<ipython-input-20-23cb0e6f63ea>\u001b[0m in \u001b[0;36m<module>\u001b[0;34m()\u001b[0m\n\u001b[0;32m----> 1\u001b[0;31m \u001b[0mgs\u001b[0m\u001b[0;34m.\u001b[0m\u001b[0mfit\u001b[0m\u001b[0;34m(\u001b[0m\u001b[0mX\u001b[0m\u001b[0;34m,\u001b[0m\u001b[0my\u001b[0m\u001b[0;34m,\u001b[0m \u001b[0mcategorical_feature\u001b[0m \u001b[0;34m=\u001b[0m \u001b[0mcategorical_columns\u001b[0m\u001b[0;34m)\u001b[0m\u001b[0;34m\u001b[0m\u001b[0m\n\u001b[0m",
      "\u001b[0;32m~/anaconda3/lib/python3.6/site-packages/sklearn/model_selection/_search.py\u001b[0m in \u001b[0;36mfit\u001b[0;34m(self, X, y, groups, **fit_params)\u001b[0m\n\u001b[1;32m    637\u001b[0m                                   error_score=self.error_score)\n\u001b[1;32m    638\u001b[0m           for parameters, (train, test) in product(candidate_params,\n\u001b[0;32m--> 639\u001b[0;31m                                                    cv.split(X, y, groups)))\n\u001b[0m\u001b[1;32m    640\u001b[0m \u001b[0;34m\u001b[0m\u001b[0m\n\u001b[1;32m    641\u001b[0m         \u001b[0;31m# if one choose to see train score, \"out\" will contain train score info\u001b[0m\u001b[0;34m\u001b[0m\u001b[0;34m\u001b[0m\u001b[0m\n",
      "\u001b[0;32m~/anaconda3/lib/python3.6/site-packages/sklearn/externals/joblib/parallel.py\u001b[0m in \u001b[0;36m__call__\u001b[0;34m(self, iterable)\u001b[0m\n\u001b[1;32m    777\u001b[0m             \u001b[0;31m# was dispatched. In particular this covers the edge\u001b[0m\u001b[0;34m\u001b[0m\u001b[0;34m\u001b[0m\u001b[0m\n\u001b[1;32m    778\u001b[0m             \u001b[0;31m# case of Parallel used with an exhausted iterator.\u001b[0m\u001b[0;34m\u001b[0m\u001b[0;34m\u001b[0m\u001b[0m\n\u001b[0;32m--> 779\u001b[0;31m             \u001b[0;32mwhile\u001b[0m \u001b[0mself\u001b[0m\u001b[0;34m.\u001b[0m\u001b[0mdispatch_one_batch\u001b[0m\u001b[0;34m(\u001b[0m\u001b[0miterator\u001b[0m\u001b[0;34m)\u001b[0m\u001b[0;34m:\u001b[0m\u001b[0;34m\u001b[0m\u001b[0m\n\u001b[0m\u001b[1;32m    780\u001b[0m                 \u001b[0mself\u001b[0m\u001b[0;34m.\u001b[0m\u001b[0m_iterating\u001b[0m \u001b[0;34m=\u001b[0m \u001b[0;32mTrue\u001b[0m\u001b[0;34m\u001b[0m\u001b[0m\n\u001b[1;32m    781\u001b[0m             \u001b[0;32melse\u001b[0m\u001b[0;34m:\u001b[0m\u001b[0;34m\u001b[0m\u001b[0m\n",
      "\u001b[0;32m~/anaconda3/lib/python3.6/site-packages/sklearn/externals/joblib/parallel.py\u001b[0m in \u001b[0;36mdispatch_one_batch\u001b[0;34m(self, iterator)\u001b[0m\n\u001b[1;32m    623\u001b[0m                 \u001b[0;32mreturn\u001b[0m \u001b[0;32mFalse\u001b[0m\u001b[0;34m\u001b[0m\u001b[0m\n\u001b[1;32m    624\u001b[0m             \u001b[0;32melse\u001b[0m\u001b[0;34m:\u001b[0m\u001b[0;34m\u001b[0m\u001b[0m\n\u001b[0;32m--> 625\u001b[0;31m                 \u001b[0mself\u001b[0m\u001b[0;34m.\u001b[0m\u001b[0m_dispatch\u001b[0m\u001b[0;34m(\u001b[0m\u001b[0mtasks\u001b[0m\u001b[0;34m)\u001b[0m\u001b[0;34m\u001b[0m\u001b[0m\n\u001b[0m\u001b[1;32m    626\u001b[0m                 \u001b[0;32mreturn\u001b[0m \u001b[0;32mTrue\u001b[0m\u001b[0;34m\u001b[0m\u001b[0m\n\u001b[1;32m    627\u001b[0m \u001b[0;34m\u001b[0m\u001b[0m\n",
      "\u001b[0;32m~/anaconda3/lib/python3.6/site-packages/sklearn/externals/joblib/parallel.py\u001b[0m in \u001b[0;36m_dispatch\u001b[0;34m(self, batch)\u001b[0m\n\u001b[1;32m    586\u001b[0m         \u001b[0mdispatch_timestamp\u001b[0m \u001b[0;34m=\u001b[0m \u001b[0mtime\u001b[0m\u001b[0;34m.\u001b[0m\u001b[0mtime\u001b[0m\u001b[0;34m(\u001b[0m\u001b[0;34m)\u001b[0m\u001b[0;34m\u001b[0m\u001b[0m\n\u001b[1;32m    587\u001b[0m         \u001b[0mcb\u001b[0m \u001b[0;34m=\u001b[0m \u001b[0mBatchCompletionCallBack\u001b[0m\u001b[0;34m(\u001b[0m\u001b[0mdispatch_timestamp\u001b[0m\u001b[0;34m,\u001b[0m \u001b[0mlen\u001b[0m\u001b[0;34m(\u001b[0m\u001b[0mbatch\u001b[0m\u001b[0;34m)\u001b[0m\u001b[0;34m,\u001b[0m \u001b[0mself\u001b[0m\u001b[0;34m)\u001b[0m\u001b[0;34m\u001b[0m\u001b[0m\n\u001b[0;32m--> 588\u001b[0;31m         \u001b[0mjob\u001b[0m \u001b[0;34m=\u001b[0m \u001b[0mself\u001b[0m\u001b[0;34m.\u001b[0m\u001b[0m_backend\u001b[0m\u001b[0;34m.\u001b[0m\u001b[0mapply_async\u001b[0m\u001b[0;34m(\u001b[0m\u001b[0mbatch\u001b[0m\u001b[0;34m,\u001b[0m \u001b[0mcallback\u001b[0m\u001b[0;34m=\u001b[0m\u001b[0mcb\u001b[0m\u001b[0;34m)\u001b[0m\u001b[0;34m\u001b[0m\u001b[0m\n\u001b[0m\u001b[1;32m    589\u001b[0m         \u001b[0mself\u001b[0m\u001b[0;34m.\u001b[0m\u001b[0m_jobs\u001b[0m\u001b[0;34m.\u001b[0m\u001b[0mappend\u001b[0m\u001b[0;34m(\u001b[0m\u001b[0mjob\u001b[0m\u001b[0;34m)\u001b[0m\u001b[0;34m\u001b[0m\u001b[0m\n\u001b[1;32m    590\u001b[0m \u001b[0;34m\u001b[0m\u001b[0m\n",
      "\u001b[0;32m~/anaconda3/lib/python3.6/site-packages/sklearn/externals/joblib/_parallel_backends.py\u001b[0m in \u001b[0;36mapply_async\u001b[0;34m(self, func, callback)\u001b[0m\n\u001b[1;32m    109\u001b[0m     \u001b[0;32mdef\u001b[0m \u001b[0mapply_async\u001b[0m\u001b[0;34m(\u001b[0m\u001b[0mself\u001b[0m\u001b[0;34m,\u001b[0m \u001b[0mfunc\u001b[0m\u001b[0;34m,\u001b[0m \u001b[0mcallback\u001b[0m\u001b[0;34m=\u001b[0m\u001b[0;32mNone\u001b[0m\u001b[0;34m)\u001b[0m\u001b[0;34m:\u001b[0m\u001b[0;34m\u001b[0m\u001b[0m\n\u001b[1;32m    110\u001b[0m         \u001b[0;34m\"\"\"Schedule a func to be run\"\"\"\u001b[0m\u001b[0;34m\u001b[0m\u001b[0m\n\u001b[0;32m--> 111\u001b[0;31m         \u001b[0mresult\u001b[0m \u001b[0;34m=\u001b[0m \u001b[0mImmediateResult\u001b[0m\u001b[0;34m(\u001b[0m\u001b[0mfunc\u001b[0m\u001b[0;34m)\u001b[0m\u001b[0;34m\u001b[0m\u001b[0m\n\u001b[0m\u001b[1;32m    112\u001b[0m         \u001b[0;32mif\u001b[0m \u001b[0mcallback\u001b[0m\u001b[0;34m:\u001b[0m\u001b[0;34m\u001b[0m\u001b[0m\n\u001b[1;32m    113\u001b[0m             \u001b[0mcallback\u001b[0m\u001b[0;34m(\u001b[0m\u001b[0mresult\u001b[0m\u001b[0;34m)\u001b[0m\u001b[0;34m\u001b[0m\u001b[0m\n",
      "\u001b[0;32m~/anaconda3/lib/python3.6/site-packages/sklearn/externals/joblib/_parallel_backends.py\u001b[0m in \u001b[0;36m__init__\u001b[0;34m(self, batch)\u001b[0m\n\u001b[1;32m    330\u001b[0m         \u001b[0;31m# Don't delay the application, to avoid keeping the input\u001b[0m\u001b[0;34m\u001b[0m\u001b[0;34m\u001b[0m\u001b[0m\n\u001b[1;32m    331\u001b[0m         \u001b[0;31m# arguments in memory\u001b[0m\u001b[0;34m\u001b[0m\u001b[0;34m\u001b[0m\u001b[0m\n\u001b[0;32m--> 332\u001b[0;31m         \u001b[0mself\u001b[0m\u001b[0;34m.\u001b[0m\u001b[0mresults\u001b[0m \u001b[0;34m=\u001b[0m \u001b[0mbatch\u001b[0m\u001b[0;34m(\u001b[0m\u001b[0;34m)\u001b[0m\u001b[0;34m\u001b[0m\u001b[0m\n\u001b[0m\u001b[1;32m    333\u001b[0m \u001b[0;34m\u001b[0m\u001b[0m\n\u001b[1;32m    334\u001b[0m     \u001b[0;32mdef\u001b[0m \u001b[0mget\u001b[0m\u001b[0;34m(\u001b[0m\u001b[0mself\u001b[0m\u001b[0;34m)\u001b[0m\u001b[0;34m:\u001b[0m\u001b[0;34m\u001b[0m\u001b[0m\n",
      "\u001b[0;32m~/anaconda3/lib/python3.6/site-packages/sklearn/externals/joblib/parallel.py\u001b[0m in \u001b[0;36m__call__\u001b[0;34m(self)\u001b[0m\n\u001b[1;32m    129\u001b[0m \u001b[0;34m\u001b[0m\u001b[0m\n\u001b[1;32m    130\u001b[0m     \u001b[0;32mdef\u001b[0m \u001b[0m__call__\u001b[0m\u001b[0;34m(\u001b[0m\u001b[0mself\u001b[0m\u001b[0;34m)\u001b[0m\u001b[0;34m:\u001b[0m\u001b[0;34m\u001b[0m\u001b[0m\n\u001b[0;32m--> 131\u001b[0;31m         \u001b[0;32mreturn\u001b[0m \u001b[0;34m[\u001b[0m\u001b[0mfunc\u001b[0m\u001b[0;34m(\u001b[0m\u001b[0;34m*\u001b[0m\u001b[0margs\u001b[0m\u001b[0;34m,\u001b[0m \u001b[0;34m**\u001b[0m\u001b[0mkwargs\u001b[0m\u001b[0;34m)\u001b[0m \u001b[0;32mfor\u001b[0m \u001b[0mfunc\u001b[0m\u001b[0;34m,\u001b[0m \u001b[0margs\u001b[0m\u001b[0;34m,\u001b[0m \u001b[0mkwargs\u001b[0m \u001b[0;32min\u001b[0m \u001b[0mself\u001b[0m\u001b[0;34m.\u001b[0m\u001b[0mitems\u001b[0m\u001b[0;34m]\u001b[0m\u001b[0;34m\u001b[0m\u001b[0m\n\u001b[0m\u001b[1;32m    132\u001b[0m \u001b[0;34m\u001b[0m\u001b[0m\n\u001b[1;32m    133\u001b[0m     \u001b[0;32mdef\u001b[0m \u001b[0m__len__\u001b[0m\u001b[0;34m(\u001b[0m\u001b[0mself\u001b[0m\u001b[0;34m)\u001b[0m\u001b[0;34m:\u001b[0m\u001b[0;34m\u001b[0m\u001b[0m\n",
      "\u001b[0;32m~/anaconda3/lib/python3.6/site-packages/sklearn/externals/joblib/parallel.py\u001b[0m in \u001b[0;36m<listcomp>\u001b[0;34m(.0)\u001b[0m\n\u001b[1;32m    129\u001b[0m \u001b[0;34m\u001b[0m\u001b[0m\n\u001b[1;32m    130\u001b[0m     \u001b[0;32mdef\u001b[0m \u001b[0m__call__\u001b[0m\u001b[0;34m(\u001b[0m\u001b[0mself\u001b[0m\u001b[0;34m)\u001b[0m\u001b[0;34m:\u001b[0m\u001b[0;34m\u001b[0m\u001b[0m\n\u001b[0;32m--> 131\u001b[0;31m         \u001b[0;32mreturn\u001b[0m \u001b[0;34m[\u001b[0m\u001b[0mfunc\u001b[0m\u001b[0;34m(\u001b[0m\u001b[0;34m*\u001b[0m\u001b[0margs\u001b[0m\u001b[0;34m,\u001b[0m \u001b[0;34m**\u001b[0m\u001b[0mkwargs\u001b[0m\u001b[0;34m)\u001b[0m \u001b[0;32mfor\u001b[0m \u001b[0mfunc\u001b[0m\u001b[0;34m,\u001b[0m \u001b[0margs\u001b[0m\u001b[0;34m,\u001b[0m \u001b[0mkwargs\u001b[0m \u001b[0;32min\u001b[0m \u001b[0mself\u001b[0m\u001b[0;34m.\u001b[0m\u001b[0mitems\u001b[0m\u001b[0;34m]\u001b[0m\u001b[0;34m\u001b[0m\u001b[0m\n\u001b[0m\u001b[1;32m    132\u001b[0m \u001b[0;34m\u001b[0m\u001b[0m\n\u001b[1;32m    133\u001b[0m     \u001b[0;32mdef\u001b[0m \u001b[0m__len__\u001b[0m\u001b[0;34m(\u001b[0m\u001b[0mself\u001b[0m\u001b[0;34m)\u001b[0m\u001b[0;34m:\u001b[0m\u001b[0;34m\u001b[0m\u001b[0m\n",
      "\u001b[0;32m~/anaconda3/lib/python3.6/site-packages/sklearn/model_selection/_validation.py\u001b[0m in \u001b[0;36m_fit_and_score\u001b[0;34m(estimator, X, y, scorer, train, test, verbose, parameters, fit_params, return_train_score, return_parameters, return_n_test_samples, return_times, error_score)\u001b[0m\n\u001b[1;32m    456\u001b[0m             \u001b[0mestimator\u001b[0m\u001b[0;34m.\u001b[0m\u001b[0mfit\u001b[0m\u001b[0;34m(\u001b[0m\u001b[0mX_train\u001b[0m\u001b[0;34m,\u001b[0m \u001b[0;34m**\u001b[0m\u001b[0mfit_params\u001b[0m\u001b[0;34m)\u001b[0m\u001b[0;34m\u001b[0m\u001b[0m\n\u001b[1;32m    457\u001b[0m         \u001b[0;32melse\u001b[0m\u001b[0;34m:\u001b[0m\u001b[0;34m\u001b[0m\u001b[0m\n\u001b[0;32m--> 458\u001b[0;31m             \u001b[0mestimator\u001b[0m\u001b[0;34m.\u001b[0m\u001b[0mfit\u001b[0m\u001b[0;34m(\u001b[0m\u001b[0mX_train\u001b[0m\u001b[0;34m,\u001b[0m \u001b[0my_train\u001b[0m\u001b[0;34m,\u001b[0m \u001b[0;34m**\u001b[0m\u001b[0mfit_params\u001b[0m\u001b[0;34m)\u001b[0m\u001b[0;34m\u001b[0m\u001b[0m\n\u001b[0m\u001b[1;32m    459\u001b[0m \u001b[0;34m\u001b[0m\u001b[0m\n\u001b[1;32m    460\u001b[0m     \u001b[0;32mexcept\u001b[0m \u001b[0mException\u001b[0m \u001b[0;32mas\u001b[0m \u001b[0me\u001b[0m\u001b[0;34m:\u001b[0m\u001b[0;34m\u001b[0m\u001b[0m\n",
      "\u001b[0;32m~/anaconda3/lib/python3.6/site-packages/lightgbm/sklearn.py\u001b[0m in \u001b[0;36mfit\u001b[0;34m(self, X, y, sample_weight, init_score, eval_set, eval_names, eval_sample_weight, eval_class_weight, eval_init_score, eval_metric, early_stopping_rounds, verbose, feature_name, categorical_feature, callbacks)\u001b[0m\n\u001b[1;32m    698\u001b[0m                                         \u001b[0mverbose\u001b[0m\u001b[0;34m=\u001b[0m\u001b[0mverbose\u001b[0m\u001b[0;34m,\u001b[0m \u001b[0mfeature_name\u001b[0m\u001b[0;34m=\u001b[0m\u001b[0mfeature_name\u001b[0m\u001b[0;34m,\u001b[0m\u001b[0;34m\u001b[0m\u001b[0m\n\u001b[1;32m    699\u001b[0m                                         \u001b[0mcategorical_feature\u001b[0m\u001b[0;34m=\u001b[0m\u001b[0mcategorical_feature\u001b[0m\u001b[0;34m,\u001b[0m\u001b[0;34m\u001b[0m\u001b[0m\n\u001b[0;32m--> 700\u001b[0;31m                                         callbacks=callbacks)\n\u001b[0m\u001b[1;32m    701\u001b[0m         \u001b[0;32mreturn\u001b[0m \u001b[0mself\u001b[0m\u001b[0;34m\u001b[0m\u001b[0m\n\u001b[1;32m    702\u001b[0m \u001b[0;34m\u001b[0m\u001b[0m\n",
      "\u001b[0;32m~/anaconda3/lib/python3.6/site-packages/lightgbm/sklearn.py\u001b[0m in \u001b[0;36mfit\u001b[0;34m(self, X, y, sample_weight, init_score, group, eval_set, eval_names, eval_sample_weight, eval_class_weight, eval_init_score, eval_group, eval_metric, early_stopping_rounds, verbose, feature_name, categorical_feature, callbacks)\u001b[0m\n\u001b[1;32m    475\u001b[0m                               \u001b[0mverbose_eval\u001b[0m\u001b[0;34m=\u001b[0m\u001b[0mverbose\u001b[0m\u001b[0;34m,\u001b[0m \u001b[0mfeature_name\u001b[0m\u001b[0;34m=\u001b[0m\u001b[0mfeature_name\u001b[0m\u001b[0;34m,\u001b[0m\u001b[0;34m\u001b[0m\u001b[0m\n\u001b[1;32m    476\u001b[0m                               \u001b[0mcategorical_feature\u001b[0m\u001b[0;34m=\u001b[0m\u001b[0mcategorical_feature\u001b[0m\u001b[0;34m,\u001b[0m\u001b[0;34m\u001b[0m\u001b[0m\n\u001b[0;32m--> 477\u001b[0;31m                               callbacks=callbacks)\n\u001b[0m\u001b[1;32m    478\u001b[0m \u001b[0;34m\u001b[0m\u001b[0m\n\u001b[1;32m    479\u001b[0m         \u001b[0;32mif\u001b[0m \u001b[0mevals_result\u001b[0m\u001b[0;34m:\u001b[0m\u001b[0;34m\u001b[0m\u001b[0m\n",
      "\u001b[0;32m~/anaconda3/lib/python3.6/site-packages/lightgbm/engine.py\u001b[0m in \u001b[0;36mtrain\u001b[0;34m(params, train_set, num_boost_round, valid_sets, valid_names, fobj, feval, init_model, feature_name, categorical_feature, early_stopping_rounds, evals_result, verbose_eval, learning_rates, keep_training_booster, callbacks)\u001b[0m\n\u001b[1;32m    205\u001b[0m                                     evaluation_result_list=None))\n\u001b[1;32m    206\u001b[0m \u001b[0;34m\u001b[0m\u001b[0m\n\u001b[0;32m--> 207\u001b[0;31m         \u001b[0mbooster\u001b[0m\u001b[0;34m.\u001b[0m\u001b[0mupdate\u001b[0m\u001b[0;34m(\u001b[0m\u001b[0mfobj\u001b[0m\u001b[0;34m=\u001b[0m\u001b[0mfobj\u001b[0m\u001b[0;34m)\u001b[0m\u001b[0;34m\u001b[0m\u001b[0m\n\u001b[0m\u001b[1;32m    208\u001b[0m \u001b[0;34m\u001b[0m\u001b[0m\n\u001b[1;32m    209\u001b[0m         \u001b[0mevaluation_result_list\u001b[0m \u001b[0;34m=\u001b[0m \u001b[0;34m[\u001b[0m\u001b[0;34m]\u001b[0m\u001b[0;34m\u001b[0m\u001b[0m\n",
      "\u001b[0;32m~/anaconda3/lib/python3.6/site-packages/lightgbm/basic.py\u001b[0m in \u001b[0;36mupdate\u001b[0;34m(self, train_set, fobj)\u001b[0m\n\u001b[1;32m   1570\u001b[0m             _safe_call(_LIB.LGBM_BoosterUpdateOneIter(\n\u001b[1;32m   1571\u001b[0m                 \u001b[0mself\u001b[0m\u001b[0;34m.\u001b[0m\u001b[0mhandle\u001b[0m\u001b[0;34m,\u001b[0m\u001b[0;34m\u001b[0m\u001b[0m\n\u001b[0;32m-> 1572\u001b[0;31m                 ctypes.byref(is_finished)))\n\u001b[0m\u001b[1;32m   1573\u001b[0m             \u001b[0mself\u001b[0m\u001b[0;34m.\u001b[0m\u001b[0m__is_predicted_cur_iter\u001b[0m \u001b[0;34m=\u001b[0m \u001b[0;34m[\u001b[0m\u001b[0;32mFalse\u001b[0m \u001b[0;32mfor\u001b[0m \u001b[0m_\u001b[0m \u001b[0;32min\u001b[0m \u001b[0mrange_\u001b[0m\u001b[0;34m(\u001b[0m\u001b[0mself\u001b[0m\u001b[0;34m.\u001b[0m\u001b[0m__num_dataset\u001b[0m\u001b[0;34m)\u001b[0m\u001b[0;34m]\u001b[0m\u001b[0;34m\u001b[0m\u001b[0m\n\u001b[1;32m   1574\u001b[0m             \u001b[0;32mreturn\u001b[0m \u001b[0mis_finished\u001b[0m\u001b[0;34m.\u001b[0m\u001b[0mvalue\u001b[0m \u001b[0;34m==\u001b[0m \u001b[0;36m1\u001b[0m\u001b[0;34m\u001b[0m\u001b[0m\n",
      "\u001b[0;31mKeyboardInterrupt\u001b[0m: "
     ]
    },
    {
     "name": "stdout",
     "output_type": "stream",
     "text": [
      "CPU times: user 1min 57s, sys: 19.7 s, total: 2min 17s\n",
      "Wall time: 49.2 s\n"
     ]
    }
   ],
   "source": [
    "%%time\n",
    "%%capture \n",
    "gs.fit(X,y, categorical_feature = categorical_columns)"
   ]
  },
  {
   "cell_type": "code",
   "execution_count": null,
   "metadata": {},
   "outputs": [],
   "source": [
    "utils.notify_ifttt(pformat(gs.grid_scores_))\n",
    "utils.notify_ifttt(pformat(gs.best_params_))"
   ]
  },
  {
   "cell_type": "code",
   "execution_count": null,
   "metadata": {},
   "outputs": [],
   "source": [
    "pprint(gs.grid_scores_)"
   ]
  },
  {
   "cell_type": "code",
   "execution_count": 309,
   "metadata": {},
   "outputs": [
    {
     "data": {
      "text/plain": [
       "{'min_data_in_leaf': 2400, 'num_leaves': 40}"
      ]
     },
     "execution_count": 309,
     "metadata": {},
     "output_type": "execute_result"
    }
   ],
   "source": [
    "gs.best_params_"
   ]
  },
  {
   "cell_type": "code",
   "execution_count": 236,
   "metadata": {},
   "outputs": [],
   "source": [
    "from sklearn.externals import joblib\n",
    "# save model"
   ]
  },
  {
   "cell_type": "code",
   "execution_count": 302,
   "metadata": {},
   "outputs": [
    {
     "data": {
      "text/plain": [
       "['lightgbm_tuned_2.pkl']"
      ]
     },
     "execution_count": 302,
     "metadata": {},
     "output_type": "execute_result"
    }
   ],
   "source": [
    "joblib.dump(gs.best_estimator_, 'lightgbm_tuned_2.pkl')\n",
    "# load model"
   ]
  },
  {
   "cell_type": "code",
   "execution_count": 311,
   "metadata": {},
   "outputs": [],
   "source": []
  },
  {
   "cell_type": "code",
   "execution_count": 511,
   "metadata": {},
   "outputs": [],
   "source": [
    "from sklearn.decomposition import PCA\n",
    "def get_feature_grouping(X):\n",
    "    pca = PCA().fit(X.dropna())\n",
    "    \n",
    "    num_groups, num_features = pca.components_.shape\n",
    "    print(str(num_groups) + ' groups...')\n",
    "    print(str(num_features) + ' features...')\n",
    "    \n",
    "    # Calculate factor loadings\n",
    "    loadings = pca.components_.T * np.sqrt(pca.explained_variance_)\n",
    "    abs_loadings = np.abs(loadings)\n",
    "    variable_groupings = abs_loadings.argmax(axis = 1)\n",
    "\n",
    "    groupings = {}\n",
    "    for g in range(variable_groupings.min(), variable_groupings.max()):\n",
    "        groupings[g] = [X.columns[i] for i,x in enumerate(variable_groupings) if x == g]\n",
    "    return(groupings, pca.components_)"
   ]
  },
  {
   "cell_type": "code",
   "execution_count": 501,
   "metadata": {},
   "outputs": [
    {
     "name": "stdout",
     "output_type": "stream",
     "text": [
      "4 groups...\n",
      "918 features...\n"
     ]
    }
   ],
   "source": [
    "a, loadings = get_feature_grouping(X)"
   ]
  },
  {
   "cell_type": "code",
   "execution_count": 31,
   "metadata": {},
   "outputs": [
    {
     "name": "stdout",
     "output_type": "stream",
     "text": [
      "CPU times: user 5.24 ms, sys: 138 µs, total: 5.38 ms\n",
      "Wall time: 5.17 ms\n"
     ]
    }
   ],
   "source": [
    "%%time\n",
    "# Fifth Model - determine optimal number of runs (subsample) (4:20pm)\n",
    "categorical_columns = list(df.columns[df.dtypes == object])\n",
    "categorical_feature = 'name:' + ','.join(categorical_columns)\n",
    "\n",
    "params = {'boosting_type': 'gbdt',\n",
    "          'max_depth' : -1,\n",
    "          'objective': 'binary',\n",
    "          'learning_rate': 0.03,\n",
    "          'reg_alpha': 0.8,\n",
    "          'reg_lambda': 0.4,\n",
    "          'subsample': 1,\n",
    "          'feature_fraction': 0.3,\n",
    "          'device_type': 'gpu',\n",
    "          'metric' : 'auc',\n",
    "          'random_state': 123,\n",
    "          'n_estimators': 1000, \n",
    "          'num_leaves': 40, \n",
    "          'max_bin': 255,\n",
    "          'min_data_in_leaf': 2400,\n",
    "          'min_data_in_bin': 5}\n",
    "\n",
    "#grid_params = {'reg_alpha': [0, 0.2, 0.4, 0.6, 0.8, 1],\n",
    "#               'reg_lambda': [0, 0.2, 0.4, 0.6, 0.8, 1]}\n",
    "\n",
    "#grid_params = {'feature_fraction': [0.1, 0.3, 0.5, 0.7, 0.9, 1],\n",
    "#               'subsample': [0.1, 0.3, 0.5, 0.7, 0.9, 1]}\n",
    "\n",
    "#grid_params = {'num_leaves': [5, 10, 15, 20, 25, 30, 35, 40, 45, 50],\n",
    "#               'min_data_in_leaf': [50, 150, 300, 500, 1000, 1700, 2400, 3000, 3500]}\n",
    "\n",
    "#grid_params = {'n_estimators' : [250, 285, 350, 500, 750, 1000, 1300, 1750, 2250], \n",
    "#               'learning_rate' : [0.01, 0.03, 0.05, 0.07, 0.085, 0.095, 0.1, 0.125]}\n",
    "# 0.03 and 1000\n",
    "base_clf = LGBMClassifier(**params)\n",
    "\n",
    "gs = GridSearchCV(estimator = base_clf, param_grid= grid_params, \n",
    "                  scoring = 'roc_auc', cv = kfold, verbose = 0)"
   ]
  },
  {
   "cell_type": "code",
   "execution_count": 32,
   "metadata": {},
   "outputs": [],
   "source": [
    "base_model = base_clf\n"
   ]
  },
  {
   "cell_type": "code",
   "execution_count": null,
   "metadata": {},
   "outputs": [],
   "source": [
    "gs.fit(X, y, categorical_feature = categorical_columns)"
   ]
  },
  {
   "cell_type": "code",
   "execution_count": null,
   "metadata": {},
   "outputs": [],
   "source": [
    "base_clf.set_params()"
   ]
  },
  {
   "cell_type": "code",
   "execution_count": 83,
   "metadata": {},
   "outputs": [],
   "source": [
    "def fn(lr):\n",
    "    kfold_bo = StratifiedKFold(n_splits=3, random_state=123)\n",
    "    #lr = Pipeline([('impute', Imputer()), ('lr', LogisticRegression(C = C))])\n",
    "    gbm = base_clf\n",
    "    gbm.set_params(learning_rate =  lr)\n",
    "    \n",
    "    scores = cross_val_score(gbm, X = X, y = y, scoring = 'roc_auc', cv = kfold_bo)\n",
    "    scores_mean = scores.mean()\n",
    "    scores_std = scores.std()\n",
    "    return(scores_mean)\n",
    "\n",
    "def fn_2(n_estimators):\n",
    "    kfold_bo = StratifiedKFold(n_splits=3, random_state=123)\n",
    "    #lr = Pipeline([('impute', Imputer()), ('lr', LogisticRegression(C = C))])\n",
    "    gbm = base_clf\n",
    "    gbm.set_params(n_estimators = int(n_estimators))\n",
    "    gbm.set_params(learning_rate = 0.021174897615037158)\n",
    "    \n",
    "    scores = cross_val_score(gbm, X = X, y = y, scoring = 'roc_auc', cv = kfold_bo)\n",
    "    scores_mean = scores.mean()\n",
    "    scores_std = scores.std()\n",
    "    return(scores_mean)"
   ]
  },
  {
   "cell_type": "code",
   "execution_count": 43,
   "metadata": {},
   "outputs": [],
   "source": [
    "from bayes_opt import BayesianOptimization\n",
    "bo = BayesianOptimization(fn, {'lr' : (0, 5)})\n",
    "bo_n_estimators = BayesianOptimization(fn_2, {'n_estimators' : (50, 3000)})"
   ]
  },
  {
   "cell_type": "code",
   "execution_count": 75,
   "metadata": {},
   "outputs": [
    {
     "data": {
      "text/plain": [
       "{'max_val': 0.7858458545379384, 'max_params': {'lr': 0.021174897615037158}}"
      ]
     },
     "execution_count": 75,
     "metadata": {},
     "output_type": "execute_result"
    }
   ],
   "source": [
    "bo.res.get('max')"
   ]
  },
  {
   "cell_type": "code",
   "execution_count": 84,
   "metadata": {},
   "outputs": [],
   "source": []
  },
  {
   "cell_type": "code",
   "execution_count": 93,
   "metadata": {},
   "outputs": [
    {
     "data": {
      "text/plain": [
       "0.7860353184184684"
      ]
     },
     "execution_count": 93,
     "metadata": {},
     "output_type": "execute_result"
    }
   ],
   "source": [
    "bo_n_estimators.Y.max()"
   ]
  },
  {
   "cell_type": "code",
   "execution_count": 107,
   "metadata": {},
   "outputs": [
    {
     "data": {
      "text/plain": [
       "0.7860570482640615"
      ]
     },
     "execution_count": 107,
     "metadata": {},
     "output_type": "execute_result"
    }
   ],
   "source": [
    "bo_n_estimators.Y.max()"
   ]
  },
  {
   "cell_type": "code",
   "execution_count": null,
   "metadata": {},
   "outputs": [
    {
     "name": "stdout",
     "output_type": "stream",
     "text": [
      "\u001b[31mInitialization\u001b[0m\n",
      "\u001b[94m----------------------------------------------\u001b[0m\n",
      " Step |   Time |      Value |   n_estimators | \n",
      "  295 | 00m00s |    0.78564 |      1610.9687 | \n",
      "  296 | 00m00s |    0.77088 |       172.4871 | \n",
      "  297 | 00m00s |    0.78450 |       663.7796 | \n",
      "  298 | 00m00s |    0.78430 |      2448.0619 | \n",
      "  299 | 00m00s |    0.78490 |      2121.6180 | \n",
      "  300 | 00m00s |    0.78410 |      2575.1685 | \n",
      "  301 | 00m00s |    0.78543 |      1878.6773 | \n",
      "  302 | 00m00s |    0.78401 |       607.3592 | \n",
      "  303 | 00m00s |    0.78594 |      1134.5574 | \n",
      "  304 | 00m00s |    0.78603 |      1291.3426 | \n",
      "  305 | 00m00s |    0.78588 |      1602.6826 | \n",
      "  306 | 00m00s |    0.78180 |       448.9675 | \n",
      "  307 | 00m00s |    0.77967 |       364.6595 | \n",
      "  308 | 00m00s |    0.78380 |      2611.4532 | \n",
      "  309 | 00m00s |    0.78580 |      1661.3320 | \n",
      "  310 | 00m00s |    0.78424 |      2496.6548 | \n",
      "  311 | 00m00s |    0.77195 |       191.4038 | \n",
      "  312 | 00m00s |    0.78570 |      1618.2052 | \n",
      "  313 | 00m00s |    0.78364 |       571.6048 | \n",
      "  314 | 00m00s |    0.78482 |      2179.4633 | \n",
      "  315 | 00m00s |    0.78339 |       547.2043 | \n",
      "  316 | 00m00s |    0.78579 |      1537.1325 | \n",
      "  317 | 00m00s |    0.78458 |      2305.7301 | \n",
      "  318 | 00m00s |    0.78384 |      2684.8599 | \n",
      "  319 | 00m00s |    0.78600 |      1069.6673 | \n",
      "  320 | 00m00s |    0.78331 |      2866.7381 | \n",
      "  321 | 00m00s |    0.78361 |      2713.6137 | \n",
      "  322 | 00m00s |    0.78312 |      2934.3243 | \n",
      "  323 | 00m00s |    0.78554 |      1774.1939 | \n",
      "  324 | 00m00s |    0.78321 |       534.2898 | \n",
      "  325 | 00m00s |    0.78465 |      2281.7085 | \n",
      "  326 | 00m00s |    0.78564 |      1681.9574 | \n",
      "  327 | 00m00s |    0.78326 |      2829.5800 | \n",
      "  328 | 00m00s |    0.77230 |       197.3244 | \n",
      "  329 | 00m00s |    0.78583 |      1634.2537 | \n",
      "  330 | 00m00s |    0.77338 |       216.3607 | \n",
      "  331 | 00m00s |    0.78382 |      2614.1978 | \n",
      "  332 | 00m00s |    0.78207 |       461.1936 | \n",
      "  333 | 00m00s |    0.78373 |      2719.4766 | \n",
      "  334 | 00m00s |    0.78544 |      1852.2352 | \n",
      "  335 | 00m00s |    0.78532 |      1899.2386 | \n",
      "  336 | 00m00s |    0.78389 |       592.4910 | \n",
      "  337 | 00m00s |    0.78431 |      2414.5766 | \n",
      "  338 | 00m00s |    0.78294 |      2998.4677 | \n",
      "  339 | 00m00s |    0.78597 |      1456.0323 | \n",
      "  340 | 00m00s |    0.78604 |      1293.7439 | \n",
      "  341 | 00m00s |    0.78603 |      1236.3009 | \n",
      "  342 | 00m00s |    0.78426 |      2444.5147 | \n",
      "  343 | 00m00s |    0.78601 |      1423.5647 | \n",
      "  344 | 00m00s |    0.78594 |      1377.3349 | \n",
      "  345 | 00m00s |    0.78518 |      1997.3747 | \n",
      "  346 | 00m00s |    0.78556 |       875.9170 | \n",
      "  347 | 00m00s |    0.77985 |       370.3438 | \n",
      "  348 | 00m00s |    0.78368 |      2772.9933 | \n",
      "  349 | 00m00s |    0.77462 |       240.9637 | \n",
      "  350 | 00m00s |    0.77162 |       186.0708 | \n",
      "  351 | 00m00s |    0.78524 |      1990.3704 | \n",
      "  352 | 00m00s |    0.78573 |      1668.2745 | \n",
      "  353 | 00m00s |    0.78559 |      1740.9412 | \n",
      "  354 | 00m00s |    0.78485 |      2149.0607 | \n",
      "  355 | 00m00s |    0.78398 |       599.1071 | \n",
      "  356 | 00m00s |    0.78310 |       525.2097 | \n",
      "  357 | 00m00s |    0.76829 |       142.5770 | \n",
      "  358 | 00m00s |    0.78445 |      2412.9356 | \n",
      "  359 | 00m00s |    0.78598 |      1063.2635 | \n",
      "  360 | 00m00s |    0.78332 |      2844.4308 | \n",
      "  361 | 00m00s |    0.78353 |      2774.2555 | \n",
      "  362 | 00m00s |    0.78414 |      2454.3388 | \n",
      "  363 | 00m00s |    0.78571 |      1678.5155 | \n",
      "  364 | 00m00s |    0.78600 |      1466.8209 | \n",
      "  365 | 00m00s |    0.78599 |      1382.7389 | \n",
      "  366 | 00m00s |    0.77393 |       224.6973 | \n",
      "  367 | 00m00s |    0.77064 |       169.0636 | \n",
      "  368 | 00m00s |    0.78418 |      2524.5120 | \n",
      "  369 | 00m00s |    0.78392 |      2607.0903 | \n",
      "  370 | 00m00s |    0.78565 |      1739.5308 | \n",
      "  371 | 00m00s |    0.75702 |        63.3498 | \n",
      "  372 | 00m00s |    0.78420 |      2468.6797 | \n",
      "  373 | 00m00s |    0.78476 |       703.9919 | \n",
      "  374 | 00m00s |    0.78308 |      2907.5650 | \n",
      "  375 | 00m00s |    0.78594 |      1383.6170 | \n",
      "  376 | 00m00s |    0.78555 |      1788.3802 | \n",
      "  377 | 00m00s |    0.78563 |      1714.0420 | \n",
      "  378 | 00m00s |    0.78601 |      1304.9938 | \n",
      "  379 | 00m00s |    0.78398 |      2540.6111 | \n",
      "  380 | 00m00s |    0.78315 |      2923.4272 | \n",
      "  381 | 00m00s |    0.78576 |      1633.5340 | \n",
      "  382 | 00m00s |    0.78418 |      2579.7863 | \n",
      "  383 | 00m00s |    0.78537 |      1913.1330 | \n",
      "  384 | 00m00s |    0.78467 |      2251.8281 | \n",
      "  385 | 00m00s |    0.78602 |      1115.8389 | \n",
      "  386 | 00m00s |    0.78349 |       559.0090 | \n",
      "  387 | 00m00s |    0.78461 |      2354.2275 | \n",
      "  388 | 00m00s |    0.78598 |      1349.8612 | \n",
      "  389 | 00m00s |    0.77918 |       349.4592 | \n",
      "  390 | 00m00s |    0.78356 |      2749.2818 | \n",
      "  391 | 00m00s |    0.77627 |       274.0056 | \n",
      "  392 | 00m00s |    0.78547 |      1792.8416 | \n",
      "  393 | 00m00s |    0.78207 |       461.0241 | \n",
      "  394 | 00m00s |    0.78555 |      1744.0837 | \n",
      "  395 | 00m00s |    0.78384 |      2619.7459 | \n",
      "  396 | 00m00s |    0.78388 |      2674.7738 | \n",
      "  397 | 00m00s |    0.78467 |      2276.3196 | \n",
      "  398 | 00m00s |    0.78574 |      1639.1494 | \n",
      "  399 | 00m00s |    0.78436 |      2391.7171 | \n",
      "  400 | 00m00s |    0.78575 |      1634.5058 | \n",
      "  401 | 00m00s |    0.78439 |       648.8634 | \n",
      "  402 | 00m00s |    0.78594 |      1404.0464 | \n",
      "  403 | 00m00s |    0.78548 |      1779.7523 | \n",
      "  404 | 00m00s |    0.78416 |      2520.5773 | \n",
      "  405 | 00m00s |    0.78537 |      1957.1587 | \n",
      "  406 | 00m00s |    0.78503 |      2070.1805 | \n",
      "  407 | 00m00s |    0.78399 |      2583.4140 | \n",
      "  408 | 00m00s |    0.75382 |        53.6341 | \n",
      "  409 | 00m00s |    0.78454 |      2301.6674 | \n",
      "  410 | 00m00s |    0.78584 |      1571.1551 | \n",
      "  411 | 00m00s |    0.78355 |      2716.2999 | \n",
      "  412 | 00m00s |    0.77497 |       247.9954 | \n",
      "  413 | 00m00s |    0.78600 |      1427.4117 | \n",
      "  414 | 00m00s |    0.78540 |      1875.0225 | \n",
      "  415 | 00m00s |    0.78602 |      1134.7648 | \n",
      "  416 | 00m00s |    0.77439 |       234.6494 | \n",
      "  417 | 00m00s |    0.76739 |       132.0204 | \n",
      "  418 | 00m00s |    0.78588 |      1581.0144 | \n",
      "  419 | 00m00s |    0.78404 |      2561.0988 | \n",
      "  420 | 00m00s |    0.77436 |       233.9302 | \n",
      "  421 | 00m00s |    0.78601 |      1307.5066 | \n",
      "  422 | 00m00s |    0.78600 |      1435.2128 | \n",
      "  423 | 00m00s |    0.78304 |      2971.7317 | \n",
      "  424 | 00m00s |    0.78081 |       403.4052 | \n",
      "  425 | 00m00s |    0.78597 |      1152.5420 | \n",
      "  426 | 00m00s |    0.78554 |      1696.6035 | \n",
      "  427 | 00m00s |    0.78602 |      1276.2917 | \n",
      "  428 | 00m00s |    0.78592 |      1039.5817 | \n",
      "  429 | 00m00s |    0.77578 |       263.0215 | \n",
      "  430 | 00m00s |    0.78527 |      1964.6358 | \n",
      "  431 | 00m00s |    0.78589 |      1547.3130 | \n",
      "  432 | 00m00s |    0.78558 |      1755.8797 | \n",
      "  433 | 00m00s |    0.78355 |      2790.2013 | \n",
      "  434 | 00m00s |    0.76330 |        93.0010 | \n",
      "  435 | 00m00s |    0.78462 |      2345.6875 | \n",
      "  436 | 00m00s |    0.77528 |       253.4919 | \n",
      "  437 | 00m00s |    0.78542 |       827.1122 | \n",
      "  438 | 00m00s |    0.78583 |      1508.2078 | \n",
      "  439 | 00m00s |    0.76870 |       146.8987 | \n",
      "  440 | 00m00s |    0.77898 |       343.1648 | \n",
      "  441 | 00m00s |    0.78391 |      2576.3716 | \n",
      "  442 | 00m00s |    0.78506 |      2157.4858 | \n",
      "  443 | 00m00s |    0.78333 |      2787.7209 | \n",
      "  444 | 00m00s |    0.78524 |       789.8093 | \n",
      "  445 | 00m00s |    0.77585 |       265.4974 | \n",
      "  446 | 00m00s |    0.78551 |       862.0146 | \n",
      "  447 | 00m00s |    0.78467 |      2306.0497 | \n",
      "  448 | 00m00s |    0.78546 |      1826.2161 | \n",
      "  449 | 00m00s |    0.78296 |      2993.9587 | \n",
      "  450 | 00m00s |    0.78594 |      1591.2409 | \n",
      "  451 | 00m00s |    0.78335 |      2912.7924 | \n",
      "  452 | 00m00s |    0.78474 |      2224.1048 | \n",
      "  453 | 00m00s |    0.78589 |      1020.9279 | \n",
      "  454 | 00m00s |    0.78507 |      2065.4378 | \n",
      "  455 | 00m00s |    0.78532 |      1951.2290 | \n",
      "  456 | 00m00s |    0.77620 |       273.8941 | \n",
      "  457 | 00m00s |    0.78474 |      2183.4100 | \n",
      "  458 | 00m00s |    0.78416 |      2499.7743 | \n",
      "  459 | 00m00s |    0.78559 |      1736.4603 | \n",
      "  460 | 00m00s |    0.78557 |      1773.2126 | \n",
      "  461 | 00m00s |    0.78440 |       652.9376 | \n",
      "  462 | 00m00s |    0.78554 |      1786.9169 | \n",
      "  463 | 00m00s |    0.78301 |      2986.3725 | \n",
      "  464 | 00m00s |    0.78588 |      1588.1609 | \n",
      "  465 | 00m00s |    0.78447 |      2332.8429 | \n",
      "  466 | 00m00s |    0.78454 |      2305.0103 | \n",
      "  467 | 00m00s |    0.78305 |      2975.7453 | \n",
      "  468 | 00m00s |    0.78580 |      1635.8258 | \n",
      "  469 | 00m00s |    0.78519 |      2023.1753 | \n",
      "  470 | 00m00s |    0.78212 |       463.6912 | \n",
      "  471 | 00m00s |    0.78382 |      2596.5090 | \n",
      "  472 | 00m00s |    0.78416 |      2510.7529 | \n",
      "  473 | 00m00s |    0.78378 |      2651.1998 | \n",
      "  474 | 00m00s |    0.77799 |       316.6558 | \n",
      "  475 | 00m00s |    0.78520 |       783.9866 | \n",
      "  476 | 00m00s |    0.76418 |       101.5452 | \n",
      "  477 | 00m00s |    0.77298 |       209.0705 | \n",
      "  478 | 00m00s |    0.78599 |      1231.6250 | \n",
      "  479 | 00m00s |    0.76870 |       146.3925 | \n",
      "  480 | 00m00s |    0.78349 |       558.4093 | \n",
      "  481 | 00m00s |    0.78308 |       522.3552 | \n",
      "  482 | 00m00s |    0.78598 |      1329.5155 | \n",
      "  483 | 00m00s |    0.78603 |      1227.7750 | \n",
      "  484 | 00m00s |    0.78568 |       937.7450 | \n",
      "  485 | 00m00s |    0.78433 |      2442.1265 | \n",
      "  486 | 00m00s |    0.78335 |      2829.9575 | \n",
      "  487 | 00m00s |    0.78564 |      1681.3273 | \n",
      "  488 | 00m00s |    0.78599 |      1122.3455 | \n",
      "  489 | 00m00s |    0.78329 |      2883.8167 | \n",
      "  490 | 00m00s |    0.78328 |       540.3358 | \n",
      "  491 | 00m00s |    0.78416 |      2497.1987 | \n",
      "  492 | 00m00s |    0.77888 |       341.5539 | \n",
      "  493 | 00m00s |    0.77144 |       182.3164 | \n",
      "  494 | 00m00s |    0.78536 |       817.1350 | \n",
      "  495 | 00m00s |    0.78567 |      1641.3639 | \n",
      "  496 | 00m00s |    0.78557 |       866.2212 | \n",
      "  497 | 00m00s |    0.78308 |       523.1173 | \n",
      "  498 | 00m00s |    0.78600 |      1382.1465 | \n",
      "  499 | 00m00s |    0.78368 |      2679.3492 | \n",
      "  500 | 00m00s |    0.78380 |       585.0192 | \n",
      "  501 | 00m00s |    0.78500 |      2073.1839 | \n",
      "  502 | 00m00s |    0.78485 |       715.8685 | \n",
      "  503 | 00m00s |    0.78572 |      1674.3472 | \n",
      "  504 | 00m00s |    0.78454 |       670.9030 | \n",
      "  505 | 00m00s |    0.78452 |      2352.4665 | \n",
      "  506 | 00m00s |    0.76985 |       159.8018 | \n",
      "  507 | 00m00s |    0.78595 |      1053.8922 | \n",
      "  508 | 00m00s |    0.78485 |      2228.2448 | \n",
      "  509 | 00m00s |    0.78603 |      1174.8421 | \n",
      "  510 | 00m00s |    0.78597 |      1559.1876 | \n",
      "  511 | 00m00s |    0.78603 |      1288.4303 | \n",
      "  512 | 00m00s |    0.78333 |      2815.3245 | \n",
      "  513 | 00m00s |    0.78321 |      2895.2224 | \n",
      "  514 | 00m00s |    0.78462 |      2296.0046 | \n",
      "  515 | 00m00s |    0.78351 |      2767.6930 | \n",
      "  516 | 15m58s |    0.78334 |      2780.3341 | \n",
      "  517 | 16m32s |    0.78335 |      2861.9396 | \n",
      "  518 | 08m03s |    0.78598 |      1353.6528 | \n",
      "  519 | 11m07s |    0.78533 |      1910.7945 | \n",
      "  520 | 07m52s |    0.78601 |      1304.3158 | \n",
      "  521 | 13m06s |    0.78466 |      2263.0481 | \n",
      "  522 | 07m28s |    0.78598 |      1238.0738 | \n",
      "  523 | 01m22s |    0.77046 |       167.6103 | \n",
      "  524 | 03m30s |    0.78316 |       530.7980 | \n",
      "  525 | 09m14s |    0.78593 |      1542.7713 | \n",
      "  526 | 01m49s |    0.77451 |       237.0867 | \n",
      "  527 | 01m39s |    0.77303 |       210.4614 | \n",
      "  528 | 09m33s |    0.78588 |      1589.0406 | \n",
      "  529 | 09m01s |    0.78598 |      1500.4227 | \n",
      "  530 | 05m34s |    0.78563 |       888.1637 | \n"
     ]
    }
   ],
   "source": [
    "bo_n_estimators.maximize(init_points= 1, kappa = 0.5, n_iter = 5)"
   ]
  },
  {
   "cell_type": "code",
   "execution_count": 88,
   "metadata": {},
   "outputs": [
    {
     "data": {
      "text/plain": [
       "array([0.78563889, 0.77088147, 0.78449961, 0.78430205, 0.78490255,\n",
       "       0.78410191, 0.78542639, 0.78400935, 0.78594383, 0.78603366,\n",
       "       0.78588002, 0.78180497, 0.77966787, 0.78379827, 0.78580475,\n",
       "       0.78423578, 0.77194865, 0.78570183, 0.7836415 , 0.78482244,\n",
       "       0.78338934, 0.78579196, 0.78457742, 0.78383672, 0.78599668,\n",
       "       0.78331424, 0.78360977, 0.78312314, 0.78553935, 0.78320662,\n",
       "       0.78464745, 0.78564139, 0.78325869, 0.7723027 , 0.78583013,\n",
       "       0.77337676, 0.78382039, 0.78206998, 0.78373273, 0.78543683,\n",
       "       0.78532331, 0.78389154, 0.7843118 , 0.7829418 , 0.78596694,\n",
       "       0.78603532, 0.78603182, 0.78426475, 0.78601093, 0.78594289,\n",
       "       0.78517986, 0.78555782, 0.77984904, 0.78368048, 0.77461745,\n",
       "       0.77161959, 0.78523748, 0.78573082, 0.7855853 , 0.78484574,\n",
       "       0.78397545, 0.78310382, 0.76829048, 0.78444565, 0.78597852,\n",
       "       0.78331869, 0.78353129, 0.78413956, 0.78570557, 0.78599714,\n",
       "       0.78598778, 0.77393036, 0.77064045])"
      ]
     },
     "execution_count": 88,
     "metadata": {},
     "output_type": "execute_result"
    }
   ],
   "source": [
    "bo_n_estimators.Y"
   ]
  },
  {
   "cell_type": "code",
   "execution_count": null,
   "metadata": {},
   "outputs": [],
   "source": [
    "bo.maximize(init_points= 0.02, kappa=1, n_iter= 20)"
   ]
  },
  {
   "cell_type": "code",
   "execution_count": 49,
   "metadata": {},
   "outputs": [],
   "source": [
    "bo.set_bounds({'lr':(0,1)})"
   ]
  },
  {
   "cell_type": "code",
   "execution_count": null,
   "metadata": {},
   "outputs": [],
   "source": [
    "bo."
   ]
  },
  {
   "cell_type": "code",
   "execution_count": 62,
   "metadata": {},
   "outputs": [
    {
     "data": {
      "text/plain": [
       "{'max': {'max_val': 0.7858458545379384,\n",
       "  'max_params': {'lr': 0.021174897615037158}},\n",
       " 'all': {'values': [0.7315567562482812,\n",
       "   0.7534498478433121,\n",
       "   0.5739035390497191,\n",
       "   0.6967226091513569,\n",
       "   0.762158649144206,\n",
       "   0.5036693717267701,\n",
       "   0.5084768527612263,\n",
       "   0.6843348184296523,\n",
       "   0.7707592413398553,\n",
       "   0.5161645427183069,\n",
       "   0.7060400165640024,\n",
       "   0.7745605805467147,\n",
       "   0.5115380283700851,\n",
       "   0.5364250182179752,\n",
       "   0.5111357517658559,\n",
       "   0.7244508580868197,\n",
       "   0.6760505560663533,\n",
       "   0.7003556152072955,\n",
       "   0.7795667204987677,\n",
       "   0.7387372163352,\n",
       "   0.780884998197476,\n",
       "   0.5086676137855362,\n",
       "   0.5102814024615641,\n",
       "   0.7130718632152336,\n",
       "   0.6918998686384817,\n",
       "   0.5063338454173129,\n",
       "   0.7827494151757732,\n",
       "   0.5058063577992469,\n",
       "   0.5234716270489747,\n",
       "   0.5116996339232829,\n",
       "   0.783962639631595,\n",
       "   0.7839702368089806,\n",
       "   0.7448182296081293,\n",
       "   0.7843028106386151,\n",
       "   0.7100958031307503,\n",
       "   0.7204814170083322,\n",
       "   0.7265966542348847,\n",
       "   0.7151136805469983,\n",
       "   0.7336766510674962,\n",
       "   0.7477776832929139,\n",
       "   0.7089166274559098,\n",
       "   0.7223016014726277,\n",
       "   0.7150770556830164,\n",
       "   0.7316585283081704,\n",
       "   0.7418577081389799,\n",
       "   0.7118959758795164,\n",
       "   0.7240451824771101,\n",
       "   0.7032052085282973,\n",
       "   0.7193159666154457,\n",
       "   0.7144509747997464,\n",
       "   0.7359678758762559,\n",
       "   0.7278452417358633,\n",
       "   0.764566672629658,\n",
       "   0.7568955128964424,\n",
       "   0.7498931815437871,\n",
       "   0.7439923953745836,\n",
       "   0.7686839369866254,\n",
       "   0.7463052490895487,\n",
       "   0.776262284422847,\n",
       "   0.7239333175477277,\n",
       "   0.73653459397425,\n",
       "   0.7636445938867963,\n",
       "   0.7315522563047357,\n",
       "   0.720836291914614,\n",
       "   0.7115804301524097,\n",
       "   0.7817741589624264,\n",
       "   0.7155987617044763,\n",
       "   0.7843764506213403,\n",
       "   0.7137786712074469,\n",
       "   0.7267091342684336,\n",
       "   0.7230899905409838,\n",
       "   0.7368223356825717,\n",
       "   0.7404674781510409,\n",
       "   0.7586683659447618,\n",
       "   0.7828161986009254,\n",
       "   0.7840891309477437,\n",
       "   0.7080200105883604,\n",
       "   0.70992148551327,\n",
       "   0.7177861312296621,\n",
       "   0.7210804374790133,\n",
       "   0.7174711799475776,\n",
       "   0.7076269687735492,\n",
       "   0.7113287985589879,\n",
       "   0.7253084234610362,\n",
       "   0.7338451525901458,\n",
       "   0.7286252904758564,\n",
       "   0.783985296926989,\n",
       "   0.7547356166198056,\n",
       "   0.751667832278927,\n",
       "   0.7085867338751243,\n",
       "   0.7459345241581558,\n",
       "   0.7784008145037298,\n",
       "   0.7733072857139311,\n",
       "   0.749190487037595,\n",
       "   0.74328238195206,\n",
       "   0.7211683708512621,\n",
       "   0.7091813451772252,\n",
       "   0.7252844367871966,\n",
       "   0.7666977464606378,\n",
       "   0.7368004993830048,\n",
       "   0.7095531378294773,\n",
       "   0.7377825781147571,\n",
       "   0.7186517076110337,\n",
       "   0.7143883030057235,\n",
       "   0.7479599200288475,\n",
       "   0.7162210072753691,\n",
       "   0.7210089188743325,\n",
       "   0.7702614994453484,\n",
       "   0.7315634872829064,\n",
       "   0.7161114591999261,\n",
       "   0.733728397325598,\n",
       "   0.7784235396165183,\n",
       "   0.7441927983781301,\n",
       "   0.7857480387154413,\n",
       "   0.726109371268557,\n",
       "   0.7286584771299008,\n",
       "   0.763252892491816,\n",
       "   0.737871408589562,\n",
       "   0.7756055701848229,\n",
       "   0.7075978459348656,\n",
       "   0.718985596717921,\n",
       "   0.7102838761462674,\n",
       "   0.7855260711525727,\n",
       "   0.7327969774019222,\n",
       "   0.7190104278784482,\n",
       "   0.7607478513132735,\n",
       "   0.7390021785277282,\n",
       "   0.7229510381598399,\n",
       "   0.7837611486969629,\n",
       "   0.7137710469655237,\n",
       "   0.7136869951598941,\n",
       "   0.7622272232539736,\n",
       "   0.7554547222099671,\n",
       "   0.7258323091034852,\n",
       "   0.7799252476990954,\n",
       "   0.7856079559995622,\n",
       "   0.7366381828662605,\n",
       "   0.7855850169636431,\n",
       "   0.7823274771910254,\n",
       "   0.7735434261884538,\n",
       "   0.7838024463802981,\n",
       "   0.7108024719614076,\n",
       "   0.7785400868567178,\n",
       "   0.7857962253252307,\n",
       "   0.7858444068400982,\n",
       "   0.7855599496960717,\n",
       "   0.7188979873909819,\n",
       "   0.7321439419831558,\n",
       "   0.7197072064214926,\n",
       "   0.7176837169552455,\n",
       "   0.7348255400932254,\n",
       "   0.7160772713376304,\n",
       "   0.7850778788474847,\n",
       "   0.7856216064378264,\n",
       "   0.7858458545379384,\n",
       "   0.785694212885203,\n",
       "   0.7833458922091681,\n",
       "   0.7717289435626388,\n",
       "   0.7853260653691357,\n",
       "   0.7296252827946573,\n",
       "   0.7857419879210606,\n",
       "   0.7573138020039719,\n",
       "   0.7855981229752569,\n",
       "   0.7085437882173728,\n",
       "   0.7153843011300308,\n",
       "   0.7082335764538192,\n",
       "   0.7251323622450245,\n",
       "   0.7118421527495284,\n",
       "   0.7270418881938658,\n",
       "   0.7124965567504468,\n",
       "   0.785133400520829,\n",
       "   0.7538514140723587],\n",
       "  'params': [{'lr': 2.220446049250313e-16},\n",
       "   {'lr': 0.20567803285663544},\n",
       "   {'lr': 1.912277383438765},\n",
       "   {'lr': 1.2578650752297424},\n",
       "   {'lr': 0.16092664684186278},\n",
       "   {'lr': 2.5581125707001213},\n",
       "   {'lr': 5.0},\n",
       "   {'lr': 1.5349818528240762},\n",
       "   {'lr': 0.10616267181033535},\n",
       "   {'lr': 3.5917671701229557},\n",
       "   {'lr': 0.9823620792150514},\n",
       "   {'lr': 0.08972395853690418},\n",
       "   {'lr': 4.353315564315109},\n",
       "   {'lr': 2.2432775275614714},\n",
       "   {'lr': 2.88081868530843},\n",
       "   {'lr': 0.5886549076002664},\n",
       "   {'lr': 1.6957044889951902},\n",
       "   {'lr': 1.1191476837559295},\n",
       "   {'lr': 0.06440307508383075},\n",
       "   {'lr': 0.3412720784010233},\n",
       "   {'lr': 0.05666354982586444},\n",
       "   {'lr': 3.3968398146625467},\n",
       "   {'lr': 4.541127341535291},\n",
       "   {'lr': 0.8498581272204686},\n",
       "   {'lr': 1.3956014849455076},\n",
       "   {'lr': 3.795433648125834},\n",
       "   {'lr': 0.04801565340949899},\n",
       "   {'lr': 4.168873992247605},\n",
       "   {'lr': 2.083109262096286},\n",
       "   {'lr': 2.721361062290222},\n",
       "   {'lr': 0.03865372688084623},\n",
       "   {'lr': 0.03713345432903741},\n",
       "   {'lr': 0.27731147795633404},\n",
       "   {'lr': 0.03770133987901747},\n",
       "   {'lr': 0.916119843526647},\n",
       "   {'lr': 0.654130443246262},\n",
       "   {'lr': 0.5243408234707982},\n",
       "   {'lr': 0.7847732005690123},\n",
       "   {'lr': 0.40223368620899674},\n",
       "   {'lr': 0.24239342241789397},\n",
       "   {'lr': 0.9503695526755915},\n",
       "   {'lr': 0.6213898923331644},\n",
       "   {'lr': 0.7523016554997766},\n",
       "   {'lr': 0.4329356516618882},\n",
       "   {'lr': 0.3105335564737177},\n",
       "   {'lr': 0.8813415337448913},\n",
       "   {'lr': 0.5549390414952472},\n",
       "   {'lr': 1.0},\n",
       "   {'lr': 0.6868485650931131},\n",
       "   {'lr': 0.8172126806251897},\n",
       "   {'lr': 0.3716573459065542},\n",
       "   {'lr': 0.4940090257359042},\n",
       "   {'lr': 0.13578578880939432},\n",
       "   {'lr': 0.18383610013551907},\n",
       "   {'lr': 0.22466892523831458},\n",
       "   {'lr': 0.2937525972897779},\n",
       "   {'lr': 0.12116594974242194},\n",
       "   {'lr': 0.2595572306411672},\n",
       "   {'lr': 0.07746809374017177},\n",
       "   {'lr': 0.5719627558578063},\n",
       "   {'lr': 0.35646004138865145},\n",
       "   {'lr': 0.1488755503567037},\n",
       "   {'lr': 0.44828938687774916},\n",
       "   {'lr': 0.670460805313089},\n",
       "   {'lr': 0.8987498508393302},\n",
       "   {'lr': 0.051448533133310784},\n",
       "   {'lr': 0.7359568273612731},\n",
       "   {'lr': 0.03751114914892378},\n",
       "   {'lr': 0.801111908578862},\n",
       "   {'lr': 0.5091708306043516},\n",
       "   {'lr': 0.6058873605206138},\n",
       "   {'lr': 0.3877837802024508},\n",
       "   {'lr': 0.3256096029848196},\n",
       "   {'lr': 0.1725779290957027},\n",
       "   {'lr': 0.04845974810128184},\n",
       "   {'lr': 0.0377743082540678},\n",
       "   {'lr': 0.9337153176110415},\n",
       "   {'lr': 0.8342626389293905},\n",
       "   {'lr': 0.7032015896945424},\n",
       "   {'lr': 0.6378011213892936},\n",
       "   {'lr': 0.7685403585132241},\n",
       "   {'lr': 0.9665047961100119},\n",
       "   {'lr': 0.8657184243502678},\n",
       "   {'lr': 0.539757583538596},\n",
       "   {'lr': 0.41766413930936475},\n",
       "   {'lr': 0.4788465996931397},\n",
       "   {'lr': 0.01281325173416381},\n",
       "   {'lr': 0.1952671113883868},\n",
       "   {'lr': 0.21562262045637784},\n",
       "   {'lr': 0.9919277150785054},\n",
       "   {'lr': 0.26839163182755005},\n",
       "   {'lr': 0.006663955242796222},\n",
       "   {'lr': 0.09805818206630207},\n",
       "   {'lr': 0.23399270284554582},\n",
       "   {'lr': 0.30212142074373216},\n",
       "   {'lr': 0.5971989345317352},\n",
       "   {'lr': 0.9248521295339194},\n",
       "   {'lr': 0.5634410773267655},\n",
       "   {'lr': 0.12835779539032083},\n",
       "   {'lr': 0.3797070232158245},\n",
       "   {'lr': 0.890046081882712},\n",
       "   {'lr': 0.33347893618121055},\n",
       "   {'lr': 0.6786352312851626},\n",
       "   {'lr': 0.8256337106397657},\n",
       "   {'lr': 0.2510017385912792},\n",
       "   {'lr': 0.7277429631720961},\n",
       "   {'lr': 0.6296875233683618},\n",
       "   {'lr': 0.11355125652274585},\n",
       "   {'lr': 0.4559917623767407},\n",
       "   {'lr': 0.7766180687600324},\n",
       "   {'lr': 0.4100629451530673},\n",
       "   {'lr': 0.07117146221049564},\n",
       "   {'lr': 0.28548452952503867},\n",
       "   {'lr': 0.020327758950764552},\n",
       "   {'lr': 0.531966322842635},\n",
       "   {'lr': 0.4864831419097073},\n",
       "   {'lr': 0.1426640739519029},\n",
       "   {'lr': 0.3492535062473869},\n",
       "   {'lr': 0.08373909662440758},\n",
       "   {'lr': 0.9583909581008561},\n",
       "   {'lr': 0.6618327840396971},\n",
       "   {'lr': 0.8577318675458124},\n",
       "   {'lr': 0.017092370999968742},\n",
       "   {'lr': 0.42572219294483354},\n",
       "   {'lr': 0.6954841184258311},\n",
       "   {'lr': 0.1666800427464945},\n",
       "   {'lr': 0.3180167361669955},\n",
       "   {'lr': 0.5803742448145994},\n",
       "   {'lr': 0.04264707828381442},\n",
       "   {'lr': 0.7599850565839937},\n",
       "   {'lr': 0.7934228842021765},\n",
       "   {'lr': 0.1548085476916895},\n",
       "   {'lr': 0.18949163000882752},\n",
       "   {'lr': 0.5162995766656681},\n",
       "   {'lr': 0.06065810057776353},\n",
       "   {'lr': 0.024441596141056232},\n",
       "   {'lr': 0.36413218883178233},\n",
       "   {'lr': 0.022699180982621137},\n",
       "   {'lr': 0.009830844601586897},\n",
       "   {'lr': 0.0939539727868467},\n",
       "   {'lr': 0.040559723302458606},\n",
       "   {'lr': 0.9073833113929956},\n",
       "   {'lr': 0.068116751880825},\n",
       "   {'lr': 0.02399366286197409},\n",
       "   {'lr': 0.018321223190842728},\n",
       "   {'lr': 0.018178463190864514},\n",
       "   {'lr': 0.645924343112597},\n",
       "   {'lr': 0.4406690892670524},\n",
       "   {'lr': 0.6135716189322438},\n",
       "   {'lr': 0.711439916464068},\n",
       "   {'lr': 0.3949035516247974},\n",
       "   {'lr': 0.7441020353017526},\n",
       "   {'lr': 0.01537013278921381},\n",
       "   {'lr': 0.019226612924556432},\n",
       "   {'lr': 0.021174897615037158},\n",
       "   {'lr': 0.018665205175977473},\n",
       "   {'lr': 0.04470188430167377},\n",
       "   {'lr': 0.10220483397326871},\n",
       "   {'lr': 0.01632985985051394},\n",
       "   {'lr': 0.4712622034423732},\n",
       "   {'lr': 0.02097293854205129},\n",
       "   {'lr': 0.17815594129779097},\n",
       "   {'lr': 0.021231718787797726},\n",
       "   {'lr': 0.9419977409416586},\n",
       "   {'lr': 0.8092315390295486},\n",
       "   {'lr': 0.9745610692158978},\n",
       "   {'lr': 0.5473957509940443},\n",
       "   {'lr': 0.8735882780457253},\n",
       "   {'lr': 0.5015578589187614},\n",
       "   {'lr': 0.8420579735935851},\n",
       "   {'lr': 0.030457098636562405},\n",
       "   {'lr': 0.21060216083105376}]}}"
      ]
     },
     "execution_count": 62,
     "metadata": {},
     "output_type": "execute_result"
    }
   ],
   "source": [
    "bo.res"
   ]
  },
  {
   "cell_type": "code",
   "execution_count": null,
   "metadata": {},
   "outputs": [],
   "source": [
    "model_1 = LGBMClassifier(**params)\n",
    "scoring = cross_val_score(estimator = model_1, X = X.loc[:, a.get(0)], y = y,cv= kfold, scoring= 'roc_auc')"
   ]
  },
  {
   "cell_type": "code",
   "execution_count": null,
   "metadata": {},
   "outputs": [],
   "source": [
    "scoring"
   ]
  },
  {
   "cell_type": "code",
   "execution_count": null,
   "metadata": {},
   "outputs": [],
   "source": [
    "model_2 = LGBMClassifier(**params)\n",
    "scoring_2 = cross_val_score(estimator = model_2, X = X.loc[:, a.get(1)], y = y,cv= kfold, scoring= 'roc_auc')\n",
    "scoring_2"
   ]
  },
  {
   "cell_type": "code",
   "execution_count": null,
   "metadata": {},
   "outputs": [],
   "source": []
  },
  {
   "cell_type": "code",
   "execution_count": null,
   "metadata": {},
   "outputs": [],
   "source": []
  },
  {
   "cell_type": "code",
   "execution_count": 303,
   "metadata": {},
   "outputs": [
    {
     "name": "stdout",
     "output_type": "stream",
     "text": [
      "Loading test applications\n",
      "Loading previous_application.csv.zip\n",
      "Loading credit_card_balance.csv.zip\n",
      "Loading installments_payments.csv.zip\n",
      "Loading POS_CASH_balance.csv.zip\n",
      "Loading bureau.csv.zip\n",
      "CPU times: user 1min 43s, sys: 16.6 s, total: 1min 59s\n",
      "Wall time: 1min 42s\n"
     ]
    }
   ],
   "source": [
    "%%time\n",
    "# Load dataframe\n",
    "df_test = utils.load_data(train = False,\n",
    "                     supp_dict = {'previous_application.csv.zip' : 'max',\n",
    "                                  'credit_card_balance.csv.zip' : 'mean',\n",
    "                                  'installments_payments.csv.zip' : 'min',\n",
    "                                  'POS_CASH_balance.csv.zip' : 'mean',\n",
    "                                  'bureau.csv.zip' : 'max'\n",
    "                                 })"
   ]
  },
  {
   "cell_type": "code",
   "execution_count": 304,
   "metadata": {},
   "outputs": [
    {
     "name": "stderr",
     "output_type": "stream",
     "text": [
      "/root/anaconda3/lib/python3.6/site-packages/pandas/core/indexing.py:543: SettingWithCopyWarning: \n",
      "A value is trying to be set on a copy of a slice from a DataFrame.\n",
      "Try using .loc[row_indexer,col_indexer] = value instead\n",
      "\n",
      "See the caveats in the documentation: http://pandas.pydata.org/pandas-docs/stable/indexing.html#indexing-view-versus-copy\n",
      "  self.obj[item] = s\n"
     ]
    },
    {
     "name": "stdout",
     "output_type": "stream",
     "text": [
      "CPU times: user 4.3 s, sys: 343 ms, total: 4.65 s\n",
      "Wall time: 2.46 s\n"
     ]
    }
   ],
   "source": [
    "%%time\n",
    "# Create design matrix\n",
    "features = [x for x in df_test.columns if x != 'SK_ID_CURR']\n",
    "X_test = utils.get_design_matrix_lbl(df_test, features, train = False, train_test_split = False, train_sample = 0.75, convert_categorical = True)"
   ]
  },
  {
   "cell_type": "code",
   "execution_count": 393,
   "metadata": {},
   "outputs": [],
   "source": [
    "from sklearn.metrics import log_loss"
   ]
  },
  {
   "cell_type": "code",
   "execution_count": 396,
   "metadata": {},
   "outputs": [],
   "source": [
    "def lloss(yhat, y):\n",
    "    return(-(y*np.log(yhat) + (1 - y) * np.log(1 - yhat)))"
   ]
  },
  {
   "cell_type": "code",
   "execution_count": 399,
   "metadata": {},
   "outputs": [],
   "source": [
    "def lloss_array(yhat, y):\n",
    "    logloss = [lloss(yhat[i], y[i]) for i in range(len(yhat))]\n",
    "    return(logloss)\n",
    "        "
   ]
  },
  {
   "cell_type": "code",
   "execution_count": 404,
   "metadata": {},
   "outputs": [
    {
     "data": {
      "text/plain": [
       "array([0.35667494, 2.30258509])"
      ]
     },
     "execution_count": 404,
     "metadata": {},
     "output_type": "execute_result"
    }
   ],
   "source": [
    "lloss(np.array([0.3,0.9]), np.array([0, 0]))"
   ]
  },
  {
   "cell_type": "code",
   "execution_count": 394,
   "metadata": {},
   "outputs": [
    {
     "data": {
      "text/plain": [
       "0.2899092476264711"
      ]
     },
     "execution_count": 394,
     "metadata": {},
     "output_type": "execute_result"
    }
   ],
   "source": [
    "log_loss(y_true= [0,1], y_pred= [0.3, 0.8] )"
   ]
  },
  {
   "cell_type": "code",
   "execution_count": 424,
   "metadata": {},
   "outputs": [],
   "source": [
    "def compare_estimators(m1, m2, X, y):\n",
    "    m1_yhat = m1.predict_proba(X.loc[:, a.get(0)])\n",
    "    m2_yhat = m2.predict_proba(X.loc[:, a.get(1)])\n",
    "    \n",
    "    yhat_df = pd.DataFrame({'m1': [x[1] for x in m1_yhat], 'm2': [x[1] for x in m2_yhat], 'actual': y})\n",
    "    yhat_df['lloss_m1'] = lloss_array(yhat_df.m1, yhat_df.actual) \n",
    "    yhat_df['lloss_m2'] = lloss_array(yhat_df.m2, yhat_df.actual) \n",
    "\n",
    "    return(yhat_df)\n",
    "    \n",
    "    \n",
    "    "
   ]
  },
  {
   "cell_type": "code",
   "execution_count": 412,
   "metadata": {},
   "outputs": [
    {
     "data": {
      "text/plain": [
       "LGBMClassifier(boosting_type='gbdt', class_weight=None, colsample_bytree=1.0,\n",
       "        device_type='gpu', feature_fraction=0.3, importance_type='split',\n",
       "        learning_rate=0.03, max_bin=255, max_depth=-1, metric='auc',\n",
       "        min_child_samples=20, min_child_weight=0.001, min_data_in_bin=5,\n",
       "        min_data_in_leaf=2400, min_split_gain=0.0, n_estimators=1000,\n",
       "        n_jobs=-1, num_leaves=30, objective='binary', random_state=123,\n",
       "        reg_alpha=0.8, reg_lambda=0.4, silent=True, subsample=1,\n",
       "        subsample_for_bin=200000, subsample_freq=0)"
      ]
     },
     "execution_count": 412,
     "metadata": {},
     "output_type": "execute_result"
    }
   ],
   "source": [
    "model_1 = LGBMClassifier(**params)\n",
    "model_1.fit(X=X.loc[:, a.get(0)], y = y)"
   ]
  },
  {
   "cell_type": "code",
   "execution_count": 413,
   "metadata": {},
   "outputs": [
    {
     "data": {
      "text/plain": [
       "LGBMClassifier(boosting_type='gbdt', class_weight=None, colsample_bytree=1.0,\n",
       "        device_type='gpu', feature_fraction=0.3, importance_type='split',\n",
       "        learning_rate=0.03, max_bin=255, max_depth=-1, metric='auc',\n",
       "        min_child_samples=20, min_child_weight=0.001, min_data_in_bin=5,\n",
       "        min_data_in_leaf=2400, min_split_gain=0.0, n_estimators=1000,\n",
       "        n_jobs=-1, num_leaves=30, objective='binary', random_state=123,\n",
       "        reg_alpha=0.8, reg_lambda=0.4, silent=True, subsample=1,\n",
       "        subsample_for_bin=200000, subsample_freq=0)"
      ]
     },
     "execution_count": 413,
     "metadata": {},
     "output_type": "execute_result"
    }
   ],
   "source": [
    "model_2 = LGBMClassifier(**params)\n",
    "model_2.fit(X=X.loc[:, a.get(1)], y = y)"
   ]
  },
  {
   "cell_type": "code",
   "execution_count": 431,
   "metadata": {},
   "outputs": [],
   "source": [
    "model_stacked = LGBMClassifier(**params)\n",
    "X_stacked = pd.concat([pd.Series([x[1] for x in model_1.predict_proba(X.loc[:,a.get(0)])]),\n",
    "                       pd.Series([x[1] for x in model_2.predict_proba(X.loc[:,a.get(1)])])], axis = 1)"
   ]
  },
  {
   "cell_type": "code",
   "execution_count": 438,
   "metadata": {},
   "outputs": [
    {
     "data": {
      "text/plain": [
       "array([0.77992592, 0.78280491, 0.77777565, 0.78083295, 0.78296806])"
      ]
     },
     "execution_count": 438,
     "metadata": {},
     "output_type": "execute_result"
    }
   ],
   "source": [
    "cross_val_score(estimator= model_stacked, X = X_stacked, y = y, cv = kfold, scoring = 'roc_auc')"
   ]
  },
  {
   "cell_type": "code",
   "execution_count": 439,
   "metadata": {},
   "outputs": [
    {
     "data": {
      "text/plain": [
       "array([0.68937998, 0.68954108, 0.68692562, 0.69428439, 0.69451666])"
      ]
     },
     "execution_count": 439,
     "metadata": {},
     "output_type": "execute_result"
    }
   ],
   "source": [
    "cross_val_score(model_1, X.loc[:, a.get(0)], y, cv = kfold, scoring = 'roc_auc')"
   ]
  },
  {
   "cell_type": "code",
   "execution_count": 440,
   "metadata": {},
   "outputs": [
    {
     "data": {
      "text/plain": [
       "array([0.70283051, 0.70578347, 0.69644786, 0.69869495, 0.70335909])"
      ]
     },
     "execution_count": 440,
     "metadata": {},
     "output_type": "execute_result"
    }
   ],
   "source": [
    "cross_val_score(model_2, X.loc[:, a.get(1)], y, cv = kfold, scoring = 'roc_auc')"
   ]
  },
  {
   "cell_type": "code",
   "execution_count": null,
   "metadata": {},
   "outputs": [],
   "source": [
    "## HERE"
   ]
  },
  {
   "cell_type": "code",
   "execution_count": 444,
   "metadata": {},
   "outputs": [
    {
     "data": {
      "text/plain": [
       "LGBMClassifier(boosting_type='gbdt', class_weight=None, colsample_bytree=1.0,\n",
       "        device_type='gpu', feature_fraction=0.3, importance_type='split',\n",
       "        learning_rate=0.03, max_bin=255, max_depth=-1, metric='auc',\n",
       "        min_child_samples=20, min_child_weight=0.001, min_data_in_bin=5,\n",
       "        min_data_in_leaf=2400, min_split_gain=0.0, n_estimators=1000,\n",
       "        n_jobs=-1, num_leaves=30, objective='binary', random_state=123,\n",
       "        reg_alpha=0.8, reg_lambda=0.4, silent=True, subsample=1,\n",
       "        subsample_for_bin=200000, subsample_freq=0)"
      ]
     },
     "execution_count": 444,
     "metadata": {},
     "output_type": "execute_result"
    }
   ],
   "source": [
    "model_3 = LGBMClassifier(**params)\n",
    "model_3.fit(X=X.loc[:, a.get(2)], y = y)"
   ]
  },
  {
   "cell_type": "code",
   "execution_count": 446,
   "metadata": {},
   "outputs": [],
   "source": [
    "model_stacked_2 = LGBMClassifier(**params)\n",
    "X_stacked_2 = pd.concat([pd.Series([x[1] for x in model_1.predict_proba(X.loc[:, a.get(0)])]),\n",
    "                         pd.Series([x[1] for x in model_2.predict_proba(X.loc[:, a.get(1)])]),\n",
    "                         pd.Series([x[1] for x in model_3.predict_proba(X.loc[:, a.get(2)])])\n",
    "                        ], axis = 1)"
   ]
  },
  {
   "cell_type": "code",
   "execution_count": 447,
   "metadata": {},
   "outputs": [
    {
     "name": "stdout",
     "output_type": "stream",
     "text": [
      "[0.79748167 0.79715851 0.79489775 0.79647233 0.79659552]\n"
     ]
    }
   ],
   "source": [
    "scores_stacked = cross_val_score(estimator= model_stacked_2, X = X_stacked_2, y = y, cv = kfold, scoring = 'roc_auc')\n",
    "print(scores_stacked)"
   ]
  },
  {
   "cell_type": "code",
   "execution_count": 459,
   "metadata": {},
   "outputs": [],
   "source": [
    "other_features = [x for x in X.columns if x not in a.get(0) + a.get(1) + a.get(2)]"
   ]
  },
  {
   "cell_type": "code",
   "execution_count": 460,
   "metadata": {},
   "outputs": [
    {
     "data": {
      "text/plain": [
       "LGBMClassifier(boosting_type='gbdt', class_weight=None, colsample_bytree=1.0,\n",
       "        device_type='gpu', feature_fraction=0.3, importance_type='split',\n",
       "        learning_rate=0.03, max_bin=255, max_depth=-1, metric='auc',\n",
       "        min_child_samples=20, min_child_weight=0.001, min_data_in_bin=5,\n",
       "        min_data_in_leaf=2400, min_split_gain=0.0, n_estimators=1000,\n",
       "        n_jobs=-1, num_leaves=30, objective='binary', random_state=123,\n",
       "        reg_alpha=0.8, reg_lambda=0.4, silent=True, subsample=1,\n",
       "        subsample_for_bin=200000, subsample_freq=0)"
      ]
     },
     "execution_count": 460,
     "metadata": {},
     "output_type": "execute_result"
    }
   ],
   "source": [
    "model_4 = LGBMClassifier(**params)\n",
    "model_4.fit(X=X.loc[:, other_features], y = y)"
   ]
  },
  {
   "cell_type": "code",
   "execution_count": null,
   "metadata": {},
   "outputs": [],
   "source": [
    "model_stacked_3 = LGBMClassifier(**params)\n",
    "X_stacked_3 = pd.concat([pd.Series([x[1] for x in model_1.predict_proba(X.loc[:, a.get(0)])]),\n",
    "                         pd.Series([x[1] for x in model_2.predict_proba(X.loc[:, a.get(1)])]),\n",
    "                         pd.Series([x[1] for x in model_3.predict_proba(X.loc[:, a.get(2)])]),\n",
    "                         pd.Series([x[1] for x in model_4.predict_proba(X.loc[:, a.get(3)])])\n",
    "                        ], axis = 1)"
   ]
  },
  {
   "cell_type": "code",
   "execution_count": null,
   "metadata": {},
   "outputs": [],
   "source": [
    "scores_stacked_3 = cross_val_score(estimator= model_stacked_3, X = X_stacked_3, y = y, cv = kfold, scoring = 'roc_auc')\n",
    "print(scores_stacked_3)"
   ]
  },
  {
   "cell_type": "code",
   "execution_count": null,
   "metadata": {},
   "outputs": [],
   "source": [
    "scores_stacked_3"
   ]
  },
  {
   "cell_type": "code",
   "execution_count": 463,
   "metadata": {},
   "outputs": [
    {
     "data": {
      "text/plain": [
       "0.7965211577731196"
      ]
     },
     "execution_count": 463,
     "metadata": {},
     "output_type": "execute_result"
    }
   ],
   "source": [
    "scores_stacked.mean()"
   ]
  },
  {
   "cell_type": "code",
   "execution_count": 475,
   "metadata": {},
   "outputs": [],
   "source": [
    "from sklearn.linear_model import LogisticRegression"
   ]
  },
  {
   "cell_type": "code",
   "execution_count": 476,
   "metadata": {},
   "outputs": [],
   "source": [
    "model_lr_stacked = LogisticRegression()"
   ]
  },
  {
   "cell_type": "code",
   "execution_count": 482,
   "metadata": {},
   "outputs": [
    {
     "data": {
      "text/plain": [
       "array([0.84147399, 0.84098146, 0.84176365, 0.84325398, 0.84155383,\n",
       "       0.83774093, 0.84295725, 0.84142945, 0.84363081, 0.84321758])"
      ]
     },
     "execution_count": 482,
     "metadata": {},
     "output_type": "execute_result"
    }
   ],
   "source": [
    "cross_val_score(LogisticRegression(C=0.1), X = X_stacked_3, y = y, cv = 10, n_jobs= 4, scoring= 'roc_auc')"
   ]
  },
  {
   "cell_type": "code",
   "execution_count": 474,
   "metadata": {},
   "outputs": [
    {
     "data": {
      "text/plain": [
       "array([0.84178057, 0.84321324, 0.8404382 , 0.84267561, 0.84444555])"
      ]
     },
     "execution_count": 474,
     "metadata": {},
     "output_type": "execute_result"
    }
   ],
   "source": [
    "scores_stacked_3"
   ]
  },
  {
   "cell_type": "code",
   "execution_count": 505,
   "metadata": {},
   "outputs": [],
   "source": [
    "from mlxtend.classifier import StackingClassifier"
   ]
  },
  {
   "cell_type": "code",
   "execution_count": 470,
   "metadata": {},
   "outputs": [
    {
     "data": {
      "text/plain": [
       "LGBMClassifier(boosting_type='gbdt', class_weight=None, colsample_bytree=1.0,\n",
       "        device_type='gpu', feature_fraction=0.3, importance_type='split',\n",
       "        learning_rate=0.03, max_bin=255, max_depth=-1, metric='auc',\n",
       "        min_child_samples=20, min_child_weight=0.001, min_data_in_bin=5,\n",
       "        min_data_in_leaf=2400, min_split_gain=0.0, n_estimators=1000,\n",
       "        n_jobs=-1, num_leaves=30, objective='binary', random_state=123,\n",
       "        reg_alpha=0.8, reg_lambda=0.4, silent=True, subsample=1,\n",
       "        subsample_for_bin=200000, subsample_freq=0)"
      ]
     },
     "execution_count": 470,
     "metadata": {},
     "output_type": "execute_result"
    }
   ],
   "source": [
    "model_stacked_3.fit(X_stacked_3, y)"
   ]
  },
  {
   "cell_type": "code",
   "execution_count": 508,
   "metadata": {},
   "outputs": [],
   "source": [
    "from mlxtend.feature_selection import ColumnSelector\n",
    "from sklearn.pipeline import Pipeline"
   ]
  },
  {
   "cell_type": "code",
   "execution_count": 512,
   "metadata": {},
   "outputs": [
    {
     "name": "stdout",
     "output_type": "stream",
     "text": [
      "17 groups...\n",
      "918 features...\n"
     ]
    }
   ],
   "source": [
    "feature_groups, loadings = get_feature_grouping(X)"
   ]
  },
  {
   "cell_type": "code",
   "execution_count": 551,
   "metadata": {},
   "outputs": [],
   "source": [
    "m1 = Pipeline([('column_select', ColumnSelector(cols = tuple((x for x in feature_groups.get(0))))),\n",
    "               ('lgbm', LGBMClassifier(**params))])\n",
    "\n",
    "m2 = Pipeline([('column_select', ColumnSelector(cols = tuple((x for x in feature_groups.get(1))))),\n",
    "               ('lgbm', LGBMClassifier(**params))])"
   ]
  },
  {
   "cell_type": "code",
   "execution_count": 556,
   "metadata": {},
   "outputs": [],
   "source": [
    "from sklearn.preprocessing import Imputer"
   ]
  },
  {
   "cell_type": "code",
   "execution_count": 562,
   "metadata": {},
   "outputs": [],
   "source": [
    "from sklearn.neighbors import KNeighborsClassifier"
   ]
  },
  {
   "cell_type": "code",
   "execution_count": 564,
   "metadata": {},
   "outputs": [],
   "source": [
    "m3 = Pipeline([('column_select', ColumnSelector(cols = tuple((x for x in feature_groups.get(1))))),\n",
    "               ('impute', Imputer()),\n",
    "               ('lr', LogisticRegression())])\n",
    "\n",
    "m4 = Pipeline([('impute', Imputer()),\n",
    "               ('lr', KNeighborsClassifier(n_neighbors = 10))])\n",
    "\n",
    "m5 = Pipeline([('lgbm', LGBMClassifier(**params))])"
   ]
  },
  {
   "cell_type": "code",
   "execution_count": 565,
   "metadata": {},
   "outputs": [],
   "source": [
    "m_stacked = StackingClassifier(classifiers = [m1, m2, m3, m4, m5],\n",
    "                               meta_classifier = LogisticRegression(),\n",
    "                               use_probas = True)"
   ]
  },
  {
   "cell_type": "code",
   "execution_count": 566,
   "metadata": {},
   "outputs": [
    {
     "name": "stdout",
     "output_type": "stream",
     "text": [
      "[0.68938002 0.68954046 0.68692561 0.69428452 0.69451666]\n",
      "[0.70276465 0.70578316 0.69644928 0.69869403 0.70335903]\n"
     ]
    }
   ],
   "source": [
    "m1_score = cross_val_score(m1, X = X, y = y, scoring = 'roc_auc', cv = kfold)\n",
    "print(m1_score)\n",
    "\n",
    "m2_score = cross_val_score(m2, X = X, y = y, scoring = 'roc_auc', cv = kfold)\n",
    "print(m2_score)\n"
   ]
  },
  {
   "cell_type": "code",
   "execution_count": 555,
   "metadata": {},
   "outputs": [
    {
     "name": "stdout",
     "output_type": "stream",
     "text": [
      "[0.71671812 0.71884204 0.71193924 0.71620007 0.71897518]\n"
     ]
    }
   ],
   "source": [
    "m_stacked_score = cross_val_score(m_stacked, X = X, y = y, scoring = 'roc_auc', cv = kfold)\n",
    "print(m_stacked_score)"
   ]
  },
  {
   "cell_type": "code",
   "execution_count": 567,
   "metadata": {},
   "outputs": [
    {
     "name": "stdout",
     "output_type": "stream",
     "text": [
      "[0.72612823 0.72875611 0.72242632 0.7251146  0.72655527]\n"
     ]
    }
   ],
   "source": [
    "m_stacked = StackingClassifier(classifiers = [m1, m2, m3, m4, m5],\n",
    "                               meta_classifier = LogisticRegression(),\n",
    "                               use_probas = True)\n",
    "m_stacked_score = cross_val_score(m_stacked, X = X, y = y, scoring = 'roc_auc', cv = kfold)\n",
    "print(m_stacked_score)"
   ]
  },
  {
   "cell_type": "code",
   "execution_count": null,
   "metadata": {},
   "outputs": [],
   "source": [
    "cross_val_score(estimator= m5, X = X, y = y, cv = kfold, scoring = 'roc_auc')"
   ]
  },
  {
   "cell_type": "code",
   "execution_count": 579,
   "metadata": {},
   "outputs": [],
   "source": [
    "def fn(C):\n",
    "    kfold_bo = StratifiedKFold(n_splits=3, random_state=123)\n",
    "    lr = Pipeline([('impute', Imputer()), ('lr', LogisticRegression(C = C))])\n",
    "    scores = cross_val_score(lr, X = X, y = y, scoring = 'roc_auc', cv = kfold_bo)\n",
    "    scores_mean = scores.mean()\n",
    "    scores_std = scores.std()\n",
    "    return(scores_mean)"
   ]
  },
  {
   "cell_type": "code",
   "execution_count": 580,
   "metadata": {},
   "outputs": [],
   "source": [
    "from bayes_opt import BayesianOptimization\n",
    "bo = BayesianOptimization(fn, {'C' : (0, 1)})"
   ]
  },
  {
   "cell_type": "code",
   "execution_count": 584,
   "metadata": {},
   "outputs": [
    {
     "name": "stderr",
     "output_type": "stream",
     "text": [
      "/root/anaconda3/lib/python3.6/site-packages/sklearn/gaussian_process/gpr.py:457: UserWarning: fmin_l_bfgs_b terminated abnormally with the  state: {'grad': array([-0.00019743]), 'task': b'ABNORMAL_TERMINATION_IN_LNSRCH', 'funcalls': 54, 'nit': 4, 'warnflag': 2}\n",
      "  \" state: %s\" % convergence_dict)\n",
      "/root/anaconda3/lib/python3.6/site-packages/sklearn/gaussian_process/gpr.py:335: UserWarning: Predicted variances smaller than 0. Setting those variances to 0.\n",
      "  warnings.warn(\"Predicted variances smaller than 0. \"\n"
     ]
    },
    {
     "name": "stdout",
     "output_type": "stream",
     "text": [
      "\u001b[31mBayesian Optimization\u001b[0m\n",
      "\u001b[94m-----------------------------------------\u001b[0m\n",
      " Step |   Time |      Value |         C | \n",
      "    6 | 06m40s |    0.64414 |    1.0000 | \n"
     ]
    },
    {
     "name": "stderr",
     "output_type": "stream",
     "text": [
      "/root/anaconda3/lib/python3.6/site-packages/sklearn/gaussian_process/gpr.py:335: UserWarning: Predicted variances smaller than 0. Setting those variances to 0.\n",
      "  warnings.warn(\"Predicted variances smaller than 0. \"\n"
     ]
    },
    {
     "name": "stdout",
     "output_type": "stream",
     "text": [
      "    7 | 00m40s |    0.53705 |    0.0000 | \n"
     ]
    },
    {
     "name": "stderr",
     "output_type": "stream",
     "text": [
      "/root/anaconda3/lib/python3.6/site-packages/sklearn/gaussian_process/gpr.py:335: UserWarning: Predicted variances smaller than 0. Setting those variances to 0.\n",
      "  warnings.warn(\"Predicted variances smaller than 0. \"\n"
     ]
    },
    {
     "name": "stdout",
     "output_type": "stream",
     "text": [
      "    8 | 06m20s |    0.64115 |    0.8291 | \n"
     ]
    },
    {
     "name": "stderr",
     "output_type": "stream",
     "text": [
      "/root/anaconda3/lib/python3.6/site-packages/sklearn/gaussian_process/gpr.py:335: UserWarning: Predicted variances smaller than 0. Setting those variances to 0.\n",
      "  warnings.warn(\"Predicted variances smaller than 0. \"\n"
     ]
    },
    {
     "name": "stdout",
     "output_type": "stream",
     "text": [
      "    9 | 06m19s |    0.64152 |    0.1633 | \n"
     ]
    },
    {
     "name": "stderr",
     "output_type": "stream",
     "text": [
      "/root/anaconda3/lib/python3.6/site-packages/sklearn/gaussian_process/gpr.py:457: UserWarning: fmin_l_bfgs_b terminated abnormally with the  state: {'grad': array([-0.00010905]), 'task': b'ABNORMAL_TERMINATION_IN_LNSRCH', 'funcalls': 50, 'nit': 3, 'warnflag': 2}\n",
      "  \" state: %s\" % convergence_dict)\n",
      "/root/anaconda3/lib/python3.6/site-packages/sklearn/gaussian_process/gpr.py:335: UserWarning: Predicted variances smaller than 0. Setting those variances to 0.\n",
      "  warnings.warn(\"Predicted variances smaller than 0. \"\n"
     ]
    },
    {
     "name": "stdout",
     "output_type": "stream",
     "text": [
      "   10 | 06m44s |    0.64381 |    0.7074 | \n"
     ]
    },
    {
     "name": "stderr",
     "output_type": "stream",
     "text": [
      "/root/anaconda3/lib/python3.6/site-packages/sklearn/gaussian_process/gpr.py:335: UserWarning: Predicted variances smaller than 0. Setting those variances to 0.\n",
      "  warnings.warn(\"Predicted variances smaller than 0. \"\n"
     ]
    },
    {
     "name": "stdout",
     "output_type": "stream",
     "text": [
      "   11 | 06m26s |    0.64259 |    0.2485 | \n"
     ]
    },
    {
     "name": "stderr",
     "output_type": "stream",
     "text": [
      "/root/anaconda3/lib/python3.6/site-packages/sklearn/gaussian_process/gpr.py:335: UserWarning: Predicted variances smaller than 0. Setting those variances to 0.\n",
      "  warnings.warn(\"Predicted variances smaller than 0. \"\n"
     ]
    },
    {
     "name": "stdout",
     "output_type": "stream",
     "text": [
      "   12 | 10m12s | \u001b[35m   0.65349\u001b[0m | \u001b[32m   0.9284\u001b[0m | \n",
      "   13 | 06m47s |    0.64364 |    0.6331 | \n"
     ]
    },
    {
     "name": "stderr",
     "output_type": "stream",
     "text": [
      "/root/anaconda3/lib/python3.6/site-packages/sklearn/gaussian_process/gpr.py:335: UserWarning: Predicted variances smaller than 0. Setting those variances to 0.\n",
      "  warnings.warn(\"Predicted variances smaller than 0. \"\n"
     ]
    },
    {
     "name": "stdout",
     "output_type": "stream",
     "text": [
      "   14 | 07m14s |    0.64731 |    0.9602 | \n"
     ]
    },
    {
     "name": "stderr",
     "output_type": "stream",
     "text": [
      "/root/anaconda3/lib/python3.6/site-packages/sklearn/gaussian_process/gpr.py:457: UserWarning: fmin_l_bfgs_b terminated abnormally with the  state: {'grad': array([-0.00011596]), 'task': b'ABNORMAL_TERMINATION_IN_LNSRCH', 'funcalls': 51, 'nit': 3, 'warnflag': 2}\n",
      "  \" state: %s\" % convergence_dict)\n",
      "/root/anaconda3/lib/python3.6/site-packages/sklearn/gaussian_process/gpr.py:457: UserWarning: fmin_l_bfgs_b terminated abnormally with the  state: {'grad': array([-0.0006478]), 'task': b'ABNORMAL_TERMINATION_IN_LNSRCH', 'funcalls': 51, 'nit': 6, 'warnflag': 2}\n",
      "  \" state: %s\" % convergence_dict)\n",
      "/root/anaconda3/lib/python3.6/site-packages/sklearn/gaussian_process/gpr.py:457: UserWarning: fmin_l_bfgs_b terminated abnormally with the  state: {'grad': array([-3.95252191e-05]), 'task': b'ABNORMAL_TERMINATION_IN_LNSRCH', 'funcalls': 55, 'nit': 5, 'warnflag': 2}\n",
      "  \" state: %s\" % convergence_dict)\n",
      "/root/anaconda3/lib/python3.6/site-packages/sklearn/gaussian_process/gpr.py:335: UserWarning: Predicted variances smaller than 0. Setting those variances to 0.\n",
      "  warnings.warn(\"Predicted variances smaller than 0. \"\n"
     ]
    },
    {
     "name": "stdout",
     "output_type": "stream",
     "text": [
      "   15 | 06m07s |    0.64044 |    0.8887 | \n"
     ]
    },
    {
     "name": "stderr",
     "output_type": "stream",
     "text": [
      "/root/anaconda3/lib/python3.6/site-packages/sklearn/gaussian_process/gpr.py:457: UserWarning: fmin_l_bfgs_b terminated abnormally with the  state: {'grad': array([9.86699015e-05]), 'task': b'ABNORMAL_TERMINATION_IN_LNSRCH', 'funcalls': 53, 'nit': 5, 'warnflag': 2}\n",
      "  \" state: %s\" % convergence_dict)\n",
      "/root/anaconda3/lib/python3.6/site-packages/sklearn/gaussian_process/gpr.py:335: UserWarning: Predicted variances smaller than 0. Setting those variances to 0.\n",
      "  warnings.warn(\"Predicted variances smaller than 0. \"\n"
     ]
    }
   ],
   "source": [
    "bo.maximize(n_iter= 10)"
   ]
  },
  {
   "cell_type": "code",
   "execution_count": null,
   "metadata": {},
   "outputs": [],
   "source": [
    "gs.best_estimator_."
   ]
  },
  {
   "cell_type": "code",
   "execution_count": 591,
   "metadata": {},
   "outputs": [],
   "source": [
    "from matplotlib.pyplot import plot"
   ]
  },
  {
   "cell_type": "code",
   "execution_count": 647,
   "metadata": {},
   "outputs": [],
   "source": [
    "fi = pd.DataFrame({'imp': gs.best_estimator_.feature_importances_, 'feature': list(X.columns)})"
   ]
  },
  {
   "cell_type": "code",
   "execution_count": 608,
   "metadata": {},
   "outputs": [],
   "source": [
    "from sklearn.learning_curve import learning_curve"
   ]
  },
  {
   "cell_type": "code",
   "execution_count": 609,
   "metadata": {},
   "outputs": [],
   "source": [
    "from sklearn.model_selection import validation_curve"
   ]
  },
  {
   "cell_type": "code",
   "execution_count": 610,
   "metadata": {},
   "outputs": [],
   "source": [
    "from sklearn.feature_selection import SelectPercentile"
   ]
  },
  {
   "cell_type": "code",
   "execution_count": 611,
   "metadata": {},
   "outputs": [],
   "source": [
    "from sklearn.metrics import roc_auc_score"
   ]
  },
  {
   "cell_type": "code",
   "execution_count": 654,
   "metadata": {},
   "outputs": [],
   "source": [
    "feats = fi.sort_values('imp', ascending = False).index[:10]"
   ]
  },
  {
   "cell_type": "code",
   "execution_count": 626,
   "metadata": {},
   "outputs": [],
   "source": [
    "fi_selected = fi[fi.imp >0]"
   ]
  },
  {
   "cell_type": "code",
   "execution_count": 641,
   "metadata": {},
   "outputs": [],
   "source": [
    "from sklearn.preprocessing import FunctionTransformer"
   ]
  },
  {
   "cell_type": "code",
   "execution_count": 628,
   "metadata": {},
   "outputs": [
    {
     "data": {
      "text/plain": [
       "480"
      ]
     },
     "execution_count": 628,
     "metadata": {},
     "output_type": "execute_result"
    }
   ],
   "source": [
    "len(fi_selected)"
   ]
  },
  {
   "cell_type": "code",
   "execution_count": 711,
   "metadata": {},
   "outputs": [],
   "source": [
    "def select_first_k_features(X, k):\n",
    "    feats = list(fi.sort_values('imp', ascending = False).index[:k])\n",
    "    results = X[:, feats]\n",
    "    return results"
   ]
  },
  {
   "cell_type": "code",
   "execution_count": 703,
   "metadata": {},
   "outputs": [],
   "source": [
    "params = {'boosting_type': 'gbdt',\n",
    "          'max_depth' : -1,\n",
    "          'objective': 'binary',\n",
    "          'learning_rate': 0.03,\n",
    "          'reg_alpha': 0.8,\n",
    "          'reg_lambda': 0.4,\n",
    "          'subsample': 1,\n",
    "          'feature_fraction': 0.3,\n",
    "          'device_type': 'gpu',\n",
    "          'metric' : 'auc',\n",
    "          'random_state': 123,\n",
    "          'n_estimators': 1000, \n",
    "          'num_leaves': 40, \n",
    "          'max_bin': 255,\n",
    "          'min_data_in_leaf': 2400,\n",
    "          'min_data_in_bin': 5}\n"
   ]
  },
  {
   "cell_type": "code",
   "execution_count": 704,
   "metadata": {},
   "outputs": [],
   "source": [
    "model = Pipeline([\n",
    "#    ('impute', Imputer()),\n",
    "    ('select_k', FunctionTransformer(func = select_first_k_features, validate=False)),\n",
    "    ('lgbm', LGBMClassifier(**params))\n",
    "])"
   ]
  },
  {
   "cell_type": "code",
   "execution_count": 705,
   "metadata": {},
   "outputs": [],
   "source": [
    "param_grid = [{'k' : x} for x in range(10,400, 5)]"
   ]
  },
  {
   "cell_type": "code",
   "execution_count": null,
   "metadata": {},
   "outputs": [],
   "source": [
    "# Check pruning\n",
    "vc = validation_curve(estimator = model, \n",
    "                 X= X.values, y = y, param_name = 'select_k__kw_args', \n",
    "                 param_range = param_grid, \n",
    "                 scoring = 'roc_auc', cv = kfold)"
   ]
  },
  {
   "cell_type": "code",
   "execution_count": null,
   "metadata": {},
   "outputs": [],
   "source": [
    "utils.notify_ifttt(pformat(vc))"
   ]
  },
  {
   "cell_type": "code",
   "execution_count": 601,
   "metadata": {},
   "outputs": [],
   "source": [
    "import seaborn as sb"
   ]
  },
  {
   "cell_type": "code",
   "execution_count": 620,
   "metadata": {},
   "outputs": [],
   "source": [
    "from matplotlib import pyplot as plt\n",
    "%matplotlib inline"
   ]
  },
  {
   "cell_type": "code",
   "execution_count": 624,
   "metadata": {},
   "outputs": [
    {
     "data": {
      "text/plain": [
       "<matplotlib.axes._subplots.AxesSubplot at 0x7f73b7c14d68>"
      ]
     },
     "execution_count": 624,
     "metadata": {},
     "output_type": "execute_result"
    },
    {
     "data": {
      "image/png": "[encoded data removed]",
      "text/plain": [
       "<Figure size 720x1440 with 1 Axes>"
      ]
     },
     "metadata": {},
     "output_type": "display_data"
    }
   ],
   "source": [
    "plt.figure(figsize=(10,20))\n",
    "sb.barplot(y = 'feature', x = 'imp', data = fi.head(100))"
   ]
  },
  {
   "cell_type": "code",
   "execution_count": 588,
   "metadata": {},
   "outputs": [
    {
     "data": {
      "text/plain": [
       "918"
      ]
     },
     "execution_count": 588,
     "metadata": {},
     "output_type": "execute_result"
    }
   ],
   "source": [
    "len(X.columns)"
   ]
  },
  {
   "cell_type": "code",
   "execution_count": 583,
   "metadata": {},
   "outputs": [
    {
     "data": {
      "text/plain": [
       "array([0.65195807, 0.64807394, 0.65153706, 0.64281888, 0.64108723])"
      ]
     },
     "execution_count": 583,
     "metadata": {},
     "output_type": "execute_result"
    }
   ],
   "source": [
    "ColumnSelector(cols = )"
   ]
  },
  {
   "cell_type": "code",
   "execution_count": 568,
   "metadata": {},
   "outputs": [],
   "source": [
    "utils.notify_ifttt(pformat(m_stacked_score))"
   ]
  },
  {
   "cell_type": "code",
   "execution_count": null,
   "metadata": {},
   "outputs": [],
   "source": [
    "utils.notify_ifttt"
   ]
  },
  {
   "cell_type": "code",
   "execution_count": 469,
   "metadata": {},
   "outputs": [],
   "source": [
    "X_test_stacked = pd.concat([\n",
    "    pd.Series([x[1] for x in model_1.predict_proba(X_test.loc[:, a.get(0)])]),\n",
    "    pd.Series([x[1] for x in model_2.predict_proba(X_test.loc[:, a.get(1)])]),\n",
    "    pd.Series([x[1] for x in model_3.predict_proba(X_test.loc[:, a.get(2)])]),\n",
    "    pd.Series([x[1] for x in model_4.predict_proba(X_test.loc[:, other_features])]),\n",
    "], axis = 1)"
   ]
  },
  {
   "cell_type": "code",
   "execution_count": null,
   "metadata": {},
   "outputs": [],
   "source": []
  },
  {
   "cell_type": "code",
   "execution_count": 471,
   "metadata": {},
   "outputs": [],
   "source": [
    "y_hat = [x[1] for x in model_stacked_3.predict_proba(X_test_stacked)]"
   ]
  },
  {
   "cell_type": "code",
   "execution_count": 472,
   "metadata": {},
   "outputs": [],
   "source": [
    "submission = pd.DataFrame()\n",
    "submission['SK_ID_CURR'] = df_test.SK_ID_CURR\n",
    "submission['TARGET'] = pd.Series(y_hat)"
   ]
  },
  {
   "cell_type": "code",
   "execution_count": 473,
   "metadata": {},
   "outputs": [],
   "source": [
    "submission.to_csv('/vol2/competitions/home-credit-default-risk/submissions/submission_4.csv', index = False)"
   ]
  }
 ],
 "metadata": {
  "kernelspec": {
   "display_name": "Python 3",
   "language": "python",
   "name": "python3"
  },
  "language_info": {
   "codemirror_mode": {
    "name": "ipython",
    "version": 3
   },
   "file_extension": ".py",
   "mimetype": "text/x-python",
   "name": "python",
   "nbconvert_exporter": "python",
   "pygments_lexer": "ipython3",
   "version": "3.6.5"
  }
 },
 "nbformat": 4,
 "nbformat_minor": 2
}
