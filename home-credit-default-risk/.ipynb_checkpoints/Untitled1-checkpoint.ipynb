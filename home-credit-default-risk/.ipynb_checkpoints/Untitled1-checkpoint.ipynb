{
 "cells": [
  {
   "cell_type": "code",
   "execution_count": 1,
   "metadata": {},
   "outputs": [],
   "source": [
    "from bayes_opt import BayesianOptimization"
   ]
  },
  {
   "cell_type": "code",
   "execution_count": 10,
   "metadata": {},
   "outputs": [],
   "source": [
    "def fn(x):\n",
    "    return(-x**2)"
   ]
  },
  {
   "cell_type": "code",
   "execution_count": 14,
   "metadata": {},
   "outputs": [],
   "source": [
    "bo = BayesianOptimization(fn, {'x' : (-4,3)})"
   ]
  },
  {
   "cell_type": "code",
   "execution_count": null,
   "metadata": {},
   "outputs": [
    {
     "name": "stdout",
     "output_type": "stream",
     "text": [
      "\u001b[31mInitialization\u001b[0m\n",
      "\u001b[94m-----------------------------------------\u001b[0m\n",
      " Step |   Time |      Value |         x | \n",
      "    1 | 00m00s | \u001b[35m  -1.68424\u001b[0m | \u001b[32m  -1.2978\u001b[0m | \n",
      "    2 | 00m00s |   -3.15474 |    1.7762 | \n",
      "    3 | 00m00s | \u001b[35m  -0.25658\u001b[0m | \u001b[32m   0.5065\u001b[0m | \n",
      "\u001b[31mBayesian Optimization\u001b[0m\n",
      "\u001b[94m-----------------------------------------\u001b[0m\n",
      " Step |   Time |      Value |         x | \n",
      "    4 | 00m00s |  -16.00000 |   -4.0000 | \n",
      "    5 | 00m00s | \u001b[35m  -0.04380\u001b[0m | \u001b[32m  -0.2093\u001b[0m | \n",
      "    6 | 00m01s |   -9.00000 |    3.0000 | \n",
      "    7 | 00m01s | \u001b[35m  -0.01244\u001b[0m | \u001b[32m   0.1115\u001b[0m | \n",
      "    8 | 00m02s |   -0.28499 |   -0.5338 | \n"
     ]
    }
   ],
   "source": [
    "bo.maximize(init_points= 3,n_iter=10)"
   ]
  },
  {
   "cell_type": "code",
   "execution_count": null,
   "metadata": {},
   "outputs": [],
   "source": []
  }
 ],
 "metadata": {
  "kernelspec": {
   "display_name": "Python 3",
   "language": "python",
   "name": "python3"
  },
  "language_info": {
   "codemirror_mode": {
    "name": "ipython",
    "version": 3
   },
   "file_extension": ".py",
   "mimetype": "text/x-python",
   "name": "python",
   "nbconvert_exporter": "python",
   "pygments_lexer": "ipython3",
   "version": "3.6.3"
  }
 },
 "nbformat": 4,
 "nbformat_minor": 2
}
