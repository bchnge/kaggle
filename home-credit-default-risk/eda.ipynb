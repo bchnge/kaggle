{
 "cells": [
  {
   "cell_type": "code",
   "execution_count": 1,
   "metadata": {},
   "outputs": [
    {
     "name": "stderr",
     "output_type": "stream",
     "text": [
      "Loading required package: data.table\n",
      "Loading required package: dplyr\n",
      "Warning message:\n",
      "“S3 methods ‘[.fun_list’, ‘[.grouped_df’, ‘all.equal.tbl_df’, ‘anti_join.data.frame’, ‘anti_join.tbl_df’, ‘arrange.data.frame’, ‘arrange.default’, ‘arrange.grouped_df’, ‘arrange.tbl_df’, ‘arrange_.data.frame’, ‘arrange_.tbl_df’, ‘as.data.frame.grouped_df’, ‘as.data.frame.rowwise_df’, ‘as.data.frame.tbl_cube’, ‘as.data.frame.tbl_df’, ‘as.table.tbl_cube’, ‘as.tbl.data.frame’, ‘as.tbl.tbl’, ‘as.tbl_cube.array’, ‘as.tbl_cube.data.frame’, ‘as.tbl_cube.matrix’, ‘as.tbl_cube.table’, ‘as_data_frame.grouped_df’, ‘as_data_frame.tbl_cube’, ‘auto_copy.tbl_cube’, ‘auto_copy.tbl_df’, ‘cbind.grouped_df’, ‘collapse.data.frame’, ‘collect.data.frame’, ‘common_by.NULL’, ‘common_by.character’, ‘common_by.default’, ‘common_by.list’, ‘compute.data.frame’, ‘copy_to.DBIConnection’, ‘copy_to.src_local’, ‘default_missing.data.frame’, ‘default_missing.default’, ‘dim.tbl_cube’, ‘distinct.data.frame’, ‘distinct.default’, ‘distinct.grouped_df’, ‘distinct.tbl_df’, ‘distinct_.data.frame’, ‘distinct_.grouped_df’, ‘distinct_.tbl_df’, ‘do.NULL’, ‘do.data.frame’, ‘do.default’, ‘do.grouped_df’, ‘do.rowwise_df’, ‘do_.NULL’, ‘do_.data.frame’, ‘do_.grouped_df’, ‘do_.rowwise_df’, ‘filter.data.frame’, ‘filter.default’, ‘filter.tbl_cube’, ‘filter.tbl_df’, ‘filter.ts’, ‘filter_.data.frame’, ‘filter_.tbl_cube’, ‘filter_.tbl_df’, ‘format.src_local’, ‘full_join.data.frame’, ‘full_join.tbl_df’, ‘group_by.data.frame’, ‘group_by.default’, ‘group_by.rowwise_df’, ‘group_by.tbl_cube’, ‘group_by_.data.frame’, ‘group_by_.rowwise_df’, ‘group_by_.tbl_cube’, ‘group_indices.data.frame’, ‘group_indices.default’, ‘group_indices.grouped_df’, ‘group_indices_.data.frame’, ‘group_indices_.grouped_df’, ‘group_size.data.frame’, ‘group_size.grouped_df’, ‘group_size.rowwise_df’, ‘group_vars.default’, ‘group_vars.grouped_df’, ‘group_vars.tbl_cube’, ‘groups.data.frame’, ‘groups.grouped_df’, ‘groups.tbl_cube’, ‘inner_join.data.frame’, ‘inner_join.tbl_df’, ‘intersect.data.frame’, ‘intersect.default’, ‘left_join.data.frame’, ‘left_join.tbl_df’, ‘mutate.data.frame’, ‘mutate.default’, ‘mutate.tbl_df’, ‘mutate_.data.frame’, ‘mutate_.tbl_df’, ‘n_groups.data.frame’, ‘n_groups.grouped_df’, ‘n_groups.rowwise_df’, ‘print.BoolResult’, ‘print.all_vars’, ‘print.any_vars’, ‘print.fun_list’, ‘print.location’, ‘print.rowwise_df’, ‘print.src’, ‘print.tbl_cube’, ‘pull.data.frame’, ‘rbind.grouped_df’, ‘recode.character’, ‘recode.factor’, ‘recode.numeric’, ‘rename.data.frame’, ‘rename.default’, ‘rename.grouped_df’, ‘rename.tbl_cube’, ‘rename_.data.frame’, ‘rename_.grouped_df’, ‘rename_.tbl_cube’, ‘right_join.data.frame’, ‘right_join.tbl_df’, ‘same_src.data.frame’, ‘same_src.tbl_cube’, ‘sample_frac.data.frame’, ‘sample_frac.default’, ‘sample_frac.grouped_df’, ‘sample_n.data.frame’, ‘sample_n.default’, ‘sample_n.grouped_df’, ‘select.data.frame’, ‘select.default’, ‘select.grouped_df’, ‘select.tbl_cube’, ‘select_.data.frame’, ‘select_.grouped_df’, ‘select_.tbl_cube’, ‘semi_join.data.frame’, ‘semi_join.tbl_df’, ‘setdiff.data.frame’, ‘setdiff.default’, ‘setequal.data.frame’, ‘setequal.default’, ‘slice.data.frame’, ‘slice.default’, ‘slice.tbl_df’, ‘slice_.data.frame’, ‘slice_.tbl_df’, ‘src_tbls.src_local’, ‘summarise.data.frame’, ‘summarise.default’, ‘summarise.tbl_cube’, ‘summarise.tbl_df’, ‘summarise_.data.frame’, ‘summarise_.tbl_cube’, ‘summarise_.tbl_df’, ‘tbl.DBIConnection’, ‘tbl.src_local’, ‘tbl_sum.grouped_df’, ‘tbl_vars.data.frame’, ‘tbl_vars.tbl_cube’, ‘transmute.default’, ‘transmute_.default’, ‘ungroup.data.frame’, ‘ungroup.grouped_df’, ‘ungroup.rowwise_df’, ‘union.data.frame’, ‘union.default’, ‘union_all.data.frame’, ‘union_all.default’ were declared in NAMESPACE but not found”Error: package or namespace load failed for ‘dplyr’ in library.dynam(lib, package, package.lib):\n",
      " shared object ‘dplyr.so’ not found\n",
      "Loading required package: ggplot2\n"
     ]
    }
   ],
   "source": [
    "require(data.table)\n",
    "require(dplyr)\n",
    "require(ggplot2)"
   ]
  },
  {
   "cell_type": "code",
   "execution_count": 2,
   "metadata": {},
   "outputs": [],
   "source": [
    "DATADIR <- '/vol2/competitions/home-credit-default-risk/'"
   ]
  },
  {
   "cell_type": "code",
   "execution_count": 3,
   "metadata": {},
   "outputs": [
    {
     "data": {
      "text/html": [
       "<ol class=list-inline>\n",
       "\t<li>'application_test.csv.zip'</li>\n",
       "\t<li>'application_train.csv.zip'</li>\n",
       "\t<li>'bureau_balance.csv.zip'</li>\n",
       "\t<li>'bureau.csv.zip'</li>\n",
       "\t<li>'credit_card_balance.csv.zip'</li>\n",
       "\t<li>'HomeCredit_columns_description.csv'</li>\n",
       "\t<li>'installments_payments.csv.zip'</li>\n",
       "\t<li>'POS_CASH_balance.csv.zip'</li>\n",
       "\t<li>'previous_application.csv.zip'</li>\n",
       "\t<li>'sample_submission.csv.zip'</li>\n",
       "</ol>\n"
      ],
      "text/latex": [
       "\\begin{enumerate*}\n",
       "\\item 'application\\_test.csv.zip'\n",
       "\\item 'application\\_train.csv.zip'\n",
       "\\item 'bureau\\_balance.csv.zip'\n",
       "\\item 'bureau.csv.zip'\n",
       "\\item 'credit\\_card\\_balance.csv.zip'\n",
       "\\item 'HomeCredit\\_columns\\_description.csv'\n",
       "\\item 'installments\\_payments.csv.zip'\n",
       "\\item 'POS\\_CASH\\_balance.csv.zip'\n",
       "\\item 'previous\\_application.csv.zip'\n",
       "\\item 'sample\\_submission.csv.zip'\n",
       "\\end{enumerate*}\n"
      ],
      "text/markdown": [
       "1. 'application_test.csv.zip'\n",
       "2. 'application_train.csv.zip'\n",
       "3. 'bureau_balance.csv.zip'\n",
       "4. 'bureau.csv.zip'\n",
       "5. 'credit_card_balance.csv.zip'\n",
       "6. 'HomeCredit_columns_description.csv'\n",
       "7. 'installments_payments.csv.zip'\n",
       "8. 'POS_CASH_balance.csv.zip'\n",
       "9. 'previous_application.csv.zip'\n",
       "10. 'sample_submission.csv.zip'\n",
       "\n",
       "\n"
      ],
      "text/plain": [
       " [1] \"application_test.csv.zip\"           \"application_train.csv.zip\"         \n",
       " [3] \"bureau_balance.csv.zip\"             \"bureau.csv.zip\"                    \n",
       " [5] \"credit_card_balance.csv.zip\"        \"HomeCredit_columns_description.csv\"\n",
       " [7] \"installments_payments.csv.zip\"      \"POS_CASH_balance.csv.zip\"          \n",
       " [9] \"previous_application.csv.zip\"       \"sample_submission.csv.zip\"         "
      ]
     },
     "metadata": {},
     "output_type": "display_data"
    }
   ],
   "source": [
    "list.files(DATADIR)"
   ]
  },
  {
   "cell_type": "code",
   "execution_count": 4,
   "metadata": {},
   "outputs": [
    {
     "ename": "ERROR",
     "evalue": "Error in fread(paste0(DATADIR, \"application_train.csv.zip\")): Expected sep (',') but new line, EOF (or other non printing character) ends field 0 when detecting types from point 0: <ce><ef>Y<ac>b>_~<ac><cf>O\u0003<e7>\u000b<bf>W<88>\b<be>֌<<8a><ca><cb><dc>Gd<cd>:W\"\u0014<fd>$9<84><d5><f0><fa><cb>U\foV\u001e<88><e1><f0>\u0002<b7>Mw\u0018{;<f1>I|LE\u0012\u000e<b3><93>O2<9e><91>\u0004X#\t<ad><9a><8c>X<dc>xt<bb><d4>7<ac><b3>'\u000fU<ed>(-<b1><8a><8a>\"<8a><97><91>\u0004<e0>ʮ<ae><d9>e<88>\u0003<e1><dc>eTͩTV(N<b5>>z<dc>ÁRM<a7>\u001cb<e9>\u00127<c2>|w<bc>b<a3><e3><99>7<b7>i<dd><c5>K<a0><93>t<a6><a2><e8>{s<f3>N<c9><f8>A\u00029d\u001fVH<c4>P<dc>\u0010<c8>A^\r<ae><99>4<e0><b0>\u0012ȁ+<a1>Iũ<f2><82>H<ce>A\u0012<a2>iJ=<cd>\u0006qф)<81><ff>\u0016N<dc>@<e2>)\u0018N<f3>@$<95>'+H<92>+<93><ab>8<85>De<e6>(<b6>uL<db><e2><f1>\fV&<dd>g\u001e<c0><8a><9c>\r<a2><c8>j<fa>7g<af><d1>n<ec><f3>29<86><f1><e0><a9>yu<91>\u001by<e8><8a><f1>t<f4><c0><84>n<ad>h<dd><d5>\rr\f\u0007<8b>y<e5><a4><c5>\u0003k<e4><b4>6O;X<f1><aa><88>s.<da><d9>Y<fe><f2>7<9e><b4>\u0013N<db><e4>'<d9><c6><e5><f0><f4><c3><ff><a1><a9>]#XZE7<c3>̜%<db>\u0015<82><f5><8d>`W<a<cf><e0>\bm<ea>\\w|<91><ae>c<bc><94>:|'u<ce><c1>g2b<0\u001e-+u\u0019<ac><d8>\u001a<d6><ec><e0><eb>Xhvͧ\u00026=<f5><a9><84><d1>m<b2>'24<89>#<d9>\\=<b1><db><e8><9d>en\u0006<bd><8f>\u0018\u0016<c9>N<e2>S<81>K\u0016Hr\n\n",
     "output_type": "error",
     "traceback": [
      "Error in fread(paste0(DATADIR, \"application_train.csv.zip\")): Expected sep (',') but new line, EOF (or other non printing character) ends field 0 when detecting types from point 0: <ce><ef>Y<ac>b>_~<ac><cf>O\u0003<e7>\u000b<bf>W<88>\b<be>֌<<8a><ca><cb><dc>Gd<cd>:W\"\u0014<fd>$9<84><d5><f0><fa><cb>U\foV\u001e<88><e1><f0>\u0002<b7>Mw\u0018{;<f1>I|LE\u0012\u000e<b3><93>O2<9e><91>\u0004X#\t<ad><9a><8c>X<dc>xt<bb><d4>7<ac><b3>'\u000fU<ed>(-<b1><8a><8a>\"<8a><97><91>\u0004<e0>ʮ<ae><d9>e<88>\u0003<e1><dc>eTͩTV(N<b5>>z<dc>ÁRM<a7>\u001cb<e9>\u00127<c2>|w<bc>b<a3><e3><99>7<b7>i<dd><c5>K<a0><93>t<a6><a2><e8>{s<f3>N<c9><f8>A\u00029d\u001fVH<c4>P<dc>\u0010<c8>A^\r<ae><99>4<e0><b0>\u0012ȁ+<a1>Iũ<f2><82>H<ce>A\u0012<a2>iJ=<cd>\u0006qф)<81><ff>\u0016N<dc>@<e2>)\u0018N<f3>@$<95>'+H<92>+<93><ab>8<85>De<e6>(<b6>uL<db><e2><f1>\fV&<dd>g\u001e<c0><8a><9c>\r<a2><c8>j<fa>7g<af><d1>n<ec><f3>29<86><f1><e0><a9>yu<91>\u001by<e8><8a><f1>t<f4><c0><84>n<ad>h<dd><d5>\rr\f\u0007<8b>y<e5><a4><c5>\u0003k<e4><b4>6O;X<f1><aa><88>s.<da><d9>Y<fe><f2>7<9e><b4>\u0013N<db><e4>'<d9><c6><e5><f0><f4><c3><ff><a1><a9>]#XZE7<c3>̜%<db>\u0015<82><f5><8d>`W<a<cf><e0>\bm<ea>\\w|<91><ae>c<bc><94>:|'u<ce><c1>g2b<0\u001e-+u\u0019<ac><d8>\u001a<d6><ec><e0><eb>Xhvͧ\u00026=<f5><a9><84><d1>m<b2>'24<89>#<d9>\\=<b1><db><e8><9d>en\u0006<bd><8f>\u0018\u0016<c9>N<e2>S<81>K\u0016Hr\n\nTraceback:\n",
      "1. fread(paste0(DATADIR, \"application_train.csv.zip\"))"
     ]
    }
   ],
   "source": [
    "tmp <- fread(paste0(DATADIR, 'application_train.csv.zip'))"
   ]
  },
  {
   "cell_type": "code",
   "execution_count": null,
   "metadata": {},
   "outputs": [],
   "source": []
  }
 ],
 "metadata": {
  "kernelspec": {
   "display_name": "R",
   "language": "R",
   "name": "ir"
  },
  "language_info": {
   "codemirror_mode": "r",
   "file_extension": ".r",
   "mimetype": "text/x-r-source",
   "name": "R",
   "pygments_lexer": "r",
   "version": "3.4.3"
  }
 },
 "nbformat": 4,
 "nbformat_minor": 2
}
